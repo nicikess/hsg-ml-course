{
  "nbformat": 4,
  "nbformat_minor": 0,
  "metadata": {
    "colab": {
      "name": "Untitled0.ipynb",
      "provenance": [],
      "machine_shape": "hm",
      "include_colab_link": true
    },
    "kernelspec": {
      "name": "python3",
      "display_name": "Python 3"
    },
    "language_info": {
      "name": "python"
    },
    "accelerator": "GPU"
  },
  "cells": [
    {
      "cell_type": "markdown",
      "metadata": {
        "id": "view-in-github",
        "colab_type": "text"
      },
      "source": [
        "<a href=\"https://colab.research.google.com/github/nicikess/hsg-ml-course/blob/main/notebooks/ml_challenge_CIFAR10_V2.ipynb\" target=\"_parent\"><img src=\"https://colab.research.google.com/assets/colab-badge.svg\" alt=\"Open In Colab\"/></a>"
      ]
    },
    {
      "cell_type": "code",
      "execution_count": 3,
      "metadata": {
        "id": "G1WG87A7bIYf",
        "outputId": "f8fc1132-1b0f-4baa-ecf5-e17391c46b8c",
        "colab": {
          "base_uri": "https://localhost:8080/"
        }
      },
      "outputs": [
        {
          "output_type": "stream",
          "name": "stdout",
          "text": [
            "Mounted at /content/drive\n"
          ]
        }
      ],
      "source": [
        "from google.colab import drive\n",
        "drive.mount('/content/drive')"
      ]
    },
    {
      "cell_type": "code",
      "source": [
        "import os\n",
        "import glob\n",
        "#import matplotlib.pyplot as plt\n",
        "import pandas as pd\n",
        "import numpy as np\n",
        "from PIL import Image\n",
        "\n",
        "!pip install rasterio\n",
        "import rasterio\n",
        "from rasterio.plot import reshape_as_image\n",
        "\n",
        "#from tqdm import tqdm\n",
        "#from tqdm.notebook import tqdm\n",
        "#import seaborn as sns\n",
        "\n",
        "from datetime import datetime\n",
        "\n",
        "from tifffile import imread\n",
        "\n",
        "from sklearn.metrics import confusion_matrix\n",
        "from sklearn import model_selection\n",
        "\n",
        "import torch, torchvision\n",
        "import torchvision.models as models\n",
        "import torch.nn as nn\n",
        "from torch.utils.data import DataLoader, Dataset, random_split\n",
        "from torchvision.transforms import transforms\n",
        "from torchvision.transforms import ToTensor\n",
        "#rom torchvision.utils import make_grid\n",
        "#import torch.nn.functional as F"
      ],
      "metadata": {
        "id": "AaecwyF3cYX6",
        "outputId": "612a4f3e-6946-4238-84eb-efd04d289879",
        "colab": {
          "base_uri": "https://localhost:8080/"
        }
      },
      "execution_count": 42,
      "outputs": [
        {
          "output_type": "stream",
          "name": "stdout",
          "text": [
            "Requirement already satisfied: rasterio in /usr/local/lib/python3.7/dist-packages (1.2.10)\n",
            "Requirement already satisfied: attrs in /usr/local/lib/python3.7/dist-packages (from rasterio) (21.4.0)\n",
            "Requirement already satisfied: cligj>=0.5 in /usr/local/lib/python3.7/dist-packages (from rasterio) (0.7.2)\n",
            "Requirement already satisfied: certifi in /usr/local/lib/python3.7/dist-packages (from rasterio) (2021.10.8)\n",
            "Requirement already satisfied: click>=4.0 in /usr/local/lib/python3.7/dist-packages (from rasterio) (7.1.2)\n",
            "Requirement already satisfied: click-plugins in /usr/local/lib/python3.7/dist-packages (from rasterio) (1.1.1)\n",
            "Requirement already satisfied: snuggs>=1.4.1 in /usr/local/lib/python3.7/dist-packages (from rasterio) (1.4.7)\n",
            "Requirement already satisfied: affine in /usr/local/lib/python3.7/dist-packages (from rasterio) (2.3.1)\n",
            "Requirement already satisfied: setuptools in /usr/local/lib/python3.7/dist-packages (from rasterio) (57.4.0)\n",
            "Requirement already satisfied: numpy in /usr/local/lib/python3.7/dist-packages (from rasterio) (1.21.6)\n",
            "Requirement already satisfied: pyparsing>=2.1.6 in /usr/local/lib/python3.7/dist-packages (from snuggs>=1.4.1->rasterio) (3.0.8)\n"
          ]
        }
      ]
    },
    {
      "cell_type": "code",
      "source": [
        "import os\n",
        "folder = '/content/drive/MyDrive/ML/data/dataset/trainset/'\n",
        "subfolders = []\n",
        "for dirs in os.walk(folder):\n",
        "  subfolders.append(dirs[0])\n",
        "\n",
        "#remove directory\n",
        "subfolders.pop(0)\n",
        "for i in range(0, len(subfolders)):\n",
        "     print(subfolders[i])"
      ],
      "metadata": {
        "id": "vCZ_ro41C82S",
        "outputId": "6c642d44-753f-4fa7-dbb4-cc55dd784a2c",
        "colab": {
          "base_uri": "https://localhost:8080/"
        }
      },
      "execution_count": 5,
      "outputs": [
        {
          "output_type": "stream",
          "name": "stdout",
          "text": [
            "/content/drive/MyDrive/ML/data/dataset/trainset/AnnualCrop\n",
            "/content/drive/MyDrive/ML/data/dataset/trainset/HerbaceousVegetation\n",
            "/content/drive/MyDrive/ML/data/dataset/trainset/Forest\n",
            "/content/drive/MyDrive/ML/data/dataset/trainset/Highway\n",
            "/content/drive/MyDrive/ML/data/dataset/trainset/Industrial\n",
            "/content/drive/MyDrive/ML/data/dataset/trainset/Pasture\n",
            "/content/drive/MyDrive/ML/data/dataset/trainset/PermanentCrop\n",
            "/content/drive/MyDrive/ML/data/dataset/trainset/Residential\n",
            "/content/drive/MyDrive/ML/data/dataset/trainset/River\n",
            "/content/drive/MyDrive/ML/data/dataset/trainset/SeaLake\n"
          ]
        }
      ]
    },
    {
      "cell_type": "code",
      "source": [
        "ROOT_PATH = '/content/drive/MyDrive/ML/'\n",
        "BASE_PATH = os.path.join(ROOT_PATH, 'data')\n",
        "DATA_PATH = os.path.join(ROOT_PATH, 'dataset')\n",
        "MODEL_PATH = os.path.join(ROOT_PATH, 'model')\n",
        "\n",
        "file_path_train = '/content/drive/MyDrive/ML/data/dataset/train.csv'\n",
        "file_path_test = '/content/drive/MyDrive/ML/data/dataset/test.csv'\n",
        "data_df_train = pd.read_csv(file_path_train)\n",
        "data_df_test = pd.read_csv(file_path_test)\n",
        "\n",
        "data_df_train.columns = data_df_train.columns.str.replace('path', 'image_id')\n",
        "data_df_train.columns = data_df_train.columns.str.replace('Label', 'label')\n",
        "\n",
        "print(data_df_train.columns)\n",
        "\n",
        "#data_df = data_df.iloc[0]\n",
        "\n",
        "data_df_test.head()"
      ],
      "metadata": {
        "id": "fpaSbKiPcl8S",
        "outputId": "e02f73c1-0509-4f1b-9885-54d6137f5cf0",
        "colab": {
          "base_uri": "https://localhost:8080/",
          "height": 225
        }
      },
      "execution_count": 6,
      "outputs": [
        {
          "output_type": "stream",
          "name": "stdout",
          "text": [
            "Index(['image_id', 'label'], dtype='object')\n"
          ]
        },
        {
          "output_type": "execute_result",
          "data": {
            "text/plain": [
              "   test_id\n",
              "0        0\n",
              "1        1\n",
              "2        2\n",
              "3        3\n",
              "4        4"
            ],
            "text/html": [
              "\n",
              "  <div id=\"df-725e8b95-87cc-4df6-98f6-f560c1c7076f\">\n",
              "    <div class=\"colab-df-container\">\n",
              "      <div>\n",
              "<style scoped>\n",
              "    .dataframe tbody tr th:only-of-type {\n",
              "        vertical-align: middle;\n",
              "    }\n",
              "\n",
              "    .dataframe tbody tr th {\n",
              "        vertical-align: top;\n",
              "    }\n",
              "\n",
              "    .dataframe thead th {\n",
              "        text-align: right;\n",
              "    }\n",
              "</style>\n",
              "<table border=\"1\" class=\"dataframe\">\n",
              "  <thead>\n",
              "    <tr style=\"text-align: right;\">\n",
              "      <th></th>\n",
              "      <th>test_id</th>\n",
              "    </tr>\n",
              "  </thead>\n",
              "  <tbody>\n",
              "    <tr>\n",
              "      <th>0</th>\n",
              "      <td>0</td>\n",
              "    </tr>\n",
              "    <tr>\n",
              "      <th>1</th>\n",
              "      <td>1</td>\n",
              "    </tr>\n",
              "    <tr>\n",
              "      <th>2</th>\n",
              "      <td>2</td>\n",
              "    </tr>\n",
              "    <tr>\n",
              "      <th>3</th>\n",
              "      <td>3</td>\n",
              "    </tr>\n",
              "    <tr>\n",
              "      <th>4</th>\n",
              "      <td>4</td>\n",
              "    </tr>\n",
              "  </tbody>\n",
              "</table>\n",
              "</div>\n",
              "      <button class=\"colab-df-convert\" onclick=\"convertToInteractive('df-725e8b95-87cc-4df6-98f6-f560c1c7076f')\"\n",
              "              title=\"Convert this dataframe to an interactive table.\"\n",
              "              style=\"display:none;\">\n",
              "        \n",
              "  <svg xmlns=\"http://www.w3.org/2000/svg\" height=\"24px\"viewBox=\"0 0 24 24\"\n",
              "       width=\"24px\">\n",
              "    <path d=\"M0 0h24v24H0V0z\" fill=\"none\"/>\n",
              "    <path d=\"M18.56 5.44l.94 2.06.94-2.06 2.06-.94-2.06-.94-.94-2.06-.94 2.06-2.06.94zm-11 1L8.5 8.5l.94-2.06 2.06-.94-2.06-.94L8.5 2.5l-.94 2.06-2.06.94zm10 10l.94 2.06.94-2.06 2.06-.94-2.06-.94-.94-2.06-.94 2.06-2.06.94z\"/><path d=\"M17.41 7.96l-1.37-1.37c-.4-.4-.92-.59-1.43-.59-.52 0-1.04.2-1.43.59L10.3 9.45l-7.72 7.72c-.78.78-.78 2.05 0 2.83L4 21.41c.39.39.9.59 1.41.59.51 0 1.02-.2 1.41-.59l7.78-7.78 2.81-2.81c.8-.78.8-2.07 0-2.86zM5.41 20L4 18.59l7.72-7.72 1.47 1.35L5.41 20z\"/>\n",
              "  </svg>\n",
              "      </button>\n",
              "      \n",
              "  <style>\n",
              "    .colab-df-container {\n",
              "      display:flex;\n",
              "      flex-wrap:wrap;\n",
              "      gap: 12px;\n",
              "    }\n",
              "\n",
              "    .colab-df-convert {\n",
              "      background-color: #E8F0FE;\n",
              "      border: none;\n",
              "      border-radius: 50%;\n",
              "      cursor: pointer;\n",
              "      display: none;\n",
              "      fill: #1967D2;\n",
              "      height: 32px;\n",
              "      padding: 0 0 0 0;\n",
              "      width: 32px;\n",
              "    }\n",
              "\n",
              "    .colab-df-convert:hover {\n",
              "      background-color: #E2EBFA;\n",
              "      box-shadow: 0px 1px 2px rgba(60, 64, 67, 0.3), 0px 1px 3px 1px rgba(60, 64, 67, 0.15);\n",
              "      fill: #174EA6;\n",
              "    }\n",
              "\n",
              "    [theme=dark] .colab-df-convert {\n",
              "      background-color: #3B4455;\n",
              "      fill: #D2E3FC;\n",
              "    }\n",
              "\n",
              "    [theme=dark] .colab-df-convert:hover {\n",
              "      background-color: #434B5C;\n",
              "      box-shadow: 0px 1px 3px 1px rgba(0, 0, 0, 0.15);\n",
              "      filter: drop-shadow(0px 1px 2px rgba(0, 0, 0, 0.3));\n",
              "      fill: #FFFFFF;\n",
              "    }\n",
              "  </style>\n",
              "\n",
              "      <script>\n",
              "        const buttonEl =\n",
              "          document.querySelector('#df-725e8b95-87cc-4df6-98f6-f560c1c7076f button.colab-df-convert');\n",
              "        buttonEl.style.display =\n",
              "          google.colab.kernel.accessAllowed ? 'block' : 'none';\n",
              "\n",
              "        async function convertToInteractive(key) {\n",
              "          const element = document.querySelector('#df-725e8b95-87cc-4df6-98f6-f560c1c7076f');\n",
              "          const dataTable =\n",
              "            await google.colab.kernel.invokeFunction('convertToInteractive',\n",
              "                                                     [key], {});\n",
              "          if (!dataTable) return;\n",
              "\n",
              "          const docLinkHtml = 'Like what you see? Visit the ' +\n",
              "            '<a target=\"_blank\" href=https://colab.research.google.com/notebooks/data_table.ipynb>data table notebook</a>'\n",
              "            + ' to learn more about interactive tables.';\n",
              "          element.innerHTML = '';\n",
              "          dataTable['output_type'] = 'display_data';\n",
              "          await google.colab.output.renderOutput(dataTable, element);\n",
              "          const docLink = document.createElement('div');\n",
              "          docLink.innerHTML = docLinkHtml;\n",
              "          element.appendChild(docLink);\n",
              "        }\n",
              "      </script>\n",
              "    </div>\n",
              "  </div>\n",
              "  "
            ]
          },
          "metadata": {},
          "execution_count": 6
        }
      ]
    },
    {
      "cell_type": "code",
      "source": [
        "# init deterministic seed\n",
        "seed_value = 1234\n",
        "np.random.seed(seed_value) # set numpy seed\n",
        "torch.manual_seed(seed_value) # set pytorch seed CPU"
      ],
      "metadata": {
        "colab": {
          "base_uri": "https://localhost:8080/"
        },
        "id": "0X0M4kJD4s8c",
        "outputId": "87bdfe7c-5529-4195-d479-7fbf2c150a54"
      },
      "execution_count": 7,
      "outputs": [
        {
          "output_type": "execute_result",
          "data": {
            "text/plain": [
              "<torch._C.Generator at 0x7f6a096cca30>"
            ]
          },
          "metadata": {},
          "execution_count": 7
        }
      ]
    },
    {
      "cell_type": "code",
      "source": [
        "IDX_CLASS_LABELS = {\n",
        "    0: 'AnnualCrop',\n",
        "    1: 'Forest', \n",
        "    2: 'HerbaceousVegetation',\n",
        "    3: 'Highway',\n",
        "    4: 'Industrial',\n",
        "    5: 'Pasture',\n",
        "    6: 'PermanentCrop',\n",
        "    7: 'Residential',\n",
        "    8: 'River',\n",
        "    9: 'SeaLake'\n",
        "}\n",
        "\n",
        "CLASSES = ['AnnualCrop', 'Forest', 'HerbaceousVegetation', 'Highway', 'Industrial', 'Pasture','PermanentCrop','Residential','River', 'SeaLake']\n",
        "CLASS_IDX_LABELS = dict()\n",
        "for key, val in IDX_CLASS_LABELS.items():\n",
        "  CLASS_IDX_LABELS[val] = key\n",
        "\n",
        "NUM_CLASSES = len(IDX_CLASS_LABELS.items())\n",
        "torch.manual_seed(10)\n",
        "VALID_SIZE = 0.1"
      ],
      "metadata": {
        "id": "DaeA0JLat19y"
      },
      "execution_count": 8,
      "outputs": []
    },
    {
      "cell_type": "code",
      "source": [
        "## Give idx of each class name\n",
        "def encode_label(label):\n",
        "    idx = CLASS_IDX_LABELS[label] \n",
        "    return idx\n",
        "\n",
        "## Take in idx and return the class name\n",
        "def decode_target(target, text_labels=True):\n",
        "    result = []\n",
        "    if text_labels:\n",
        "        return IDX_CLASS_LABELS[target]\n",
        "    else:\n",
        "        return target\n",
        "\n",
        "## Show batches of images\n",
        "def show_batch(dl):\n",
        "    for images, labels in dl:\n",
        "        print(images.shape)\n",
        "        fig, ax = plt.subplots(figsize=(16, 8))\n",
        "        ax.set_xticks([]); ax.set_yticks([])\n",
        "        ax.imshow(make_grid(images, nrow=16).permute(1, 2, 0))\n",
        "        break"
      ],
      "metadata": {
        "id": "mVknVp6zt97o"
      },
      "execution_count": 9,
      "outputs": []
    },
    {
      "cell_type": "code",
      "source": [
        "'''import os\n",
        "\n",
        "def normalizeBand(band):\n",
        "  band_norm = np.interp(band, (band.min(), band.max()), (0, 1))\n",
        "  return band_norm\n",
        "\n",
        "data = {}\n",
        "\n",
        "for i in range(len(subfolders)):\n",
        "\n",
        "  txtfiles = []\n",
        "\n",
        "  # traverse whole directory\n",
        "  for root, dirs, files in os.walk(subfolders[i]):\n",
        "    # select file name\n",
        "    for file in files:\n",
        "        # check the extension of files\n",
        "        if file.endswith('.tif'):\n",
        "            txtfiles.append(os.path.join(root, file))\n",
        "\n",
        "  code = subfolders[i].split('/')[8]\n",
        "  index = encode_label(code)\n",
        "  arr = np.zeros([len(txtfiles), 64, 64, 13], dtype=\"float32\")\n",
        "\n",
        "  print(code)\n",
        "  print(index)\n",
        "\n",
        "  i = 0\n",
        "  for pic in txtfiles:\n",
        "    #print(i)\n",
        "    with rasterio.open(pic, \"r\") as img:\n",
        "      tmp = np.moveaxis(img.read(), 0, 2)\n",
        "      arr[i] = normalizeBand(tmp)\n",
        "      i += 1\n",
        "      \n",
        "  data[index] = arr'''"
      ],
      "metadata": {
        "id": "yYQNn_5JN_4b",
        "outputId": "f6c7d45d-0eb4-4d40-cdab-5150ac3f1001",
        "colab": {
          "base_uri": "https://localhost:8080/",
          "height": 72
        }
      },
      "execution_count": 10,
      "outputs": [
        {
          "output_type": "execute_result",
          "data": {
            "text/plain": [
              "'import os\\n\\ndef normalizeBand(band):\\n  band_norm = np.interp(band, (band.min(), band.max()), (0, 1))\\n  return band_norm\\n\\ndata = {}\\n\\nfor i in range(len(subfolders)):\\n\\n  txtfiles = []\\n\\n  # traverse whole directory\\n  for root, dirs, files in os.walk(subfolders[i]):\\n    # select file name\\n    for file in files:\\n        # check the extension of files\\n        if file.endswith(\\'.tif\\'):\\n            txtfiles.append(os.path.join(root, file))\\n\\n  code = subfolders[i].split(\\'/\\')[8]\\n  index = encode_label(code)\\n  arr = np.zeros([len(txtfiles), 64, 64, 13], dtype=\"float32\")\\n\\n  print(code)\\n  print(index)\\n\\n  i = 0\\n  for pic in txtfiles:\\n    #print(i)\\n    with rasterio.open(pic, \"r\") as img:\\n      tmp = np.moveaxis(img.read(), 0, 2)\\n      arr[i] = normalizeBand(tmp)\\n      i += 1\\n      \\n  data[index] = arr'"
            ],
            "application/vnd.google.colaboratory.intrinsic+json": {
              "type": "string"
            }
          },
          "metadata": {},
          "execution_count": 10
        }
      ]
    },
    {
      "cell_type": "code",
      "source": [
        "'''for i in range(len(data)):\n",
        "  keys_list = list(data)\n",
        "  key = keys_list[i]\n",
        "  np.save('/content/drive/MyDrive/ML/data/dataset/trainset/'+f'data_class{key}.npy', data[i], allow_pickle=True, fix_imports=True)'''"
      ],
      "metadata": {
        "id": "4URBlEq4FxTb",
        "outputId": "c3692652-90a9-4311-e123-64a72d352976",
        "colab": {
          "base_uri": "https://localhost:8080/",
          "height": 35
        }
      },
      "execution_count": 11,
      "outputs": [
        {
          "output_type": "execute_result",
          "data": {
            "text/plain": [
              "\"for i in range(len(data)):\\n  keys_list = list(data)\\n  key = keys_list[i]\\n  np.save('/content/drive/MyDrive/ML/data/dataset/trainset/'+f'data_class{key}.npy', data[i], allow_pickle=True, fix_imports=True)\""
            ],
            "application/vnd.google.colaboratory.intrinsic+json": {
              "type": "string"
            }
          },
          "metadata": {},
          "execution_count": 11
        }
      ]
    },
    {
      "cell_type": "code",
      "source": [
        "import os\n",
        "path = '/content/drive/MyDrive/ML/data/dataset/trainset/'\n",
        "npyfiles = []\n",
        "data = {}\n",
        "\n",
        "for root, dirs, files in os.walk(path):\n",
        "    # check the extension of files\n",
        "    for file in files:\n",
        "        # check the extension of files\n",
        "        if file.endswith('.npy'):\n",
        "            npyfiles.append(os.path.join(root, file))\n",
        "\n",
        "for i in range(len(npyfiles)):\n",
        "  path = npyfiles[i]\n",
        "  arr = np.load(path)\n",
        "  index = path.split('/')[8].split('_')[1][5]\n",
        "  index = int(index)\n",
        "  data[index] = arr"
      ],
      "metadata": {
        "id": "00a4BPE2XASQ"
      },
      "execution_count": null,
      "outputs": []
    },
    {
      "cell_type": "code",
      "source": [
        "def normalize_for_display(band_data):\n",
        "    \"\"\"Normalize multi-spectral imagery across bands.\n",
        "    The input is expected to be in HxWxC format, e.g. 64x64x13.\n",
        "    To account for outliers (e.g. extremly high values due to\n",
        "    reflective surfaces), we normalize with the 2- and 98-percentiles\n",
        "    instead of minimum and maximum of each band.\n",
        "    \"\"\"\n",
        "    band_data = np.array(band_data)\n",
        "    lower_perc = np.percentile(band_data, 2, axis=(0, 1))\n",
        "    upper_perc = np.percentile(band_data, 98, axis=(0, 1))\n",
        "\n",
        "    return (band_data - lower_perc) / (upper_perc - lower_perc)"
      ],
      "metadata": {
        "id": "UEkk8BfwftJq"
      },
      "execution_count": 14,
      "outputs": []
    },
    {
      "cell_type": "code",
      "source": [
        "#Before appling transform we have a different shape\n",
        "#Transform reshapes the image\n",
        "#Added normalize because it was taken out below (maybe other way works as well)\n",
        "\n",
        "from pathlib import Path\n",
        "class EuroSAT(Dataset):\n",
        "    def __init__(self, train_df, train_dir, transform=None):\n",
        "        self.train_dir = train_dir\n",
        "        self.train_df = train_df\n",
        "        self.transform = transform\n",
        "\n",
        "    def __len__(self):\n",
        "        return len(self.train_df)\n",
        "    \n",
        "    def __getitem__(self, idx):\n",
        "        row = self.train_df.loc[idx]\n",
        "        img_id, label = row['image_id'], row['label']\n",
        "        img_id = int(img_id.split('.')[0].split('_')[1])\n",
        "        label_encode = int(encode_label(label))\n",
        "        id = img_id - 1\n",
        "        img = data[label_encode][id]\n",
        "        img = reshape_as_image(img)\n",
        "        img_nor = normalize_for_display(img)\n",
        "        img_rgb = img_nor[:, :, [3,2,1]]\n",
        "        if self.transform:\n",
        "            img_rgb = self.transform(img_rgb)\n",
        "        return img_rgb, encode_label(label)"
      ],
      "metadata": {
        "id": "4W80rR8ftkNT"
      },
      "execution_count": 15,
      "outputs": []
    },
    {
      "cell_type": "code",
      "source": [
        "transf = torchvision.transforms.Compose([torchvision.transforms.ToTensor(),transforms.ConvertImageDtype(torch.float), torchvision.transforms.CenterCrop(32)])\n",
        "\n",
        "train_ds = EuroSAT(data_df_train, BASE_PATH, transf)\n",
        "print(len(train_ds))"
      ],
      "metadata": {
        "id": "IV4SNvidsIjC",
        "outputId": "cbf7dd2c-2f5e-44a4-dedb-a1e2634596e2",
        "colab": {
          "base_uri": "https://localhost:8080/"
        }
      },
      "execution_count": 16,
      "outputs": [
        {
          "output_type": "stream",
          "name": "stdout",
          "text": [
            "27000\n"
          ]
        }
      ]
    },
    {
      "cell_type": "code",
      "source": [
        "#print(train_ds[0][0])\n",
        "np.shape(train_ds[0][0])"
      ],
      "metadata": {
        "id": "ZlOYujcF89-Q",
        "outputId": "7e0981c7-d9d7-4265-d201-da44e39269e9",
        "colab": {
          "base_uri": "https://localhost:8080/"
        }
      },
      "execution_count": 17,
      "outputs": [
        {
          "output_type": "execute_result",
          "data": {
            "text/plain": [
              "torch.Size([3, 32, 32])"
            ]
          },
          "metadata": {},
          "execution_count": 17
        }
      ]
    },
    {
      "cell_type": "markdown",
      "source": [
        "DONT CHANGE THE SHAPE OF THE IMAGE FROM TRAINING - ONLY FOR VISUALIZING BECAUSE LIBRARY LIKE rasterio use different dimensions\n"
      ],
      "metadata": {
        "id": "BQnP-qnk-fj1"
      }
    },
    {
      "cell_type": "markdown",
      "source": [
        "Model"
      ],
      "metadata": {
        "id": "gAyeRny_03IA"
      }
    },
    {
      "cell_type": "code",
      "source": [
        "data[0][0].shape"
      ],
      "metadata": {
        "id": "2NPRnMEyqdD6",
        "outputId": "872fd7cd-1e4c-4c61-cb22-a076f8272130",
        "colab": {
          "base_uri": "https://localhost:8080/"
        }
      },
      "execution_count": 19,
      "outputs": [
        {
          "output_type": "execute_result",
          "data": {
            "text/plain": [
              "(64, 64, 13)"
            ]
          },
          "metadata": {},
          "execution_count": 19
        }
      ]
    },
    {
      "cell_type": "code",
      "source": [
        "# implement the CIFAR10Net network architecture\n",
        "class CIFAR10Net(nn.Module):\n",
        "    \n",
        "    # define the class constructor\n",
        "    def __init__(self):\n",
        "        \n",
        "        # call super class constructor\n",
        "        super(CIFAR10Net, self).__init__()\n",
        "        \n",
        "        # specify convolution layer 1\n",
        "        self.conv1 = nn.Conv2d(in_channels=3, out_channels=6, kernel_size=5, stride=1, padding=0)\n",
        "        \n",
        "        # define max-pooling layer 1\n",
        "        self.pool1 = nn.MaxPool2d(kernel_size=2, stride=2)\n",
        "        \n",
        "        # specify convolution layer 2\n",
        "        self.conv2 = nn.Conv2d(in_channels=6, out_channels=16, kernel_size=5, stride=1, padding=0)\n",
        "        \n",
        "        # define max-pooling layer 2\n",
        "        self.pool2 = nn.MaxPool2d(kernel_size=2, stride=2)\n",
        "        \n",
        "        # specify fc layer 1 - in 16 * 5 * 5, out 120\n",
        "        self.linear1 = nn.Linear(16 * 5 * 5, 120, bias=True) # the linearity W*x+b\n",
        "        self.relu1 = nn.ReLU(inplace=True) # the non-linearity\n",
        "        \n",
        "        # specify fc layer 2 - in 120, out 84\n",
        "        self.linear2 = nn.Linear(120, 84, bias=True) # the linearity W*x+b\n",
        "        self.relu2 = nn.ReLU(inplace=True) # the non-linarity\n",
        "        \n",
        "        # specify fc layer 3 - in 84, out 10\n",
        "        self.linear3 = nn.Linear(84, 10) # the linearity W*x+b\n",
        "        \n",
        "        # add a softmax to the last layer\n",
        "        self.logsoftmax = nn.LogSoftmax(dim=1) # the softmax\n",
        "        \n",
        "    # define network forward pass\n",
        "    def forward(self, images):\n",
        "        \n",
        "        # high-level feature learning via convolutional layers\n",
        "        \n",
        "        # define conv layer 1 forward pass\n",
        "        x = self.pool1(self.relu1(self.conv1(images)))\n",
        "        \n",
        "        # define conv layer 2 forward pass\n",
        "        x = self.pool2(self.relu2(self.conv2(x)))\n",
        "        \n",
        "        # feature flattening\n",
        "        \n",
        "        # reshape image pixels\n",
        "        x = x.view(-1, 16 * 5 * 5)\n",
        "        \n",
        "        # combination of feature learning via non-linear layers\n",
        "        \n",
        "        # define fc layer 1 forward pass\n",
        "        x = self.relu1(self.linear1(x))\n",
        "        \n",
        "        # define fc layer 2 forward pass\n",
        "        x = self.relu2(self.linear2(x))\n",
        "        \n",
        "        # define layer 3 forward pass\n",
        "        x = self.logsoftmax(self.linear3(x))\n",
        "        \n",
        "        # return forward pass result\n",
        "        return x"
      ],
      "metadata": {
        "id": "Voc8YPn61DSl"
      },
      "execution_count": 20,
      "outputs": []
    },
    {
      "cell_type": "code",
      "source": [
        "model = CIFAR10Net()"
      ],
      "metadata": {
        "id": "u04l_2iu4Y2U"
      },
      "execution_count": 21,
      "outputs": []
    },
    {
      "cell_type": "code",
      "source": [
        "# set cpu or gpu enabled device\n",
        "device = torch.device('cuda' if torch.cuda.is_available() else 'cpu').type\n",
        "\n",
        "# init deterministic GPU seed\n",
        "torch.cuda.manual_seed(seed_value)\n",
        "\n",
        "# log type of device enabled\n",
        "print('[LOG] notebook with {} computation enabled'.format(str(device)))"
      ],
      "metadata": {
        "colab": {
          "base_uri": "https://localhost:8080/"
        },
        "id": "WquDuPH24v5m",
        "outputId": "eb7d66eb-e314-4f6f-db7a-68c72eb56919"
      },
      "execution_count": 22,
      "outputs": [
        {
          "output_type": "stream",
          "name": "stdout",
          "text": [
            "[LOG] notebook with cuda computation enabled\n"
          ]
        }
      ]
    },
    {
      "cell_type": "code",
      "source": [
        "model = model.to(device)"
      ],
      "metadata": {
        "id": "WX5qPa-V4b2p"
      },
      "execution_count": 23,
      "outputs": []
    },
    {
      "cell_type": "code",
      "source": [
        "# define the optimization criterion / loss function\n",
        "nll_loss = nn.NLLLoss()"
      ],
      "metadata": {
        "id": "JGudJ__B4fIk"
      },
      "execution_count": 24,
      "outputs": []
    },
    {
      "cell_type": "code",
      "source": [
        "nll_loss = nll_loss.to(device)"
      ],
      "metadata": {
        "id": "ft3U8mHQ5LtQ"
      },
      "execution_count": 25,
      "outputs": []
    },
    {
      "cell_type": "code",
      "source": [
        "# define learning rate and optimization strategy\n",
        "learning_rate = 0.001\n",
        "optimizer = torch.optim.SGD(params=model.parameters(), lr=learning_rate)"
      ],
      "metadata": {
        "id": "3gA6pIk45O88"
      },
      "execution_count": 26,
      "outputs": []
    },
    {
      "cell_type": "code",
      "source": [
        "# specify the training parameters\n",
        "num_epochs = 20 # number of training epochs\n",
        "mini_batch_size = 2560 # size of the mini-batches"
      ],
      "metadata": {
        "id": "_ebJQH2A5RUP"
      },
      "execution_count": 27,
      "outputs": []
    },
    {
      "cell_type": "code",
      "source": [
        "train_dl = DataLoader(train_ds, batch_size=mini_batch_size, shuffle=True, num_workers=2, pin_memory=True)"
      ],
      "metadata": {
        "id": "TqkavzzM5Snd"
      },
      "execution_count": 28,
      "outputs": []
    },
    {
      "cell_type": "code",
      "source": [
        "#transf = torchvision.transforms.Compose([torchvision.transforms.ToTensor(), torchvision.transforms.Normalize((0.5, 0.5, 0.5), (0.5, 0.5, 0.5))])\n",
        "#cifar10_train_data = torchvision.datasets.CIFAR10(root=BASE_PATH, train=True, transform=transf, download=True)\n",
        "#cifar10_train_dataloader = torch.utils.data.DataLoader(cifar10_train_data, batch_size=mini_batch_size, shuffle=True)"
      ],
      "metadata": {
        "id": "O-oRNDz_Ierk"
      },
      "execution_count": 29,
      "outputs": []
    },
    {
      "cell_type": "code",
      "source": [
        "# init collection of training epoch losses\n",
        "train_epoch_losses = []\n",
        "\n",
        "# set the model in training mode\n",
        "model.train()\n",
        "\n",
        "# train the CIFAR10 model\n",
        "for epoch in range(num_epochs):\n",
        "    \n",
        "    # init collection of mini-batch losses\n",
        "    train_mini_batch_losses = []\n",
        "\n",
        "    # iterate over all-mini batches\n",
        "    for i, (images, labels) in enumerate(train_dl):\n",
        "\n",
        "        #print(images)\n",
        "\n",
        "        # push mini-batch data to computation device\n",
        "        images = images.to(device)\n",
        "        labels = labels.to(device)\n",
        "\n",
        "        # run forward pass through the network\n",
        "        output = model(images)\n",
        "        \n",
        "        # reset graph gradients\n",
        "        model.zero_grad()\n",
        "        \n",
        "        # determine classification loss\n",
        "        loss = nll_loss(output, labels)\n",
        "        \n",
        "        # run backward pass\n",
        "        loss.backward()\n",
        "        \n",
        "        # update network paramaters\n",
        "        optimizer.step()\n",
        "        \n",
        "        # collect mini-batch reconstruction loss\n",
        "        train_mini_batch_losses.append(loss.data.item())\n",
        "\n",
        "    # determine mean min-batch loss of epoch\n",
        "    train_epoch_loss = np.mean(train_mini_batch_losses)\n",
        "    \n",
        "    # print epoch loss\n",
        "    now = datetime.utcnow().strftime(\"%Y%m%d-%H:%M:%S\")\n",
        "    print('[LOG {}] epoch: {} train-loss: {}'.format(str(now), str(epoch), str(train_epoch_loss)))\n",
        "    \n",
        "    # set filename of actual model\n",
        "    model_name = 'challenge_model_epoch_{}.pth'.format(str(epoch))\n",
        "\n",
        "    # save current model to GDrive models directory\n",
        "    torch.save(model.state_dict(), os.path.join(MODEL_PATH, model_name))\n",
        "    \n",
        "    # determine mean min-batch loss of epoch\n",
        "    train_epoch_losses.append(train_epoch_loss)"
      ],
      "metadata": {
        "id": "7DSzKx0W7IR8",
        "outputId": "eb8532fe-2668-4d40-a6bb-c3bee42c17f5",
        "colab": {
          "base_uri": "https://localhost:8080/",
          "height": 400
        }
      },
      "execution_count": 30,
      "outputs": [
        {
          "output_type": "error",
          "ename": "KeyboardInterrupt",
          "evalue": "ignored",
          "traceback": [
            "\u001b[0;31m---------------------------------------------------------------------------\u001b[0m",
            "\u001b[0;31mKeyboardInterrupt\u001b[0m                         Traceback (most recent call last)",
            "\u001b[0;32m<ipython-input-30-d91050a4cb65>\u001b[0m in \u001b[0;36m<module>\u001b[0;34m()\u001b[0m\n\u001b[1;32m     12\u001b[0m \u001b[0;34m\u001b[0m\u001b[0m\n\u001b[1;32m     13\u001b[0m     \u001b[0;31m# iterate over all-mini batches\u001b[0m\u001b[0;34m\u001b[0m\u001b[0;34m\u001b[0m\u001b[0;34m\u001b[0m\u001b[0m\n\u001b[0;32m---> 14\u001b[0;31m     \u001b[0;32mfor\u001b[0m \u001b[0mi\u001b[0m\u001b[0;34m,\u001b[0m \u001b[0;34m(\u001b[0m\u001b[0mimages\u001b[0m\u001b[0;34m,\u001b[0m \u001b[0mlabels\u001b[0m\u001b[0;34m)\u001b[0m \u001b[0;32min\u001b[0m \u001b[0menumerate\u001b[0m\u001b[0;34m(\u001b[0m\u001b[0mtrain_dl\u001b[0m\u001b[0;34m)\u001b[0m\u001b[0;34m:\u001b[0m\u001b[0;34m\u001b[0m\u001b[0;34m\u001b[0m\u001b[0m\n\u001b[0m\u001b[1;32m     15\u001b[0m \u001b[0;34m\u001b[0m\u001b[0m\n\u001b[1;32m     16\u001b[0m         \u001b[0;31m#print(images)\u001b[0m\u001b[0;34m\u001b[0m\u001b[0;34m\u001b[0m\u001b[0;34m\u001b[0m\u001b[0m\n",
            "\u001b[0;32m/usr/local/lib/python3.7/dist-packages/torch/utils/data/dataloader.py\u001b[0m in \u001b[0;36m__next__\u001b[0;34m(self)\u001b[0m\n\u001b[1;32m    528\u001b[0m             \u001b[0;32mif\u001b[0m \u001b[0mself\u001b[0m\u001b[0;34m.\u001b[0m\u001b[0m_sampler_iter\u001b[0m \u001b[0;32mis\u001b[0m \u001b[0;32mNone\u001b[0m\u001b[0;34m:\u001b[0m\u001b[0;34m\u001b[0m\u001b[0;34m\u001b[0m\u001b[0m\n\u001b[1;32m    529\u001b[0m                 \u001b[0mself\u001b[0m\u001b[0;34m.\u001b[0m\u001b[0m_reset\u001b[0m\u001b[0;34m(\u001b[0m\u001b[0;34m)\u001b[0m\u001b[0;34m\u001b[0m\u001b[0;34m\u001b[0m\u001b[0m\n\u001b[0;32m--> 530\u001b[0;31m             \u001b[0mdata\u001b[0m \u001b[0;34m=\u001b[0m \u001b[0mself\u001b[0m\u001b[0;34m.\u001b[0m\u001b[0m_next_data\u001b[0m\u001b[0;34m(\u001b[0m\u001b[0;34m)\u001b[0m\u001b[0;34m\u001b[0m\u001b[0;34m\u001b[0m\u001b[0m\n\u001b[0m\u001b[1;32m    531\u001b[0m             \u001b[0mself\u001b[0m\u001b[0;34m.\u001b[0m\u001b[0m_num_yielded\u001b[0m \u001b[0;34m+=\u001b[0m \u001b[0;36m1\u001b[0m\u001b[0;34m\u001b[0m\u001b[0;34m\u001b[0m\u001b[0m\n\u001b[1;32m    532\u001b[0m             \u001b[0;32mif\u001b[0m \u001b[0mself\u001b[0m\u001b[0;34m.\u001b[0m\u001b[0m_dataset_kind\u001b[0m \u001b[0;34m==\u001b[0m \u001b[0m_DatasetKind\u001b[0m\u001b[0;34m.\u001b[0m\u001b[0mIterable\u001b[0m \u001b[0;32mand\u001b[0m\u001b[0;31m \u001b[0m\u001b[0;31m\\\u001b[0m\u001b[0;34m\u001b[0m\u001b[0;34m\u001b[0m\u001b[0m\n",
            "\u001b[0;32m/usr/local/lib/python3.7/dist-packages/torch/utils/data/dataloader.py\u001b[0m in \u001b[0;36m_next_data\u001b[0;34m(self)\u001b[0m\n\u001b[1;32m   1205\u001b[0m \u001b[0;34m\u001b[0m\u001b[0m\n\u001b[1;32m   1206\u001b[0m             \u001b[0;32massert\u001b[0m \u001b[0;32mnot\u001b[0m \u001b[0mself\u001b[0m\u001b[0;34m.\u001b[0m\u001b[0m_shutdown\u001b[0m \u001b[0;32mand\u001b[0m \u001b[0mself\u001b[0m\u001b[0;34m.\u001b[0m\u001b[0m_tasks_outstanding\u001b[0m \u001b[0;34m>\u001b[0m \u001b[0;36m0\u001b[0m\u001b[0;34m\u001b[0m\u001b[0;34m\u001b[0m\u001b[0m\n\u001b[0;32m-> 1207\u001b[0;31m             \u001b[0midx\u001b[0m\u001b[0;34m,\u001b[0m \u001b[0mdata\u001b[0m \u001b[0;34m=\u001b[0m \u001b[0mself\u001b[0m\u001b[0;34m.\u001b[0m\u001b[0m_get_data\u001b[0m\u001b[0;34m(\u001b[0m\u001b[0;34m)\u001b[0m\u001b[0;34m\u001b[0m\u001b[0;34m\u001b[0m\u001b[0m\n\u001b[0m\u001b[1;32m   1208\u001b[0m             \u001b[0mself\u001b[0m\u001b[0;34m.\u001b[0m\u001b[0m_tasks_outstanding\u001b[0m \u001b[0;34m-=\u001b[0m \u001b[0;36m1\u001b[0m\u001b[0;34m\u001b[0m\u001b[0;34m\u001b[0m\u001b[0m\n\u001b[1;32m   1209\u001b[0m             \u001b[0;32mif\u001b[0m \u001b[0mself\u001b[0m\u001b[0;34m.\u001b[0m\u001b[0m_dataset_kind\u001b[0m \u001b[0;34m==\u001b[0m \u001b[0m_DatasetKind\u001b[0m\u001b[0;34m.\u001b[0m\u001b[0mIterable\u001b[0m\u001b[0;34m:\u001b[0m\u001b[0;34m\u001b[0m\u001b[0;34m\u001b[0m\u001b[0m\n",
            "\u001b[0;32m/usr/local/lib/python3.7/dist-packages/torch/utils/data/dataloader.py\u001b[0m in \u001b[0;36m_get_data\u001b[0;34m(self)\u001b[0m\n\u001b[1;32m   1161\u001b[0m         \u001b[0;32melif\u001b[0m \u001b[0mself\u001b[0m\u001b[0;34m.\u001b[0m\u001b[0m_pin_memory\u001b[0m\u001b[0;34m:\u001b[0m\u001b[0;34m\u001b[0m\u001b[0;34m\u001b[0m\u001b[0m\n\u001b[1;32m   1162\u001b[0m             \u001b[0;32mwhile\u001b[0m \u001b[0mself\u001b[0m\u001b[0;34m.\u001b[0m\u001b[0m_pin_memory_thread\u001b[0m\u001b[0;34m.\u001b[0m\u001b[0mis_alive\u001b[0m\u001b[0;34m(\u001b[0m\u001b[0;34m)\u001b[0m\u001b[0;34m:\u001b[0m\u001b[0;34m\u001b[0m\u001b[0;34m\u001b[0m\u001b[0m\n\u001b[0;32m-> 1163\u001b[0;31m                 \u001b[0msuccess\u001b[0m\u001b[0;34m,\u001b[0m \u001b[0mdata\u001b[0m \u001b[0;34m=\u001b[0m \u001b[0mself\u001b[0m\u001b[0;34m.\u001b[0m\u001b[0m_try_get_data\u001b[0m\u001b[0;34m(\u001b[0m\u001b[0;34m)\u001b[0m\u001b[0;34m\u001b[0m\u001b[0;34m\u001b[0m\u001b[0m\n\u001b[0m\u001b[1;32m   1164\u001b[0m                 \u001b[0;32mif\u001b[0m \u001b[0msuccess\u001b[0m\u001b[0;34m:\u001b[0m\u001b[0;34m\u001b[0m\u001b[0;34m\u001b[0m\u001b[0m\n\u001b[1;32m   1165\u001b[0m                     \u001b[0;32mreturn\u001b[0m \u001b[0mdata\u001b[0m\u001b[0;34m\u001b[0m\u001b[0;34m\u001b[0m\u001b[0m\n",
            "\u001b[0;32m/usr/local/lib/python3.7/dist-packages/torch/utils/data/dataloader.py\u001b[0m in \u001b[0;36m_try_get_data\u001b[0;34m(self, timeout)\u001b[0m\n\u001b[1;32m   1009\u001b[0m         \u001b[0;31m#   (bool: whether successfully get data, any: data if successful else None)\u001b[0m\u001b[0;34m\u001b[0m\u001b[0;34m\u001b[0m\u001b[0;34m\u001b[0m\u001b[0m\n\u001b[1;32m   1010\u001b[0m         \u001b[0;32mtry\u001b[0m\u001b[0;34m:\u001b[0m\u001b[0;34m\u001b[0m\u001b[0;34m\u001b[0m\u001b[0m\n\u001b[0;32m-> 1011\u001b[0;31m             \u001b[0mdata\u001b[0m \u001b[0;34m=\u001b[0m \u001b[0mself\u001b[0m\u001b[0;34m.\u001b[0m\u001b[0m_data_queue\u001b[0m\u001b[0;34m.\u001b[0m\u001b[0mget\u001b[0m\u001b[0;34m(\u001b[0m\u001b[0mtimeout\u001b[0m\u001b[0;34m=\u001b[0m\u001b[0mtimeout\u001b[0m\u001b[0;34m)\u001b[0m\u001b[0;34m\u001b[0m\u001b[0;34m\u001b[0m\u001b[0m\n\u001b[0m\u001b[1;32m   1012\u001b[0m             \u001b[0;32mreturn\u001b[0m \u001b[0;34m(\u001b[0m\u001b[0;32mTrue\u001b[0m\u001b[0;34m,\u001b[0m \u001b[0mdata\u001b[0m\u001b[0;34m)\u001b[0m\u001b[0;34m\u001b[0m\u001b[0;34m\u001b[0m\u001b[0m\n\u001b[1;32m   1013\u001b[0m         \u001b[0;32mexcept\u001b[0m \u001b[0mException\u001b[0m \u001b[0;32mas\u001b[0m \u001b[0me\u001b[0m\u001b[0;34m:\u001b[0m\u001b[0;34m\u001b[0m\u001b[0;34m\u001b[0m\u001b[0m\n",
            "\u001b[0;32m/usr/lib/python3.7/queue.py\u001b[0m in \u001b[0;36mget\u001b[0;34m(self, block, timeout)\u001b[0m\n\u001b[1;32m    177\u001b[0m                     \u001b[0;32mif\u001b[0m \u001b[0mremaining\u001b[0m \u001b[0;34m<=\u001b[0m \u001b[0;36m0.0\u001b[0m\u001b[0;34m:\u001b[0m\u001b[0;34m\u001b[0m\u001b[0;34m\u001b[0m\u001b[0m\n\u001b[1;32m    178\u001b[0m                         \u001b[0;32mraise\u001b[0m \u001b[0mEmpty\u001b[0m\u001b[0;34m\u001b[0m\u001b[0;34m\u001b[0m\u001b[0m\n\u001b[0;32m--> 179\u001b[0;31m                     \u001b[0mself\u001b[0m\u001b[0;34m.\u001b[0m\u001b[0mnot_empty\u001b[0m\u001b[0;34m.\u001b[0m\u001b[0mwait\u001b[0m\u001b[0;34m(\u001b[0m\u001b[0mremaining\u001b[0m\u001b[0;34m)\u001b[0m\u001b[0;34m\u001b[0m\u001b[0;34m\u001b[0m\u001b[0m\n\u001b[0m\u001b[1;32m    180\u001b[0m             \u001b[0mitem\u001b[0m \u001b[0;34m=\u001b[0m \u001b[0mself\u001b[0m\u001b[0;34m.\u001b[0m\u001b[0m_get\u001b[0m\u001b[0;34m(\u001b[0m\u001b[0;34m)\u001b[0m\u001b[0;34m\u001b[0m\u001b[0;34m\u001b[0m\u001b[0m\n\u001b[1;32m    181\u001b[0m             \u001b[0mself\u001b[0m\u001b[0;34m.\u001b[0m\u001b[0mnot_full\u001b[0m\u001b[0;34m.\u001b[0m\u001b[0mnotify\u001b[0m\u001b[0;34m(\u001b[0m\u001b[0;34m)\u001b[0m\u001b[0;34m\u001b[0m\u001b[0;34m\u001b[0m\u001b[0m\n",
            "\u001b[0;32m/usr/lib/python3.7/threading.py\u001b[0m in \u001b[0;36mwait\u001b[0;34m(self, timeout)\u001b[0m\n\u001b[1;32m    298\u001b[0m             \u001b[0;32melse\u001b[0m\u001b[0;34m:\u001b[0m\u001b[0;34m\u001b[0m\u001b[0;34m\u001b[0m\u001b[0m\n\u001b[1;32m    299\u001b[0m                 \u001b[0;32mif\u001b[0m \u001b[0mtimeout\u001b[0m \u001b[0;34m>\u001b[0m \u001b[0;36m0\u001b[0m\u001b[0;34m:\u001b[0m\u001b[0;34m\u001b[0m\u001b[0;34m\u001b[0m\u001b[0m\n\u001b[0;32m--> 300\u001b[0;31m                     \u001b[0mgotit\u001b[0m \u001b[0;34m=\u001b[0m \u001b[0mwaiter\u001b[0m\u001b[0;34m.\u001b[0m\u001b[0macquire\u001b[0m\u001b[0;34m(\u001b[0m\u001b[0;32mTrue\u001b[0m\u001b[0;34m,\u001b[0m \u001b[0mtimeout\u001b[0m\u001b[0;34m)\u001b[0m\u001b[0;34m\u001b[0m\u001b[0;34m\u001b[0m\u001b[0m\n\u001b[0m\u001b[1;32m    301\u001b[0m                 \u001b[0;32melse\u001b[0m\u001b[0;34m:\u001b[0m\u001b[0;34m\u001b[0m\u001b[0;34m\u001b[0m\u001b[0m\n\u001b[1;32m    302\u001b[0m                     \u001b[0mgotit\u001b[0m \u001b[0;34m=\u001b[0m \u001b[0mwaiter\u001b[0m\u001b[0;34m.\u001b[0m\u001b[0macquire\u001b[0m\u001b[0;34m(\u001b[0m\u001b[0;32mFalse\u001b[0m\u001b[0;34m)\u001b[0m\u001b[0;34m\u001b[0m\u001b[0;34m\u001b[0m\u001b[0m\n",
            "\u001b[0;31mKeyboardInterrupt\u001b[0m: "
          ]
        }
      ]
    },
    {
      "cell_type": "code",
      "source": [
        "import os\n",
        "path = '/content/drive/MyDrive/ML/data/dataset/testset/'\n",
        "npyfiles = []\n",
        "datatest = {}\n",
        "\n",
        "for root, dirs, files in os.walk(path):\n",
        "    # check the extension of files\n",
        "    for file in files:\n",
        "        # check the extension of files\n",
        "        if file.endswith('.npy'):\n",
        "            npyfiles.append(os.path.join(root, file))\n",
        "\n",
        "for i in range(len(npyfiles)):\n",
        "  print(i)\n",
        "  print(path)\n",
        "  path = npyfiles[i]\n",
        "  arr = np.load(path)\n",
        "  index = int(path.split('_')[1].split('.')[0])\n",
        "  datatest[index] = arr"
      ],
      "metadata": {
        "id": "YtwPdGg3jR9S"
      },
      "execution_count": null,
      "outputs": []
    },
    {
      "cell_type": "code",
      "source": [
        "#Before appling transform we have a different shape\n",
        "#Transform reshapes the image\n",
        "#Added normalize because it was taken out below (maybe other way works as well)\n",
        "\n",
        "from pathlib import Path\n",
        "class EuroSATTest(Dataset):\n",
        "    def __init__(self, train_df, train_dir, transform=None):\n",
        "        self.train_dir = train_dir\n",
        "        self.train_df = train_df\n",
        "        self.transform = transform\n",
        "\n",
        "    def __len__(self):\n",
        "        return len(self.train_df)\n",
        "    \n",
        "    def __getitem__(self, idx):\n",
        "        img = datatest[idx]\n",
        "        #img = reshape_as_image(img)\n",
        "        img = img[:, :, [3,2,1]]\n",
        "        img = np.float32(img)\n",
        "        if self.transform:\n",
        "            img = self.transform(img)\n",
        "        return img"
      ],
      "metadata": {
        "id": "dPFCns8YgPyh"
      },
      "execution_count": 32,
      "outputs": []
    },
    {
      "cell_type": "code",
      "source": [
        "transf = torchvision.transforms.Compose([torchvision.transforms.ToTensor(),transforms.ConvertImageDtype(torch.float), torchvision.transforms.CenterCrop(32)])\n",
        "test_ds = EuroSATTest(data_df_test, BASE_PATH, transf)\n",
        "print(len(test_ds))"
      ],
      "metadata": {
        "id": "nfSKsieSgYqj",
        "outputId": "fbd034b6-ed64-4733-9f50-7c5c5741254d",
        "colab": {
          "base_uri": "https://localhost:8080/"
        }
      },
      "execution_count": 33,
      "outputs": [
        {
          "output_type": "stream",
          "name": "stdout",
          "text": [
            "4232\n"
          ]
        }
      ]
    },
    {
      "cell_type": "code",
      "source": [
        "np.shape(test_ds[0])"
      ],
      "metadata": {
        "id": "_EqtYNd9ogBp",
        "outputId": "8af3a1c4-9592-4882-dfac-2d96526655bf",
        "colab": {
          "base_uri": "https://localhost:8080/"
        }
      },
      "execution_count": 34,
      "outputs": [
        {
          "output_type": "execute_result",
          "data": {
            "text/plain": [
              "torch.Size([3, 32, 32])"
            ]
          },
          "metadata": {},
          "execution_count": 34
        }
      ]
    },
    {
      "cell_type": "code",
      "source": [
        "cifar10_eval_dataloader = DataLoader(test_ds, batch_size=10_000, num_workers=2, pin_memory=True)"
      ],
      "metadata": {
        "id": "gFf5-0wPwkqG"
      },
      "execution_count": 35,
      "outputs": []
    },
    {
      "cell_type": "code",
      "source": [
        "# restore pre-trained model snapshot\n",
        "best_model_name = os.path.join(MODEL_PATH, 'challenge_model_epoch_19.pth')\n",
        "\n",
        "# load state_dict from path\n",
        "state_dict_best = torch.load(best_model_name, map_location=torch.device('cpu'))\n",
        "\n",
        "# init pre-trained model class\n",
        "best_model = CIFAR10Net()\n",
        "\n",
        "# load pre-trained models\n",
        "best_model.load_state_dict(state_dict_best)"
      ],
      "metadata": {
        "id": "rFCqL_uS7caL",
        "colab": {
          "base_uri": "https://localhost:8080/"
        },
        "outputId": "3924747b-a21e-4cfb-815d-e25867af1451"
      },
      "execution_count": 36,
      "outputs": [
        {
          "output_type": "execute_result",
          "data": {
            "text/plain": [
              "<All keys matched successfully>"
            ]
          },
          "metadata": {},
          "execution_count": 36
        }
      ]
    },
    {
      "cell_type": "code",
      "source": [
        "# set model in evaluation mode\n",
        "best_model.eval()"
      ],
      "metadata": {
        "id": "wLLthpA87j6Y",
        "colab": {
          "base_uri": "https://localhost:8080/"
        },
        "outputId": "954dd1c7-97a0-4f9f-f284-6413fe8d0655"
      },
      "execution_count": 37,
      "outputs": [
        {
          "output_type": "execute_result",
          "data": {
            "text/plain": [
              "CIFAR10Net(\n",
              "  (conv1): Conv2d(3, 6, kernel_size=(5, 5), stride=(1, 1))\n",
              "  (pool1): MaxPool2d(kernel_size=2, stride=2, padding=0, dilation=1, ceil_mode=False)\n",
              "  (conv2): Conv2d(6, 16, kernel_size=(5, 5), stride=(1, 1))\n",
              "  (pool2): MaxPool2d(kernel_size=2, stride=2, padding=0, dilation=1, ceil_mode=False)\n",
              "  (linear1): Linear(in_features=400, out_features=120, bias=True)\n",
              "  (relu1): ReLU(inplace=True)\n",
              "  (linear2): Linear(in_features=120, out_features=84, bias=True)\n",
              "  (relu2): ReLU(inplace=True)\n",
              "  (linear3): Linear(in_features=84, out_features=10, bias=True)\n",
              "  (logsoftmax): LogSoftmax(dim=1)\n",
              ")"
            ]
          },
          "metadata": {},
          "execution_count": 37
        }
      ]
    },
    {
      "cell_type": "code",
      "source": [
        "train_features, train_labels = next(iter(train_dl))\n",
        "print(f\"Feature batch shape: {train_features.size()}\")\n",
        "print(f\"Labels batch shape: {train_labels.size()}\")\n",
        "img = train_features[0].squeeze()\n",
        "label = train_labels[0]\n",
        "#plt.imshow(img, cmap=\"gray\")\n",
        "#plt.show()\n",
        "print(f\"Label: {label}\")"
      ],
      "metadata": {
        "id": "X_a1XChRzUpo",
        "outputId": "f75d9e1d-2871-4bb4-aac1-c0e36b19a3c2",
        "colab": {
          "base_uri": "https://localhost:8080/"
        }
      },
      "execution_count": 38,
      "outputs": [
        {
          "output_type": "stream",
          "name": "stdout",
          "text": [
            "Feature batch shape: torch.Size([2560, 3, 32, 32])\n",
            "Labels batch shape: torch.Size([2560])\n",
            "Label: 6\n"
          ]
        }
      ]
    },
    {
      "cell_type": "code",
      "source": [
        "train_features = next(iter(cifar10_eval_dataloader))\n",
        "print(f\"Feature batch shape: {train_features.size()}\")\n",
        "img = train_features[0].squeeze()"
      ],
      "metadata": {
        "id": "a9SVdqeS0qAK",
        "outputId": "a4ab1489-ceea-4934-c0e6-387271933c16",
        "colab": {
          "base_uri": "https://localhost:8080/"
        }
      },
      "execution_count": 39,
      "outputs": [
        {
          "output_type": "stream",
          "name": "stdout",
          "text": [
            "Feature batch shape: torch.Size([4232, 3, 32, 32])\n"
          ]
        }
      ]
    },
    {
      "cell_type": "code",
      "source": [
        "predictions = torch.argmax(best_model(iter(cifar10_eval_dataloader).next()), dim=1)"
      ],
      "metadata": {
        "id": "D_qc7UOYvi80"
      },
      "execution_count": 40,
      "outputs": []
    },
    {
      "cell_type": "code",
      "source": [
        "print(predictions[1000:1900])"
      ],
      "metadata": {
        "id": "fwTZ7sx11H4v",
        "outputId": "38727a11-7cd2-4f71-ad4a-3be6907669c4",
        "colab": {
          "base_uri": "https://localhost:8080/"
        }
      },
      "execution_count": 41,
      "outputs": [
        {
          "output_type": "stream",
          "name": "stdout",
          "text": [
            "tensor([0, 7, 7, 4, 7, 7, 7, 4, 4, 4, 4, 7, 4, 7, 7, 7, 7, 4, 4, 7, 0, 7, 4, 7,\n",
            "        7, 7, 4, 4, 7, 7, 4, 4, 7, 7, 4, 4, 4, 7, 4, 7, 7, 7, 7, 7, 4, 7, 4, 7,\n",
            "        4, 4, 7, 7, 7, 4, 4, 4, 7, 7, 7, 7, 7, 4, 7, 4, 7, 7, 4, 4, 4, 7, 7, 4,\n",
            "        4, 4, 4, 7, 4, 7, 7, 7, 4, 7, 4, 4, 7, 4, 4, 4, 7, 7, 7, 4, 4, 4, 7, 4,\n",
            "        7, 7, 4, 4, 7, 4, 4, 4, 7, 7, 7, 7, 7, 7, 4, 4, 7, 4, 7, 4, 4, 7, 4, 4,\n",
            "        4, 7, 7, 7, 4, 4, 7, 4, 4, 4, 4, 7, 7, 4, 7, 7, 7, 4, 7, 7, 7, 7, 7, 4,\n",
            "        4, 4, 7, 7, 4, 4, 4, 4, 7, 7, 4, 4, 4, 4, 7, 4, 4, 4, 4, 7, 7, 7, 7, 7,\n",
            "        7, 7, 4, 7, 4, 4, 7, 7, 4, 4, 4, 4, 7, 4, 7, 7, 7, 4, 4, 4, 4, 7, 7, 7,\n",
            "        7, 4, 7, 4, 7, 7, 4, 4, 7, 7, 7, 4, 7, 4, 4, 4, 7, 4, 7, 7, 7, 6, 7, 4,\n",
            "        7, 7, 4, 4, 0, 7, 4, 7, 4, 7, 4, 4, 7, 7, 7, 7, 7, 4, 4, 4, 7, 7, 4, 4,\n",
            "        4, 7, 4, 4, 4, 4, 7, 4, 4, 4, 4, 7, 7, 7, 7, 7, 7, 4, 4, 7, 4, 7, 7, 4,\n",
            "        4, 4, 4, 4, 4, 7, 4, 4, 4, 4, 4, 4, 7, 7, 7, 4, 4, 7, 7, 7, 7, 7, 4, 4,\n",
            "        4, 4, 4, 7, 7, 7, 7, 4, 4, 4, 4, 4, 4, 4, 4, 7, 7, 4, 4, 7, 4, 4, 7, 7,\n",
            "        7, 7, 4, 4, 7, 7, 4, 7, 7, 7, 7, 7, 7, 4, 4, 4, 4, 4, 7, 4, 7, 7, 7, 7,\n",
            "        4, 4, 7, 4, 7, 7, 7, 7, 4, 7, 7, 4, 7, 7, 7, 7, 7, 7, 7, 4, 7, 7, 7, 4,\n",
            "        4, 4, 4, 7, 7, 7, 4, 4, 7, 7, 4, 7, 7, 4, 4, 7, 7, 7, 7, 7, 7, 7, 4, 4,\n",
            "        4, 7, 4, 7, 7, 4, 7, 7, 7, 4, 4, 7, 7, 7, 4, 4, 7, 4, 7, 7, 4, 4, 4, 4,\n",
            "        7, 7, 4, 7, 7, 7, 4, 4, 4, 4, 7, 7, 4, 7, 7, 7, 7, 7, 4, 7, 4, 7, 4, 4,\n",
            "        7, 4, 4, 4, 4, 4, 7, 0, 4, 7, 7, 0, 7, 4, 4, 4, 4, 4, 7, 7, 4, 4, 7, 4,\n",
            "        7, 7, 4, 4, 4, 4, 7, 7, 7, 4, 4, 7, 4, 7, 7, 7, 7, 4, 7, 7, 7, 4, 4, 4,\n",
            "        4, 7, 7, 7, 4, 7, 4, 7, 7, 7, 7, 7, 7, 4, 7, 7, 4, 7, 4, 7, 7, 4, 7, 4,\n",
            "        4, 7, 7, 4, 4, 7, 7, 5, 4, 4, 4, 4, 4, 7, 4, 4, 7, 4, 7, 7, 4, 4, 7, 7,\n",
            "        4, 4, 4, 7, 7, 7, 4, 7, 4, 7, 7, 7, 4, 7, 7, 4, 4, 7, 7, 4, 0, 7, 7, 4,\n",
            "        7, 7, 4, 4, 4, 7, 4, 7, 7, 4, 7, 7, 7, 7, 4, 4, 7, 7, 7, 7, 7, 4, 4, 7,\n",
            "        4, 4, 7, 7, 7, 7, 4, 7, 4, 7, 4, 7, 4, 4, 7, 4, 4, 4, 4, 7, 4, 4, 4, 7,\n",
            "        4, 4, 7, 4, 7, 7, 7, 7, 7, 7, 7, 7, 7, 4, 7, 7, 4, 4, 4, 7, 4, 7, 4, 7,\n",
            "        7, 4, 7, 4, 4, 7, 7, 7, 7, 7, 7, 4, 4, 7, 7, 7, 4, 7, 7, 4, 7, 4, 7, 4,\n",
            "        4, 7, 7, 7, 7, 4, 7, 4, 7, 4, 7, 4, 7, 7, 4, 4, 7, 4, 4, 7, 7, 7, 7, 4,\n",
            "        4, 4, 4, 4, 4, 7, 7, 4, 7, 4, 4, 7, 7, 7, 4, 7, 4, 4, 4, 4, 4, 7, 4, 7,\n",
            "        7, 4, 7, 4, 4, 4, 4, 4, 7, 7, 4, 0, 7, 4, 4, 7, 7, 7, 7, 7, 4, 7, 4, 4,\n",
            "        4, 7, 7, 7, 4, 4, 4, 7, 7, 7, 4, 7, 4, 7, 7, 7, 4, 4, 7, 4, 4, 7, 7, 4,\n",
            "        7, 4, 4, 4, 4, 4, 4, 7, 4, 7, 4, 4, 7, 7, 4, 4, 4, 4, 4, 7, 7, 7, 7, 7,\n",
            "        7, 4, 4, 4, 7, 4, 7, 7, 4, 7, 4, 4, 7, 4, 7, 7, 0, 7, 7, 7, 4, 4, 7, 7,\n",
            "        4, 7, 7, 7, 4, 4, 4, 0, 7, 4, 7, 7, 7, 7, 4, 7, 7, 4, 7, 7, 7, 7, 4, 4,\n",
            "        4, 7, 4, 4, 4, 7, 7, 7, 4, 7, 7, 7, 7, 7, 7, 4, 4, 7, 7, 7, 7, 4, 4, 4,\n",
            "        4, 4, 4, 7, 7, 7, 7, 4, 7, 4, 4, 4, 7, 7, 4, 7, 4, 7, 7, 7, 4, 7, 7, 4,\n",
            "        7, 4, 7, 7, 4, 4, 7, 7, 7, 7, 7, 7, 7, 7, 7, 4, 4, 7, 4, 7, 4, 4, 4, 4,\n",
            "        4, 4, 4, 7, 7, 7, 7, 4, 4, 4, 4, 7])\n"
          ]
        }
      ]
    },
    {
      "cell_type": "code",
      "source": [
        "test_indices_path = '/content/drive/MyDrive/ML/data/dataset/test.csv'\n",
        "\n",
        "final_submission_file = pd.read_csv(test_indices_path)\n",
        "prediction_list = []\n",
        "\n",
        "# turning numeric predictions to strings (as in kaggle example submission)\n",
        "for p in predictions:\n",
        "  prediction_list.append(decode_target(p.item()))\n",
        "\n",
        "final_submission_file[\"label\"] = prediction_list\n",
        "### source with alternatives methods for appending to csv should this fail: https://stackoverflow.com/questions/26666919/add-column-in-dataframe-from-list\n",
        "final_submission_file.to_csv('/content/drive/MyDrive/ML/data/dataset/final_submission.csv', index=None)"
      ],
      "metadata": {
        "id": "8uyGFJ1D43xf"
      },
      "execution_count": 43,
      "outputs": []
    },
    {
      "cell_type": "markdown",
      "source": [
        "Visualize training loss per epoch"
      ],
      "metadata": {
        "id": "IymTQaPb7YAO"
      }
    },
    {
      "cell_type": "code",
      "source": [
        "# prepare plot\n",
        "fig = plt.figure()\n",
        "ax = fig.add_subplot(111)\n",
        "\n",
        "# add grid\n",
        "ax.grid(linestyle='dotted')\n",
        "\n",
        "# plot the training epochs vs. the epochs' classification error\n",
        "ax.plot(np.array(range(1, len(train_epoch_losses)+1)), train_epoch_losses, label='epoch loss (blue)')\n",
        "\n",
        "# add axis legends\n",
        "ax.set_xlabel(\"[training epoch $e_i$]\", fontsize=10)\n",
        "ax.set_ylabel(\"[Classification Error $\\mathcal{L}^{NLL}$]\", fontsize=10)\n",
        "\n",
        "# set plot legend\n",
        "plt.legend(loc=\"upper right\", numpoints=1, fancybox=True)\n",
        "\n",
        "# add plot title\n",
        "plt.title('Training Epochs $e_i$ vs. Classification Error $L^{NLL}$', fontsize=10);"
      ],
      "metadata": {
        "id": "BLUaURtK7W-S"
      },
      "execution_count": null,
      "outputs": []
    },
    {
      "cell_type": "markdown",
      "source": [
        "Evaluation"
      ],
      "metadata": {
        "id": "uCCp4rav7eeG"
      }
    },
    {
      "cell_type": "code",
      "source": [
        "# init collection of mini-batch losses\n",
        "eval_mini_batch_losses = []\n",
        "\n",
        "# iterate over all-mini batches\n",
        "for i, (images, labels) in enumerate(cifar10_eval_dataloader):\n",
        "\n",
        "    # run forward pass through the network\n",
        "    output = best_model(images)\n",
        "\n",
        "    # determine classification loss\n",
        "    loss = nll_loss(output, labels)\n",
        "\n",
        "    # collect mini-batch reconstruction loss\n",
        "    eval_mini_batch_losses.append(loss.data.item())\n",
        "\n",
        "# determine mean min-batch loss of epoch\n",
        "eval_loss = np.mean(eval_mini_batch_losses)\n",
        "\n",
        "# print epoch loss\n",
        "now = datetime.utcnow().strftime(\"%Y%m%d-%H:%M:%S\")\n",
        "print('[LOG {}] eval-loss: {}'.format(str(now), str(eval_loss)))"
      ],
      "metadata": {
        "id": "pin9-16-7m8t"
      },
      "execution_count": null,
      "outputs": []
    },
    {
      "cell_type": "markdown",
      "source": [
        "Sample prediction"
      ],
      "metadata": {
        "id": "g4DTlDah7uP7"
      }
    },
    {
      "cell_type": "code",
      "source": [
        "# set (random) image id\n",
        "image_id = 777\n",
        "\n",
        "# retrieve image exhibiting the image id\n",
        "cifar10_eval_image, cifar10_eval_label = cifar10_eval_data[image_id]"
      ],
      "metadata": {
        "id": "T5tAfE-t7xqf"
      },
      "execution_count": null,
      "outputs": []
    },
    {
      "cell_type": "markdown",
      "source": [
        "True class of image"
      ],
      "metadata": {
        "id": "qicWvl6DAICx"
      }
    },
    {
      "cell_type": "code",
      "source": [
        "cifar10_classes[cifar10_eval_label]"
      ],
      "metadata": {
        "id": "PBGv_3JTAG-T"
      },
      "execution_count": null,
      "outputs": []
    },
    {
      "cell_type": "markdown",
      "source": [
        "Inspect the image"
      ],
      "metadata": {
        "id": "twZgn2VLARFh"
      }
    },
    {
      "cell_type": "code",
      "source": [
        "# define tensor to image transformation\n",
        "trans = torchvision.transforms.ToPILImage()\n",
        "\n",
        "# set image plot title \n",
        "plt.title('Example: {}, Label: {}'.format(str(image_id), str(cifar10_classes[cifar10_eval_label])))\n",
        "\n",
        "# un-normalize cifar 10 image sample\n",
        "cifar10_eval_image_plot = cifar10_eval_image / 2.0 + 0.5\n",
        "\n",
        "# plot cifar 10 image sample\n",
        "plt.imshow(trans(cifar10_eval_image_plot))"
      ],
      "metadata": {
        "id": "RJpCNlwxATVc"
      },
      "execution_count": null,
      "outputs": []
    },
    {
      "cell_type": "markdown",
      "source": [
        "Compare true label with prediction"
      ],
      "metadata": {
        "id": "pCLRU0cbAsxY"
      }
    },
    {
      "cell_type": "code",
      "source": [
        "cifar10_eval_image.unsqueeze(0).shape\n",
        "best_model(cifar10_eval_image.unsqueeze(0))"
      ],
      "metadata": {
        "id": "82rDezYxAUAs"
      },
      "execution_count": null,
      "outputs": []
    },
    {
      "cell_type": "markdown",
      "source": [
        "Obtain all the predictions"
      ],
      "metadata": {
        "id": "F_fnvxn5A3V0"
      }
    },
    {
      "cell_type": "code",
      "source": [
        "predictions = torch.argmax(best_model(iter(cifar10_eval_dataloader).next()[0]), dim=1)"
      ],
      "metadata": {
        "id": "umVcddsaA5D8"
      },
      "execution_count": null,
      "outputs": []
    },
    {
      "cell_type": "markdown",
      "source": [
        "Overall classification accuracy"
      ],
      "metadata": {
        "id": "nzKBXsX1A8nN"
      }
    },
    {
      "cell_type": "code",
      "source": [
        "metrics.accuracy_score(cifar10_eval_data.targets, predictions.detach())"
      ],
      "metadata": {
        "id": "9j7zr-hcA-mE"
      },
      "execution_count": null,
      "outputs": []
    },
    {
      "cell_type": "markdown",
      "source": [
        "Heatmap"
      ],
      "metadata": {
        "id": "s2drFiD7BB6O"
      }
    },
    {
      "cell_type": "code",
      "source": [
        "# determine classification matrix of the predicted and target classes\n",
        "mat = confusion_matrix(cifar10_eval_data.targets, predictions.detach())\n",
        "\n",
        "# initialize the plot and define size\n",
        "plt.figure(figsize=(8, 8))\n",
        "\n",
        "# plot corresponding confusion matrix\n",
        "sns.heatmap(mat.T, square=True, annot=True, fmt='d', cbar=False, cmap='YlOrRd_r', xticklabels=cifar10_classes, yticklabels=cifar10_classes)\n",
        "plt.tick_params(axis='both', which='major', labelsize=8, labelbottom = False, bottom=False, top = False, left = False, labeltop=True)\n",
        "\n",
        "# set plot title\n",
        "plt.title('CIFAR-10 classification matrix')\n",
        "\n",
        "# set plot axis lables\n",
        "plt.xlabel('[true label]')\n",
        "plt.ylabel('[predicted label]');"
      ],
      "metadata": {
        "id": "WhlovjREBC6o"
      },
      "execution_count": null,
      "outputs": []
    }
  ]
}