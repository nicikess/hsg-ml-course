{
  "nbformat": 4,
  "nbformat_minor": 0,
  "metadata": {
    "colab": {
      "name": "Untitled0.ipynb",
      "provenance": [],
      "machine_shape": "hm",
      "include_colab_link": true
    },
    "kernelspec": {
      "name": "python3",
      "display_name": "Python 3"
    },
    "language_info": {
      "name": "python"
    },
    "accelerator": "GPU"
  },
  "cells": [
    {
      "cell_type": "markdown",
      "metadata": {
        "id": "view-in-github",
        "colab_type": "text"
      },
      "source": [
        "<a href=\"https://colab.research.google.com/github/nicikess/hsg-ml-course/blob/main/notebooks/last_changes.ipynb\" target=\"_parent\"><img src=\"https://colab.research.google.com/assets/colab-badge.svg\" alt=\"Open In Colab\"/></a>"
      ]
    },
    {
      "cell_type": "code",
      "execution_count": 1,
      "metadata": {
        "id": "G1WG87A7bIYf",
        "outputId": "1088e503-bb5c-4f61-da25-70528fa5e303",
        "colab": {
          "base_uri": "https://localhost:8080/"
        }
      },
      "outputs": [
        {
          "output_type": "stream",
          "name": "stdout",
          "text": [
            "Mounted at /content/drive\n"
          ]
        }
      ],
      "source": [
        "from google.colab import drive\n",
        "drive.mount('/content/drive')"
      ]
    },
    {
      "cell_type": "code",
      "source": [
        "import os\n",
        "import glob\n",
        "import pandas as pd\n",
        "import numpy as np\n",
        "from PIL import Image\n",
        "\n",
        "!pip install rasterio\n",
        "!pip install tqdm\n",
        "import rasterio\n",
        "from rasterio.plot import reshape_as_image\n",
        "from tqdm import tqdm\n",
        "\n",
        "!pip install torchgeo\n",
        "import torchgeo.models\n",
        "\n",
        "from datetime import datetime\n",
        "\n",
        "from tifffile import imread\n",
        "\n",
        "from sklearn.metrics import confusion_matrix\n",
        "from sklearn import model_selection\n",
        "\n",
        "import torch, torchvision\n",
        "import torchvision.models as models\n",
        "import torch.nn as nn\n",
        "from torch.utils.data import DataLoader, Dataset, random_split\n",
        "from torchvision.transforms import transforms\n",
        "from torchvision.transforms import ToTensor"
      ],
      "metadata": {
        "id": "AaecwyF3cYX6",
        "outputId": "d5c94163-3190-409b-b25c-f321181f2c8d",
        "colab": {
          "base_uri": "https://localhost:8080/",
          "height": 1000
        }
      },
      "execution_count": 125,
      "outputs": [
        {
          "output_type": "stream",
          "name": "stdout",
          "text": [
            "Requirement already satisfied: rasterio in /usr/local/lib/python3.7/dist-packages (1.2.10)\n",
            "Requirement already satisfied: numpy in /usr/local/lib/python3.7/dist-packages (from rasterio) (1.21.6)\n",
            "Requirement already satisfied: click>=4.0 in /usr/local/lib/python3.7/dist-packages (from rasterio) (7.1.2)\n",
            "Requirement already satisfied: setuptools in /usr/local/lib/python3.7/dist-packages (from rasterio) (57.4.0)\n",
            "Requirement already satisfied: cligj>=0.5 in /usr/local/lib/python3.7/dist-packages (from rasterio) (0.7.2)\n",
            "Requirement already satisfied: snuggs>=1.4.1 in /usr/local/lib/python3.7/dist-packages (from rasterio) (1.4.7)\n",
            "Requirement already satisfied: affine in /usr/local/lib/python3.7/dist-packages (from rasterio) (2.3.1)\n",
            "Requirement already satisfied: certifi in /usr/local/lib/python3.7/dist-packages (from rasterio) (2021.10.8)\n",
            "Requirement already satisfied: click-plugins in /usr/local/lib/python3.7/dist-packages (from rasterio) (1.1.1)\n",
            "Requirement already satisfied: attrs in /usr/local/lib/python3.7/dist-packages (from rasterio) (21.4.0)\n",
            "Requirement already satisfied: pyparsing>=2.1.6 in /usr/local/lib/python3.7/dist-packages (from snuggs>=1.4.1->rasterio) (3.0.8)\n",
            "Requirement already satisfied: tqdm in /usr/local/lib/python3.7/dist-packages (4.64.0)\n",
            "Collecting torchgeo\n",
            "  Downloading torchgeo-0.2.1-py3-none-any.whl (204 kB)\n",
            "\u001b[K     |████████████████████████████████| 204 kB 2.9 MB/s \n",
            "\u001b[?25hRequirement already satisfied: numpy in /usr/local/lib/python3.7/dist-packages (from torchgeo) (1.21.6)\n",
            "Collecting pytorch-lightning>=1.3\n",
            "  Downloading pytorch_lightning-1.6.3-py3-none-any.whl (584 kB)\n",
            "\u001b[K     |████████████████████████████████| 584 kB 37.0 MB/s \n",
            "\u001b[?25hRequirement already satisfied: shapely>=1.3 in /usr/local/lib/python3.7/dist-packages (from torchgeo) (1.8.1.post1)\n",
            "Collecting torchmetrics>=0.7\n",
            "  Downloading torchmetrics-0.8.2-py3-none-any.whl (409 kB)\n",
            "\u001b[K     |████████████████████████████████| 409 kB 76.2 MB/s \n",
            "\u001b[?25hRequirement already satisfied: matplotlib in /usr/local/lib/python3.7/dist-packages (from torchgeo) (3.2.2)\n",
            "Requirement already satisfied: rasterio>=1.0.16 in /usr/local/lib/python3.7/dist-packages (from torchgeo) (1.2.10)\n",
            "Collecting timm>=0.2.1\n",
            "  Downloading timm-0.5.4-py3-none-any.whl (431 kB)\n",
            "\u001b[K     |████████████████████████████████| 431 kB 90.4 MB/s \n",
            "\u001b[?25hCollecting fiona>=1.5\n",
            "  Downloading Fiona-1.8.21-cp37-cp37m-manylinux2014_x86_64.whl (16.7 MB)\n",
            "\u001b[K     |████████████████████████████████| 16.7 MB 80.2 MB/s \n",
            "\u001b[?25hCollecting pyproj>=2.2\n",
            "  Downloading pyproj-3.2.1-cp37-cp37m-manylinux2010_x86_64.whl (6.3 MB)\n",
            "\u001b[K     |████████████████████████████████| 6.3 MB 57.2 MB/s \n",
            "\u001b[?25hRequirement already satisfied: torchvision>=0.10 in /usr/local/lib/python3.7/dist-packages (from torchgeo) (0.12.0+cu113)\n",
            "Collecting omegaconf>=2.1\n",
            "  Downloading omegaconf-2.1.2-py3-none-any.whl (74 kB)\n",
            "\u001b[K     |████████████████████████████████| 74 kB 4.5 MB/s \n",
            "\u001b[?25hRequirement already satisfied: pillow>=2.9 in /usr/local/lib/python3.7/dist-packages (from torchgeo) (7.1.2)\n",
            "Requirement already satisfied: torch>=1.7 in /usr/local/lib/python3.7/dist-packages (from torchgeo) (1.11.0+cu113)\n",
            "Collecting segmentation-models-pytorch>=0.2\n",
            "  Downloading segmentation_models_pytorch-0.2.1-py3-none-any.whl (88 kB)\n",
            "\u001b[K     |████████████████████████████████| 88 kB 9.9 MB/s \n",
            "\u001b[?25hCollecting einops\n",
            "  Downloading einops-0.4.1-py3-none-any.whl (28 kB)\n",
            "Collecting rtree>=0.9.4\n",
            "  Downloading Rtree-1.0.0-cp37-cp37m-manylinux_2_17_x86_64.manylinux2014_x86_64.whl (1.0 MB)\n",
            "\u001b[K     |████████████████████████████████| 1.0 MB 69.5 MB/s \n",
            "\u001b[?25hRequirement already satisfied: scikit-learn>=0.18 in /usr/local/lib/python3.7/dist-packages (from torchgeo) (1.0.2)\n",
            "Collecting kornia>=0.5.11\n",
            "  Downloading kornia-0.6.4-py2.py3-none-any.whl (493 kB)\n",
            "\u001b[K     |████████████████████████████████| 493 kB 85.2 MB/s \n",
            "\u001b[?25hRequirement already satisfied: click>=4.0 in /usr/local/lib/python3.7/dist-packages (from fiona>=1.5->torchgeo) (7.1.2)\n",
            "Requirement already satisfied: six>=1.7 in /usr/local/lib/python3.7/dist-packages (from fiona>=1.5->torchgeo) (1.15.0)\n",
            "Collecting munch\n",
            "  Downloading munch-2.5.0-py2.py3-none-any.whl (10 kB)\n",
            "Requirement already satisfied: attrs>=17 in /usr/local/lib/python3.7/dist-packages (from fiona>=1.5->torchgeo) (21.4.0)\n",
            "Requirement already satisfied: click-plugins>=1.0 in /usr/local/lib/python3.7/dist-packages (from fiona>=1.5->torchgeo) (1.1.1)\n",
            "Requirement already satisfied: certifi in /usr/local/lib/python3.7/dist-packages (from fiona>=1.5->torchgeo) (2021.10.8)\n",
            "Requirement already satisfied: cligj>=0.5 in /usr/local/lib/python3.7/dist-packages (from fiona>=1.5->torchgeo) (0.7.2)\n",
            "Requirement already satisfied: setuptools in /usr/local/lib/python3.7/dist-packages (from fiona>=1.5->torchgeo) (57.4.0)\n",
            "Requirement already satisfied: packaging in /usr/local/lib/python3.7/dist-packages (from kornia>=0.5.11->torchgeo) (21.3)\n",
            "Collecting PyYAML>=5.1.0\n",
            "  Downloading PyYAML-6.0-cp37-cp37m-manylinux_2_5_x86_64.manylinux1_x86_64.manylinux_2_12_x86_64.manylinux2010_x86_64.whl (596 kB)\n",
            "\u001b[K     |████████████████████████████████| 596 kB 68.4 MB/s \n",
            "\u001b[?25hCollecting antlr4-python3-runtime==4.8\n",
            "  Downloading antlr4-python3-runtime-4.8.tar.gz (112 kB)\n",
            "\u001b[K     |████████████████████████████████| 112 kB 88.5 MB/s \n",
            "\u001b[?25hRequirement already satisfied: tensorboard>=2.2.0 in /usr/local/lib/python3.7/dist-packages (from pytorch-lightning>=1.3->torchgeo) (2.8.0)\n",
            "Requirement already satisfied: typing-extensions>=4.0.0 in /usr/local/lib/python3.7/dist-packages (from pytorch-lightning>=1.3->torchgeo) (4.2.0)\n",
            "Requirement already satisfied: tqdm>=4.57.0 in /usr/local/lib/python3.7/dist-packages (from pytorch-lightning>=1.3->torchgeo) (4.64.0)\n",
            "Collecting pyDeprecate<0.4.0,>=0.3.1\n",
            "  Downloading pyDeprecate-0.3.2-py3-none-any.whl (10 kB)\n",
            "Collecting fsspec[http]!=2021.06.0,>=2021.05.0\n",
            "  Downloading fsspec-2022.3.0-py3-none-any.whl (136 kB)\n",
            "\u001b[K     |████████████████████████████████| 136 kB 88.5 MB/s \n",
            "\u001b[?25hRequirement already satisfied: requests in /usr/local/lib/python3.7/dist-packages (from fsspec[http]!=2021.06.0,>=2021.05.0->pytorch-lightning>=1.3->torchgeo) (2.23.0)\n",
            "Collecting aiohttp\n",
            "  Downloading aiohttp-3.8.1-cp37-cp37m-manylinux_2_5_x86_64.manylinux1_x86_64.manylinux_2_12_x86_64.manylinux2010_x86_64.whl (1.1 MB)\n",
            "\u001b[K     |████████████████████████████████| 1.1 MB 43.9 MB/s \n",
            "\u001b[?25hRequirement already satisfied: pyparsing!=3.0.5,>=2.0.2 in /usr/local/lib/python3.7/dist-packages (from packaging->kornia>=0.5.11->torchgeo) (3.0.8)\n",
            "Requirement already satisfied: snuggs>=1.4.1 in /usr/local/lib/python3.7/dist-packages (from rasterio>=1.0.16->torchgeo) (1.4.7)\n",
            "Requirement already satisfied: affine in /usr/local/lib/python3.7/dist-packages (from rasterio>=1.0.16->torchgeo) (2.3.1)\n",
            "Requirement already satisfied: scipy>=1.1.0 in /usr/local/lib/python3.7/dist-packages (from scikit-learn>=0.18->torchgeo) (1.4.1)\n",
            "Requirement already satisfied: threadpoolctl>=2.0.0 in /usr/local/lib/python3.7/dist-packages (from scikit-learn>=0.18->torchgeo) (3.1.0)\n",
            "Requirement already satisfied: joblib>=0.11 in /usr/local/lib/python3.7/dist-packages (from scikit-learn>=0.18->torchgeo) (1.1.0)\n",
            "Collecting pretrainedmodels==0.7.4\n",
            "  Downloading pretrainedmodels-0.7.4.tar.gz (58 kB)\n",
            "\u001b[K     |████████████████████████████████| 58 kB 5.2 MB/s \n",
            "\u001b[?25hCollecting efficientnet-pytorch==0.6.3\n",
            "  Downloading efficientnet_pytorch-0.6.3.tar.gz (16 kB)\n",
            "Collecting timm>=0.2.1\n",
            "  Downloading timm-0.4.12-py3-none-any.whl (376 kB)\n",
            "\u001b[K     |████████████████████████████████| 376 kB 87.0 MB/s \n",
            "\u001b[?25hRequirement already satisfied: google-auth<3,>=1.6.3 in /usr/local/lib/python3.7/dist-packages (from tensorboard>=2.2.0->pytorch-lightning>=1.3->torchgeo) (1.35.0)\n",
            "Requirement already satisfied: google-auth-oauthlib<0.5,>=0.4.1 in /usr/local/lib/python3.7/dist-packages (from tensorboard>=2.2.0->pytorch-lightning>=1.3->torchgeo) (0.4.6)\n",
            "Requirement already satisfied: werkzeug>=0.11.15 in /usr/local/lib/python3.7/dist-packages (from tensorboard>=2.2.0->pytorch-lightning>=1.3->torchgeo) (1.0.1)\n",
            "Requirement already satisfied: absl-py>=0.4 in /usr/local/lib/python3.7/dist-packages (from tensorboard>=2.2.0->pytorch-lightning>=1.3->torchgeo) (1.0.0)\n",
            "Requirement already satisfied: wheel>=0.26 in /usr/local/lib/python3.7/dist-packages (from tensorboard>=2.2.0->pytorch-lightning>=1.3->torchgeo) (0.37.1)\n",
            "Requirement already satisfied: grpcio>=1.24.3 in /usr/local/lib/python3.7/dist-packages (from tensorboard>=2.2.0->pytorch-lightning>=1.3->torchgeo) (1.44.0)\n",
            "Requirement already satisfied: markdown>=2.6.8 in /usr/local/lib/python3.7/dist-packages (from tensorboard>=2.2.0->pytorch-lightning>=1.3->torchgeo) (3.3.6)\n",
            "Requirement already satisfied: tensorboard-data-server<0.7.0,>=0.6.0 in /usr/local/lib/python3.7/dist-packages (from tensorboard>=2.2.0->pytorch-lightning>=1.3->torchgeo) (0.6.1)\n",
            "Requirement already satisfied: tensorboard-plugin-wit>=1.6.0 in /usr/local/lib/python3.7/dist-packages (from tensorboard>=2.2.0->pytorch-lightning>=1.3->torchgeo) (1.8.1)\n",
            "Requirement already satisfied: protobuf>=3.6.0 in /usr/local/lib/python3.7/dist-packages (from tensorboard>=2.2.0->pytorch-lightning>=1.3->torchgeo) (3.17.3)\n",
            "Requirement already satisfied: cachetools<5.0,>=2.0.0 in /usr/local/lib/python3.7/dist-packages (from google-auth<3,>=1.6.3->tensorboard>=2.2.0->pytorch-lightning>=1.3->torchgeo) (4.2.4)\n",
            "Requirement already satisfied: rsa<5,>=3.1.4 in /usr/local/lib/python3.7/dist-packages (from google-auth<3,>=1.6.3->tensorboard>=2.2.0->pytorch-lightning>=1.3->torchgeo) (4.8)\n",
            "Requirement already satisfied: pyasn1-modules>=0.2.1 in /usr/local/lib/python3.7/dist-packages (from google-auth<3,>=1.6.3->tensorboard>=2.2.0->pytorch-lightning>=1.3->torchgeo) (0.2.8)\n",
            "Requirement already satisfied: requests-oauthlib>=0.7.0 in /usr/local/lib/python3.7/dist-packages (from google-auth-oauthlib<0.5,>=0.4.1->tensorboard>=2.2.0->pytorch-lightning>=1.3->torchgeo) (1.3.1)\n",
            "Requirement already satisfied: importlib-metadata>=4.4 in /usr/local/lib/python3.7/dist-packages (from markdown>=2.6.8->tensorboard>=2.2.0->pytorch-lightning>=1.3->torchgeo) (4.11.3)\n",
            "Requirement already satisfied: zipp>=0.5 in /usr/local/lib/python3.7/dist-packages (from importlib-metadata>=4.4->markdown>=2.6.8->tensorboard>=2.2.0->pytorch-lightning>=1.3->torchgeo) (3.8.0)\n",
            "Requirement already satisfied: pyasn1<0.5.0,>=0.4.6 in /usr/local/lib/python3.7/dist-packages (from pyasn1-modules>=0.2.1->google-auth<3,>=1.6.3->tensorboard>=2.2.0->pytorch-lightning>=1.3->torchgeo) (0.4.8)\n",
            "Requirement already satisfied: chardet<4,>=3.0.2 in /usr/local/lib/python3.7/dist-packages (from requests->fsspec[http]!=2021.06.0,>=2021.05.0->pytorch-lightning>=1.3->torchgeo) (3.0.4)\n",
            "Requirement already satisfied: urllib3!=1.25.0,!=1.25.1,<1.26,>=1.21.1 in /usr/local/lib/python3.7/dist-packages (from requests->fsspec[http]!=2021.06.0,>=2021.05.0->pytorch-lightning>=1.3->torchgeo) (1.24.3)\n",
            "Requirement already satisfied: idna<3,>=2.5 in /usr/local/lib/python3.7/dist-packages (from requests->fsspec[http]!=2021.06.0,>=2021.05.0->pytorch-lightning>=1.3->torchgeo) (2.10)\n",
            "Requirement already satisfied: oauthlib>=3.0.0 in /usr/local/lib/python3.7/dist-packages (from requests-oauthlib>=0.7.0->google-auth-oauthlib<0.5,>=0.4.1->tensorboard>=2.2.0->pytorch-lightning>=1.3->torchgeo) (3.2.0)\n",
            "Collecting multidict<7.0,>=4.5\n",
            "  Downloading multidict-6.0.2-cp37-cp37m-manylinux_2_17_x86_64.manylinux2014_x86_64.whl (94 kB)\n",
            "\u001b[K     |████████████████████████████████| 94 kB 4.5 MB/s \n",
            "\u001b[?25hCollecting aiosignal>=1.1.2\n",
            "  Downloading aiosignal-1.2.0-py3-none-any.whl (8.2 kB)\n",
            "Collecting yarl<2.0,>=1.0\n",
            "  Downloading yarl-1.7.2-cp37-cp37m-manylinux_2_5_x86_64.manylinux1_x86_64.manylinux_2_12_x86_64.manylinux2010_x86_64.whl (271 kB)\n",
            "\u001b[K     |████████████████████████████████| 271 kB 91.5 MB/s \n",
            "\u001b[?25hCollecting frozenlist>=1.1.1\n",
            "  Downloading frozenlist-1.3.0-cp37-cp37m-manylinux_2_5_x86_64.manylinux1_x86_64.manylinux_2_17_x86_64.manylinux2014_x86_64.whl (144 kB)\n",
            "\u001b[K     |████████████████████████████████| 144 kB 96.3 MB/s \n",
            "\u001b[?25hCollecting asynctest==0.13.0\n",
            "  Downloading asynctest-0.13.0-py3-none-any.whl (26 kB)\n",
            "Collecting async-timeout<5.0,>=4.0.0a3\n",
            "  Downloading async_timeout-4.0.2-py3-none-any.whl (5.8 kB)\n",
            "Requirement already satisfied: charset-normalizer<3.0,>=2.0 in /usr/local/lib/python3.7/dist-packages (from aiohttp->fsspec[http]!=2021.06.0,>=2021.05.0->pytorch-lightning>=1.3->torchgeo) (2.0.12)\n",
            "Requirement already satisfied: kiwisolver>=1.0.1 in /usr/local/lib/python3.7/dist-packages (from matplotlib->torchgeo) (1.4.2)\n",
            "Requirement already satisfied: cycler>=0.10 in /usr/local/lib/python3.7/dist-packages (from matplotlib->torchgeo) (0.11.0)\n",
            "Requirement already satisfied: python-dateutil>=2.1 in /usr/local/lib/python3.7/dist-packages (from matplotlib->torchgeo) (2.8.2)\n",
            "Building wheels for collected packages: antlr4-python3-runtime, efficientnet-pytorch, pretrainedmodels\n",
            "  Building wheel for antlr4-python3-runtime (setup.py) ... \u001b[?25l\u001b[?25hdone\n",
            "  Created wheel for antlr4-python3-runtime: filename=antlr4_python3_runtime-4.8-py3-none-any.whl size=141230 sha256=2579b281c160492374800ccbcacaeb277515db8f93ede27b069c7326ef7d76b5\n",
            "  Stored in directory: /root/.cache/pip/wheels/ca/33/b7/336836125fc9bb4ceaa4376d8abca10ca8bc84ddc824baea6c\n",
            "  Building wheel for efficientnet-pytorch (setup.py) ... \u001b[?25l\u001b[?25hdone\n",
            "  Created wheel for efficientnet-pytorch: filename=efficientnet_pytorch-0.6.3-py3-none-any.whl size=12421 sha256=645180634685eecd940ccbfc05b75b9d88b222e7db9aaadc71ca2d0fb835f4a5\n",
            "  Stored in directory: /root/.cache/pip/wheels/90/6b/0c/f0ad36d00310e65390b0d4c9218ae6250ac579c92540c9097a\n",
            "  Building wheel for pretrainedmodels (setup.py) ... \u001b[?25l\u001b[?25hdone\n",
            "  Created wheel for pretrainedmodels: filename=pretrainedmodels-0.7.4-py3-none-any.whl size=60965 sha256=cc76c520b92ca45f11f49602252c618ecf031c45c4c208d7ab08ed19cc33f2dc\n",
            "  Stored in directory: /root/.cache/pip/wheels/ed/27/e8/9543d42de2740d3544db96aefef63bda3f2c1761b3334f4873\n",
            "Successfully built antlr4-python3-runtime efficientnet-pytorch pretrainedmodels\n",
            "Installing collected packages: multidict, frozenlist, yarl, asynctest, async-timeout, aiosignal, pyDeprecate, munch, fsspec, aiohttp, torchmetrics, timm, PyYAML, pretrainedmodels, efficientnet-pytorch, antlr4-python3-runtime, segmentation-models-pytorch, rtree, pytorch-lightning, pyproj, omegaconf, kornia, fiona, einops, torchgeo\n",
            "  Attempting uninstall: PyYAML\n",
            "    Found existing installation: PyYAML 3.13\n",
            "    Uninstalling PyYAML-3.13:\n",
            "      Successfully uninstalled PyYAML-3.13\n",
            "Successfully installed PyYAML-6.0 aiohttp-3.8.1 aiosignal-1.2.0 antlr4-python3-runtime-4.8 async-timeout-4.0.2 asynctest-0.13.0 efficientnet-pytorch-0.6.3 einops-0.4.1 fiona-1.8.21 frozenlist-1.3.0 fsspec-2022.3.0 kornia-0.6.4 multidict-6.0.2 munch-2.5.0 omegaconf-2.1.2 pretrainedmodels-0.7.4 pyDeprecate-0.3.2 pyproj-3.2.1 pytorch-lightning-1.6.3 rtree-1.0.0 segmentation-models-pytorch-0.2.1 timm-0.4.12 torchgeo-0.2.1 torchmetrics-0.8.2 yarl-1.7.2\n"
          ]
        },
        {
          "output_type": "display_data",
          "data": {
            "application/vnd.colab-display-data+json": {
              "pip_warning": {
                "packages": [
                  "pydevd_plugins"
                ]
              }
            }
          },
          "metadata": {}
        }
      ]
    },
    {
      "cell_type": "code",
      "source": [
        "#Loads tiff folders\n",
        "\n",
        "import os\n",
        "folder = '/content/drive/MyDrive/ML/data/dataset/trainset/'\n",
        "subfolders = []\n",
        "for dirs in os.walk(folder):\n",
        "  subfolders.append(dirs[0])\n",
        "\n",
        "#remove directory\n",
        "subfolders.pop(0)\n",
        "for i in range(0, len(subfolders)):\n",
        "     print(subfolders[i])"
      ],
      "metadata": {
        "id": "vCZ_ro41C82S",
        "colab": {
          "base_uri": "https://localhost:8080/"
        },
        "outputId": "fee9c2d8-4185-497d-8b7c-73055c6b19f2"
      },
      "execution_count": 330,
      "outputs": [
        {
          "output_type": "stream",
          "name": "stdout",
          "text": [
            "/content/drive/MyDrive/ML/data/dataset/trainset/AnnualCrop\n",
            "/content/drive/MyDrive/ML/data/dataset/trainset/Forest\n",
            "/content/drive/MyDrive/ML/data/dataset/trainset/HerbaceousVegetation\n",
            "/content/drive/MyDrive/ML/data/dataset/trainset/Highway\n",
            "/content/drive/MyDrive/ML/data/dataset/trainset/Industrial\n",
            "/content/drive/MyDrive/ML/data/dataset/trainset/Pasture\n",
            "/content/drive/MyDrive/ML/data/dataset/trainset/PermanentCrop\n",
            "/content/drive/MyDrive/ML/data/dataset/trainset/Residential\n",
            "/content/drive/MyDrive/ML/data/dataset/trainset/River\n",
            "/content/drive/MyDrive/ML/data/dataset/trainset/SeaLake\n"
          ]
        }
      ]
    },
    {
      "cell_type": "code",
      "source": [
        "#Define paths\n",
        "\n",
        "ROOT_PATH = '/content/drive/MyDrive/ML/'\n",
        "BASE_PATH = os.path.join(ROOT_PATH, 'data')\n",
        "MODEL_PATH = os.path.join(ROOT_PATH, 'model')\n",
        "\n",
        "file_path_train = '/content/drive/MyDrive/ML/data/dataset/train.csv'\n",
        "file_path_test = '/content/drive/MyDrive/ML/data/dataset/test.csv'\n",
        "data_df_train = pd.read_csv(file_path_train)\n",
        "data_df_test = pd.read_csv(file_path_test)\n",
        "\n",
        "data_df_train.columns = data_df_train.columns.str.replace('path', 'image_id')\n",
        "data_df_train.columns = data_df_train.columns.str.replace('Label', 'label')"
      ],
      "metadata": {
        "id": "fpaSbKiPcl8S"
      },
      "execution_count": 331,
      "outputs": []
    },
    {
      "cell_type": "code",
      "source": [
        "data_df_train.head()"
      ],
      "metadata": {
        "id": "3Gnk5EELSZge",
        "outputId": "d0ac2f3b-4ce3-4506-b8a3-1b2e046cc6b0",
        "colab": {
          "base_uri": "https://localhost:8080/",
          "height": 206
        }
      },
      "execution_count": 332,
      "outputs": [
        {
          "output_type": "execute_result",
          "data": {
            "text/plain": [
              "                         image_id       label\n",
              "0   AnnualCrop/AnnualCrop_135.tif  AnnualCrop\n",
              "1   AnnualCrop/AnnualCrop_692.tif  AnnualCrop\n",
              "2  AnnualCrop/AnnualCrop_2218.tif  AnnualCrop\n",
              "3  AnnualCrop/AnnualCrop_2679.tif  AnnualCrop\n",
              "4   AnnualCrop/AnnualCrop_926.tif  AnnualCrop"
            ],
            "text/html": [
              "\n",
              "  <div id=\"df-ab9c9efd-2e50-49ef-80a3-4675defa43b8\">\n",
              "    <div class=\"colab-df-container\">\n",
              "      <div>\n",
              "<style scoped>\n",
              "    .dataframe tbody tr th:only-of-type {\n",
              "        vertical-align: middle;\n",
              "    }\n",
              "\n",
              "    .dataframe tbody tr th {\n",
              "        vertical-align: top;\n",
              "    }\n",
              "\n",
              "    .dataframe thead th {\n",
              "        text-align: right;\n",
              "    }\n",
              "</style>\n",
              "<table border=\"1\" class=\"dataframe\">\n",
              "  <thead>\n",
              "    <tr style=\"text-align: right;\">\n",
              "      <th></th>\n",
              "      <th>image_id</th>\n",
              "      <th>label</th>\n",
              "    </tr>\n",
              "  </thead>\n",
              "  <tbody>\n",
              "    <tr>\n",
              "      <th>0</th>\n",
              "      <td>AnnualCrop/AnnualCrop_135.tif</td>\n",
              "      <td>AnnualCrop</td>\n",
              "    </tr>\n",
              "    <tr>\n",
              "      <th>1</th>\n",
              "      <td>AnnualCrop/AnnualCrop_692.tif</td>\n",
              "      <td>AnnualCrop</td>\n",
              "    </tr>\n",
              "    <tr>\n",
              "      <th>2</th>\n",
              "      <td>AnnualCrop/AnnualCrop_2218.tif</td>\n",
              "      <td>AnnualCrop</td>\n",
              "    </tr>\n",
              "    <tr>\n",
              "      <th>3</th>\n",
              "      <td>AnnualCrop/AnnualCrop_2679.tif</td>\n",
              "      <td>AnnualCrop</td>\n",
              "    </tr>\n",
              "    <tr>\n",
              "      <th>4</th>\n",
              "      <td>AnnualCrop/AnnualCrop_926.tif</td>\n",
              "      <td>AnnualCrop</td>\n",
              "    </tr>\n",
              "  </tbody>\n",
              "</table>\n",
              "</div>\n",
              "      <button class=\"colab-df-convert\" onclick=\"convertToInteractive('df-ab9c9efd-2e50-49ef-80a3-4675defa43b8')\"\n",
              "              title=\"Convert this dataframe to an interactive table.\"\n",
              "              style=\"display:none;\">\n",
              "        \n",
              "  <svg xmlns=\"http://www.w3.org/2000/svg\" height=\"24px\"viewBox=\"0 0 24 24\"\n",
              "       width=\"24px\">\n",
              "    <path d=\"M0 0h24v24H0V0z\" fill=\"none\"/>\n",
              "    <path d=\"M18.56 5.44l.94 2.06.94-2.06 2.06-.94-2.06-.94-.94-2.06-.94 2.06-2.06.94zm-11 1L8.5 8.5l.94-2.06 2.06-.94-2.06-.94L8.5 2.5l-.94 2.06-2.06.94zm10 10l.94 2.06.94-2.06 2.06-.94-2.06-.94-.94-2.06-.94 2.06-2.06.94z\"/><path d=\"M17.41 7.96l-1.37-1.37c-.4-.4-.92-.59-1.43-.59-.52 0-1.04.2-1.43.59L10.3 9.45l-7.72 7.72c-.78.78-.78 2.05 0 2.83L4 21.41c.39.39.9.59 1.41.59.51 0 1.02-.2 1.41-.59l7.78-7.78 2.81-2.81c.8-.78.8-2.07 0-2.86zM5.41 20L4 18.59l7.72-7.72 1.47 1.35L5.41 20z\"/>\n",
              "  </svg>\n",
              "      </button>\n",
              "      \n",
              "  <style>\n",
              "    .colab-df-container {\n",
              "      display:flex;\n",
              "      flex-wrap:wrap;\n",
              "      gap: 12px;\n",
              "    }\n",
              "\n",
              "    .colab-df-convert {\n",
              "      background-color: #E8F0FE;\n",
              "      border: none;\n",
              "      border-radius: 50%;\n",
              "      cursor: pointer;\n",
              "      display: none;\n",
              "      fill: #1967D2;\n",
              "      height: 32px;\n",
              "      padding: 0 0 0 0;\n",
              "      width: 32px;\n",
              "    }\n",
              "\n",
              "    .colab-df-convert:hover {\n",
              "      background-color: #E2EBFA;\n",
              "      box-shadow: 0px 1px 2px rgba(60, 64, 67, 0.3), 0px 1px 3px 1px rgba(60, 64, 67, 0.15);\n",
              "      fill: #174EA6;\n",
              "    }\n",
              "\n",
              "    [theme=dark] .colab-df-convert {\n",
              "      background-color: #3B4455;\n",
              "      fill: #D2E3FC;\n",
              "    }\n",
              "\n",
              "    [theme=dark] .colab-df-convert:hover {\n",
              "      background-color: #434B5C;\n",
              "      box-shadow: 0px 1px 3px 1px rgba(0, 0, 0, 0.15);\n",
              "      filter: drop-shadow(0px 1px 2px rgba(0, 0, 0, 0.3));\n",
              "      fill: #FFFFFF;\n",
              "    }\n",
              "  </style>\n",
              "\n",
              "      <script>\n",
              "        const buttonEl =\n",
              "          document.querySelector('#df-ab9c9efd-2e50-49ef-80a3-4675defa43b8 button.colab-df-convert');\n",
              "        buttonEl.style.display =\n",
              "          google.colab.kernel.accessAllowed ? 'block' : 'none';\n",
              "\n",
              "        async function convertToInteractive(key) {\n",
              "          const element = document.querySelector('#df-ab9c9efd-2e50-49ef-80a3-4675defa43b8');\n",
              "          const dataTable =\n",
              "            await google.colab.kernel.invokeFunction('convertToInteractive',\n",
              "                                                     [key], {});\n",
              "          if (!dataTable) return;\n",
              "\n",
              "          const docLinkHtml = 'Like what you see? Visit the ' +\n",
              "            '<a target=\"_blank\" href=https://colab.research.google.com/notebooks/data_table.ipynb>data table notebook</a>'\n",
              "            + ' to learn more about interactive tables.';\n",
              "          element.innerHTML = '';\n",
              "          dataTable['output_type'] = 'display_data';\n",
              "          await google.colab.output.renderOutput(dataTable, element);\n",
              "          const docLink = document.createElement('div');\n",
              "          docLink.innerHTML = docLinkHtml;\n",
              "          element.appendChild(docLink);\n",
              "        }\n",
              "      </script>\n",
              "    </div>\n",
              "  </div>\n",
              "  "
            ]
          },
          "metadata": {},
          "execution_count": 332
        }
      ]
    },
    {
      "cell_type": "code",
      "source": [
        "type(data_df_train)"
      ],
      "metadata": {
        "id": "aP0VLc9UVhv_",
        "outputId": "9192ef9c-538e-4ab4-d4b8-05395e8675bb",
        "colab": {
          "base_uri": "https://localhost:8080/"
        }
      },
      "execution_count": 6,
      "outputs": [
        {
          "output_type": "execute_result",
          "data": {
            "text/plain": [
              "pandas.core.frame.DataFrame"
            ]
          },
          "metadata": {},
          "execution_count": 6
        }
      ]
    },
    {
      "cell_type": "code",
      "source": [
        "#Init deterministic seed\n",
        "seed_value = 1234\n",
        "np.random.seed(seed_value) # set numpy seed\n",
        "torch.manual_seed(seed_value) # set pytorch seed CPU"
      ],
      "metadata": {
        "colab": {
          "base_uri": "https://localhost:8080/"
        },
        "id": "0X0M4kJD4s8c",
        "outputId": "f7ff0d0e-1899-4297-f9a2-0f5765ab0131"
      },
      "execution_count": 333,
      "outputs": [
        {
          "output_type": "execute_result",
          "data": {
            "text/plain": [
              "<torch._C.Generator at 0x7ff4c02a0670>"
            ]
          },
          "metadata": {},
          "execution_count": 333
        }
      ]
    },
    {
      "cell_type": "code",
      "source": [
        "#Classes and labels\n",
        "\n",
        "IDX_CLASS_LABELS = {\n",
        "    0: 'AnnualCrop',\n",
        "    1: 'Forest', \n",
        "    2: 'HerbaceousVegetation',\n",
        "    3: 'Highway',\n",
        "    4: 'Industrial',\n",
        "    5: 'Pasture',\n",
        "    6: 'PermanentCrop',\n",
        "    7: 'Residential',\n",
        "    8: 'River',\n",
        "    9: 'SeaLake'\n",
        "}\n",
        "\n",
        "CLASSES = ['AnnualCrop', 'Forest', 'HerbaceousVegetation', 'Highway', 'Industrial', 'Pasture','PermanentCrop','Residential','River', 'SeaLake']\n",
        "CLASS_IDX_LABELS = dict()\n",
        "for key, val in IDX_CLASS_LABELS.items():\n",
        "  CLASS_IDX_LABELS[val] = key\n",
        "\n",
        "NUM_CLASSES = len(IDX_CLASS_LABELS.items())\n",
        "torch.manual_seed(10)\n",
        "VALID_SIZE = 0.1"
      ],
      "metadata": {
        "id": "DaeA0JLat19y"
      },
      "execution_count": 334,
      "outputs": []
    },
    {
      "cell_type": "code",
      "source": [
        "#Encoder and decoder\n",
        "\n",
        "## Give idx of each class name\n",
        "def encode_label(label):\n",
        "    idx = CLASS_IDX_LABELS[label] \n",
        "    return idx\n",
        "\n",
        "## Take in idx and return the class name\n",
        "def decode_target(target, text_labels=True):\n",
        "    result = []\n",
        "    if text_labels:\n",
        "        return IDX_CLASS_LABELS[target]\n",
        "    else:\n",
        "        return target"
      ],
      "metadata": {
        "id": "mVknVp6zt97o"
      },
      "execution_count": 335,
      "outputs": []
    },
    {
      "cell_type": "code",
      "source": [
        "#Open tiff files with rasterio and safe to dictionary\n",
        "\n",
        "'''import os\n",
        "\n",
        "data = {}\n",
        "\n",
        "for i in range(len(subfolders)):\n",
        "\n",
        "  txtfiles = []\n",
        "\n",
        "  # traverse whole directory\n",
        "  for root, dirs, files in os.walk(subfolders[i]):\n",
        "    # select file name\n",
        "    for file in files:\n",
        "        # check the extension of files\n",
        "        if file.endswith('.tif'):\n",
        "            txtfiles.append(os.path.join(root, file))\n",
        "\n",
        "  code = subfolders[i].split('/')[8]\n",
        "  index = encode_label(code)\n",
        "  arr = np.zeros([len(txtfiles), 64, 64, 13], dtype=\"float32\")\n",
        "\n",
        "  print(code)\n",
        "  print(index)\n",
        "\n",
        "  i = 0\n",
        "  for pic in txtfiles:\n",
        "    with rasterio.open(pic, \"r\") as img:\n",
        "      arr[i] = np.moveaxis(img.read(), 0, 2)\n",
        "      i += 1\n",
        "      \n",
        "  data[index] = arr'''"
      ],
      "metadata": {
        "id": "yYQNn_5JN_4b",
        "outputId": "4c29ae39-35fd-4362-ac61-cb887e66a6ff",
        "colab": {
          "base_uri": "https://localhost:8080/",
          "height": 107
        }
      },
      "execution_count": 10,
      "outputs": [
        {
          "output_type": "execute_result",
          "data": {
            "text/plain": [
              "'import os\\n\\ndata = {}\\n\\nfor i in range(len(subfolders)):\\n\\n  txtfiles = []\\n\\n  # traverse whole directory\\n  for root, dirs, files in os.walk(subfolders[i]):\\n    # select file name\\n    for file in files:\\n        # check the extension of files\\n        if file.endswith(\\'.tif\\'):\\n            txtfiles.append(os.path.join(root, file))\\n\\n  code = subfolders[i].split(\\'/\\')[8]\\n  index = encode_label(code)\\n  arr = np.zeros([len(txtfiles), 64, 64, 13], dtype=\"float32\")\\n\\n  print(code)\\n  print(index)\\n\\n  i = 0\\n  for pic in txtfiles:\\n    with rasterio.open(pic, \"r\") as img:\\n      arr[i] = np.moveaxis(img.read(), 0, 2)\\n      i += 1\\n      \\n  data[index] = arr'"
            ],
            "application/vnd.google.colaboratory.intrinsic+json": {
              "type": "string"
            }
          },
          "metadata": {},
          "execution_count": 10
        }
      ]
    },
    {
      "cell_type": "code",
      "source": [
        "#Save the files as .npy\n",
        "\n",
        "'''for i in range(len(data)):\n",
        "  keys_list = list(data)\n",
        "  key = keys_list[i]\n",
        "  np.save('/content/drive/MyDrive/ML/data/dataset/trainset/'+f'data_class{key}.npy', data[i], allow_pickle=True, fix_imports=True)'''"
      ],
      "metadata": {
        "id": "4URBlEq4FxTb",
        "outputId": "edcbfe88-b199-47bc-eb65-e9dc4ee8c656",
        "colab": {
          "base_uri": "https://localhost:8080/",
          "height": 53
        }
      },
      "execution_count": 11,
      "outputs": [
        {
          "output_type": "execute_result",
          "data": {
            "text/plain": [
              "\"for i in range(len(data)):\\n  keys_list = list(data)\\n  key = keys_list[i]\\n  np.save('/content/drive/MyDrive/ML/data/dataset/trainset/'+f'data_class{key}.npy', data[i], allow_pickle=True, fix_imports=True)\""
            ],
            "application/vnd.google.colaboratory.intrinsic+json": {
              "type": "string"
            }
          },
          "metadata": {},
          "execution_count": 11
        }
      ]
    },
    {
      "cell_type": "code",
      "source": [
        "#Reload the .npy files\n",
        "\n",
        "import os\n",
        "path = '/content/drive/MyDrive/ML/data/dataset/trainset/'\n",
        "npyfiles = []\n",
        "data = {}\n",
        "\n",
        "for root, dirs, files in os.walk(path):\n",
        "    # check the extension of files\n",
        "    for file in files:\n",
        "        # check the extension of files\n",
        "        if file.endswith('.npy'):\n",
        "            npyfiles.append(os.path.join(root, file))\n",
        "\n",
        "for i in range(len(npyfiles)):\n",
        "  path = npyfiles[i]\n",
        "  arr = np.load(path)\n",
        "  index = path.split('/')[8].split('_')[1][5]\n",
        "  index = int(index)\n",
        "  data[index] = arr"
      ],
      "metadata": {
        "id": "00a4BPE2XASQ"
      },
      "execution_count": 336,
      "outputs": []
    },
    {
      "cell_type": "code",
      "source": [
        "from pathlib import Path\n",
        "class EuroSAT(Dataset):\n",
        "    def __init__(self, train_df, train_dir, transform=None):\n",
        "        self.train_dir = train_dir\n",
        "        self.train_df = train_df\n",
        "        self.transform = transform\n",
        "\n",
        "    def __len__(self):\n",
        "        return len(self.train_df)\n",
        "    \n",
        "    def __getitem__(self, idx):\n",
        "        row = self.train_df.loc[idx]\n",
        "        img_id, label = row['image_id'], row['label']\n",
        "        img_id = int(img_id.split('.')[0].split('_')[1])\n",
        "        label_encode = int(encode_label(label))\n",
        "        id = img_id - 1\n",
        "        img = data[label_encode][id]\n",
        "        img_rgb = img[:, :, [4,3,2]]\n",
        "        if self.transform:\n",
        "            img_rgb = self.transform(img_rgb)\n",
        "        return img_rgb, encode_label(label)"
      ],
      "metadata": {
        "id": "4W80rR8ftkNT"
      },
      "execution_count": 337,
      "outputs": []
    },
    {
      "cell_type": "code",
      "source": [
        "train_transform = transforms.Compose([\n",
        "    transforms.ToTensor(),\n",
        "    #transforms.Resize(size=(224, 224)),\n",
        "    #transforms.ConvertImageDtype(torch.float),\n",
        "    #transforms.RandomHorizontalFlip(p=0.5),\n",
        "    #transforms.RandomVerticalFlip(p=0.5),\n",
        "    #transforms.GaussianBlur(kernel_size=(5, 9), sigma=(0.1, 5)),\n",
        "    #transforms.RandomRotation(degrees=(30, 70)),\n",
        "    transforms.Normalize(\n",
        "        mean=[0.485, 0.456, 0.406],\n",
        "        std=[0.229, 0.224, 0.225]\n",
        "    )\n",
        "])"
      ],
      "metadata": {
        "id": "auDy-Wjd4TG8"
      },
      "execution_count": 692,
      "outputs": []
    },
    {
      "cell_type": "code",
      "source": [
        "transf = torchvision.transforms.Compose([torchvision.transforms.ToTensor(),transforms.ConvertImageDtype(torch.float),torchvision.transforms.Normalize(mean=[0.485, 0.456, 0.406], std=[0.229, 0.224, 0.225])])\n",
        "train_ds = EuroSAT(data_df_train, BASE_PATH, train_transform)\n",
        "print(len(train_ds))"
      ],
      "metadata": {
        "id": "IV4SNvidsIjC",
        "outputId": "4b5678c7-8f64-4cc0-dbb5-014e13b5b59e",
        "colab": {
          "base_uri": "https://localhost:8080/"
        }
      },
      "execution_count": 693,
      "outputs": [
        {
          "output_type": "stream",
          "name": "stdout",
          "text": [
            "27000\n"
          ]
        }
      ]
    },
    {
      "cell_type": "code",
      "source": [
        "train_ds.transform"
      ],
      "metadata": {
        "colab": {
          "base_uri": "https://localhost:8080/"
        },
        "id": "-rM3aMHc1AzV",
        "outputId": "fb355d54-089e-4670-b846-985f20334a4f"
      },
      "execution_count": 694,
      "outputs": [
        {
          "output_type": "execute_result",
          "data": {
            "text/plain": [
              "Compose(\n",
              "    ToTensor()\n",
              "    Normalize(mean=[0.485, 0.456, 0.406], std=[0.229, 0.224, 0.225])\n",
              ")"
            ]
          },
          "metadata": {},
          "execution_count": 694
        }
      ]
    },
    {
      "cell_type": "code",
      "source": [
        "train_size = int(0.8 * len(data_df_train))\n",
        "test_size = len(data_df_train) - train_size\n",
        "train_ds, validation_ds = torch.utils.data.random_split(train_ds, [train_size, test_size])"
      ],
      "metadata": {
        "id": "IHsbGl4uwyz5"
      },
      "execution_count": 695,
      "outputs": []
    },
    {
      "cell_type": "code",
      "source": [
        "print(len(train_ds))\n",
        "print(len(validation_ds))"
      ],
      "metadata": {
        "id": "2kp8X_kyQ9yZ",
        "outputId": "4fa53acf-118a-41e7-c68e-e5d2f80012c7",
        "colab": {
          "base_uri": "https://localhost:8080/"
        }
      },
      "execution_count": 696,
      "outputs": [
        {
          "output_type": "stream",
          "name": "stdout",
          "text": [
            "21600\n",
            "5400\n"
          ]
        }
      ]
    },
    {
      "cell_type": "markdown",
      "source": [
        "Model"
      ],
      "metadata": {
        "id": "gAyeRny_03IA"
      }
    },
    {
      "cell_type": "code",
      "source": [
        "pretrainedBool = True\n",
        "model = models.wide_resnet101_2(pretrained=True)\n",
        "if pretrainedBool:\n",
        "    for param in model.parameters():\n",
        "        param.requires_grad = False\n",
        "n_inputs = model.fc.in_features\n",
        "model.fc = nn.Sequential(\n",
        "                      nn.Linear(n_inputs, 256),\n",
        "                      nn.ReLU(),\n",
        "                      nn.Dropout(0.2),\n",
        "                      nn.Linear(256, NUM_CLASSES),\n",
        "                      nn.LogSoftmax(dim=1)\n",
        "                        )"
      ],
      "metadata": {
        "id": "WhJfZoyTVpl9"
      },
      "execution_count": 697,
      "outputs": []
    },
    {
      "cell_type": "code",
      "source": [
        "# set cpu or gpu enabled device\n",
        "device = torch.device('cuda' if torch.cuda.is_available() else 'cpu').type\n",
        "\n",
        "# init deterministic GPU seed\n",
        "torch.cuda.manual_seed(seed_value)\n",
        "\n",
        "# log type of device enabled\n",
        "print('[LOG] notebook with {} computation enabled'.format(str(device)))"
      ],
      "metadata": {
        "colab": {
          "base_uri": "https://localhost:8080/"
        },
        "id": "WquDuPH24v5m",
        "outputId": "45829901-b30c-4bca-9826-35d07d25871d"
      },
      "execution_count": 698,
      "outputs": [
        {
          "output_type": "stream",
          "name": "stdout",
          "text": [
            "[LOG] notebook with cuda computation enabled\n"
          ]
        }
      ]
    },
    {
      "cell_type": "code",
      "source": [
        "model = model.to(device)"
      ],
      "metadata": {
        "id": "WX5qPa-V4b2p"
      },
      "execution_count": 699,
      "outputs": []
    },
    {
      "cell_type": "code",
      "source": [
        "# define the optimization criterion / loss function\n",
        "ce_loss = nn.CrossEntropyLoss()"
      ],
      "metadata": {
        "id": "JGudJ__B4fIk"
      },
      "execution_count": 700,
      "outputs": []
    },
    {
      "cell_type": "code",
      "source": [
        "ce_loss = ce_loss.to(device)"
      ],
      "metadata": {
        "id": "ft3U8mHQ5LtQ"
      },
      "execution_count": 701,
      "outputs": []
    },
    {
      "cell_type": "code",
      "source": [
        "mini_batch_size = 1500"
      ],
      "metadata": {
        "id": "Ucdn5VRqFZxQ"
      },
      "execution_count": 702,
      "outputs": []
    },
    {
      "cell_type": "code",
      "source": [
        "train_dl = DataLoader(train_ds, batch_size=mini_batch_size, shuffle=True)"
      ],
      "metadata": {
        "id": "TqkavzzM5Snd"
      },
      "execution_count": 703,
      "outputs": []
    },
    {
      "cell_type": "code",
      "source": [
        "vali_dataloader = DataLoader(validation_ds, batch_size=5400, num_workers=2, pin_memory=True)"
      ],
      "metadata": {
        "id": "M_RwYBa3JNtH"
      },
      "execution_count": 704,
      "outputs": []
    },
    {
      "cell_type": "code",
      "source": [
        "max_epochs_stop = 10\n",
        "max_lr = 1e-3\n",
        "grad_clip = 0.1\n",
        "weight_decay = 1e-3\n",
        "epochs = 10\n",
        "opt_func = torch.optim.Adam\n",
        "milestones = [50,75,90]\n",
        "\n",
        "train(epochs, max_lr, model, train_dl, milestones, weight_decay, grad_clip, opt_func, max_epochs_stop)\n",
        "# specify the training parameters\n",
        "#num_epochs = 50 # number of training epochs\n",
        "#mini_batch_size = 1300 # size of the mini-batches"
      ],
      "metadata": {
        "id": "_ebJQH2A5RUP",
        "colab": {
          "base_uri": "https://localhost:8080/",
          "height": 420
        },
        "outputId": "e41ec941-dfc4-454a-adbb-baada15288ed"
      },
      "execution_count": 709,
      "outputs": [
        {
          "output_type": "stream",
          "name": "stdout",
          "text": [
            "[LOG 20220506-16:46:32] epoch: 0 train-loss: 0.7992650866508484\n",
            "[LOG 20220506-16:47:05] epoch: 1 train-loss: 0.5795449336369832\n",
            "[LOG 20220506-16:47:36] epoch: 2 train-loss: 0.5014488498369852\n"
          ]
        },
        {
          "output_type": "error",
          "ename": "KeyboardInterrupt",
          "evalue": "ignored",
          "traceback": [
            "\u001b[0;31m---------------------------------------------------------------------------\u001b[0m",
            "\u001b[0;31mKeyboardInterrupt\u001b[0m                         Traceback (most recent call last)",
            "\u001b[0;32m<ipython-input-709-21efde6b0da6>\u001b[0m in \u001b[0;36m<module>\u001b[0;34m()\u001b[0m\n\u001b[1;32m      7\u001b[0m \u001b[0mmilestones\u001b[0m \u001b[0;34m=\u001b[0m \u001b[0;34m[\u001b[0m\u001b[0;36m50\u001b[0m\u001b[0;34m,\u001b[0m\u001b[0;36m75\u001b[0m\u001b[0;34m,\u001b[0m\u001b[0;36m90\u001b[0m\u001b[0;34m]\u001b[0m\u001b[0;34m\u001b[0m\u001b[0;34m\u001b[0m\u001b[0m\n\u001b[1;32m      8\u001b[0m \u001b[0;34m\u001b[0m\u001b[0m\n\u001b[0;32m----> 9\u001b[0;31m \u001b[0mtrain\u001b[0m\u001b[0;34m(\u001b[0m\u001b[0mepochs\u001b[0m\u001b[0;34m,\u001b[0m \u001b[0mmax_lr\u001b[0m\u001b[0;34m,\u001b[0m \u001b[0mmodel\u001b[0m\u001b[0;34m,\u001b[0m \u001b[0mtrain_dl\u001b[0m\u001b[0;34m,\u001b[0m \u001b[0mmilestones\u001b[0m\u001b[0;34m,\u001b[0m \u001b[0mweight_decay\u001b[0m\u001b[0;34m,\u001b[0m \u001b[0mgrad_clip\u001b[0m\u001b[0;34m,\u001b[0m \u001b[0mopt_func\u001b[0m\u001b[0;34m,\u001b[0m \u001b[0mmax_epochs_stop\u001b[0m\u001b[0;34m)\u001b[0m\u001b[0;34m\u001b[0m\u001b[0;34m\u001b[0m\u001b[0m\n\u001b[0m\u001b[1;32m     10\u001b[0m \u001b[0;31m# specify the training parameters\u001b[0m\u001b[0;34m\u001b[0m\u001b[0;34m\u001b[0m\u001b[0;34m\u001b[0m\u001b[0m\n\u001b[1;32m     11\u001b[0m \u001b[0;31m#num_epochs = 50 # number of training epochs\u001b[0m\u001b[0;34m\u001b[0m\u001b[0;34m\u001b[0m\u001b[0;34m\u001b[0m\u001b[0m\n",
            "\u001b[0;32m<ipython-input-707-615b6d4602fa>\u001b[0m in \u001b[0;36mtrain\u001b[0;34m(epochs, max_lr, model, train_loader, milestones, weight_decay, grad_clip, opt_func, max_epochs_stop)\u001b[0m\n\u001b[1;32m     44\u001b[0m \u001b[0;34m\u001b[0m\u001b[0m\n\u001b[1;32m     45\u001b[0m           \u001b[0;31m# collect mini-batch reconstruction loss\u001b[0m\u001b[0;34m\u001b[0m\u001b[0;34m\u001b[0m\u001b[0;34m\u001b[0m\u001b[0m\n\u001b[0;32m---> 46\u001b[0;31m           \u001b[0mtrain_mini_batch_losses\u001b[0m\u001b[0;34m.\u001b[0m\u001b[0mappend\u001b[0m\u001b[0;34m(\u001b[0m\u001b[0mloss\u001b[0m\u001b[0;34m.\u001b[0m\u001b[0mdata\u001b[0m\u001b[0;34m.\u001b[0m\u001b[0mitem\u001b[0m\u001b[0;34m(\u001b[0m\u001b[0;34m)\u001b[0m\u001b[0;34m)\u001b[0m\u001b[0;34m\u001b[0m\u001b[0;34m\u001b[0m\u001b[0m\n\u001b[0m\u001b[1;32m     47\u001b[0m \u001b[0;34m\u001b[0m\u001b[0m\n\u001b[1;32m     48\u001b[0m       \u001b[0;31m# determine mean min-batch loss of epoch\u001b[0m\u001b[0;34m\u001b[0m\u001b[0;34m\u001b[0m\u001b[0;34m\u001b[0m\u001b[0m\n",
            "\u001b[0;31mKeyboardInterrupt\u001b[0m: "
          ]
        }
      ]
    },
    {
      "cell_type": "code",
      "source": [
        "import torch\n",
        "torch.cuda.empty_cache()"
      ],
      "metadata": {
        "id": "XJy3cjN_Cc2x"
      },
      "execution_count": 615,
      "outputs": []
    },
    {
      "cell_type": "code",
      "source": [
        "# define learning rate and optimization strategy\n",
        "#params = model.fc.parameters() if pretrainedBool else model.parameters()\n",
        "#optimizer = torch.optim.Adam(params, learning_rate, betas=(0.9, 0.999), eps=1e-08, weight_decay=0, amsgrad=False)\n",
        "#scheduler = torch.optim.lr_scheduler.MultiStepLR(optimizer, milestones=milestones, gamma=0.1)"
      ],
      "metadata": {
        "id": "LY_Vmz1tFolo"
      },
      "execution_count": null,
      "outputs": []
    },
    {
      "cell_type": "code",
      "source": [
        "def train(epochs, max_lr,  model, train_loader, milestones, weight_decay=0,\\\n",
        "                grad_clip=None,opt_func=torch.optim.SGD, max_epochs_stop=3):\n",
        "  \n",
        "  # init collection of training epoch losses\n",
        "  train_epoch_losses = []\n",
        "\n",
        "  # set the model in training mode\n",
        "  model.train()\n",
        "\n",
        "  optimizer = opt_func(model.fc.parameters(), lr=max_lr, weight_decay=weight_decay)\n",
        "  scheduler = torch.optim.lr_scheduler.MultiStepLR(optimizer, milestones=milestones, gamma=0.1)\n",
        "\n",
        "  # train the CIFAR10 model\n",
        "  for epoch in range(epochs):\n",
        "      \n",
        "      # init collection of mini-batch losses\n",
        "      train_mini_batch_losses = []\n",
        "\n",
        "      # iterate over all-mini batches\n",
        "      for i, (images, labels) in enumerate(train_dl):\n",
        "\n",
        "          #print(images)\n",
        "\n",
        "          # push mini-batch data to computation device\n",
        "          images = images.to(device)\n",
        "          labels = labels.to(device)\n",
        "\n",
        "          # run forward pass through the network\n",
        "          output = model(images)\n",
        "          \n",
        "          # determine classification loss\n",
        "          loss = ce_loss(output, labels)\n",
        "          \n",
        "          # run backward pass\n",
        "          loss.backward()\n",
        "\n",
        "          if grad_clip:\n",
        "                nn.utils.clip_grad_value_(model.parameters(), grad_clip)\n",
        "          \n",
        "          # update network paramaters\n",
        "          optimizer.step()\n",
        "\n",
        "          # reset graph gradients\n",
        "          optimizer.zero_grad()\n",
        "          \n",
        "          # collect mini-batch reconstruction loss\n",
        "          train_mini_batch_losses.append(loss.data.item())\n",
        "\n",
        "      # determine mean min-batch loss of epoch\n",
        "      train_epoch_loss = np.mean(train_mini_batch_losses)\n",
        "\n",
        "      #Added\n",
        "      #result = evaluate(model, vali_dataloader)\n",
        "      #scheduler.step(result['val_loss'])\n",
        "      \n",
        "      # print epoch loss\n",
        "      now = datetime.utcnow().strftime(\"%Y%m%d-%H:%M:%S\")\n",
        "      print('[LOG {}] epoch: {} train-loss: {}'.format(str(now), str(epoch), str(train_epoch_loss)))\n",
        "      \n",
        "      if (epoch%10 == 0): \n",
        "          # set filename of actual model\n",
        "          model_name = 'challenge_model_epoch_{}.pth'.format(str(epoch))\n",
        "          # save current model to GDrive models directory\n",
        "          torch.save(model.state_dict(), os.path.join(MODEL_PATH, model_name))\n",
        "\n",
        "      # determine mean min-batch loss of epoch\n",
        "      train_epoch_losses.append(train_epoch_loss)"
      ],
      "metadata": {
        "id": "l36p_m04wVAV"
      },
      "execution_count": 707,
      "outputs": []
    },
    {
      "cell_type": "code",
      "source": [
        "import os\n",
        "path = '/content/drive/MyDrive/ML/data/dataset/testset/'\n",
        "npyfiles = []\n",
        "datatest = {}\n",
        "\n",
        "for root, dirs, files in os.walk(path):\n",
        "    # check the extension of files\n",
        "    for file in files:\n",
        "        # check the extension of files\n",
        "        if file.endswith('.npy'):\n",
        "            npyfiles.append(os.path.join(root, file))\n",
        "\n",
        "for i in range(len(npyfiles)):\n",
        "  path = npyfiles[i]\n",
        "  arr = np.load(path)\n",
        "  index = int(path.split('_')[1].split('.')[0])\n",
        "  datatest[index] = arr"
      ],
      "metadata": {
        "id": "YtwPdGg3jR9S"
      },
      "execution_count": 413,
      "outputs": []
    },
    {
      "cell_type": "code",
      "source": [
        "from pathlib import Path\n",
        "class EuroSATTest(Dataset):\n",
        "    def __init__(self, train_df, train_dir, transform=None):\n",
        "        self.train_dir = train_dir\n",
        "        self.train_df = train_df\n",
        "        self.transform = transform\n",
        "\n",
        "    def __len__(self):\n",
        "        return len(self.train_df)\n",
        "    \n",
        "    def __getitem__(self, idx):\n",
        "        img = datatest[idx]\n",
        "        img = img[:, :, [4,3,2]]\n",
        "        img = np.float32(img)\n",
        "        if self.transform:\n",
        "            img = self.transform(img)\n",
        "        return img"
      ],
      "metadata": {
        "id": "dPFCns8YgPyh"
      },
      "execution_count": 414,
      "outputs": []
    },
    {
      "cell_type": "code",
      "source": [
        "#Test data\n",
        "transf = torchvision.transforms.Compose([torchvision.transforms.ToTensor(),torchvision.transforms.Normalize(mean=[0.485, 0.456, 0.406], std=[0.229, 0.224, 0.225])])\n",
        "test_ds = EuroSATTest(data_df_test, BASE_PATH, transf)\n",
        "print(len(test_ds))"
      ],
      "metadata": {
        "id": "nfSKsieSgYqj",
        "outputId": "35522fc4-f8a8-424a-e560-36719be6e0cd",
        "colab": {
          "base_uri": "https://localhost:8080/"
        }
      },
      "execution_count": 648,
      "outputs": [
        {
          "output_type": "stream",
          "name": "stdout",
          "text": [
            "4232\n"
          ]
        }
      ]
    },
    {
      "cell_type": "code",
      "source": [
        "resnet50_vali_dataloader = DataLoader(validation_ds, batch_size=5400, num_workers=2, pin_memory=True)"
      ],
      "metadata": {
        "id": "PIuR2EjmXx_3"
      },
      "execution_count": 662,
      "outputs": []
    },
    {
      "cell_type": "code",
      "source": [
        "resnet50_test_dataloader = DataLoader(test_ds, batch_size=10_000, num_workers=2, pin_memory=True)"
      ],
      "metadata": {
        "id": "gFf5-0wPwkqG"
      },
      "execution_count": 513,
      "outputs": []
    },
    {
      "cell_type": "code",
      "source": [
        "# Display image and label.\n",
        "validation_features, validation_labels = next(iter(resnet50_vali_dataloader))\n",
        "print(f\"Labels batch shape: {validation_labels.size()}\")"
      ],
      "metadata": {
        "id": "Yqkcl7x6glWB",
        "outputId": "9b8e60dd-4a65-4879-be9b-df184a05b275",
        "colab": {
          "base_uri": "https://localhost:8080/"
        }
      },
      "execution_count": 663,
      "outputs": [
        {
          "output_type": "stream",
          "name": "stdout",
          "text": [
            "Labels batch shape: torch.Size([5400])\n"
          ]
        }
      ]
    },
    {
      "cell_type": "code",
      "source": [
        "# restore pre-trained model snapshot\n",
        "best_model_name = os.path.join(MODEL_PATH, 'challenge_model_epoch_40_result2.pth')\n",
        "\n",
        "# load state_dict from path\n",
        "state_dict_best = torch.load(best_model_name, map_location=torch.device('cpu'))\n",
        "\n",
        "# init pre-trained model class\n",
        "best_model = model\n",
        "\n",
        "# load pre-trained models\n",
        "best_model.load_state_dict(state_dict_best)"
      ],
      "metadata": {
        "id": "rFCqL_uS7caL",
        "colab": {
          "base_uri": "https://localhost:8080/"
        },
        "outputId": "1c38fc26-d33a-4118-9166-2d179f729da0"
      },
      "execution_count": 670,
      "outputs": [
        {
          "output_type": "execute_result",
          "data": {
            "text/plain": [
              "<All keys matched successfully>"
            ]
          },
          "metadata": {},
          "execution_count": 670
        }
      ]
    },
    {
      "cell_type": "code",
      "source": [
        "# set model in evaluation mode\n",
        "best_model.eval()"
      ],
      "metadata": {
        "id": "wLLthpA87j6Y"
      },
      "execution_count": null,
      "outputs": []
    },
    {
      "cell_type": "code",
      "source": [
        "#Validation\n",
        "#next() returns a tupel: tensor,label\n",
        "predictions = torch.argmax(best_model(iter(resnet50_vali_dataloader).next()[0].to(device)), dim=1)"
      ],
      "metadata": {
        "id": "OKxdUs6nWptk"
      },
      "execution_count": 664,
      "outputs": []
    },
    {
      "cell_type": "code",
      "source": [
        "#Test\n",
        "predictions = torch.argmax(best_model(iter(resnet50_test_dataloader).next().to(device)), dim=1)"
      ],
      "metadata": {
        "id": "D_qc7UOYvi80"
      },
      "execution_count": 672,
      "outputs": []
    },
    {
      "cell_type": "code",
      "source": [
        "type(predictions)"
      ],
      "metadata": {
        "id": "rCQ4iQtq2-6K",
        "outputId": "84cefee8-45aa-4fa9-ec55-0cc79175118b",
        "colab": {
          "base_uri": "https://localhost:8080/"
        }
      },
      "execution_count": 673,
      "outputs": [
        {
          "output_type": "execute_result",
          "data": {
            "text/plain": [
              "torch.Tensor"
            ]
          },
          "metadata": {},
          "execution_count": 673
        }
      ]
    },
    {
      "cell_type": "code",
      "source": [
        "list_tens = predictions.tolist()\n",
        "\n",
        "for i in range(len(list_tens)):\n",
        "  list_tens[i] = decode_target(list_tens[i])"
      ],
      "metadata": {
        "id": "fwTZ7sx11H4v"
      },
      "execution_count": 674,
      "outputs": []
    },
    {
      "cell_type": "code",
      "source": [
        "from collections import Counter\n",
        "print(Counter(list_tens).keys()) # equals to list(set(words))\n",
        "print(Counter(list_tens).values()) # counts the elements' frequency"
      ],
      "metadata": {
        "colab": {
          "base_uri": "https://localhost:8080/"
        },
        "id": "ZMZusvMJRz8F",
        "outputId": "793a0bba-ffd0-4056-b4b1-6d9c56396f4b"
      },
      "execution_count": 675,
      "outputs": [
        {
          "output_type": "stream",
          "name": "stdout",
          "text": [
            "dict_keys(['HerbaceousVegetation', 'Highway', 'SeaLake', 'Residential', 'AnnualCrop', 'PermanentCrop', 'Industrial', 'River', 'Forest', 'Pasture'])\n",
            "dict_values([1293, 385, 1102, 241, 275, 161, 276, 227, 92, 180])\n"
          ]
        }
      ]
    },
    {
      "cell_type": "code",
      "source": [
        "from sklearn import metrics\n",
        "metrics.accuracy_score(validation_labels.detach().cpu(), predictions.detach().cpu())"
      ],
      "metadata": {
        "id": "14I36aFlanwy",
        "outputId": "bbdf947a-3f88-4f5d-dc23-ae1014897bc4",
        "colab": {
          "base_uri": "https://localhost:8080/"
        }
      },
      "execution_count": 656,
      "outputs": [
        {
          "output_type": "execute_result",
          "data": {
            "text/plain": [
              "0.17703703703703705"
            ]
          },
          "metadata": {},
          "execution_count": 656
        }
      ]
    },
    {
      "cell_type": "code",
      "source": [
        "test_indices_path = '/content/drive/MyDrive/ML/data/dataset/test.csv'\n",
        "\n",
        "final_submission_file = pd.read_csv(test_indices_path)\n",
        "prediction_list = []\n",
        "\n",
        "# turning numeric predictions to strings (as in kaggle example submission)\n",
        "for p in predictions:\n",
        "  prediction_list.append(decode_target(p.item()))\n",
        "\n",
        "final_submission_file[\"label\"] = prediction_list\n",
        "### source with alternatives methods for appending to csv should this fail: https://stackoverflow.com/questions/26666919/add-column-in-dataframe-from-list\n",
        "final_submission_file.to_csv('/content/drive/MyDrive/ML/data/dataset/final_submission.csv', index=None)"
      ],
      "metadata": {
        "id": "8uyGFJ1D43xf"
      },
      "execution_count": 676,
      "outputs": []
    }
  ]
}