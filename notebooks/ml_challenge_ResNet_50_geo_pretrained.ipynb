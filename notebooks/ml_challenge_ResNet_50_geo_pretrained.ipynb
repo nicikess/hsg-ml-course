{
  "nbformat": 4,
  "nbformat_minor": 0,
  "metadata": {
    "colab": {
      "name": "Untitled0.ipynb",
      "provenance": [],
      "machine_shape": "hm",
      "history_visible": true,
      "toc_visible": true,
      "include_colab_link": true
    },
    "kernelspec": {
      "name": "python3",
      "display_name": "Python 3"
    },
    "language_info": {
      "name": "python"
    },
    "accelerator": "GPU",
    "widgets": {
      "application/vnd.jupyter.widget-state+json": {
        "e5373626fd004f2a90e83387a5dab773": {
          "model_module": "@jupyter-widgets/controls",
          "model_name": "HBoxModel",
          "model_module_version": "1.5.0",
          "state": {
            "_dom_classes": [],
            "_model_module": "@jupyter-widgets/controls",
            "_model_module_version": "1.5.0",
            "_model_name": "HBoxModel",
            "_view_count": null,
            "_view_module": "@jupyter-widgets/controls",
            "_view_module_version": "1.5.0",
            "_view_name": "HBoxView",
            "box_style": "",
            "children": [
              "IPY_MODEL_c8c75f4adb0c4d38944bb9565486d98f",
              "IPY_MODEL_c395a866b636453f8801b99577eada86",
              "IPY_MODEL_1e695d748ce54111a7e8ce9ba1453c85"
            ],
            "layout": "IPY_MODEL_a430e1c5ca5148239c239ee6fc6b8fa8"
          }
        },
        "c8c75f4adb0c4d38944bb9565486d98f": {
          "model_module": "@jupyter-widgets/controls",
          "model_name": "HTMLModel",
          "model_module_version": "1.5.0",
          "state": {
            "_dom_classes": [],
            "_model_module": "@jupyter-widgets/controls",
            "_model_module_version": "1.5.0",
            "_model_name": "HTMLModel",
            "_view_count": null,
            "_view_module": "@jupyter-widgets/controls",
            "_view_module_version": "1.5.0",
            "_view_name": "HTMLView",
            "description": "",
            "description_tooltip": null,
            "layout": "IPY_MODEL_51a5b27c88fa467ca21104b488fd9953",
            "placeholder": "​",
            "style": "IPY_MODEL_41f35b50f9fe4f6c8bf20e15d80ec4ba",
            "value": "100%"
          }
        },
        "c395a866b636453f8801b99577eada86": {
          "model_module": "@jupyter-widgets/controls",
          "model_name": "FloatProgressModel",
          "model_module_version": "1.5.0",
          "state": {
            "_dom_classes": [],
            "_model_module": "@jupyter-widgets/controls",
            "_model_module_version": "1.5.0",
            "_model_name": "FloatProgressModel",
            "_view_count": null,
            "_view_module": "@jupyter-widgets/controls",
            "_view_module_version": "1.5.0",
            "_view_name": "ProgressView",
            "bar_style": "success",
            "description": "",
            "description_tooltip": null,
            "layout": "IPY_MODEL_e38c372816754d71813b4a84c866c961",
            "max": 94566017,
            "min": 0,
            "orientation": "horizontal",
            "style": "IPY_MODEL_4eaf408b624943cbb4dd1048c65ed4da",
            "value": 94566017
          }
        },
        "1e695d748ce54111a7e8ce9ba1453c85": {
          "model_module": "@jupyter-widgets/controls",
          "model_name": "HTMLModel",
          "model_module_version": "1.5.0",
          "state": {
            "_dom_classes": [],
            "_model_module": "@jupyter-widgets/controls",
            "_model_module_version": "1.5.0",
            "_model_name": "HTMLModel",
            "_view_count": null,
            "_view_module": "@jupyter-widgets/controls",
            "_view_module_version": "1.5.0",
            "_view_name": "HTMLView",
            "description": "",
            "description_tooltip": null,
            "layout": "IPY_MODEL_4bc825d9d41c415d918c521cfd254861",
            "placeholder": "​",
            "style": "IPY_MODEL_529612c3624c482ba8b35d4e752090aa",
            "value": " 90.2M/90.2M [00:05&lt;00:00, 18.4MB/s]"
          }
        },
        "a430e1c5ca5148239c239ee6fc6b8fa8": {
          "model_module": "@jupyter-widgets/base",
          "model_name": "LayoutModel",
          "model_module_version": "1.2.0",
          "state": {
            "_model_module": "@jupyter-widgets/base",
            "_model_module_version": "1.2.0",
            "_model_name": "LayoutModel",
            "_view_count": null,
            "_view_module": "@jupyter-widgets/base",
            "_view_module_version": "1.2.0",
            "_view_name": "LayoutView",
            "align_content": null,
            "align_items": null,
            "align_self": null,
            "border": null,
            "bottom": null,
            "display": null,
            "flex": null,
            "flex_flow": null,
            "grid_area": null,
            "grid_auto_columns": null,
            "grid_auto_flow": null,
            "grid_auto_rows": null,
            "grid_column": null,
            "grid_gap": null,
            "grid_row": null,
            "grid_template_areas": null,
            "grid_template_columns": null,
            "grid_template_rows": null,
            "height": null,
            "justify_content": null,
            "justify_items": null,
            "left": null,
            "margin": null,
            "max_height": null,
            "max_width": null,
            "min_height": null,
            "min_width": null,
            "object_fit": null,
            "object_position": null,
            "order": null,
            "overflow": null,
            "overflow_x": null,
            "overflow_y": null,
            "padding": null,
            "right": null,
            "top": null,
            "visibility": null,
            "width": null
          }
        },
        "51a5b27c88fa467ca21104b488fd9953": {
          "model_module": "@jupyter-widgets/base",
          "model_name": "LayoutModel",
          "model_module_version": "1.2.0",
          "state": {
            "_model_module": "@jupyter-widgets/base",
            "_model_module_version": "1.2.0",
            "_model_name": "LayoutModel",
            "_view_count": null,
            "_view_module": "@jupyter-widgets/base",
            "_view_module_version": "1.2.0",
            "_view_name": "LayoutView",
            "align_content": null,
            "align_items": null,
            "align_self": null,
            "border": null,
            "bottom": null,
            "display": null,
            "flex": null,
            "flex_flow": null,
            "grid_area": null,
            "grid_auto_columns": null,
            "grid_auto_flow": null,
            "grid_auto_rows": null,
            "grid_column": null,
            "grid_gap": null,
            "grid_row": null,
            "grid_template_areas": null,
            "grid_template_columns": null,
            "grid_template_rows": null,
            "height": null,
            "justify_content": null,
            "justify_items": null,
            "left": null,
            "margin": null,
            "max_height": null,
            "max_width": null,
            "min_height": null,
            "min_width": null,
            "object_fit": null,
            "object_position": null,
            "order": null,
            "overflow": null,
            "overflow_x": null,
            "overflow_y": null,
            "padding": null,
            "right": null,
            "top": null,
            "visibility": null,
            "width": null
          }
        },
        "41f35b50f9fe4f6c8bf20e15d80ec4ba": {
          "model_module": "@jupyter-widgets/controls",
          "model_name": "DescriptionStyleModel",
          "model_module_version": "1.5.0",
          "state": {
            "_model_module": "@jupyter-widgets/controls",
            "_model_module_version": "1.5.0",
            "_model_name": "DescriptionStyleModel",
            "_view_count": null,
            "_view_module": "@jupyter-widgets/base",
            "_view_module_version": "1.2.0",
            "_view_name": "StyleView",
            "description_width": ""
          }
        },
        "e38c372816754d71813b4a84c866c961": {
          "model_module": "@jupyter-widgets/base",
          "model_name": "LayoutModel",
          "model_module_version": "1.2.0",
          "state": {
            "_model_module": "@jupyter-widgets/base",
            "_model_module_version": "1.2.0",
            "_model_name": "LayoutModel",
            "_view_count": null,
            "_view_module": "@jupyter-widgets/base",
            "_view_module_version": "1.2.0",
            "_view_name": "LayoutView",
            "align_content": null,
            "align_items": null,
            "align_self": null,
            "border": null,
            "bottom": null,
            "display": null,
            "flex": null,
            "flex_flow": null,
            "grid_area": null,
            "grid_auto_columns": null,
            "grid_auto_flow": null,
            "grid_auto_rows": null,
            "grid_column": null,
            "grid_gap": null,
            "grid_row": null,
            "grid_template_areas": null,
            "grid_template_columns": null,
            "grid_template_rows": null,
            "height": null,
            "justify_content": null,
            "justify_items": null,
            "left": null,
            "margin": null,
            "max_height": null,
            "max_width": null,
            "min_height": null,
            "min_width": null,
            "object_fit": null,
            "object_position": null,
            "order": null,
            "overflow": null,
            "overflow_x": null,
            "overflow_y": null,
            "padding": null,
            "right": null,
            "top": null,
            "visibility": null,
            "width": null
          }
        },
        "4eaf408b624943cbb4dd1048c65ed4da": {
          "model_module": "@jupyter-widgets/controls",
          "model_name": "ProgressStyleModel",
          "model_module_version": "1.5.0",
          "state": {
            "_model_module": "@jupyter-widgets/controls",
            "_model_module_version": "1.5.0",
            "_model_name": "ProgressStyleModel",
            "_view_count": null,
            "_view_module": "@jupyter-widgets/base",
            "_view_module_version": "1.2.0",
            "_view_name": "StyleView",
            "bar_color": null,
            "description_width": ""
          }
        },
        "4bc825d9d41c415d918c521cfd254861": {
          "model_module": "@jupyter-widgets/base",
          "model_name": "LayoutModel",
          "model_module_version": "1.2.0",
          "state": {
            "_model_module": "@jupyter-widgets/base",
            "_model_module_version": "1.2.0",
            "_model_name": "LayoutModel",
            "_view_count": null,
            "_view_module": "@jupyter-widgets/base",
            "_view_module_version": "1.2.0",
            "_view_name": "LayoutView",
            "align_content": null,
            "align_items": null,
            "align_self": null,
            "border": null,
            "bottom": null,
            "display": null,
            "flex": null,
            "flex_flow": null,
            "grid_area": null,
            "grid_auto_columns": null,
            "grid_auto_flow": null,
            "grid_auto_rows": null,
            "grid_column": null,
            "grid_gap": null,
            "grid_row": null,
            "grid_template_areas": null,
            "grid_template_columns": null,
            "grid_template_rows": null,
            "height": null,
            "justify_content": null,
            "justify_items": null,
            "left": null,
            "margin": null,
            "max_height": null,
            "max_width": null,
            "min_height": null,
            "min_width": null,
            "object_fit": null,
            "object_position": null,
            "order": null,
            "overflow": null,
            "overflow_x": null,
            "overflow_y": null,
            "padding": null,
            "right": null,
            "top": null,
            "visibility": null,
            "width": null
          }
        },
        "529612c3624c482ba8b35d4e752090aa": {
          "model_module": "@jupyter-widgets/controls",
          "model_name": "DescriptionStyleModel",
          "model_module_version": "1.5.0",
          "state": {
            "_model_module": "@jupyter-widgets/controls",
            "_model_module_version": "1.5.0",
            "_model_name": "DescriptionStyleModel",
            "_view_count": null,
            "_view_module": "@jupyter-widgets/base",
            "_view_module_version": "1.2.0",
            "_view_name": "StyleView",
            "description_width": ""
          }
        }
      }
    }
  },
  "cells": [
    {
      "cell_type": "markdown",
      "metadata": {
        "id": "view-in-github",
        "colab_type": "text"
      },
      "source": [
        "<a href=\"https://colab.research.google.com/github/nicikess/hsg-ml-course/blob/main/notebooks/ml_challenge_ResNet_50_geo_pretrained.ipynb\" target=\"_parent\"><img src=\"https://colab.research.google.com/assets/colab-badge.svg\" alt=\"Open In Colab\"/></a>"
      ]
    },
    {
      "cell_type": "code",
      "execution_count": 2,
      "metadata": {
        "id": "G1WG87A7bIYf",
        "outputId": "001016de-8ac0-4b45-940f-ee108791c8e1",
        "colab": {
          "base_uri": "https://localhost:8080/"
        }
      },
      "outputs": [
        {
          "output_type": "stream",
          "name": "stdout",
          "text": [
            "Drive already mounted at /content/drive; to attempt to forcibly remount, call drive.mount(\"/content/drive\", force_remount=True).\n"
          ]
        }
      ],
      "source": [
        "from google.colab import drive\n",
        "drive.mount('/content/drive')"
      ]
    },
    {
      "cell_type": "code",
      "source": [
        "import os\n",
        "import glob\n",
        "import pandas as pd\n",
        "import numpy as np\n",
        "from PIL import Image\n",
        "\n",
        "!pip install rasterio\n",
        "!pip install tqdm\n",
        "import rasterio\n",
        "from rasterio.plot import reshape_as_image\n",
        "from tqdm import tqdm\n",
        "\n",
        "!pip install torchgeo\n",
        "import torchgeo.models\n",
        "\n",
        "from datetime import datetime\n",
        "\n",
        "from tifffile import imread\n",
        "\n",
        "from sklearn.metrics import confusion_matrix\n",
        "from sklearn import model_selection\n",
        "\n",
        "import torch, torchvision\n",
        "import torchvision.models as models\n",
        "import torch.nn as nn\n",
        "from torch.utils.data import DataLoader, Dataset, random_split\n",
        "from torchvision.transforms import transforms\n",
        "from torchvision.transforms import ToTensor"
      ],
      "metadata": {
        "id": "AaecwyF3cYX6",
        "outputId": "3da8c6f8-e879-4df9-a4c7-27ca6e79c791",
        "colab": {
          "base_uri": "https://localhost:8080/",
          "height": 1000
        }
      },
      "execution_count": 3,
      "outputs": [
        {
          "output_type": "stream",
          "name": "stdout",
          "text": [
            "Collecting rasterio\n",
            "  Downloading rasterio-1.2.10-cp37-cp37m-manylinux1_x86_64.whl (19.3 MB)\n",
            "\u001b[K     |████████████████████████████████| 19.3 MB 8.5 MB/s \n",
            "\u001b[?25hRequirement already satisfied: numpy in /usr/local/lib/python3.7/dist-packages (from rasterio) (1.21.6)\n",
            "Requirement already satisfied: attrs in /usr/local/lib/python3.7/dist-packages (from rasterio) (21.4.0)\n",
            "Collecting cligj>=0.5\n",
            "  Downloading cligj-0.7.2-py3-none-any.whl (7.1 kB)\n",
            "Collecting snuggs>=1.4.1\n",
            "  Downloading snuggs-1.4.7-py3-none-any.whl (5.4 kB)\n",
            "Collecting click-plugins\n",
            "  Downloading click_plugins-1.1.1-py2.py3-none-any.whl (7.5 kB)\n",
            "Requirement already satisfied: click>=4.0 in /usr/local/lib/python3.7/dist-packages (from rasterio) (7.1.2)\n",
            "Requirement already satisfied: setuptools in /usr/local/lib/python3.7/dist-packages (from rasterio) (57.4.0)\n",
            "Requirement already satisfied: certifi in /usr/local/lib/python3.7/dist-packages (from rasterio) (2021.10.8)\n",
            "Collecting affine\n",
            "  Downloading affine-2.3.1-py2.py3-none-any.whl (16 kB)\n",
            "Requirement already satisfied: pyparsing>=2.1.6 in /usr/local/lib/python3.7/dist-packages (from snuggs>=1.4.1->rasterio) (3.0.9)\n",
            "Installing collected packages: snuggs, cligj, click-plugins, affine, rasterio\n",
            "Successfully installed affine-2.3.1 click-plugins-1.1.1 cligj-0.7.2 rasterio-1.2.10 snuggs-1.4.7\n",
            "Requirement already satisfied: tqdm in /usr/local/lib/python3.7/dist-packages (4.64.0)\n",
            "Collecting torchgeo\n",
            "  Downloading torchgeo-0.2.1-py3-none-any.whl (204 kB)\n",
            "\u001b[K     |████████████████████████████████| 204 kB 7.3 MB/s \n",
            "\u001b[?25hCollecting fiona>=1.5\n",
            "  Downloading Fiona-1.8.21-cp37-cp37m-manylinux2014_x86_64.whl (16.7 MB)\n",
            "\u001b[K     |████████████████████████████████| 16.7 MB 52.0 MB/s \n",
            "\u001b[?25hCollecting pytorch-lightning>=1.3\n",
            "  Downloading pytorch_lightning-1.6.3-py3-none-any.whl (584 kB)\n",
            "\u001b[K     |████████████████████████████████| 584 kB 53.2 MB/s \n",
            "\u001b[?25hCollecting timm>=0.2.1\n",
            "  Downloading timm-0.5.4-py3-none-any.whl (431 kB)\n",
            "\u001b[K     |████████████████████████████████| 431 kB 68.8 MB/s \n",
            "\u001b[?25hRequirement already satisfied: matplotlib in /usr/local/lib/python3.7/dist-packages (from torchgeo) (3.2.2)\n",
            "Requirement already satisfied: numpy in /usr/local/lib/python3.7/dist-packages (from torchgeo) (1.21.6)\n",
            "Collecting pyproj>=2.2\n",
            "  Downloading pyproj-3.2.1-cp37-cp37m-manylinux2010_x86_64.whl (6.3 MB)\n",
            "\u001b[K     |████████████████████████████████| 6.3 MB 39.6 MB/s \n",
            "\u001b[?25hCollecting kornia>=0.5.11\n",
            "  Downloading kornia-0.6.5-py2.py3-none-any.whl (512 kB)\n",
            "\u001b[K     |████████████████████████████████| 512 kB 61.9 MB/s \n",
            "\u001b[?25hRequirement already satisfied: pillow>=2.9 in /usr/local/lib/python3.7/dist-packages (from torchgeo) (7.1.2)\n",
            "Requirement already satisfied: shapely>=1.3 in /usr/local/lib/python3.7/dist-packages (from torchgeo) (1.8.2)\n",
            "Requirement already satisfied: rasterio>=1.0.16 in /usr/local/lib/python3.7/dist-packages (from torchgeo) (1.2.10)\n",
            "Collecting torchmetrics>=0.7\n",
            "  Downloading torchmetrics-0.8.2-py3-none-any.whl (409 kB)\n",
            "\u001b[K     |████████████████████████████████| 409 kB 64.9 MB/s \n",
            "\u001b[?25hCollecting einops\n",
            "  Downloading einops-0.4.1-py3-none-any.whl (28 kB)\n",
            "Collecting omegaconf>=2.1\n",
            "  Downloading omegaconf-2.2.1-py3-none-any.whl (78 kB)\n",
            "\u001b[K     |████████████████████████████████| 78 kB 7.1 MB/s \n",
            "\u001b[?25hRequirement already satisfied: torch>=1.7 in /usr/local/lib/python3.7/dist-packages (from torchgeo) (1.11.0+cu113)\n",
            "Requirement already satisfied: torchvision>=0.10 in /usr/local/lib/python3.7/dist-packages (from torchgeo) (0.12.0+cu113)\n",
            "Collecting rtree>=0.9.4\n",
            "  Downloading Rtree-1.0.0-cp37-cp37m-manylinux_2_17_x86_64.manylinux2014_x86_64.whl (1.0 MB)\n",
            "\u001b[K     |████████████████████████████████| 1.0 MB 54.1 MB/s \n",
            "\u001b[?25hCollecting segmentation-models-pytorch>=0.2\n",
            "  Downloading segmentation_models_pytorch-0.2.1-py3-none-any.whl (88 kB)\n",
            "\u001b[K     |████████████████████████████████| 88 kB 7.1 MB/s \n",
            "\u001b[?25hRequirement already satisfied: scikit-learn>=0.18 in /usr/local/lib/python3.7/dist-packages (from torchgeo) (1.0.2)\n",
            "Requirement already satisfied: six>=1.7 in /usr/local/lib/python3.7/dist-packages (from fiona>=1.5->torchgeo) (1.15.0)\n",
            "Requirement already satisfied: attrs>=17 in /usr/local/lib/python3.7/dist-packages (from fiona>=1.5->torchgeo) (21.4.0)\n",
            "Requirement already satisfied: click>=4.0 in /usr/local/lib/python3.7/dist-packages (from fiona>=1.5->torchgeo) (7.1.2)\n",
            "Requirement already satisfied: cligj>=0.5 in /usr/local/lib/python3.7/dist-packages (from fiona>=1.5->torchgeo) (0.7.2)\n",
            "Collecting munch\n",
            "  Downloading munch-2.5.0-py2.py3-none-any.whl (10 kB)\n",
            "Requirement already satisfied: setuptools in /usr/local/lib/python3.7/dist-packages (from fiona>=1.5->torchgeo) (57.4.0)\n",
            "Requirement already satisfied: click-plugins>=1.0 in /usr/local/lib/python3.7/dist-packages (from fiona>=1.5->torchgeo) (1.1.1)\n",
            "Requirement already satisfied: certifi in /usr/local/lib/python3.7/dist-packages (from fiona>=1.5->torchgeo) (2021.10.8)\n",
            "Requirement already satisfied: packaging in /usr/local/lib/python3.7/dist-packages (from kornia>=0.5.11->torchgeo) (21.3)\n",
            "Collecting antlr4-python3-runtime==4.9.*\n",
            "  Downloading antlr4-python3-runtime-4.9.3.tar.gz (117 kB)\n",
            "\u001b[K     |████████████████████████████████| 117 kB 60.2 MB/s \n",
            "\u001b[?25hCollecting PyYAML>=5.1.0\n",
            "  Downloading PyYAML-6.0-cp37-cp37m-manylinux_2_5_x86_64.manylinux1_x86_64.manylinux_2_12_x86_64.manylinux2010_x86_64.whl (596 kB)\n",
            "\u001b[K     |████████████████████████████████| 596 kB 54.3 MB/s \n",
            "\u001b[?25hCollecting fsspec[http]!=2021.06.0,>=2021.05.0\n",
            "  Downloading fsspec-2022.3.0-py3-none-any.whl (136 kB)\n",
            "\u001b[K     |████████████████████████████████| 136 kB 66.3 MB/s \n",
            "\u001b[?25hCollecting pyDeprecate<0.4.0,>=0.3.1\n",
            "  Downloading pyDeprecate-0.3.2-py3-none-any.whl (10 kB)\n",
            "Requirement already satisfied: tensorboard>=2.2.0 in /usr/local/lib/python3.7/dist-packages (from pytorch-lightning>=1.3->torchgeo) (2.8.0)\n",
            "Requirement already satisfied: tqdm>=4.57.0 in /usr/local/lib/python3.7/dist-packages (from pytorch-lightning>=1.3->torchgeo) (4.64.0)\n",
            "Requirement already satisfied: typing-extensions>=4.0.0 in /usr/local/lib/python3.7/dist-packages (from pytorch-lightning>=1.3->torchgeo) (4.2.0)\n",
            "Requirement already satisfied: requests in /usr/local/lib/python3.7/dist-packages (from fsspec[http]!=2021.06.0,>=2021.05.0->pytorch-lightning>=1.3->torchgeo) (2.23.0)\n",
            "Collecting aiohttp\n",
            "  Downloading aiohttp-3.8.1-cp37-cp37m-manylinux_2_5_x86_64.manylinux1_x86_64.manylinux_2_12_x86_64.manylinux2010_x86_64.whl (1.1 MB)\n",
            "\u001b[K     |████████████████████████████████| 1.1 MB 55.2 MB/s \n",
            "\u001b[?25hRequirement already satisfied: pyparsing!=3.0.5,>=2.0.2 in /usr/local/lib/python3.7/dist-packages (from packaging->kornia>=0.5.11->torchgeo) (3.0.9)\n",
            "Requirement already satisfied: snuggs>=1.4.1 in /usr/local/lib/python3.7/dist-packages (from rasterio>=1.0.16->torchgeo) (1.4.7)\n",
            "Requirement already satisfied: affine in /usr/local/lib/python3.7/dist-packages (from rasterio>=1.0.16->torchgeo) (2.3.1)\n",
            "Requirement already satisfied: threadpoolctl>=2.0.0 in /usr/local/lib/python3.7/dist-packages (from scikit-learn>=0.18->torchgeo) (3.1.0)\n",
            "Requirement already satisfied: joblib>=0.11 in /usr/local/lib/python3.7/dist-packages (from scikit-learn>=0.18->torchgeo) (1.1.0)\n",
            "Requirement already satisfied: scipy>=1.1.0 in /usr/local/lib/python3.7/dist-packages (from scikit-learn>=0.18->torchgeo) (1.4.1)\n",
            "Collecting timm>=0.2.1\n",
            "  Downloading timm-0.4.12-py3-none-any.whl (376 kB)\n",
            "\u001b[K     |████████████████████████████████| 376 kB 67.3 MB/s \n",
            "\u001b[?25hCollecting efficientnet-pytorch==0.6.3\n",
            "  Downloading efficientnet_pytorch-0.6.3.tar.gz (16 kB)\n",
            "Collecting pretrainedmodels==0.7.4\n",
            "  Downloading pretrainedmodels-0.7.4.tar.gz (58 kB)\n",
            "\u001b[K     |████████████████████████████████| 58 kB 6.1 MB/s \n",
            "\u001b[?25hRequirement already satisfied: markdown>=2.6.8 in /usr/local/lib/python3.7/dist-packages (from tensorboard>=2.2.0->pytorch-lightning>=1.3->torchgeo) (3.3.7)\n",
            "Requirement already satisfied: google-auth-oauthlib<0.5,>=0.4.1 in /usr/local/lib/python3.7/dist-packages (from tensorboard>=2.2.0->pytorch-lightning>=1.3->torchgeo) (0.4.6)\n",
            "Requirement already satisfied: tensorboard-data-server<0.7.0,>=0.6.0 in /usr/local/lib/python3.7/dist-packages (from tensorboard>=2.2.0->pytorch-lightning>=1.3->torchgeo) (0.6.1)\n",
            "Requirement already satisfied: tensorboard-plugin-wit>=1.6.0 in /usr/local/lib/python3.7/dist-packages (from tensorboard>=2.2.0->pytorch-lightning>=1.3->torchgeo) (1.8.1)\n",
            "Requirement already satisfied: wheel>=0.26 in /usr/local/lib/python3.7/dist-packages (from tensorboard>=2.2.0->pytorch-lightning>=1.3->torchgeo) (0.37.1)\n",
            "Requirement already satisfied: grpcio>=1.24.3 in /usr/local/lib/python3.7/dist-packages (from tensorboard>=2.2.0->pytorch-lightning>=1.3->torchgeo) (1.46.1)\n",
            "Requirement already satisfied: google-auth<3,>=1.6.3 in /usr/local/lib/python3.7/dist-packages (from tensorboard>=2.2.0->pytorch-lightning>=1.3->torchgeo) (1.35.0)\n",
            "Requirement already satisfied: protobuf>=3.6.0 in /usr/local/lib/python3.7/dist-packages (from tensorboard>=2.2.0->pytorch-lightning>=1.3->torchgeo) (3.17.3)\n",
            "Requirement already satisfied: absl-py>=0.4 in /usr/local/lib/python3.7/dist-packages (from tensorboard>=2.2.0->pytorch-lightning>=1.3->torchgeo) (1.0.0)\n",
            "Requirement already satisfied: werkzeug>=0.11.15 in /usr/local/lib/python3.7/dist-packages (from tensorboard>=2.2.0->pytorch-lightning>=1.3->torchgeo) (1.0.1)\n",
            "Requirement already satisfied: cachetools<5.0,>=2.0.0 in /usr/local/lib/python3.7/dist-packages (from google-auth<3,>=1.6.3->tensorboard>=2.2.0->pytorch-lightning>=1.3->torchgeo) (4.2.4)\n",
            "Requirement already satisfied: pyasn1-modules>=0.2.1 in /usr/local/lib/python3.7/dist-packages (from google-auth<3,>=1.6.3->tensorboard>=2.2.0->pytorch-lightning>=1.3->torchgeo) (0.2.8)\n",
            "Requirement already satisfied: rsa<5,>=3.1.4 in /usr/local/lib/python3.7/dist-packages (from google-auth<3,>=1.6.3->tensorboard>=2.2.0->pytorch-lightning>=1.3->torchgeo) (4.8)\n",
            "Requirement already satisfied: requests-oauthlib>=0.7.0 in /usr/local/lib/python3.7/dist-packages (from google-auth-oauthlib<0.5,>=0.4.1->tensorboard>=2.2.0->pytorch-lightning>=1.3->torchgeo) (1.3.1)\n",
            "Requirement already satisfied: importlib-metadata>=4.4 in /usr/local/lib/python3.7/dist-packages (from markdown>=2.6.8->tensorboard>=2.2.0->pytorch-lightning>=1.3->torchgeo) (4.11.3)\n",
            "Requirement already satisfied: zipp>=0.5 in /usr/local/lib/python3.7/dist-packages (from importlib-metadata>=4.4->markdown>=2.6.8->tensorboard>=2.2.0->pytorch-lightning>=1.3->torchgeo) (3.8.0)\n",
            "Requirement already satisfied: pyasn1<0.5.0,>=0.4.6 in /usr/local/lib/python3.7/dist-packages (from pyasn1-modules>=0.2.1->google-auth<3,>=1.6.3->tensorboard>=2.2.0->pytorch-lightning>=1.3->torchgeo) (0.4.8)\n",
            "Requirement already satisfied: urllib3!=1.25.0,!=1.25.1,<1.26,>=1.21.1 in /usr/local/lib/python3.7/dist-packages (from requests->fsspec[http]!=2021.06.0,>=2021.05.0->pytorch-lightning>=1.3->torchgeo) (1.24.3)\n",
            "Requirement already satisfied: chardet<4,>=3.0.2 in /usr/local/lib/python3.7/dist-packages (from requests->fsspec[http]!=2021.06.0,>=2021.05.0->pytorch-lightning>=1.3->torchgeo) (3.0.4)\n",
            "Requirement already satisfied: idna<3,>=2.5 in /usr/local/lib/python3.7/dist-packages (from requests->fsspec[http]!=2021.06.0,>=2021.05.0->pytorch-lightning>=1.3->torchgeo) (2.10)\n",
            "Requirement already satisfied: oauthlib>=3.0.0 in /usr/local/lib/python3.7/dist-packages (from requests-oauthlib>=0.7.0->google-auth-oauthlib<0.5,>=0.4.1->tensorboard>=2.2.0->pytorch-lightning>=1.3->torchgeo) (3.2.0)\n",
            "Collecting multidict<7.0,>=4.5\n",
            "  Downloading multidict-6.0.2-cp37-cp37m-manylinux_2_17_x86_64.manylinux2014_x86_64.whl (94 kB)\n",
            "\u001b[K     |████████████████████████████████| 94 kB 3.2 MB/s \n",
            "\u001b[?25hCollecting async-timeout<5.0,>=4.0.0a3\n",
            "  Downloading async_timeout-4.0.2-py3-none-any.whl (5.8 kB)\n",
            "Requirement already satisfied: charset-normalizer<3.0,>=2.0 in /usr/local/lib/python3.7/dist-packages (from aiohttp->fsspec[http]!=2021.06.0,>=2021.05.0->pytorch-lightning>=1.3->torchgeo) (2.0.12)\n",
            "Collecting aiosignal>=1.1.2\n",
            "  Downloading aiosignal-1.2.0-py3-none-any.whl (8.2 kB)\n",
            "Collecting asynctest==0.13.0\n",
            "  Downloading asynctest-0.13.0-py3-none-any.whl (26 kB)\n",
            "Collecting frozenlist>=1.1.1\n",
            "  Downloading frozenlist-1.3.0-cp37-cp37m-manylinux_2_5_x86_64.manylinux1_x86_64.manylinux_2_17_x86_64.manylinux2014_x86_64.whl (144 kB)\n",
            "\u001b[K     |████████████████████████████████| 144 kB 56.1 MB/s \n",
            "\u001b[?25hCollecting yarl<2.0,>=1.0\n",
            "  Downloading yarl-1.7.2-cp37-cp37m-manylinux_2_5_x86_64.manylinux1_x86_64.manylinux_2_12_x86_64.manylinux2010_x86_64.whl (271 kB)\n",
            "\u001b[K     |████████████████████████████████| 271 kB 55.1 MB/s \n",
            "\u001b[?25hRequirement already satisfied: kiwisolver>=1.0.1 in /usr/local/lib/python3.7/dist-packages (from matplotlib->torchgeo) (1.4.2)\n",
            "Requirement already satisfied: cycler>=0.10 in /usr/local/lib/python3.7/dist-packages (from matplotlib->torchgeo) (0.11.0)\n",
            "Requirement already satisfied: python-dateutil>=2.1 in /usr/local/lib/python3.7/dist-packages (from matplotlib->torchgeo) (2.8.2)\n",
            "Building wheels for collected packages: antlr4-python3-runtime, efficientnet-pytorch, pretrainedmodels\n",
            "  Building wheel for antlr4-python3-runtime (setup.py) ... \u001b[?25l\u001b[?25hdone\n",
            "  Created wheel for antlr4-python3-runtime: filename=antlr4_python3_runtime-4.9.3-py3-none-any.whl size=144575 sha256=8c3b2dbc4801bcc0ab8c16b0ac6e135d3fbc5280773612b366a8face97c5c9b9\n",
            "  Stored in directory: /root/.cache/pip/wheels/8b/8d/53/2af8772d9aec614e3fc65e53d4a993ad73c61daa8bbd85a873\n",
            "  Building wheel for efficientnet-pytorch (setup.py) ... \u001b[?25l\u001b[?25hdone\n",
            "  Created wheel for efficientnet-pytorch: filename=efficientnet_pytorch-0.6.3-py3-none-any.whl size=12421 sha256=0a25c5665c5e65115e2e1f986f8493808f443c2fba27f35df152bb9751647161\n",
            "  Stored in directory: /root/.cache/pip/wheels/90/6b/0c/f0ad36d00310e65390b0d4c9218ae6250ac579c92540c9097a\n",
            "  Building wheel for pretrainedmodels (setup.py) ... \u001b[?25l\u001b[?25hdone\n",
            "  Created wheel for pretrainedmodels: filename=pretrainedmodels-0.7.4-py3-none-any.whl size=60965 sha256=02d137c6d996d1e687ba6d78cf391da85227b0fafdaa532a0e2b4f9e27a151ee\n",
            "  Stored in directory: /root/.cache/pip/wheels/ed/27/e8/9543d42de2740d3544db96aefef63bda3f2c1761b3334f4873\n",
            "Successfully built antlr4-python3-runtime efficientnet-pytorch pretrainedmodels\n",
            "Installing collected packages: multidict, frozenlist, yarl, asynctest, async-timeout, aiosignal, pyDeprecate, munch, fsspec, aiohttp, torchmetrics, timm, PyYAML, pretrainedmodels, efficientnet-pytorch, antlr4-python3-runtime, segmentation-models-pytorch, rtree, pytorch-lightning, pyproj, omegaconf, kornia, fiona, einops, torchgeo\n",
            "  Attempting uninstall: PyYAML\n",
            "    Found existing installation: PyYAML 3.13\n",
            "    Uninstalling PyYAML-3.13:\n",
            "      Successfully uninstalled PyYAML-3.13\n",
            "Successfully installed PyYAML-6.0 aiohttp-3.8.1 aiosignal-1.2.0 antlr4-python3-runtime-4.9.3 async-timeout-4.0.2 asynctest-0.13.0 efficientnet-pytorch-0.6.3 einops-0.4.1 fiona-1.8.21 frozenlist-1.3.0 fsspec-2022.3.0 kornia-0.6.5 multidict-6.0.2 munch-2.5.0 omegaconf-2.2.1 pretrainedmodels-0.7.4 pyDeprecate-0.3.2 pyproj-3.2.1 pytorch-lightning-1.6.3 rtree-1.0.0 segmentation-models-pytorch-0.2.1 timm-0.4.12 torchgeo-0.2.1 torchmetrics-0.8.2 yarl-1.7.2\n"
          ]
        },
        {
          "output_type": "display_data",
          "data": {
            "application/vnd.colab-display-data+json": {
              "pip_warning": {
                "packages": [
                  "pydevd_plugins"
                ]
              }
            }
          },
          "metadata": {}
        }
      ]
    },
    {
      "cell_type": "code",
      "source": [
        "#local\n",
        "#Loads tiff folders\n",
        "\n",
        "import os\n",
        "folder = '/content/drive/MyDrive/ML/data/dataset/trainset/'\n",
        "#folder = '/Volumes/GoogleDrive/My Drive/ML/data/dataset/trainset'\n",
        "subfolders = []\n",
        "for dirs in os.walk(folder):\n",
        "  subfolders.append(dirs[0])\n",
        "\n",
        "#remove directory\n",
        "subfolders.pop(0)\n",
        "for i in range(0, len(subfolders)):\n",
        "     print(subfolders[i])"
      ],
      "metadata": {
        "colab": {
          "base_uri": "https://localhost:8080/"
        },
        "id": "lW7uV8eIQnL5",
        "outputId": "9ab3fedf-04fb-4227-f888-121da569fdc7"
      },
      "execution_count": 4,
      "outputs": [
        {
          "output_type": "stream",
          "name": "stdout",
          "text": [
            "/content/drive/MyDrive/ML/data/dataset/trainset/AnnualCrop\n",
            "/content/drive/MyDrive/ML/data/dataset/trainset/Forest\n",
            "/content/drive/MyDrive/ML/data/dataset/trainset/HerbaceousVegetation\n",
            "/content/drive/MyDrive/ML/data/dataset/trainset/Highway\n",
            "/content/drive/MyDrive/ML/data/dataset/trainset/Industrial\n",
            "/content/drive/MyDrive/ML/data/dataset/trainset/Pasture\n",
            "/content/drive/MyDrive/ML/data/dataset/trainset/PermanentCrop\n",
            "/content/drive/MyDrive/ML/data/dataset/trainset/Residential\n",
            "/content/drive/MyDrive/ML/data/dataset/trainset/River\n",
            "/content/drive/MyDrive/ML/data/dataset/trainset/SeaLake\n"
          ]
        }
      ]
    },
    {
      "cell_type": "code",
      "source": [
        "#Define paths\n",
        "\n",
        "ROOT_PATH = '/content/drive/MyDrive/ML/'\n",
        "#ROOT_PATH = '/Volumes/GoogleDrive/My Drive/ML'\n",
        "BASE_PATH = os.path.join(ROOT_PATH, 'data')\n",
        "MODEL_PATH = os.path.join(ROOT_PATH, 'model')\n",
        "\n",
        "file_path_train = '/content/drive/MyDrive/ML/data/dataset/train.csv'\n",
        "file_path_test = '/content/drive/MyDrive/ML/data/dataset/test.csv'\n",
        "#file_path_train = '/Volumes/GoogleDrive/My Drive/ML/data/dataset/train.csv'\n",
        "#file_path_test = '/Volumes/GoogleDrive/My Drive/ML/data/dataset/test.csv'\n",
        "data_df_train = pd.read_csv(file_path_train)\n",
        "data_df_test = pd.read_csv(file_path_test)\n",
        "\n",
        "data_df_train.columns = data_df_train.columns.str.replace('path', 'image_id')\n",
        "data_df_train.columns = data_df_train.columns.str.replace('Label', 'label')"
      ],
      "metadata": {
        "id": "fpaSbKiPcl8S"
      },
      "execution_count": 5,
      "outputs": []
    },
    {
      "cell_type": "code",
      "source": [
        "data_df_train.head()"
      ],
      "metadata": {
        "id": "3Gnk5EELSZge",
        "outputId": "dc195024-210b-41c3-810d-b7a052a7e734",
        "colab": {
          "base_uri": "https://localhost:8080/",
          "height": 206
        }
      },
      "execution_count": 6,
      "outputs": [
        {
          "output_type": "execute_result",
          "data": {
            "text/plain": [
              "                         image_id       label\n",
              "0   AnnualCrop/AnnualCrop_135.tif  AnnualCrop\n",
              "1   AnnualCrop/AnnualCrop_692.tif  AnnualCrop\n",
              "2  AnnualCrop/AnnualCrop_2218.tif  AnnualCrop\n",
              "3  AnnualCrop/AnnualCrop_2679.tif  AnnualCrop\n",
              "4   AnnualCrop/AnnualCrop_926.tif  AnnualCrop"
            ],
            "text/html": [
              "\n",
              "  <div id=\"df-0d445c0b-ae77-4c39-9b5c-4e6ff542edd7\">\n",
              "    <div class=\"colab-df-container\">\n",
              "      <div>\n",
              "<style scoped>\n",
              "    .dataframe tbody tr th:only-of-type {\n",
              "        vertical-align: middle;\n",
              "    }\n",
              "\n",
              "    .dataframe tbody tr th {\n",
              "        vertical-align: top;\n",
              "    }\n",
              "\n",
              "    .dataframe thead th {\n",
              "        text-align: right;\n",
              "    }\n",
              "</style>\n",
              "<table border=\"1\" class=\"dataframe\">\n",
              "  <thead>\n",
              "    <tr style=\"text-align: right;\">\n",
              "      <th></th>\n",
              "      <th>image_id</th>\n",
              "      <th>label</th>\n",
              "    </tr>\n",
              "  </thead>\n",
              "  <tbody>\n",
              "    <tr>\n",
              "      <th>0</th>\n",
              "      <td>AnnualCrop/AnnualCrop_135.tif</td>\n",
              "      <td>AnnualCrop</td>\n",
              "    </tr>\n",
              "    <tr>\n",
              "      <th>1</th>\n",
              "      <td>AnnualCrop/AnnualCrop_692.tif</td>\n",
              "      <td>AnnualCrop</td>\n",
              "    </tr>\n",
              "    <tr>\n",
              "      <th>2</th>\n",
              "      <td>AnnualCrop/AnnualCrop_2218.tif</td>\n",
              "      <td>AnnualCrop</td>\n",
              "    </tr>\n",
              "    <tr>\n",
              "      <th>3</th>\n",
              "      <td>AnnualCrop/AnnualCrop_2679.tif</td>\n",
              "      <td>AnnualCrop</td>\n",
              "    </tr>\n",
              "    <tr>\n",
              "      <th>4</th>\n",
              "      <td>AnnualCrop/AnnualCrop_926.tif</td>\n",
              "      <td>AnnualCrop</td>\n",
              "    </tr>\n",
              "  </tbody>\n",
              "</table>\n",
              "</div>\n",
              "      <button class=\"colab-df-convert\" onclick=\"convertToInteractive('df-0d445c0b-ae77-4c39-9b5c-4e6ff542edd7')\"\n",
              "              title=\"Convert this dataframe to an interactive table.\"\n",
              "              style=\"display:none;\">\n",
              "        \n",
              "  <svg xmlns=\"http://www.w3.org/2000/svg\" height=\"24px\"viewBox=\"0 0 24 24\"\n",
              "       width=\"24px\">\n",
              "    <path d=\"M0 0h24v24H0V0z\" fill=\"none\"/>\n",
              "    <path d=\"M18.56 5.44l.94 2.06.94-2.06 2.06-.94-2.06-.94-.94-2.06-.94 2.06-2.06.94zm-11 1L8.5 8.5l.94-2.06 2.06-.94-2.06-.94L8.5 2.5l-.94 2.06-2.06.94zm10 10l.94 2.06.94-2.06 2.06-.94-2.06-.94-.94-2.06-.94 2.06-2.06.94z\"/><path d=\"M17.41 7.96l-1.37-1.37c-.4-.4-.92-.59-1.43-.59-.52 0-1.04.2-1.43.59L10.3 9.45l-7.72 7.72c-.78.78-.78 2.05 0 2.83L4 21.41c.39.39.9.59 1.41.59.51 0 1.02-.2 1.41-.59l7.78-7.78 2.81-2.81c.8-.78.8-2.07 0-2.86zM5.41 20L4 18.59l7.72-7.72 1.47 1.35L5.41 20z\"/>\n",
              "  </svg>\n",
              "      </button>\n",
              "      \n",
              "  <style>\n",
              "    .colab-df-container {\n",
              "      display:flex;\n",
              "      flex-wrap:wrap;\n",
              "      gap: 12px;\n",
              "    }\n",
              "\n",
              "    .colab-df-convert {\n",
              "      background-color: #E8F0FE;\n",
              "      border: none;\n",
              "      border-radius: 50%;\n",
              "      cursor: pointer;\n",
              "      display: none;\n",
              "      fill: #1967D2;\n",
              "      height: 32px;\n",
              "      padding: 0 0 0 0;\n",
              "      width: 32px;\n",
              "    }\n",
              "\n",
              "    .colab-df-convert:hover {\n",
              "      background-color: #E2EBFA;\n",
              "      box-shadow: 0px 1px 2px rgba(60, 64, 67, 0.3), 0px 1px 3px 1px rgba(60, 64, 67, 0.15);\n",
              "      fill: #174EA6;\n",
              "    }\n",
              "\n",
              "    [theme=dark] .colab-df-convert {\n",
              "      background-color: #3B4455;\n",
              "      fill: #D2E3FC;\n",
              "    }\n",
              "\n",
              "    [theme=dark] .colab-df-convert:hover {\n",
              "      background-color: #434B5C;\n",
              "      box-shadow: 0px 1px 3px 1px rgba(0, 0, 0, 0.15);\n",
              "      filter: drop-shadow(0px 1px 2px rgba(0, 0, 0, 0.3));\n",
              "      fill: #FFFFFF;\n",
              "    }\n",
              "  </style>\n",
              "\n",
              "      <script>\n",
              "        const buttonEl =\n",
              "          document.querySelector('#df-0d445c0b-ae77-4c39-9b5c-4e6ff542edd7 button.colab-df-convert');\n",
              "        buttonEl.style.display =\n",
              "          google.colab.kernel.accessAllowed ? 'block' : 'none';\n",
              "\n",
              "        async function convertToInteractive(key) {\n",
              "          const element = document.querySelector('#df-0d445c0b-ae77-4c39-9b5c-4e6ff542edd7');\n",
              "          const dataTable =\n",
              "            await google.colab.kernel.invokeFunction('convertToInteractive',\n",
              "                                                     [key], {});\n",
              "          if (!dataTable) return;\n",
              "\n",
              "          const docLinkHtml = 'Like what you see? Visit the ' +\n",
              "            '<a target=\"_blank\" href=https://colab.research.google.com/notebooks/data_table.ipynb>data table notebook</a>'\n",
              "            + ' to learn more about interactive tables.';\n",
              "          element.innerHTML = '';\n",
              "          dataTable['output_type'] = 'display_data';\n",
              "          await google.colab.output.renderOutput(dataTable, element);\n",
              "          const docLink = document.createElement('div');\n",
              "          docLink.innerHTML = docLinkHtml;\n",
              "          element.appendChild(docLink);\n",
              "        }\n",
              "      </script>\n",
              "    </div>\n",
              "  </div>\n",
              "  "
            ]
          },
          "metadata": {},
          "execution_count": 6
        }
      ]
    },
    {
      "cell_type": "code",
      "source": [
        "type(data_df_train)"
      ],
      "metadata": {
        "id": "aP0VLc9UVhv_",
        "outputId": "eb7ac3a1-5e31-411c-a0c3-7fec1be9ebf5",
        "colab": {
          "base_uri": "https://localhost:8080/"
        }
      },
      "execution_count": 7,
      "outputs": [
        {
          "output_type": "execute_result",
          "data": {
            "text/plain": [
              "pandas.core.frame.DataFrame"
            ]
          },
          "metadata": {},
          "execution_count": 7
        }
      ]
    },
    {
      "cell_type": "code",
      "source": [
        "#Init deterministic seed\n",
        "seed_value = 1234\n",
        "np.random.seed(seed_value) # set numpy seed\n",
        "torch.manual_seed(seed_value) # set pytorch seed CPU"
      ],
      "metadata": {
        "colab": {
          "base_uri": "https://localhost:8080/"
        },
        "id": "0X0M4kJD4s8c",
        "outputId": "62c4a242-80d7-4c61-97f8-2d6e5971e56e"
      },
      "execution_count": 8,
      "outputs": [
        {
          "output_type": "execute_result",
          "data": {
            "text/plain": [
              "<torch._C.Generator at 0x7f9c8153b9d0>"
            ]
          },
          "metadata": {},
          "execution_count": 8
        }
      ]
    },
    {
      "cell_type": "code",
      "source": [
        "#Classes and labels\n",
        "\n",
        "IDX_CLASS_LABELS = {\n",
        "    0: 'AnnualCrop',\n",
        "    1: 'Forest', \n",
        "    2: 'HerbaceousVegetation',\n",
        "    3: 'Highway',\n",
        "    4: 'Industrial',\n",
        "    5: 'Pasture',\n",
        "    6: 'PermanentCrop',\n",
        "    7: 'Residential',\n",
        "    8: 'River',\n",
        "    9: 'SeaLake'\n",
        "}\n",
        "\n",
        "CLASSES = ['AnnualCrop', 'Forest', 'HerbaceousVegetation', 'Highway', 'Industrial', 'Pasture','PermanentCrop','Residential','River', 'SeaLake']\n",
        "CLASS_IDX_LABELS = dict()\n",
        "for key, val in IDX_CLASS_LABELS.items():\n",
        "  CLASS_IDX_LABELS[val] = key\n",
        "\n",
        "NUM_CLASSES = len(IDX_CLASS_LABELS.items())\n",
        "torch.manual_seed(10)\n",
        "VALID_SIZE = 0.1"
      ],
      "metadata": {
        "id": "DaeA0JLat19y"
      },
      "execution_count": 9,
      "outputs": []
    },
    {
      "cell_type": "code",
      "source": [
        "#Encoder and decoder\n",
        "\n",
        "## Give idx of each class name\n",
        "def encode_label(label):\n",
        "    idx = CLASS_IDX_LABELS[label] \n",
        "    return idx\n",
        "\n",
        "## Take in idx and return the class name\n",
        "def decode_target(target, text_labels=True):\n",
        "    result = []\n",
        "    if text_labels:\n",
        "        return IDX_CLASS_LABELS[target]\n",
        "    else:\n",
        "        return target"
      ],
      "metadata": {
        "id": "mVknVp6zt97o"
      },
      "execution_count": 10,
      "outputs": []
    },
    {
      "cell_type": "code",
      "source": [
        "#Open tiff files with rasterio and safe to dictionary\n",
        "\n",
        "'''import os\n",
        "\n",
        "data = {}\n",
        "\n",
        "for i in range(len(subfolders)):\n",
        "\n",
        "  txtfiles = []\n",
        "\n",
        "  # traverse whole directory\n",
        "  for root, dirs, files in os.walk(subfolders[i]):\n",
        "    # select file name\n",
        "    for file in files:\n",
        "        # check the extension of files\n",
        "        if file.endswith('.tif'):\n",
        "            txtfiles.append(os.path.join(root, file))\n",
        "\n",
        "  code = subfolders[i].split('/')[8]\n",
        "  index = encode_label(code)\n",
        "  arr = np.zeros([len(txtfiles), 64, 64, 13], dtype=\"float32\")\n",
        "\n",
        "  print(code)\n",
        "  print(index)\n",
        "\n",
        "  i = 0\n",
        "  for pic in txtfiles:\n",
        "    with rasterio.open(pic, \"r\") as img:\n",
        "      arr[i] = np.moveaxis(img.read(), 0, 2)\n",
        "      i += 1\n",
        "      \n",
        "  data[index] = arr'''"
      ],
      "metadata": {
        "id": "yYQNn_5JN_4b",
        "outputId": "a6a737fe-2a6c-411b-cdbb-15b99ee5b061",
        "colab": {
          "base_uri": "https://localhost:8080/",
          "height": 160
        }
      },
      "execution_count": 11,
      "outputs": [
        {
          "output_type": "execute_result",
          "data": {
            "text/plain": [
              "'import os\\n\\ndata = {}\\n\\nfor i in range(len(subfolders)):\\n\\n  txtfiles = []\\n\\n  # traverse whole directory\\n  for root, dirs, files in os.walk(subfolders[i]):\\n    # select file name\\n    for file in files:\\n        # check the extension of files\\n        if file.endswith(\\'.tif\\'):\\n            txtfiles.append(os.path.join(root, file))\\n\\n  code = subfolders[i].split(\\'/\\')[8]\\n  index = encode_label(code)\\n  arr = np.zeros([len(txtfiles), 64, 64, 13], dtype=\"float32\")\\n\\n  print(code)\\n  print(index)\\n\\n  i = 0\\n  for pic in txtfiles:\\n    with rasterio.open(pic, \"r\") as img:\\n      arr[i] = np.moveaxis(img.read(), 0, 2)\\n      i += 1\\n      \\n  data[index] = arr'"
            ],
            "application/vnd.google.colaboratory.intrinsic+json": {
              "type": "string"
            }
          },
          "metadata": {},
          "execution_count": 11
        }
      ]
    },
    {
      "cell_type": "code",
      "source": [
        "#Save the files as .npy\n",
        "\n",
        "'''for i in range(len(data)):\n",
        "  keys_list = list(data)\n",
        "  key = keys_list[i]\n",
        "  np.save('/content/drive/MyDrive/ML/data/dataset/trainset/'+f'data_class{key}.npy', data[i], allow_pickle=True, fix_imports=True)'''"
      ],
      "metadata": {
        "id": "4URBlEq4FxTb",
        "outputId": "d9ebc2f7-ef68-44fc-da83-9270c59cedab",
        "colab": {
          "base_uri": "https://localhost:8080/",
          "height": 71
        }
      },
      "execution_count": 12,
      "outputs": [
        {
          "output_type": "execute_result",
          "data": {
            "text/plain": [
              "\"for i in range(len(data)):\\n  keys_list = list(data)\\n  key = keys_list[i]\\n  np.save('/content/drive/MyDrive/ML/data/dataset/trainset/'+f'data_class{key}.npy', data[i], allow_pickle=True, fix_imports=True)\""
            ],
            "application/vnd.google.colaboratory.intrinsic+json": {
              "type": "string"
            }
          },
          "metadata": {},
          "execution_count": 12
        }
      ]
    },
    {
      "cell_type": "code",
      "source": [
        "#Reload the .npy files\n",
        "\n",
        "import os\n",
        "path = '/content/drive/MyDrive/ML/data/dataset/trainset/'\n",
        "#path = '/Volumes/GoogleDrive/My Drive/ML/data/dataset/trainset'\n",
        "npyfiles = []\n",
        "data = {}\n",
        "\n",
        "for root, dirs, files in os.walk(path):\n",
        "    # check the extension of files\n",
        "    for file in files:\n",
        "        # check the extension of files\n",
        "        if file.endswith('.npy'):\n",
        "            npyfiles.append(os.path.join(root, file))\n",
        "\n",
        "for i in tqdm(range(len(npyfiles))):\n",
        "  path = npyfiles[i]\n",
        "  arr = np.load(path)\n",
        "  index = path.split('/')[8].split('_')[1][5]\n",
        "  index = int(index)\n",
        "  data[index] = arr"
      ],
      "metadata": {
        "id": "00a4BPE2XASQ",
        "colab": {
          "base_uri": "https://localhost:8080/"
        },
        "outputId": "3ff65773-59b4-4fe1-e03e-2c8972162428"
      },
      "execution_count": 13,
      "outputs": [
        {
          "output_type": "stream",
          "name": "stderr",
          "text": [
            "100%|██████████| 10/10 [00:46<00:00,  4.61s/it]\n"
          ]
        }
      ]
    },
    {
      "cell_type": "code",
      "source": [
        "from pathlib import Path\n",
        "class EuroSAT(Dataset):\n",
        "    def __init__(self, train_df, train_dir, transform=None):\n",
        "        self.train_dir = train_dir\n",
        "        self.train_df = train_df\n",
        "        self.transform = transform\n",
        "\n",
        "    def __len__(self):\n",
        "        return len(self.train_df)\n",
        "    \n",
        "    def __getitem__(self, idx):\n",
        "        row = self.train_df.loc[idx]\n",
        "        img_id, label = row['image_id'], row['label']\n",
        "        img_id = int(img_id.split('.')[0].split('_')[1])\n",
        "        label_encode = int(encode_label(label))\n",
        "        id = img_id - 1\n",
        "        img = data[label_encode][id]\n",
        "        img_rgb = img[:, :, [3,2,1]]\n",
        "        if self.transform:\n",
        "            img_rgb = self.transform(img_rgb)\n",
        "        return img_rgb, encode_label(label)"
      ],
      "metadata": {
        "id": "4W80rR8ftkNT"
      },
      "execution_count": 14,
      "outputs": []
    },
    {
      "cell_type": "code",
      "source": [
        "transform_normalisation = transforms.Compose([\n",
        "    transforms.ToTensor(),           \n",
        "    transforms.ConvertImageDtype(torch.float),\n",
        "])"
      ],
      "metadata": {
        "id": "HYhiPgt3mLam"
      },
      "execution_count": 15,
      "outputs": []
    },
    {
      "cell_type": "code",
      "source": [
        "train_ds = EuroSAT(data_df_train, BASE_PATH, transform_normalisation)\n",
        "print(len(train_ds))"
      ],
      "metadata": {
        "colab": {
          "base_uri": "https://localhost:8080/"
        },
        "id": "Zl4i2ra6mVGD",
        "outputId": "2602bf6f-630f-4942-de0d-3ef1dfba3f55"
      },
      "execution_count": 16,
      "outputs": [
        {
          "output_type": "stream",
          "name": "stdout",
          "text": [
            "27000\n"
          ]
        }
      ]
    },
    {
      "cell_type": "code",
      "source": [
        "normalisation_dl = DataLoader(train_ds, batch_size=len(train_ds))"
      ],
      "metadata": {
        "id": "SOsBdx_QM8-P"
      },
      "execution_count": 17,
      "outputs": []
    },
    {
      "cell_type": "code",
      "source": [
        "def get_mean_and_std(dataloader):\n",
        "    channels_sum, channels_squared_sum, num_batches = 0, 0, 0\n",
        "    for data, _ in dataloader:\n",
        "        # Mean over batch, height and width, but not over the channels\n",
        "        channels_sum += torch.mean(data, dim=[0,2,3])\n",
        "        channels_squared_sum += torch.mean(data**2, dim=[0,2,3])\n",
        "        num_batches += 1\n",
        "    \n",
        "    mean = channels_sum / num_batches\n",
        "\n",
        "    # std = sqrt(E[X^2] - (E[X])^2)\n",
        "    std = (channels_squared_sum / num_batches - mean ** 2) ** 0.5\n",
        "\n",
        "    return mean, std"
      ],
      "metadata": {
        "id": "JzMihhIOM8Ko"
      },
      "execution_count": 18,
      "outputs": []
    },
    {
      "cell_type": "code",
      "source": [
        "mean, std = get_mean_and_std(normalisation_dl)"
      ],
      "metadata": {
        "id": "N0S80uYrNNFL"
      },
      "execution_count": 19,
      "outputs": []
    },
    {
      "cell_type": "code",
      "source": [
        "print(mean)\n",
        "print(std)"
      ],
      "metadata": {
        "colab": {
          "base_uri": "https://localhost:8080/"
        },
        "id": "47CQX0H5j93p",
        "outputId": "b01e08cf-f6c3-4143-f3c1-77ac9a7ef2f5"
      },
      "execution_count": 20,
      "outputs": [
        {
          "output_type": "stream",
          "name": "stdout",
          "text": [
            "tensor([ 946.5516, 1041.8866, 1117.2065])\n",
            "tensor([594.4782, 395.2131, 333.4205])\n"
          ]
        }
      ]
    },
    {
      "cell_type": "code",
      "source": [
        "train_transform = transforms.Compose([\n",
        "    transforms.ToTensor(),\n",
        "    transforms.Resize(224),              \n",
        "    #transforms.ConvertImageDtype(torch.float),\n",
        "    #transforms.RandomHorizontalFlip(p=0.5),\n",
        "    #transforms.RandomVerticalFlip(p=0.5),\n",
        "    #transforms.GaussianBlur(kernel_size=(5, 9), sigma=(0.1, 5)),\n",
        "    #transforms.RandomRotation(degrees=(30, 70)),\n",
        "    transforms.Normalize(\n",
        "        mean=[946.5544, 1041.8865, 1117.2018],\n",
        "        std=[594.4802, 395.2151, 333.4477]\n",
        "    )\n",
        "])"
      ],
      "metadata": {
        "id": "auDy-Wjd4TG8"
      },
      "execution_count": 21,
      "outputs": []
    },
    {
      "cell_type": "code",
      "source": [
        "test_transform = transforms.Compose([\n",
        "    transforms.ToTensor(),\n",
        "    transforms.Resize(224),              \n",
        "    #transforms.ConvertImageDtype(torch.float),\n",
        "    #transforms.RandomHorizontalFlip(p=0.5),\n",
        "    #transforms.RandomVerticalFlip(p=0.5),\n",
        "    #transforms.GaussianBlur(kernel_size=(5, 9), sigma=(0.1, 5)),\n",
        "    #transforms.RandomRotation(degrees=(30, 70)),\n",
        "    transforms.Normalize(\n",
        "        mean=[946.5544, 1041.8865, 1117.2018],\n",
        "        std=[594.4802, 395.2151, 333.4477]\n",
        "    )\n",
        "])"
      ],
      "metadata": {
        "id": "D9dXbCj-0snW"
      },
      "execution_count": 22,
      "outputs": []
    },
    {
      "cell_type": "code",
      "source": [
        "train_ds = EuroSAT(data_df_train, BASE_PATH, train_transform)\n",
        "print(len(train_ds))"
      ],
      "metadata": {
        "id": "IV4SNvidsIjC",
        "outputId": "7dfc860b-678a-4a85-bd1f-b393ed6dbf48",
        "colab": {
          "base_uri": "https://localhost:8080/"
        }
      },
      "execution_count": 23,
      "outputs": [
        {
          "output_type": "stream",
          "name": "stdout",
          "text": [
            "27000\n"
          ]
        }
      ]
    },
    {
      "cell_type": "code",
      "source": [
        "train_size = int(0.8 * len(data_df_train))\n",
        "test_size = len(data_df_train) - train_size\n",
        "train_ds, validation_ds = torch.utils.data.random_split(train_ds, [train_size, test_size], generator=torch.Generator().manual_seed(seed_value))"
      ],
      "metadata": {
        "id": "IHsbGl4uwyz5"
      },
      "execution_count": 24,
      "outputs": []
    },
    {
      "cell_type": "code",
      "source": [
        "validation_ds.dataset.transform = test_transform"
      ],
      "metadata": {
        "id": "BK-rvgCq0A2Z"
      },
      "execution_count": 25,
      "outputs": []
    },
    {
      "cell_type": "code",
      "source": [
        "train_ds[0]"
      ],
      "metadata": {
        "id": "aVe3HRAJTp5e",
        "colab": {
          "base_uri": "https://localhost:8080/"
        },
        "outputId": "ccccf37c-8d69-44c4-a64c-37cadd847499"
      },
      "execution_count": 26,
      "outputs": [
        {
          "output_type": "execute_result",
          "data": {
            "text/plain": [
              "(tensor([[[-0.5274, -0.5274, -0.5274,  ..., -0.2136, -0.2028, -0.2028],\n",
              "          [-0.5274, -0.5274, -0.5274,  ..., -0.2136, -0.2028, -0.2028],\n",
              "          [-0.5274, -0.5274, -0.5274,  ..., -0.2136, -0.2028, -0.2028],\n",
              "          ...,\n",
              "          [-0.7496, -0.7496, -0.7496,  ..., -0.8201, -0.8259, -0.8259],\n",
              "          [-0.7428, -0.7428, -0.7428,  ..., -0.8230, -0.8302, -0.8302],\n",
              "          [-0.7428, -0.7428, -0.7428,  ..., -0.8230, -0.8302, -0.8302]],\n",
              " \n",
              "         [[-0.2123, -0.2123, -0.2123,  ..., -0.2639, -0.2553, -0.2553],\n",
              "          [-0.2123, -0.2123, -0.2123,  ..., -0.2639, -0.2553, -0.2553],\n",
              "          [-0.2123, -0.2123, -0.2123,  ..., -0.2639, -0.2553, -0.2553],\n",
              "          ...,\n",
              "          [-0.3643, -0.3643, -0.3643,  ..., -0.4018, -0.4112, -0.4112],\n",
              "          [-0.3691, -0.3691, -0.3691,  ..., -0.3977, -0.4096, -0.4096],\n",
              "          [-0.3691, -0.3691, -0.3691,  ..., -0.3977, -0.4096, -0.4096]],\n",
              " \n",
              "         [[-0.5434, -0.5434, -0.5434,  ..., -0.3815, -0.3725, -0.3725],\n",
              "          [-0.5434, -0.5434, -0.5434,  ..., -0.3815, -0.3725, -0.3725],\n",
              "          [-0.5434, -0.5434, -0.5434,  ..., -0.3815, -0.3725, -0.3725],\n",
              "          ...,\n",
              "          [-0.6824, -0.6824, -0.6824,  ..., -0.7754, -0.7874, -0.7874],\n",
              "          [-0.6754, -0.6754, -0.6754,  ..., -0.7758, -0.7893, -0.7893],\n",
              "          [-0.6754, -0.6754, -0.6754,  ..., -0.7758, -0.7893, -0.7893]]]), 5)"
            ]
          },
          "metadata": {},
          "execution_count": 26
        }
      ]
    },
    {
      "cell_type": "code",
      "source": [
        "print(len(train_ds))\n",
        "print(len(validation_ds))"
      ],
      "metadata": {
        "id": "2kp8X_kyQ9yZ",
        "outputId": "20cfecef-c344-4fe3-a7c8-02f2c811e275",
        "colab": {
          "base_uri": "https://localhost:8080/"
        }
      },
      "execution_count": 27,
      "outputs": [
        {
          "output_type": "stream",
          "name": "stdout",
          "text": [
            "21600\n",
            "5400\n"
          ]
        }
      ]
    },
    {
      "cell_type": "code",
      "source": [
        "model = torchgeo.models.resnet50(\"sentinel2\",\"all\",pretrained=True)"
      ],
      "metadata": {
        "id": "Q4mDqGRGBM_R",
        "colab": {
          "base_uri": "https://localhost:8080/",
          "height": 87,
          "referenced_widgets": [
            "e5373626fd004f2a90e83387a5dab773",
            "c8c75f4adb0c4d38944bb9565486d98f",
            "c395a866b636453f8801b99577eada86",
            "1e695d748ce54111a7e8ce9ba1453c85",
            "a430e1c5ca5148239c239ee6fc6b8fa8",
            "51a5b27c88fa467ca21104b488fd9953",
            "41f35b50f9fe4f6c8bf20e15d80ec4ba",
            "e38c372816754d71813b4a84c866c961",
            "4eaf408b624943cbb4dd1048c65ed4da",
            "4bc825d9d41c415d918c521cfd254861",
            "529612c3624c482ba8b35d4e752090aa"
          ]
        },
        "outputId": "f6e2df79-402e-475a-8acf-80d855005076"
      },
      "execution_count": 28,
      "outputs": [
        {
          "output_type": "stream",
          "name": "stderr",
          "text": [
            "Downloading: \"https://zenodo.org/record/5610000/files/resnet50-sentinel2.pt\" to /root/.cache/torch/hub/checkpoints/resnet50-sentinel2.pt\n"
          ]
        },
        {
          "output_type": "display_data",
          "data": {
            "text/plain": [
              "  0%|          | 0.00/90.2M [00:00<?, ?B/s]"
            ],
            "application/vnd.jupyter.widget-view+json": {
              "version_major": 2,
              "version_minor": 0,
              "model_id": "e5373626fd004f2a90e83387a5dab773"
            }
          },
          "metadata": {}
        }
      ]
    },
    {
      "cell_type": "markdown",
      "source": [
        "Model"
      ],
      "metadata": {
        "id": "gAyeRny_03IA"
      }
    },
    {
      "cell_type": "code",
      "source": [
        "model"
      ],
      "metadata": {
        "id": "kN92pGriBb0w"
      },
      "execution_count": null,
      "outputs": []
    },
    {
      "cell_type": "code",
      "source": [
        "pretrainedBool = True\n",
        "if pretrainedBool:\n",
        "    for param in model.parameters():\n",
        "        param.requires_grad = False\n",
        "model.conv1 = nn.Conv2d(3, 64, kernel_size=(7, 7), stride=(1, 1), padding=(2, 2), bias=False)\n",
        "model.fc = nn.Sequential(\n",
        "                      nn.Linear(2048, 256),\n",
        "                      nn.ReLU(),\n",
        "                      nn.Dropout(0.2),\n",
        "                      nn.Linear(256, NUM_CLASSES),\n",
        "                      nn.LogSoftmax(dim=1)\n",
        "                        )"
      ],
      "metadata": {
        "id": "3AK_cwtFb3hg"
      },
      "execution_count": 30,
      "outputs": []
    },
    {
      "cell_type": "code",
      "source": [
        "# set cpu or gpu enabled device\n",
        "device = torch.device('cuda' if torch.cuda.is_available() else 'cpu').type\n",
        "\n",
        "# init deterministic GPU seed\n",
        "torch.cuda.manual_seed(seed_value)\n",
        "\n",
        "# log type of device enabled\n",
        "print('[LOG] notebook with {} computation enabled'.format(str(device)))"
      ],
      "metadata": {
        "colab": {
          "base_uri": "https://localhost:8080/"
        },
        "id": "WquDuPH24v5m",
        "outputId": "4bf510fd-5496-4fe1-d0dd-470f3bf79129"
      },
      "execution_count": 31,
      "outputs": [
        {
          "output_type": "stream",
          "name": "stdout",
          "text": [
            "[LOG] notebook with cuda computation enabled\n"
          ]
        }
      ]
    },
    {
      "cell_type": "code",
      "source": [
        "model = model.to(device)"
      ],
      "metadata": {
        "id": "WX5qPa-V4b2p"
      },
      "execution_count": 32,
      "outputs": []
    },
    {
      "cell_type": "code",
      "source": [
        "# define the optimization criterion / loss function\n",
        "ce_loss = nn.CrossEntropyLoss()"
      ],
      "metadata": {
        "id": "JGudJ__B4fIk"
      },
      "execution_count": 33,
      "outputs": []
    },
    {
      "cell_type": "code",
      "source": [
        "ce_loss = ce_loss.to(device)"
      ],
      "metadata": {
        "id": "ft3U8mHQ5LtQ"
      },
      "execution_count": 34,
      "outputs": []
    },
    {
      "cell_type": "code",
      "source": [
        "config={\n",
        "\"epochs\": 20,\n",
        "\"mini_batch_size\": 32,\n",
        "\"learning_rate\": 0.001,\n",
        "\"opt_func\": torch.optim.Adam,\n",
        "\"milestones\": [4,7,9],\n",
        "\"weight_decay\": 0,\n",
        "\"description\": \"resnet_geo_224\"\n",
        "}"
      ],
      "metadata": {
        "id": "Pa_SQXdBZE7r"
      },
      "execution_count": 35,
      "outputs": []
    },
    {
      "cell_type": "code",
      "source": [
        "train_dl = DataLoader(train_ds, batch_size=config.get(\"mini_batch_size\"), shuffle=True)"
      ],
      "metadata": {
        "id": "TqkavzzM5Snd"
      },
      "execution_count": 36,
      "outputs": []
    },
    {
      "cell_type": "code",
      "source": [
        "#Empty cache\n",
        "torch.cuda.empty_cache()"
      ],
      "metadata": {
        "id": "r8ZwRQRQ-5Lg"
      },
      "execution_count": 37,
      "outputs": []
    },
    {
      "cell_type": "code",
      "source": [
        "!pip install wandb\n",
        "!wandb login\n",
        "import wandb\n",
        "#Key: 9da448bfaa162b572403e1551114a17058f249d0"
      ],
      "metadata": {
        "id": "nI187d1qZcX2",
        "colab": {
          "base_uri": "https://localhost:8080/"
        },
        "outputId": "b319ea6a-ae1a-4622-c03d-e271a6124ffa"
      },
      "execution_count": 38,
      "outputs": [
        {
          "output_type": "stream",
          "name": "stdout",
          "text": [
            "Collecting wandb\n",
            "  Downloading wandb-0.12.16-py2.py3-none-any.whl (1.8 MB)\n",
            "\u001b[?25l\r\u001b[K     |▏                               | 10 kB 34.7 MB/s eta 0:00:01\r\u001b[K     |▍                               | 20 kB 21.2 MB/s eta 0:00:01\r\u001b[K     |▌                               | 30 kB 16.5 MB/s eta 0:00:01\r\u001b[K     |▊                               | 40 kB 14.9 MB/s eta 0:00:01\r\u001b[K     |█                               | 51 kB 7.3 MB/s eta 0:00:01\r\u001b[K     |█                               | 61 kB 8.6 MB/s eta 0:00:01\r\u001b[K     |█▎                              | 71 kB 7.7 MB/s eta 0:00:01\r\u001b[K     |█▌                              | 81 kB 8.6 MB/s eta 0:00:01\r\u001b[K     |█▋                              | 92 kB 9.5 MB/s eta 0:00:01\r\u001b[K     |█▉                              | 102 kB 8.0 MB/s eta 0:00:01\r\u001b[K     |██                              | 112 kB 8.0 MB/s eta 0:00:01\r\u001b[K     |██▏                             | 122 kB 8.0 MB/s eta 0:00:01\r\u001b[K     |██▍                             | 133 kB 8.0 MB/s eta 0:00:01\r\u001b[K     |██▋                             | 143 kB 8.0 MB/s eta 0:00:01\r\u001b[K     |██▊                             | 153 kB 8.0 MB/s eta 0:00:01\r\u001b[K     |███                             | 163 kB 8.0 MB/s eta 0:00:01\r\u001b[K     |███▏                            | 174 kB 8.0 MB/s eta 0:00:01\r\u001b[K     |███▎                            | 184 kB 8.0 MB/s eta 0:00:01\r\u001b[K     |███▌                            | 194 kB 8.0 MB/s eta 0:00:01\r\u001b[K     |███▋                            | 204 kB 8.0 MB/s eta 0:00:01\r\u001b[K     |███▉                            | 215 kB 8.0 MB/s eta 0:00:01\r\u001b[K     |████                            | 225 kB 8.0 MB/s eta 0:00:01\r\u001b[K     |████▏                           | 235 kB 8.0 MB/s eta 0:00:01\r\u001b[K     |████▍                           | 245 kB 8.0 MB/s eta 0:00:01\r\u001b[K     |████▋                           | 256 kB 8.0 MB/s eta 0:00:01\r\u001b[K     |████▊                           | 266 kB 8.0 MB/s eta 0:00:01\r\u001b[K     |█████                           | 276 kB 8.0 MB/s eta 0:00:01\r\u001b[K     |█████▏                          | 286 kB 8.0 MB/s eta 0:00:01\r\u001b[K     |█████▎                          | 296 kB 8.0 MB/s eta 0:00:01\r\u001b[K     |█████▌                          | 307 kB 8.0 MB/s eta 0:00:01\r\u001b[K     |█████▊                          | 317 kB 8.0 MB/s eta 0:00:01\r\u001b[K     |█████▉                          | 327 kB 8.0 MB/s eta 0:00:01\r\u001b[K     |██████                          | 337 kB 8.0 MB/s eta 0:00:01\r\u001b[K     |██████▎                         | 348 kB 8.0 MB/s eta 0:00:01\r\u001b[K     |██████▍                         | 358 kB 8.0 MB/s eta 0:00:01\r\u001b[K     |██████▋                         | 368 kB 8.0 MB/s eta 0:00:01\r\u001b[K     |██████▉                         | 378 kB 8.0 MB/s eta 0:00:01\r\u001b[K     |███████                         | 389 kB 8.0 MB/s eta 0:00:01\r\u001b[K     |███████▏                        | 399 kB 8.0 MB/s eta 0:00:01\r\u001b[K     |███████▎                        | 409 kB 8.0 MB/s eta 0:00:01\r\u001b[K     |███████▌                        | 419 kB 8.0 MB/s eta 0:00:01\r\u001b[K     |███████▊                        | 430 kB 8.0 MB/s eta 0:00:01\r\u001b[K     |███████▉                        | 440 kB 8.0 MB/s eta 0:00:01\r\u001b[K     |████████                        | 450 kB 8.0 MB/s eta 0:00:01\r\u001b[K     |████████▎                       | 460 kB 8.0 MB/s eta 0:00:01\r\u001b[K     |████████▍                       | 471 kB 8.0 MB/s eta 0:00:01\r\u001b[K     |████████▋                       | 481 kB 8.0 MB/s eta 0:00:01\r\u001b[K     |████████▉                       | 491 kB 8.0 MB/s eta 0:00:01\r\u001b[K     |█████████                       | 501 kB 8.0 MB/s eta 0:00:01\r\u001b[K     |█████████▏                      | 512 kB 8.0 MB/s eta 0:00:01\r\u001b[K     |█████████▍                      | 522 kB 8.0 MB/s eta 0:00:01\r\u001b[K     |█████████▌                      | 532 kB 8.0 MB/s eta 0:00:01\r\u001b[K     |█████████▊                      | 542 kB 8.0 MB/s eta 0:00:01\r\u001b[K     |██████████                      | 552 kB 8.0 MB/s eta 0:00:01\r\u001b[K     |██████████                      | 563 kB 8.0 MB/s eta 0:00:01\r\u001b[K     |██████████▎                     | 573 kB 8.0 MB/s eta 0:00:01\r\u001b[K     |██████████▌                     | 583 kB 8.0 MB/s eta 0:00:01\r\u001b[K     |██████████▋                     | 593 kB 8.0 MB/s eta 0:00:01\r\u001b[K     |██████████▉                     | 604 kB 8.0 MB/s eta 0:00:01\r\u001b[K     |███████████                     | 614 kB 8.0 MB/s eta 0:00:01\r\u001b[K     |███████████▏                    | 624 kB 8.0 MB/s eta 0:00:01\r\u001b[K     |███████████▍                    | 634 kB 8.0 MB/s eta 0:00:01\r\u001b[K     |███████████▌                    | 645 kB 8.0 MB/s eta 0:00:01\r\u001b[K     |███████████▊                    | 655 kB 8.0 MB/s eta 0:00:01\r\u001b[K     |████████████                    | 665 kB 8.0 MB/s eta 0:00:01\r\u001b[K     |████████████                    | 675 kB 8.0 MB/s eta 0:00:01\r\u001b[K     |████████████▎                   | 686 kB 8.0 MB/s eta 0:00:01\r\u001b[K     |████████████▌                   | 696 kB 8.0 MB/s eta 0:00:01\r\u001b[K     |████████████▋                   | 706 kB 8.0 MB/s eta 0:00:01\r\u001b[K     |████████████▉                   | 716 kB 8.0 MB/s eta 0:00:01\r\u001b[K     |█████████████                   | 727 kB 8.0 MB/s eta 0:00:01\r\u001b[K     |█████████████▏                  | 737 kB 8.0 MB/s eta 0:00:01\r\u001b[K     |█████████████▍                  | 747 kB 8.0 MB/s eta 0:00:01\r\u001b[K     |█████████████▋                  | 757 kB 8.0 MB/s eta 0:00:01\r\u001b[K     |█████████████▊                  | 768 kB 8.0 MB/s eta 0:00:01\r\u001b[K     |██████████████                  | 778 kB 8.0 MB/s eta 0:00:01\r\u001b[K     |██████████████▏                 | 788 kB 8.0 MB/s eta 0:00:01\r\u001b[K     |██████████████▎                 | 798 kB 8.0 MB/s eta 0:00:01\r\u001b[K     |██████████████▌                 | 808 kB 8.0 MB/s eta 0:00:01\r\u001b[K     |██████████████▋                 | 819 kB 8.0 MB/s eta 0:00:01\r\u001b[K     |██████████████▉                 | 829 kB 8.0 MB/s eta 0:00:01\r\u001b[K     |███████████████                 | 839 kB 8.0 MB/s eta 0:00:01\r\u001b[K     |███████████████▏                | 849 kB 8.0 MB/s eta 0:00:01\r\u001b[K     |███████████████▍                | 860 kB 8.0 MB/s eta 0:00:01\r\u001b[K     |███████████████▋                | 870 kB 8.0 MB/s eta 0:00:01\r\u001b[K     |███████████████▊                | 880 kB 8.0 MB/s eta 0:00:01\r\u001b[K     |████████████████                | 890 kB 8.0 MB/s eta 0:00:01\r\u001b[K     |████████████████▏               | 901 kB 8.0 MB/s eta 0:00:01\r\u001b[K     |████████████████▎               | 911 kB 8.0 MB/s eta 0:00:01\r\u001b[K     |████████████████▌               | 921 kB 8.0 MB/s eta 0:00:01\r\u001b[K     |████████████████▊               | 931 kB 8.0 MB/s eta 0:00:01\r\u001b[K     |████████████████▉               | 942 kB 8.0 MB/s eta 0:00:01\r\u001b[K     |█████████████████               | 952 kB 8.0 MB/s eta 0:00:01\r\u001b[K     |█████████████████▎              | 962 kB 8.0 MB/s eta 0:00:01\r\u001b[K     |█████████████████▍              | 972 kB 8.0 MB/s eta 0:00:01\r\u001b[K     |█████████████████▋              | 983 kB 8.0 MB/s eta 0:00:01\r\u001b[K     |█████████████████▉              | 993 kB 8.0 MB/s eta 0:00:01\r\u001b[K     |██████████████████              | 1.0 MB 8.0 MB/s eta 0:00:01\r\u001b[K     |██████████████████▏             | 1.0 MB 8.0 MB/s eta 0:00:01\r\u001b[K     |██████████████████▎             | 1.0 MB 8.0 MB/s eta 0:00:01\r\u001b[K     |██████████████████▌             | 1.0 MB 8.0 MB/s eta 0:00:01\r\u001b[K     |██████████████████▊             | 1.0 MB 8.0 MB/s eta 0:00:01\r\u001b[K     |██████████████████▉             | 1.1 MB 8.0 MB/s eta 0:00:01\r\u001b[K     |███████████████████             | 1.1 MB 8.0 MB/s eta 0:00:01\r\u001b[K     |███████████████████▎            | 1.1 MB 8.0 MB/s eta 0:00:01\r\u001b[K     |███████████████████▍            | 1.1 MB 8.0 MB/s eta 0:00:01\r\u001b[K     |███████████████████▋            | 1.1 MB 8.0 MB/s eta 0:00:01\r\u001b[K     |███████████████████▉            | 1.1 MB 8.0 MB/s eta 0:00:01\r\u001b[K     |████████████████████            | 1.1 MB 8.0 MB/s eta 0:00:01\r\u001b[K     |████████████████████▏           | 1.1 MB 8.0 MB/s eta 0:00:01\r\u001b[K     |████████████████████▍           | 1.1 MB 8.0 MB/s eta 0:00:01\r\u001b[K     |████████████████████▌           | 1.1 MB 8.0 MB/s eta 0:00:01\r\u001b[K     |████████████████████▊           | 1.2 MB 8.0 MB/s eta 0:00:01\r\u001b[K     |█████████████████████           | 1.2 MB 8.0 MB/s eta 0:00:01\r\u001b[K     |█████████████████████           | 1.2 MB 8.0 MB/s eta 0:00:01\r\u001b[K     |█████████████████████▎          | 1.2 MB 8.0 MB/s eta 0:00:01\r\u001b[K     |█████████████████████▌          | 1.2 MB 8.0 MB/s eta 0:00:01\r\u001b[K     |█████████████████████▋          | 1.2 MB 8.0 MB/s eta 0:00:01\r\u001b[K     |█████████████████████▉          | 1.2 MB 8.0 MB/s eta 0:00:01\r\u001b[K     |██████████████████████          | 1.2 MB 8.0 MB/s eta 0:00:01\r\u001b[K     |██████████████████████▏         | 1.2 MB 8.0 MB/s eta 0:00:01\r\u001b[K     |██████████████████████▍         | 1.2 MB 8.0 MB/s eta 0:00:01\r\u001b[K     |██████████████████████▌         | 1.3 MB 8.0 MB/s eta 0:00:01\r\u001b[K     |██████████████████████▊         | 1.3 MB 8.0 MB/s eta 0:00:01\r\u001b[K     |███████████████████████         | 1.3 MB 8.0 MB/s eta 0:00:01\r\u001b[K     |███████████████████████         | 1.3 MB 8.0 MB/s eta 0:00:01\r\u001b[K     |███████████████████████▎        | 1.3 MB 8.0 MB/s eta 0:00:01\r\u001b[K     |███████████████████████▌        | 1.3 MB 8.0 MB/s eta 0:00:01\r\u001b[K     |███████████████████████▋        | 1.3 MB 8.0 MB/s eta 0:00:01\r\u001b[K     |███████████████████████▉        | 1.3 MB 8.0 MB/s eta 0:00:01\r\u001b[K     |████████████████████████        | 1.3 MB 8.0 MB/s eta 0:00:01\r\u001b[K     |████████████████████████▏       | 1.4 MB 8.0 MB/s eta 0:00:01\r\u001b[K     |████████████████████████▍       | 1.4 MB 8.0 MB/s eta 0:00:01\r\u001b[K     |████████████████████████▋       | 1.4 MB 8.0 MB/s eta 0:00:01\r\u001b[K     |████████████████████████▊       | 1.4 MB 8.0 MB/s eta 0:00:01\r\u001b[K     |█████████████████████████       | 1.4 MB 8.0 MB/s eta 0:00:01\r\u001b[K     |█████████████████████████▏      | 1.4 MB 8.0 MB/s eta 0:00:01\r\u001b[K     |█████████████████████████▎      | 1.4 MB 8.0 MB/s eta 0:00:01\r\u001b[K     |█████████████████████████▌      | 1.4 MB 8.0 MB/s eta 0:00:01\r\u001b[K     |█████████████████████████▋      | 1.4 MB 8.0 MB/s eta 0:00:01\r\u001b[K     |█████████████████████████▉      | 1.4 MB 8.0 MB/s eta 0:00:01\r\u001b[K     |██████████████████████████      | 1.5 MB 8.0 MB/s eta 0:00:01\r\u001b[K     |██████████████████████████▏     | 1.5 MB 8.0 MB/s eta 0:00:01\r\u001b[K     |██████████████████████████▍     | 1.5 MB 8.0 MB/s eta 0:00:01\r\u001b[K     |██████████████████████████▋     | 1.5 MB 8.0 MB/s eta 0:00:01\r\u001b[K     |██████████████████████████▊     | 1.5 MB 8.0 MB/s eta 0:00:01\r\u001b[K     |███████████████████████████     | 1.5 MB 8.0 MB/s eta 0:00:01\r\u001b[K     |███████████████████████████▏    | 1.5 MB 8.0 MB/s eta 0:00:01\r\u001b[K     |███████████████████████████▎    | 1.5 MB 8.0 MB/s eta 0:00:01\r\u001b[K     |███████████████████████████▌    | 1.5 MB 8.0 MB/s eta 0:00:01\r\u001b[K     |███████████████████████████▊    | 1.5 MB 8.0 MB/s eta 0:00:01\r\u001b[K     |███████████████████████████▉    | 1.6 MB 8.0 MB/s eta 0:00:01\r\u001b[K     |████████████████████████████    | 1.6 MB 8.0 MB/s eta 0:00:01\r\u001b[K     |████████████████████████████▎   | 1.6 MB 8.0 MB/s eta 0:00:01\r\u001b[K     |████████████████████████████▍   | 1.6 MB 8.0 MB/s eta 0:00:01\r\u001b[K     |████████████████████████████▋   | 1.6 MB 8.0 MB/s eta 0:00:01\r\u001b[K     |████████████████████████████▉   | 1.6 MB 8.0 MB/s eta 0:00:01\r\u001b[K     |█████████████████████████████   | 1.6 MB 8.0 MB/s eta 0:00:01\r\u001b[K     |█████████████████████████████▏  | 1.6 MB 8.0 MB/s eta 0:00:01\r\u001b[K     |█████████████████████████████▎  | 1.6 MB 8.0 MB/s eta 0:00:01\r\u001b[K     |█████████████████████████████▌  | 1.6 MB 8.0 MB/s eta 0:00:01\r\u001b[K     |█████████████████████████████▊  | 1.7 MB 8.0 MB/s eta 0:00:01\r\u001b[K     |█████████████████████████████▉  | 1.7 MB 8.0 MB/s eta 0:00:01\r\u001b[K     |██████████████████████████████  | 1.7 MB 8.0 MB/s eta 0:00:01\r\u001b[K     |██████████████████████████████▎ | 1.7 MB 8.0 MB/s eta 0:00:01\r\u001b[K     |██████████████████████████████▍ | 1.7 MB 8.0 MB/s eta 0:00:01\r\u001b[K     |██████████████████████████████▋ | 1.7 MB 8.0 MB/s eta 0:00:01\r\u001b[K     |██████████████████████████████▉ | 1.7 MB 8.0 MB/s eta 0:00:01\r\u001b[K     |███████████████████████████████ | 1.7 MB 8.0 MB/s eta 0:00:01\r\u001b[K     |███████████████████████████████▏| 1.7 MB 8.0 MB/s eta 0:00:01\r\u001b[K     |███████████████████████████████▍| 1.8 MB 8.0 MB/s eta 0:00:01\r\u001b[K     |███████████████████████████████▌| 1.8 MB 8.0 MB/s eta 0:00:01\r\u001b[K     |███████████████████████████████▊| 1.8 MB 8.0 MB/s eta 0:00:01\r\u001b[K     |████████████████████████████████| 1.8 MB 8.0 MB/s eta 0:00:01\r\u001b[K     |████████████████████████████████| 1.8 MB 8.0 MB/s \n",
            "\u001b[?25hCollecting setproctitle\n",
            "  Downloading setproctitle-1.2.3-cp37-cp37m-manylinux_2_5_x86_64.manylinux1_x86_64.manylinux_2_17_x86_64.manylinux2014_x86_64.whl (29 kB)\n",
            "Requirement already satisfied: psutil>=5.0.0 in /usr/local/lib/python3.7/dist-packages (from wandb) (5.4.8)\n",
            "Collecting docker-pycreds>=0.4.0\n",
            "  Downloading docker_pycreds-0.4.0-py2.py3-none-any.whl (9.0 kB)\n",
            "Requirement already satisfied: protobuf>=3.12.0 in /usr/local/lib/python3.7/dist-packages (from wandb) (3.17.3)\n",
            "Collecting sentry-sdk>=1.0.0\n",
            "  Downloading sentry_sdk-1.5.12-py2.py3-none-any.whl (145 kB)\n",
            "\u001b[K     |████████████████████████████████| 145 kB 53.1 MB/s \n",
            "\u001b[?25hRequirement already satisfied: Click!=8.0.0,>=7.0 in /usr/local/lib/python3.7/dist-packages (from wandb) (7.1.2)\n",
            "Requirement already satisfied: setuptools in /usr/local/lib/python3.7/dist-packages (from wandb) (57.4.0)\n",
            "Collecting pathtools\n",
            "  Downloading pathtools-0.1.2.tar.gz (11 kB)\n",
            "Collecting GitPython>=1.0.0\n",
            "  Downloading GitPython-3.1.27-py3-none-any.whl (181 kB)\n",
            "\u001b[K     |████████████████████████████████| 181 kB 50.5 MB/s \n",
            "\u001b[?25hRequirement already satisfied: requests<3,>=2.0.0 in /usr/local/lib/python3.7/dist-packages (from wandb) (2.23.0)\n",
            "Requirement already satisfied: promise<3,>=2.0 in /usr/local/lib/python3.7/dist-packages (from wandb) (2.3)\n",
            "Collecting shortuuid>=0.5.0\n",
            "  Downloading shortuuid-1.0.9-py3-none-any.whl (9.4 kB)\n",
            "Requirement already satisfied: python-dateutil>=2.6.1 in /usr/local/lib/python3.7/dist-packages (from wandb) (2.8.2)\n",
            "Requirement already satisfied: six>=1.13.0 in /usr/local/lib/python3.7/dist-packages (from wandb) (1.15.0)\n",
            "Requirement already satisfied: PyYAML in /usr/local/lib/python3.7/dist-packages (from wandb) (6.0)\n",
            "Requirement already satisfied: typing-extensions>=3.7.4.3 in /usr/local/lib/python3.7/dist-packages (from GitPython>=1.0.0->wandb) (4.2.0)\n",
            "Collecting gitdb<5,>=4.0.1\n",
            "  Downloading gitdb-4.0.9-py3-none-any.whl (63 kB)\n",
            "\u001b[K     |████████████████████████████████| 63 kB 1.7 MB/s \n",
            "\u001b[?25hCollecting smmap<6,>=3.0.1\n",
            "  Downloading smmap-5.0.0-py3-none-any.whl (24 kB)\n",
            "Requirement already satisfied: idna<3,>=2.5 in /usr/local/lib/python3.7/dist-packages (from requests<3,>=2.0.0->wandb) (2.10)\n",
            "Requirement already satisfied: urllib3!=1.25.0,!=1.25.1,<1.26,>=1.21.1 in /usr/local/lib/python3.7/dist-packages (from requests<3,>=2.0.0->wandb) (1.24.3)\n",
            "Requirement already satisfied: certifi>=2017.4.17 in /usr/local/lib/python3.7/dist-packages (from requests<3,>=2.0.0->wandb) (2021.10.8)\n",
            "Requirement already satisfied: chardet<4,>=3.0.2 in /usr/local/lib/python3.7/dist-packages (from requests<3,>=2.0.0->wandb) (3.0.4)\n",
            "Building wheels for collected packages: pathtools\n",
            "  Building wheel for pathtools (setup.py) ... \u001b[?25l\u001b[?25hdone\n",
            "  Created wheel for pathtools: filename=pathtools-0.1.2-py3-none-any.whl size=8806 sha256=7d42678feab7610fa86a735fb42151ce4f50e04124988ec298c075919507fc4a\n",
            "  Stored in directory: /root/.cache/pip/wheels/3e/31/09/fa59cef12cdcfecc627b3d24273699f390e71828921b2cbba2\n",
            "Successfully built pathtools\n",
            "Installing collected packages: smmap, gitdb, shortuuid, setproctitle, sentry-sdk, pathtools, GitPython, docker-pycreds, wandb\n",
            "Successfully installed GitPython-3.1.27 docker-pycreds-0.4.0 gitdb-4.0.9 pathtools-0.1.2 sentry-sdk-1.5.12 setproctitle-1.2.3 shortuuid-1.0.9 smmap-5.0.0 wandb-0.12.16\n",
            "\u001b[34m\u001b[1mwandb\u001b[0m: You can find your API key in your browser here: https://wandb.ai/authorize\n",
            "\u001b[34m\u001b[1mwandb\u001b[0m: Paste an API key from your profile and hit enter, or press ctrl+c to quit: \n",
            "\u001b[34m\u001b[1mwandb\u001b[0m: Appending key for api.wandb.ai to your netrc file: /root/.netrc\n"
          ]
        }
      ]
    },
    {
      "cell_type": "code",
      "source": [
        "run = wandb.init(project=\"ml-challenge\", entity=\"nicikess\", config=config)"
      ],
      "metadata": {
        "colab": {
          "base_uri": "https://localhost:8080/",
          "height": 107
        },
        "id": "mIb_e1ZP4xVp",
        "outputId": "61bc9df5-442f-4380-bbcf-cfd7e10895a2"
      },
      "execution_count": 39,
      "outputs": [
        {
          "output_type": "stream",
          "name": "stderr",
          "text": [
            "\u001b[34m\u001b[1mwandb\u001b[0m: Currently logged in as: \u001b[33mnicikess\u001b[0m. Use \u001b[1m`wandb login --relogin`\u001b[0m to force relogin\n"
          ]
        },
        {
          "output_type": "display_data",
          "data": {
            "text/plain": [
              "<IPython.core.display.HTML object>"
            ],
            "text/html": [
              "Tracking run with wandb version 0.12.16"
            ]
          },
          "metadata": {}
        },
        {
          "output_type": "display_data",
          "data": {
            "text/plain": [
              "<IPython.core.display.HTML object>"
            ],
            "text/html": [
              "Run data is saved locally in <code>/content/wandb/run-20220518_174756-1g6ygh4f</code>"
            ]
          },
          "metadata": {}
        },
        {
          "output_type": "display_data",
          "data": {
            "text/plain": [
              "<IPython.core.display.HTML object>"
            ],
            "text/html": [
              "Syncing run <strong><a href=\"https://wandb.ai/nicikess/ml-challenge/runs/1g6ygh4f\" target=\"_blank\">zesty-glitter-112</a></strong> to <a href=\"https://wandb.ai/nicikess/ml-challenge\" target=\"_blank\">Weights & Biases</a> (<a href=\"https://wandb.me/run\" target=\"_blank\">docs</a>)<br/>"
            ]
          },
          "metadata": {}
        }
      ]
    },
    {
      "cell_type": "code",
      "source": [
        "def train(model,train_dl,epochs,learning_rate,opt_func,milestones,weight_decay):\n",
        "  \n",
        "  # init collection of training epoch losses\n",
        "  train_epoch_losses = []\n",
        "\n",
        "  # set the model in training mode\n",
        "  model.train()\n",
        "\n",
        "  optimizer = opt_func(model.fc.parameters(),lr=learning_rate, weight_decay=weight_decay)\n",
        "  scheduler = torch.optim.lr_scheduler.MultiStepLR(optimizer, milestones=milestones, gamma=0.1)\n",
        "\n",
        "  # train the CIFAR10 model\n",
        "  for epoch in range(epochs):\n",
        "      \n",
        "      # init collection of mini-batch losses\n",
        "      train_mini_batch_losses = []\n",
        "\n",
        "      # iterate over all-mini batches\n",
        "      for i, (images, labels) in enumerate(train_dl):\n",
        "\n",
        "          #print(images)\n",
        "\n",
        "          # push mini-batch data to computation device\n",
        "          images = images.to(device)\n",
        "          labels = labels.to(device)\n",
        "\n",
        "          # run forward pass through the network\n",
        "          output = model(images)\n",
        "\n",
        "          # reset graph gradients\n",
        "          optimizer.zero_grad()\n",
        "          \n",
        "          # determine classification loss\n",
        "          loss = ce_loss(output, labels)\n",
        "\n",
        "          wandb.log({\"loss\": loss})\n",
        "          \n",
        "          # run backward pass\n",
        "          loss.backward()\n",
        "          \n",
        "          # update network paramaters\n",
        "          optimizer.step()\n",
        "          \n",
        "          # collect mini-batch reconstruction loss\n",
        "          train_mini_batch_losses.append(loss.data.item())\n",
        "\n",
        "      # determine mean min-batch loss of epoch\n",
        "      train_epoch_loss = np.mean(train_mini_batch_losses)\n",
        "\n",
        "      print('Epoch-{0} lr: {1}'.format(epoch, optimizer.param_groups[0]['lr']))\n",
        "\n",
        "      scheduler.step()\n",
        "\n",
        "      print('Epoch-{0} lr: {1}'.format(epoch, optimizer.param_groups[0]['lr']))\n",
        "\n",
        "      #Added\n",
        "      #result = evaluate(model, vali_dataloader)\n",
        "\n",
        "      # print epoch loss\n",
        "      now = datetime.utcnow().strftime(\"%Y%m%d-%H:%M:%S\")\n",
        "      print('[LOG {}] epoch: {} train-loss: {}'.format(str(now), str(epoch), str(train_epoch_loss)))\n",
        "      \n",
        "      #if (epoch%10 == 0): \n",
        "          # set filename of actual model\n",
        "      model_name = 'challenge_model_epoch_{}.pth'.format(str(epoch))\n",
        "          # save current model to GDrive models directory\n",
        "      torch.save(model.state_dict(), os.path.join(MODEL_PATH, model_name))\n",
        "\n",
        "      # determine mean min-batch loss of epoch\n",
        "      train_epoch_losses.append(train_epoch_loss)"
      ],
      "metadata": {
        "id": "l36p_m04wVAV"
      },
      "execution_count": 40,
      "outputs": []
    },
    {
      "cell_type": "code",
      "source": [
        "epochs = config.get(\"epochs\")\n",
        "learning_rate = config.get(\"learning_rate\")\n",
        "weight_decay = config.get(\"weight_decay\")\n",
        "opt_func = config.get(\"opt_func\")\n",
        "milestones = config.get(\"milestones\")\n",
        "max_learning_rate = config.get(\"max_learning_rate\")\n",
        "\n",
        "train(model,train_dl,epochs,learning_rate,opt_func,milestones,weight_decay)"
      ],
      "metadata": {
        "id": "3gA6pIk45O88",
        "colab": {
          "base_uri": "https://localhost:8080/",
          "height": 1000
        },
        "outputId": "6d1aca49-666b-4315-be57-6d08c4f2998b"
      },
      "execution_count": 41,
      "outputs": [
        {
          "output_type": "stream",
          "name": "stdout",
          "text": [
            "Epoch-0 lr: 0.001\n",
            "Epoch-0 lr: 0.001\n",
            "[LOG 20220518-17:53:45] epoch: 0 train-loss: 0.837419146961636\n",
            "Epoch-1 lr: 0.001\n",
            "Epoch-1 lr: 0.001\n",
            "[LOG 20220518-17:59:23] epoch: 1 train-loss: 0.6587792718410492\n",
            "Epoch-2 lr: 0.001\n",
            "Epoch-2 lr: 0.001\n",
            "[LOG 20220518-18:05:00] epoch: 2 train-loss: 0.6093086300072846\n",
            "Epoch-3 lr: 0.001\n",
            "Epoch-3 lr: 0.0001\n",
            "[LOG 20220518-18:10:39] epoch: 3 train-loss: 0.5787532829576069\n",
            "Epoch-4 lr: 0.0001\n",
            "Epoch-4 lr: 0.0001\n",
            "[LOG 20220518-18:16:17] epoch: 4 train-loss: 0.48088838280351076\n",
            "Epoch-5 lr: 0.0001\n",
            "Epoch-5 lr: 0.0001\n",
            "[LOG 20220518-18:21:54] epoch: 5 train-loss: 0.458818599736249\n",
            "Epoch-6 lr: 0.0001\n",
            "Epoch-6 lr: 1e-05\n",
            "[LOG 20220518-18:27:31] epoch: 6 train-loss: 0.443687642481592\n",
            "Epoch-7 lr: 1e-05\n",
            "Epoch-7 lr: 1e-05\n",
            "[LOG 20220518-18:33:08] epoch: 7 train-loss: 0.43978105282341995\n",
            "Epoch-8 lr: 1e-05\n",
            "Epoch-8 lr: 1.0000000000000002e-06\n",
            "[LOG 20220518-18:38:46] epoch: 8 train-loss: 0.43691346175140805\n",
            "Epoch-9 lr: 1.0000000000000002e-06\n",
            "Epoch-9 lr: 1.0000000000000002e-06\n",
            "[LOG 20220518-18:44:23] epoch: 9 train-loss: 0.43145848898975936\n",
            "Epoch-10 lr: 1.0000000000000002e-06\n",
            "Epoch-10 lr: 1.0000000000000002e-06\n",
            "[LOG 20220518-18:50:01] epoch: 10 train-loss: 0.4389098569088512\n",
            "Epoch-11 lr: 1.0000000000000002e-06\n",
            "Epoch-11 lr: 1.0000000000000002e-06\n",
            "[LOG 20220518-18:55:39] epoch: 11 train-loss: 0.4348614892473927\n",
            "Epoch-12 lr: 1.0000000000000002e-06\n",
            "Epoch-12 lr: 1.0000000000000002e-06\n",
            "[LOG 20220518-19:01:16] epoch: 12 train-loss: 0.4346496205638956\n",
            "Epoch-13 lr: 1.0000000000000002e-06\n",
            "Epoch-13 lr: 1.0000000000000002e-06\n",
            "[LOG 20220518-19:06:53] epoch: 13 train-loss: 0.42601389861769146\n",
            "Epoch-14 lr: 1.0000000000000002e-06\n",
            "Epoch-14 lr: 1.0000000000000002e-06\n",
            "[LOG 20220518-19:12:31] epoch: 14 train-loss: 0.423943296317701\n"
          ]
        },
        {
          "output_type": "error",
          "ename": "KeyboardInterrupt",
          "evalue": "ignored",
          "traceback": [
            "\u001b[0;31m---------------------------------------------------------------------------\u001b[0m",
            "\u001b[0;31mKeyboardInterrupt\u001b[0m                         Traceback (most recent call last)",
            "\u001b[0;32m<ipython-input-41-7ee6c6091c69>\u001b[0m in \u001b[0;36m<module>\u001b[0;34m()\u001b[0m\n\u001b[1;32m      6\u001b[0m \u001b[0mmax_learning_rate\u001b[0m \u001b[0;34m=\u001b[0m \u001b[0mconfig\u001b[0m\u001b[0;34m.\u001b[0m\u001b[0mget\u001b[0m\u001b[0;34m(\u001b[0m\u001b[0;34m\"max_learning_rate\"\u001b[0m\u001b[0;34m)\u001b[0m\u001b[0;34m\u001b[0m\u001b[0;34m\u001b[0m\u001b[0m\n\u001b[1;32m      7\u001b[0m \u001b[0;34m\u001b[0m\u001b[0m\n\u001b[0;32m----> 8\u001b[0;31m \u001b[0mtrain\u001b[0m\u001b[0;34m(\u001b[0m\u001b[0mmodel\u001b[0m\u001b[0;34m,\u001b[0m\u001b[0mtrain_dl\u001b[0m\u001b[0;34m,\u001b[0m\u001b[0mepochs\u001b[0m\u001b[0;34m,\u001b[0m\u001b[0mlearning_rate\u001b[0m\u001b[0;34m,\u001b[0m\u001b[0mopt_func\u001b[0m\u001b[0;34m,\u001b[0m\u001b[0mmilestones\u001b[0m\u001b[0;34m,\u001b[0m\u001b[0mweight_decay\u001b[0m\u001b[0;34m)\u001b[0m\u001b[0;34m\u001b[0m\u001b[0;34m\u001b[0m\u001b[0m\n\u001b[0m",
            "\u001b[0;32m<ipython-input-40-927f0c1f905b>\u001b[0m in \u001b[0;36mtrain\u001b[0;34m(model, train_dl, epochs, learning_rate, opt_func, milestones, weight_decay)\u001b[0m\n\u001b[1;32m     43\u001b[0m \u001b[0;34m\u001b[0m\u001b[0m\n\u001b[1;32m     44\u001b[0m           \u001b[0;31m# collect mini-batch reconstruction loss\u001b[0m\u001b[0;34m\u001b[0m\u001b[0;34m\u001b[0m\u001b[0;34m\u001b[0m\u001b[0m\n\u001b[0;32m---> 45\u001b[0;31m           \u001b[0mtrain_mini_batch_losses\u001b[0m\u001b[0;34m.\u001b[0m\u001b[0mappend\u001b[0m\u001b[0;34m(\u001b[0m\u001b[0mloss\u001b[0m\u001b[0;34m.\u001b[0m\u001b[0mdata\u001b[0m\u001b[0;34m.\u001b[0m\u001b[0mitem\u001b[0m\u001b[0;34m(\u001b[0m\u001b[0;34m)\u001b[0m\u001b[0;34m)\u001b[0m\u001b[0;34m\u001b[0m\u001b[0;34m\u001b[0m\u001b[0m\n\u001b[0m\u001b[1;32m     46\u001b[0m \u001b[0;34m\u001b[0m\u001b[0m\n\u001b[1;32m     47\u001b[0m       \u001b[0;31m# determine mean min-batch loss of epoch\u001b[0m\u001b[0;34m\u001b[0m\u001b[0;34m\u001b[0m\u001b[0;34m\u001b[0m\u001b[0m\n",
            "\u001b[0;31mKeyboardInterrupt\u001b[0m: "
          ]
        }
      ]
    },
    {
      "cell_type": "code",
      "source": [
        "resnet50_vali_dataloader = DataLoader(validation_ds, batch_size=5400)"
      ],
      "metadata": {
        "id": "PIuR2EjmXx_3"
      },
      "execution_count": 38,
      "outputs": []
    },
    {
      "cell_type": "code",
      "source": [
        "# Display image and label.\n",
        "validation_features, validation_labels = next(iter(resnet50_vali_dataloader))\n",
        "print(f\"Labels batch shape: {validation_labels.size()}\")"
      ],
      "metadata": {
        "id": "Yqkcl7x6glWB",
        "outputId": "f86c6db1-87c4-4e3c-b92b-7c15b41cd7f1",
        "colab": {
          "base_uri": "https://localhost:8080/"
        }
      },
      "execution_count": 39,
      "outputs": [
        {
          "output_type": "stream",
          "name": "stdout",
          "text": [
            "Labels batch shape: torch.Size([5400])\n"
          ]
        }
      ]
    },
    {
      "cell_type": "code",
      "source": [
        "# restore pre-trained model snapshot\n",
        "best_model_name = os.path.join(MODEL_PATH, 'challenge_model_epoch_7.pth')\n",
        "\n",
        "# load state_dict from path\n",
        "state_dict_best = torch.load(best_model_name, map_location=torch.device('cpu'))\n",
        "\n",
        "# init pre-trained model class\n",
        "best_model = model\n",
        "\n",
        "# load pre-trained models\n",
        "best_model.load_state_dict(state_dict_best)"
      ],
      "metadata": {
        "colab": {
          "base_uri": "https://localhost:8080/"
        },
        "id": "1SYwEp1h-8YN",
        "outputId": "b3491fbf-a27d-472c-e794-b6fbf46a43d8"
      },
      "execution_count": 40,
      "outputs": [
        {
          "output_type": "execute_result",
          "data": {
            "text/plain": [
              "<All keys matched successfully>"
            ]
          },
          "metadata": {},
          "execution_count": 40
        }
      ]
    },
    {
      "cell_type": "code",
      "source": [
        "# set model in evaluation mode\n",
        "best_model.eval()"
      ],
      "metadata": {
        "id": "4t7-craS_C-R"
      },
      "execution_count": null,
      "outputs": []
    },
    {
      "cell_type": "code",
      "source": [
        "predictionsVal = list()\n",
        "from PIL import Image\n",
        "from numpy import vstack\n",
        "for i in tqdm(range(len(validation_ds))):\n",
        "  input = validation_ds[i]\n",
        "  input = input[0].unsqueeze(0)\n",
        "  #print(input)\n",
        "  #input = test_transform(input)\n",
        "  #x = x[None, :]\n",
        "  input = input.to(device)\n",
        "  #print(type(input))\n",
        "  yhat = best_model(input)\n",
        "  # retrieve numpy array\n",
        "  yhat = yhat.detach()\n",
        "  # convert to class labels\n",
        "  yhat = torch.argmax(yhat, axis=1)\n",
        "  # reshape for stacking\n",
        "  yhat = yhat.reshape((len(yhat), 1))\n",
        "  # store\n",
        "  predictionsVal.append(yhat.cpu())\n",
        "predictionsVal = vstack(predictionsVal)\n",
        "predictionsVal = torch.tensor(predictionsVal)"
      ],
      "metadata": {
        "colab": {
          "base_uri": "https://localhost:8080/"
        },
        "id": "DLjA3bfw1vH9",
        "outputId": "be89ff34-fd01-4938-dcba-6abbf5bd9183"
      },
      "execution_count": 42,
      "outputs": [
        {
          "output_type": "stream",
          "name": "stderr",
          "text": [
            "100%|██████████| 5400/5400 [02:41<00:00, 33.41it/s]\n"
          ]
        }
      ]
    },
    {
      "cell_type": "code",
      "source": [
        "np.shape(validation_ds[3][0])"
      ],
      "metadata": {
        "colab": {
          "base_uri": "https://localhost:8080/"
        },
        "id": "-HLGaOXBWn8X",
        "outputId": "ddfd1afa-2742-4984-88d0-f41780ca1b7d"
      },
      "execution_count": 249,
      "outputs": [
        {
          "output_type": "execute_result",
          "data": {
            "text/plain": [
              "torch.Size([3, 224, 224])"
            ]
          },
          "metadata": {},
          "execution_count": 249
        }
      ]
    },
    {
      "cell_type": "code",
      "source": [
        "list_tens = list()\n",
        "\n",
        "for i in range(len(predictionsVal)):\n",
        "  list_tens.append(decode_target(predictionsVal[i].item()))"
      ],
      "metadata": {
        "id": "-KGTKMBX_O9N"
      },
      "execution_count": 43,
      "outputs": []
    },
    {
      "cell_type": "code",
      "source": [
        "from collections import Counter\n",
        "print(Counter(list_tens).keys()) # equals to list(set(words))\n",
        "print(Counter(list_tens).values()) # counts the elements' frequency"
      ],
      "metadata": {
        "id": "PmbX_OX4_Rwb",
        "colab": {
          "base_uri": "https://localhost:8080/"
        },
        "outputId": "af823f3b-e4fd-4c8f-82e8-4c8bacff648f"
      },
      "execution_count": 44,
      "outputs": [
        {
          "output_type": "stream",
          "name": "stdout",
          "text": [
            "dict_keys(['HerbaceousVegetation', 'Industrial', 'River', 'AnnualCrop', 'Highway', 'PermanentCrop', 'SeaLake', 'Residential', 'Forest', 'Pasture'])\n",
            "dict_values([636, 492, 505, 616, 471, 529, 573, 618, 572, 388])\n"
          ]
        }
      ]
    },
    {
      "cell_type": "code",
      "source": [
        "from sklearn import metrics\n",
        "acc = metrics.accuracy_score(validation_labels.detach().cpu(), predictionsVal.detach().cpu())\n",
        "print(acc)"
      ],
      "metadata": {
        "id": "hCHgsPPg_VMq",
        "colab": {
          "base_uri": "https://localhost:8080/"
        },
        "outputId": "44cee03d-06a1-48e0-a419-9655e7b96fc5"
      },
      "execution_count": 45,
      "outputs": [
        {
          "output_type": "stream",
          "name": "stdout",
          "text": [
            "0.9312962962962963\n"
          ]
        }
      ]
    },
    {
      "cell_type": "code",
      "source": [
        "wandb.log({\"acc\": acc})"
      ],
      "metadata": {
        "id": "SuBXSRYM_Y6B"
      },
      "execution_count": null,
      "outputs": []
    },
    {
      "cell_type": "code",
      "source": [
        "#Finish run\n",
        "run.finish()"
      ],
      "metadata": {
        "id": "aIdEMEoC-kI8"
      },
      "execution_count": null,
      "outputs": []
    },
    {
      "cell_type": "code",
      "source": [
        "import os\n",
        "path = '/content/drive/MyDrive/ML/data/dataset/testset/'\n",
        "npyfiles = []\n",
        "datatest = {}\n",
        "\n",
        "for root, dirs, files in os.walk(path):\n",
        "    # check the extension of files\n",
        "    for file in files:\n",
        "        # check the extension of files\n",
        "        if file.endswith('.npy'):\n",
        "            npyfiles.append(os.path.join(root, file))\n",
        "\n",
        "for i in tqdm(range(len(npyfiles))):\n",
        "  path = npyfiles[i]\n",
        "  arr = np.load(path)\n",
        "  index = int(path.split('_')[1].split('.')[0])\n",
        "  datatest[index] = arr"
      ],
      "metadata": {
        "id": "YtwPdGg3jR9S",
        "colab": {
          "base_uri": "https://localhost:8080/"
        },
        "outputId": "66c133bb-5ed3-4e80-ab6f-72bc123db642"
      },
      "execution_count": 46,
      "outputs": [
        {
          "output_type": "stream",
          "name": "stderr",
          "text": [
            "100%|██████████| 4232/4232 [01:05<00:00, 64.77it/s] \n"
          ]
        }
      ]
    },
    {
      "cell_type": "code",
      "source": [
        "from pathlib import Path\n",
        "class EuroSATTest(Dataset):\n",
        "    def __init__(self, train_df, train_dir, transform=None):\n",
        "        self.train_dir = train_dir\n",
        "        self.train_df = train_df\n",
        "        self.transform = transform\n",
        "\n",
        "    def __len__(self):\n",
        "        return len(self.train_df)\n",
        "    \n",
        "    def __getitem__(self, idx):\n",
        "        img = datatest[idx]\n",
        "        img = img[:, :, [4,3,2]]\n",
        "        img = np.float32(img)\n",
        "        if self.transform:\n",
        "            img = self.transform(img)\n",
        "        return img"
      ],
      "metadata": {
        "id": "dPFCns8YgPyh"
      },
      "execution_count": 47,
      "outputs": []
    },
    {
      "cell_type": "code",
      "source": [
        "def get_mean_and_std_test(dataloader):\n",
        "    channels_sum, channels_squared_sum, num_batches = 0, 0, 0\n",
        "    for data in dataloader:\n",
        "        # Mean over batch, height and width, but not over the channels\n",
        "        channels_sum += torch.mean(data, dim=[0,2,3])\n",
        "        channels_squared_sum += torch.mean(data**2, dim=[0,2,3])\n",
        "        num_batches += 1\n",
        "    \n",
        "    mean = channels_sum / num_batches\n",
        "\n",
        "    # std = sqrt(E[X^2] - (E[X])^2)\n",
        "    std = (channels_squared_sum / num_batches - mean ** 2) ** 0.5\n",
        "\n",
        "    return mean, std"
      ],
      "metadata": {
        "id": "e8e92E0KxG4w"
      },
      "execution_count": 49,
      "outputs": []
    },
    {
      "cell_type": "code",
      "source": [
        "test_ds = EuroSATTest(data_df_test, BASE_PATH, transform_normalisation)\n",
        "normalisation_dl = DataLoader(test_ds, batch_size=len(test_ds))\n",
        "mean, std = get_mean_and_std_test(normalisation_dl)"
      ],
      "metadata": {
        "id": "xXE6po1Muu-t"
      },
      "execution_count": 50,
      "outputs": []
    },
    {
      "cell_type": "code",
      "source": [
        "print(std)"
      ],
      "metadata": {
        "colab": {
          "base_uri": "https://localhost:8080/"
        },
        "id": "AKNlrji5xOJB",
        "outputId": "0c824610-f5a0-41ce-c68d-3b3b5a261cbc"
      },
      "execution_count": 264,
      "outputs": [
        {
          "output_type": "stream",
          "name": "stdout",
          "text": [
            "tensor([660.1735, 599.4288, 486.5515])\n"
          ]
        }
      ]
    },
    {
      "cell_type": "code",
      "source": [
        "#Test data\n",
        "test_ds = EuroSATTest(data_df_test, BASE_PATH, test_transform)\n",
        "print(len(test_ds))"
      ],
      "metadata": {
        "id": "nfSKsieSgYqj",
        "outputId": "0c214cd6-553d-4b88-d944-daedac6a7ce5",
        "colab": {
          "base_uri": "https://localhost:8080/"
        }
      },
      "execution_count": 51,
      "outputs": [
        {
          "output_type": "stream",
          "name": "stdout",
          "text": [
            "4232\n"
          ]
        }
      ]
    },
    {
      "cell_type": "code",
      "source": [
        "test_ds[0]"
      ],
      "metadata": {
        "id": "bwIODfeVxnr6"
      },
      "execution_count": null,
      "outputs": []
    },
    {
      "cell_type": "code",
      "source": [
        "# restore pre-trained model snapshot\n",
        "best_model_name = os.path.join(MODEL_PATH, 'challenge_model_epoch_7.pth')\n",
        "\n",
        "# load state_dict from path\n",
        "state_dict_best = torch.load(best_model_name, map_location=torch.device('cpu'))\n",
        "\n",
        "# init pre-trained model class\n",
        "best_model = model\n",
        "\n",
        "# load pre-trained models\n",
        "best_model.load_state_dict(state_dict_best)"
      ],
      "metadata": {
        "id": "rFCqL_uS7caL",
        "colab": {
          "base_uri": "https://localhost:8080/"
        },
        "outputId": "c35b4dd4-8334-4ca3-a371-64ff4b6a889c"
      },
      "execution_count": 52,
      "outputs": [
        {
          "output_type": "execute_result",
          "data": {
            "text/plain": [
              "<All keys matched successfully>"
            ]
          },
          "metadata": {},
          "execution_count": 52
        }
      ]
    },
    {
      "cell_type": "code",
      "source": [
        "# set model in evaluation mode\n",
        "best_model.eval()"
      ],
      "metadata": {
        "id": "wLLthpA87j6Y"
      },
      "execution_count": null,
      "outputs": []
    },
    {
      "cell_type": "code",
      "source": [
        "predictions = list()\n",
        "from PIL import Image\n",
        "from numpy import vstack\n",
        "for i in tqdm(range(len(test_ds))):\n",
        "  input = test_ds[i]\n",
        "  input = input.unsqueeze(0)\n",
        "  #print(input)\n",
        "  #input = test_transform(input)\n",
        "  #x = x[None, :]\n",
        "  input = input.to(device)\n",
        "  #print(type(input))\n",
        "  yhat = best_model(input)\n",
        "  # retrieve numpy array\n",
        "  yhat = yhat.detach()\n",
        "  # convert to class labels\n",
        "  yhat = torch.argmax(yhat, axis=1)\n",
        "  # reshape for stacking\n",
        "  yhat = yhat.reshape((len(yhat), 1))\n",
        "  # store\n",
        "  predictions.append(yhat.cpu())\n",
        "predictions = vstack(predictions)\n",
        "predictions = torch.tensor(predictions)"
      ],
      "metadata": {
        "colab": {
          "base_uri": "https://localhost:8080/"
        },
        "id": "YSdAYqHbL_6k",
        "outputId": "5bc5f614-30e2-4eb2-b368-f92c4eb0345f"
      },
      "execution_count": 54,
      "outputs": [
        {
          "output_type": "stream",
          "name": "stderr",
          "text": [
            "100%|██████████| 4232/4232 [02:07<00:00, 33.20it/s]\n"
          ]
        }
      ]
    },
    {
      "cell_type": "code",
      "source": [
        "list_tens = list()\n",
        "\n",
        "for i in range(len(predictions)):\n",
        "  list_tens.append(decode_target(predictions[i].item()))"
      ],
      "metadata": {
        "id": "9FEOw7QVJTGo"
      },
      "execution_count": 55,
      "outputs": []
    },
    {
      "cell_type": "code",
      "source": [
        "from collections import Counter\n",
        "print(Counter(list_tens).keys()) # equals to list(set(words))\n",
        "print(Counter(list_tens).values()) # counts the elements' frequency"
      ],
      "metadata": {
        "colab": {
          "base_uri": "https://localhost:8080/"
        },
        "id": "ZMZusvMJRz8F",
        "outputId": "2116083b-fa77-41bc-b202-68b6ec5509a1"
      },
      "execution_count": 56,
      "outputs": [
        {
          "output_type": "stream",
          "name": "stdout",
          "text": [
            "dict_keys(['Pasture', 'River', 'SeaLake', 'HerbaceousVegetation', 'AnnualCrop', 'Industrial', 'Residential', 'PermanentCrop', 'Highway', 'Forest'])\n",
            "dict_values([141, 344, 1226, 509, 434, 757, 188, 70, 460, 103])\n"
          ]
        }
      ]
    },
    {
      "cell_type": "code",
      "source": [
        "from sklearn import metrics\n",
        "metrics.accuracy_score(validation_labels.detach().cpu(), predictions.detach().cpu())"
      ],
      "metadata": {
        "id": "14I36aFlanwy",
        "outputId": "be90bde0-e003-4265-d696-c0372a23b7ca",
        "colab": {
          "base_uri": "https://localhost:8080/"
        }
      },
      "execution_count": null,
      "outputs": [
        {
          "output_type": "execute_result",
          "data": {
            "text/plain": [
              "0.8346296296296296"
            ]
          },
          "metadata": {},
          "execution_count": 310
        }
      ]
    },
    {
      "cell_type": "code",
      "source": [
        "test_indices_path = '/content/drive/MyDrive/ML/data/dataset/test.csv'\n",
        "\n",
        "final_submission_file = pd.read_csv(test_indices_path)\n",
        "prediction_list = []\n",
        "\n",
        "# turning numeric predictions to strings (as in kaggle example submission)\n",
        "for p in predictions:\n",
        "  prediction_list.append(decode_target(p.item()))\n",
        "\n",
        "final_submission_file[\"label\"] = prediction_list\n",
        "### source with alternatives methods for appending to csv should this fail: https://stackoverflow.com/questions/26666919/add-column-in-dataframe-from-list\n",
        "final_submission_file.to_csv('/content/drive/MyDrive/ML/data/dataset/final_submission_eff.csv', index=None)"
      ],
      "metadata": {
        "id": "8uyGFJ1D43xf"
      },
      "execution_count": 57,
      "outputs": []
    }
  ]
}