{
  "nbformat": 4,
  "nbformat_minor": 0,
  "metadata": {
    "colab": {
      "name": "Untitled0.ipynb",
      "provenance": [],
      "machine_shape": "hm",
      "include_colab_link": true
    },
    "kernelspec": {
      "name": "python3",
      "display_name": "Python 3"
    },
    "language_info": {
      "name": "python"
    },
    "accelerator": "GPU",
    "widgets": {
      "application/vnd.jupyter.widget-state+json": {
        "cefc04a75bc640708af98f32cf8cc8d2": {
          "model_module": "@jupyter-widgets/controls",
          "model_name": "HBoxModel",
          "model_module_version": "1.5.0",
          "state": {
            "_dom_classes": [],
            "_model_module": "@jupyter-widgets/controls",
            "_model_module_version": "1.5.0",
            "_model_name": "HBoxModel",
            "_view_count": null,
            "_view_module": "@jupyter-widgets/controls",
            "_view_module_version": "1.5.0",
            "_view_name": "HBoxView",
            "box_style": "",
            "children": [
              "IPY_MODEL_fa3f7565ff7b403fbd92eae360d4b36b",
              "IPY_MODEL_4befa09c15304721a36148902adc9307",
              "IPY_MODEL_5e1ca787dde047ceaa6db91ffdd91fa5"
            ],
            "layout": "IPY_MODEL_763e56d0d23a45dd8ca83885ae44b9fc"
          }
        },
        "fa3f7565ff7b403fbd92eae360d4b36b": {
          "model_module": "@jupyter-widgets/controls",
          "model_name": "HTMLModel",
          "model_module_version": "1.5.0",
          "state": {
            "_dom_classes": [],
            "_model_module": "@jupyter-widgets/controls",
            "_model_module_version": "1.5.0",
            "_model_name": "HTMLModel",
            "_view_count": null,
            "_view_module": "@jupyter-widgets/controls",
            "_view_module_version": "1.5.0",
            "_view_name": "HTMLView",
            "description": "",
            "description_tooltip": null,
            "layout": "IPY_MODEL_282b41665f8f419dacb2c28cad13742d",
            "placeholder": "​",
            "style": "IPY_MODEL_cacb627568fc43a1afdb78a42d214cee",
            "value": "100%"
          }
        },
        "4befa09c15304721a36148902adc9307": {
          "model_module": "@jupyter-widgets/controls",
          "model_name": "FloatProgressModel",
          "model_module_version": "1.5.0",
          "state": {
            "_dom_classes": [],
            "_model_module": "@jupyter-widgets/controls",
            "_model_module_version": "1.5.0",
            "_model_name": "FloatProgressModel",
            "_view_count": null,
            "_view_module": "@jupyter-widgets/controls",
            "_view_module_version": "1.5.0",
            "_view_name": "ProgressView",
            "bar_style": "success",
            "description": "",
            "description_tooltip": null,
            "layout": "IPY_MODEL_5a5867ffbffe47d58bd3c19c43c862ef",
            "max": 102530333,
            "min": 0,
            "orientation": "horizontal",
            "style": "IPY_MODEL_139775be824e49a6af3eaf7ad501d285",
            "value": 102530333
          }
        },
        "5e1ca787dde047ceaa6db91ffdd91fa5": {
          "model_module": "@jupyter-widgets/controls",
          "model_name": "HTMLModel",
          "model_module_version": "1.5.0",
          "state": {
            "_dom_classes": [],
            "_model_module": "@jupyter-widgets/controls",
            "_model_module_version": "1.5.0",
            "_model_name": "HTMLModel",
            "_view_count": null,
            "_view_module": "@jupyter-widgets/controls",
            "_view_module_version": "1.5.0",
            "_view_name": "HTMLView",
            "description": "",
            "description_tooltip": null,
            "layout": "IPY_MODEL_976535f15ebd4d8db8abd4930892a704",
            "placeholder": "​",
            "style": "IPY_MODEL_53af129e31bb46f4b2f13c3828ee03cf",
            "value": " 97.8M/97.8M [00:01&lt;00:00, 133MB/s]"
          }
        },
        "763e56d0d23a45dd8ca83885ae44b9fc": {
          "model_module": "@jupyter-widgets/base",
          "model_name": "LayoutModel",
          "model_module_version": "1.2.0",
          "state": {
            "_model_module": "@jupyter-widgets/base",
            "_model_module_version": "1.2.0",
            "_model_name": "LayoutModel",
            "_view_count": null,
            "_view_module": "@jupyter-widgets/base",
            "_view_module_version": "1.2.0",
            "_view_name": "LayoutView",
            "align_content": null,
            "align_items": null,
            "align_self": null,
            "border": null,
            "bottom": null,
            "display": null,
            "flex": null,
            "flex_flow": null,
            "grid_area": null,
            "grid_auto_columns": null,
            "grid_auto_flow": null,
            "grid_auto_rows": null,
            "grid_column": null,
            "grid_gap": null,
            "grid_row": null,
            "grid_template_areas": null,
            "grid_template_columns": null,
            "grid_template_rows": null,
            "height": null,
            "justify_content": null,
            "justify_items": null,
            "left": null,
            "margin": null,
            "max_height": null,
            "max_width": null,
            "min_height": null,
            "min_width": null,
            "object_fit": null,
            "object_position": null,
            "order": null,
            "overflow": null,
            "overflow_x": null,
            "overflow_y": null,
            "padding": null,
            "right": null,
            "top": null,
            "visibility": null,
            "width": null
          }
        },
        "282b41665f8f419dacb2c28cad13742d": {
          "model_module": "@jupyter-widgets/base",
          "model_name": "LayoutModel",
          "model_module_version": "1.2.0",
          "state": {
            "_model_module": "@jupyter-widgets/base",
            "_model_module_version": "1.2.0",
            "_model_name": "LayoutModel",
            "_view_count": null,
            "_view_module": "@jupyter-widgets/base",
            "_view_module_version": "1.2.0",
            "_view_name": "LayoutView",
            "align_content": null,
            "align_items": null,
            "align_self": null,
            "border": null,
            "bottom": null,
            "display": null,
            "flex": null,
            "flex_flow": null,
            "grid_area": null,
            "grid_auto_columns": null,
            "grid_auto_flow": null,
            "grid_auto_rows": null,
            "grid_column": null,
            "grid_gap": null,
            "grid_row": null,
            "grid_template_areas": null,
            "grid_template_columns": null,
            "grid_template_rows": null,
            "height": null,
            "justify_content": null,
            "justify_items": null,
            "left": null,
            "margin": null,
            "max_height": null,
            "max_width": null,
            "min_height": null,
            "min_width": null,
            "object_fit": null,
            "object_position": null,
            "order": null,
            "overflow": null,
            "overflow_x": null,
            "overflow_y": null,
            "padding": null,
            "right": null,
            "top": null,
            "visibility": null,
            "width": null
          }
        },
        "cacb627568fc43a1afdb78a42d214cee": {
          "model_module": "@jupyter-widgets/controls",
          "model_name": "DescriptionStyleModel",
          "model_module_version": "1.5.0",
          "state": {
            "_model_module": "@jupyter-widgets/controls",
            "_model_module_version": "1.5.0",
            "_model_name": "DescriptionStyleModel",
            "_view_count": null,
            "_view_module": "@jupyter-widgets/base",
            "_view_module_version": "1.2.0",
            "_view_name": "StyleView",
            "description_width": ""
          }
        },
        "5a5867ffbffe47d58bd3c19c43c862ef": {
          "model_module": "@jupyter-widgets/base",
          "model_name": "LayoutModel",
          "model_module_version": "1.2.0",
          "state": {
            "_model_module": "@jupyter-widgets/base",
            "_model_module_version": "1.2.0",
            "_model_name": "LayoutModel",
            "_view_count": null,
            "_view_module": "@jupyter-widgets/base",
            "_view_module_version": "1.2.0",
            "_view_name": "LayoutView",
            "align_content": null,
            "align_items": null,
            "align_self": null,
            "border": null,
            "bottom": null,
            "display": null,
            "flex": null,
            "flex_flow": null,
            "grid_area": null,
            "grid_auto_columns": null,
            "grid_auto_flow": null,
            "grid_auto_rows": null,
            "grid_column": null,
            "grid_gap": null,
            "grid_row": null,
            "grid_template_areas": null,
            "grid_template_columns": null,
            "grid_template_rows": null,
            "height": null,
            "justify_content": null,
            "justify_items": null,
            "left": null,
            "margin": null,
            "max_height": null,
            "max_width": null,
            "min_height": null,
            "min_width": null,
            "object_fit": null,
            "object_position": null,
            "order": null,
            "overflow": null,
            "overflow_x": null,
            "overflow_y": null,
            "padding": null,
            "right": null,
            "top": null,
            "visibility": null,
            "width": null
          }
        },
        "139775be824e49a6af3eaf7ad501d285": {
          "model_module": "@jupyter-widgets/controls",
          "model_name": "ProgressStyleModel",
          "model_module_version": "1.5.0",
          "state": {
            "_model_module": "@jupyter-widgets/controls",
            "_model_module_version": "1.5.0",
            "_model_name": "ProgressStyleModel",
            "_view_count": null,
            "_view_module": "@jupyter-widgets/base",
            "_view_module_version": "1.2.0",
            "_view_name": "StyleView",
            "bar_color": null,
            "description_width": ""
          }
        },
        "976535f15ebd4d8db8abd4930892a704": {
          "model_module": "@jupyter-widgets/base",
          "model_name": "LayoutModel",
          "model_module_version": "1.2.0",
          "state": {
            "_model_module": "@jupyter-widgets/base",
            "_model_module_version": "1.2.0",
            "_model_name": "LayoutModel",
            "_view_count": null,
            "_view_module": "@jupyter-widgets/base",
            "_view_module_version": "1.2.0",
            "_view_name": "LayoutView",
            "align_content": null,
            "align_items": null,
            "align_self": null,
            "border": null,
            "bottom": null,
            "display": null,
            "flex": null,
            "flex_flow": null,
            "grid_area": null,
            "grid_auto_columns": null,
            "grid_auto_flow": null,
            "grid_auto_rows": null,
            "grid_column": null,
            "grid_gap": null,
            "grid_row": null,
            "grid_template_areas": null,
            "grid_template_columns": null,
            "grid_template_rows": null,
            "height": null,
            "justify_content": null,
            "justify_items": null,
            "left": null,
            "margin": null,
            "max_height": null,
            "max_width": null,
            "min_height": null,
            "min_width": null,
            "object_fit": null,
            "object_position": null,
            "order": null,
            "overflow": null,
            "overflow_x": null,
            "overflow_y": null,
            "padding": null,
            "right": null,
            "top": null,
            "visibility": null,
            "width": null
          }
        },
        "53af129e31bb46f4b2f13c3828ee03cf": {
          "model_module": "@jupyter-widgets/controls",
          "model_name": "DescriptionStyleModel",
          "model_module_version": "1.5.0",
          "state": {
            "_model_module": "@jupyter-widgets/controls",
            "_model_module_version": "1.5.0",
            "_model_name": "DescriptionStyleModel",
            "_view_count": null,
            "_view_module": "@jupyter-widgets/base",
            "_view_module_version": "1.2.0",
            "_view_name": "StyleView",
            "description_width": ""
          }
        }
      }
    }
  },
  "cells": [
    {
      "cell_type": "markdown",
      "metadata": {
        "id": "view-in-github",
        "colab_type": "text"
      },
      "source": [
        "<a href=\"https://colab.research.google.com/github/nicikess/hsg-ml-course/blob/main/notebooks/ml_challenge_ResNet_50.ipynb\" target=\"_parent\"><img src=\"https://colab.research.google.com/assets/colab-badge.svg\" alt=\"Open In Colab\"/></a>"
      ]
    },
    {
      "cell_type": "code",
      "execution_count": null,
      "metadata": {
        "id": "G1WG87A7bIYf",
        "outputId": "0b4adf0a-310e-4de4-f3a5-8043911c202e",
        "colab": {
          "base_uri": "https://localhost:8080/"
        }
      },
      "outputs": [
        {
          "output_type": "stream",
          "name": "stdout",
          "text": [
            "Mounted at /content/drive\n"
          ]
        }
      ],
      "source": [
        "from google.colab import drive\n",
        "drive.mount('/content/drive')"
      ]
    },
    {
      "cell_type": "code",
      "source": [
        "import os\n",
        "import glob\n",
        "#import matplotlib.pyplot as plt\n",
        "import pandas as pd\n",
        "import numpy as np\n",
        "from PIL import Image\n",
        "\n",
        "!pip install rasterio\n",
        "import rasterio\n",
        "from rasterio.plot import reshape_as_image\n",
        "\n",
        "#from tqdm import tqdm\n",
        "#from tqdm.notebook import tqdm\n",
        "#import seaborn as sns\n",
        "\n",
        "from datetime import datetime\n",
        "\n",
        "from tifffile import imread\n",
        "\n",
        "from sklearn.metrics import confusion_matrix\n",
        "from sklearn import model_selection\n",
        "\n",
        "import torch, torchvision\n",
        "import torchvision.models as models\n",
        "import torch.nn as nn\n",
        "from torch.utils.data import DataLoader, Dataset, random_split\n",
        "from torchvision.transforms import transforms\n",
        "from torchvision.transforms import ToTensor\n",
        "#rom torchvision.utils import make_grid\n",
        "#import torch.nn.functional as F"
      ],
      "metadata": {
        "id": "AaecwyF3cYX6",
        "outputId": "2fd58937-bf26-4e15-a418-3756c2853a60",
        "colab": {
          "base_uri": "https://localhost:8080/"
        }
      },
      "execution_count": null,
      "outputs": [
        {
          "output_type": "stream",
          "name": "stdout",
          "text": [
            "Collecting rasterio\n",
            "  Downloading rasterio-1.2.10-cp37-cp37m-manylinux1_x86_64.whl (19.3 MB)\n",
            "\u001b[K     |████████████████████████████████| 19.3 MB 1.4 MB/s \n",
            "\u001b[?25hRequirement already satisfied: click>=4.0 in /usr/local/lib/python3.7/dist-packages (from rasterio) (7.1.2)\n",
            "Collecting click-plugins\n",
            "  Downloading click_plugins-1.1.1-py2.py3-none-any.whl (7.5 kB)\n",
            "Requirement already satisfied: attrs in /usr/local/lib/python3.7/dist-packages (from rasterio) (21.4.0)\n",
            "Requirement already satisfied: setuptools in /usr/local/lib/python3.7/dist-packages (from rasterio) (57.4.0)\n",
            "Collecting affine\n",
            "  Downloading affine-2.3.1-py2.py3-none-any.whl (16 kB)\n",
            "Collecting snuggs>=1.4.1\n",
            "  Downloading snuggs-1.4.7-py3-none-any.whl (5.4 kB)\n",
            "Requirement already satisfied: certifi in /usr/local/lib/python3.7/dist-packages (from rasterio) (2021.10.8)\n",
            "Requirement already satisfied: numpy in /usr/local/lib/python3.7/dist-packages (from rasterio) (1.21.6)\n",
            "Collecting cligj>=0.5\n",
            "  Downloading cligj-0.7.2-py3-none-any.whl (7.1 kB)\n",
            "Requirement already satisfied: pyparsing>=2.1.6 in /usr/local/lib/python3.7/dist-packages (from snuggs>=1.4.1->rasterio) (3.0.8)\n",
            "Installing collected packages: snuggs, cligj, click-plugins, affine, rasterio\n",
            "Successfully installed affine-2.3.1 click-plugins-1.1.1 cligj-0.7.2 rasterio-1.2.10 snuggs-1.4.7\n"
          ]
        }
      ]
    },
    {
      "cell_type": "code",
      "source": [
        "import os\n",
        "folder = '/content/drive/MyDrive/ML/data/dataset/trainset/'\n",
        "subfolders = []\n",
        "for dirs in os.walk(folder):\n",
        "  subfolders.append(dirs[0])\n",
        "\n",
        "#remove directory\n",
        "subfolders.pop(0)\n",
        "for i in range(0, len(subfolders)):\n",
        "     print(subfolders[i])"
      ],
      "metadata": {
        "id": "vCZ_ro41C82S"
      },
      "execution_count": null,
      "outputs": []
    },
    {
      "cell_type": "code",
      "source": [
        "ROOT_PATH = '/content/drive/MyDrive/ML/'\n",
        "BASE_PATH = os.path.join(ROOT_PATH, 'data')\n",
        "DATA_PATH = os.path.join(ROOT_PATH, 'dataset')\n",
        "MODEL_PATH = os.path.join(ROOT_PATH, 'model')\n",
        "\n",
        "file_path_train = '/content/drive/MyDrive/ML/data/dataset/train.csv'\n",
        "file_path_test = '/content/drive/MyDrive/ML/data/dataset/test.csv'\n",
        "data_df_train = pd.read_csv(file_path_train)\n",
        "data_df_test = pd.read_csv(file_path_test)\n",
        "\n",
        "data_df_train.columns = data_df_train.columns.str.replace('path', 'image_id')\n",
        "data_df_train.columns = data_df_train.columns.str.replace('Label', 'label')\n",
        "\n",
        "print(data_df_train.columns)\n",
        "\n",
        "#data_df = data_df.iloc[0]\n",
        "\n",
        "data_df_test.head()"
      ],
      "metadata": {
        "id": "fpaSbKiPcl8S",
        "outputId": "fc8fead1-924f-42d6-d593-65da1d954df5",
        "colab": {
          "base_uri": "https://localhost:8080/",
          "height": 224
        }
      },
      "execution_count": null,
      "outputs": [
        {
          "output_type": "stream",
          "name": "stdout",
          "text": [
            "Index(['image_id', 'label'], dtype='object')\n"
          ]
        },
        {
          "output_type": "execute_result",
          "data": {
            "text/plain": [
              "   test_id\n",
              "0        0\n",
              "1        1\n",
              "2        2\n",
              "3        3\n",
              "4        4"
            ],
            "text/html": [
              "\n",
              "  <div id=\"df-29e96232-edce-4f26-b6b7-e7e69ee556e6\">\n",
              "    <div class=\"colab-df-container\">\n",
              "      <div>\n",
              "<style scoped>\n",
              "    .dataframe tbody tr th:only-of-type {\n",
              "        vertical-align: middle;\n",
              "    }\n",
              "\n",
              "    .dataframe tbody tr th {\n",
              "        vertical-align: top;\n",
              "    }\n",
              "\n",
              "    .dataframe thead th {\n",
              "        text-align: right;\n",
              "    }\n",
              "</style>\n",
              "<table border=\"1\" class=\"dataframe\">\n",
              "  <thead>\n",
              "    <tr style=\"text-align: right;\">\n",
              "      <th></th>\n",
              "      <th>test_id</th>\n",
              "    </tr>\n",
              "  </thead>\n",
              "  <tbody>\n",
              "    <tr>\n",
              "      <th>0</th>\n",
              "      <td>0</td>\n",
              "    </tr>\n",
              "    <tr>\n",
              "      <th>1</th>\n",
              "      <td>1</td>\n",
              "    </tr>\n",
              "    <tr>\n",
              "      <th>2</th>\n",
              "      <td>2</td>\n",
              "    </tr>\n",
              "    <tr>\n",
              "      <th>3</th>\n",
              "      <td>3</td>\n",
              "    </tr>\n",
              "    <tr>\n",
              "      <th>4</th>\n",
              "      <td>4</td>\n",
              "    </tr>\n",
              "  </tbody>\n",
              "</table>\n",
              "</div>\n",
              "      <button class=\"colab-df-convert\" onclick=\"convertToInteractive('df-29e96232-edce-4f26-b6b7-e7e69ee556e6')\"\n",
              "              title=\"Convert this dataframe to an interactive table.\"\n",
              "              style=\"display:none;\">\n",
              "        \n",
              "  <svg xmlns=\"http://www.w3.org/2000/svg\" height=\"24px\"viewBox=\"0 0 24 24\"\n",
              "       width=\"24px\">\n",
              "    <path d=\"M0 0h24v24H0V0z\" fill=\"none\"/>\n",
              "    <path d=\"M18.56 5.44l.94 2.06.94-2.06 2.06-.94-2.06-.94-.94-2.06-.94 2.06-2.06.94zm-11 1L8.5 8.5l.94-2.06 2.06-.94-2.06-.94L8.5 2.5l-.94 2.06-2.06.94zm10 10l.94 2.06.94-2.06 2.06-.94-2.06-.94-.94-2.06-.94 2.06-2.06.94z\"/><path d=\"M17.41 7.96l-1.37-1.37c-.4-.4-.92-.59-1.43-.59-.52 0-1.04.2-1.43.59L10.3 9.45l-7.72 7.72c-.78.78-.78 2.05 0 2.83L4 21.41c.39.39.9.59 1.41.59.51 0 1.02-.2 1.41-.59l7.78-7.78 2.81-2.81c.8-.78.8-2.07 0-2.86zM5.41 20L4 18.59l7.72-7.72 1.47 1.35L5.41 20z\"/>\n",
              "  </svg>\n",
              "      </button>\n",
              "      \n",
              "  <style>\n",
              "    .colab-df-container {\n",
              "      display:flex;\n",
              "      flex-wrap:wrap;\n",
              "      gap: 12px;\n",
              "    }\n",
              "\n",
              "    .colab-df-convert {\n",
              "      background-color: #E8F0FE;\n",
              "      border: none;\n",
              "      border-radius: 50%;\n",
              "      cursor: pointer;\n",
              "      display: none;\n",
              "      fill: #1967D2;\n",
              "      height: 32px;\n",
              "      padding: 0 0 0 0;\n",
              "      width: 32px;\n",
              "    }\n",
              "\n",
              "    .colab-df-convert:hover {\n",
              "      background-color: #E2EBFA;\n",
              "      box-shadow: 0px 1px 2px rgba(60, 64, 67, 0.3), 0px 1px 3px 1px rgba(60, 64, 67, 0.15);\n",
              "      fill: #174EA6;\n",
              "    }\n",
              "\n",
              "    [theme=dark] .colab-df-convert {\n",
              "      background-color: #3B4455;\n",
              "      fill: #D2E3FC;\n",
              "    }\n",
              "\n",
              "    [theme=dark] .colab-df-convert:hover {\n",
              "      background-color: #434B5C;\n",
              "      box-shadow: 0px 1px 3px 1px rgba(0, 0, 0, 0.15);\n",
              "      filter: drop-shadow(0px 1px 2px rgba(0, 0, 0, 0.3));\n",
              "      fill: #FFFFFF;\n",
              "    }\n",
              "  </style>\n",
              "\n",
              "      <script>\n",
              "        const buttonEl =\n",
              "          document.querySelector('#df-29e96232-edce-4f26-b6b7-e7e69ee556e6 button.colab-df-convert');\n",
              "        buttonEl.style.display =\n",
              "          google.colab.kernel.accessAllowed ? 'block' : 'none';\n",
              "\n",
              "        async function convertToInteractive(key) {\n",
              "          const element = document.querySelector('#df-29e96232-edce-4f26-b6b7-e7e69ee556e6');\n",
              "          const dataTable =\n",
              "            await google.colab.kernel.invokeFunction('convertToInteractive',\n",
              "                                                     [key], {});\n",
              "          if (!dataTable) return;\n",
              "\n",
              "          const docLinkHtml = 'Like what you see? Visit the ' +\n",
              "            '<a target=\"_blank\" href=https://colab.research.google.com/notebooks/data_table.ipynb>data table notebook</a>'\n",
              "            + ' to learn more about interactive tables.';\n",
              "          element.innerHTML = '';\n",
              "          dataTable['output_type'] = 'display_data';\n",
              "          await google.colab.output.renderOutput(dataTable, element);\n",
              "          const docLink = document.createElement('div');\n",
              "          docLink.innerHTML = docLinkHtml;\n",
              "          element.appendChild(docLink);\n",
              "        }\n",
              "      </script>\n",
              "    </div>\n",
              "  </div>\n",
              "  "
            ]
          },
          "metadata": {},
          "execution_count": 4
        }
      ]
    },
    {
      "cell_type": "code",
      "source": [
        "# init deterministic seed\n",
        "seed_value = 1234\n",
        "np.random.seed(seed_value) # set numpy seed\n",
        "torch.manual_seed(seed_value) # set pytorch seed CPU"
      ],
      "metadata": {
        "colab": {
          "base_uri": "https://localhost:8080/"
        },
        "id": "0X0M4kJD4s8c",
        "outputId": "4ca0dced-fe50-42b6-b45a-8c2517f940bf"
      },
      "execution_count": null,
      "outputs": [
        {
          "output_type": "execute_result",
          "data": {
            "text/plain": [
              "<torch._C.Generator at 0x7feff3c30970>"
            ]
          },
          "metadata": {},
          "execution_count": 5
        }
      ]
    },
    {
      "cell_type": "code",
      "source": [
        "IDX_CLASS_LABELS = {\n",
        "    0: 'AnnualCrop',\n",
        "    1: 'Forest', \n",
        "    2: 'HerbaceousVegetation',\n",
        "    3: 'Highway',\n",
        "    4: 'Industrial',\n",
        "    5: 'Pasture',\n",
        "    6: 'PermanentCrop',\n",
        "    7: 'Residential',\n",
        "    8: 'River',\n",
        "    9: 'SeaLake'\n",
        "}\n",
        "\n",
        "CLASSES = ['AnnualCrop', 'Forest', 'HerbaceousVegetation', 'Highway', 'Industrial', 'Pasture','PermanentCrop','Residential','River', 'SeaLake']\n",
        "CLASS_IDX_LABELS = dict()\n",
        "for key, val in IDX_CLASS_LABELS.items():\n",
        "  CLASS_IDX_LABELS[val] = key\n",
        "\n",
        "NUM_CLASSES = len(IDX_CLASS_LABELS.items())\n",
        "torch.manual_seed(10)\n",
        "VALID_SIZE = 0.1"
      ],
      "metadata": {
        "id": "DaeA0JLat19y"
      },
      "execution_count": null,
      "outputs": []
    },
    {
      "cell_type": "code",
      "source": [
        "## Give idx of each class name\n",
        "def encode_label(label):\n",
        "    idx = CLASS_IDX_LABELS[label] \n",
        "    return idx\n",
        "\n",
        "## Take in idx and return the class name\n",
        "def decode_target(target, text_labels=True):\n",
        "    result = []\n",
        "    if text_labels:\n",
        "        return IDX_CLASS_LABELS[target]\n",
        "    else:\n",
        "        return target\n",
        "\n",
        "## Show batches of images\n",
        "def show_batch(dl):\n",
        "    for images, labels in dl:\n",
        "        print(images.shape)\n",
        "        fig, ax = plt.subplots(figsize=(16, 8))\n",
        "        ax.set_xticks([]); ax.set_yticks([])\n",
        "        ax.imshow(make_grid(images, nrow=16).permute(1, 2, 0))\n",
        "        break"
      ],
      "metadata": {
        "id": "mVknVp6zt97o"
      },
      "execution_count": null,
      "outputs": []
    },
    {
      "cell_type": "code",
      "source": [
        "'''import os\n",
        "\n",
        "def normalizeBand(band):\n",
        "  band_norm = np.interp(band, (band.min(), band.max()), (0, 1))\n",
        "  return band_norm\n",
        "\n",
        "data = {}\n",
        "\n",
        "for i in range(len(subfolders)):\n",
        "\n",
        "  txtfiles = []\n",
        "\n",
        "  # traverse whole directory\n",
        "  for root, dirs, files in os.walk(subfolders[i]):\n",
        "    # select file name\n",
        "    for file in files:\n",
        "        # check the extension of files\n",
        "        if file.endswith('.tif'):\n",
        "            txtfiles.append(os.path.join(root, file))\n",
        "\n",
        "  code = subfolders[i].split('/')[8]\n",
        "  index = encode_label(code)\n",
        "  arr = np.zeros([len(txtfiles), 64, 64, 13], dtype=\"float32\")\n",
        "\n",
        "  print(code)\n",
        "  print(index)\n",
        "\n",
        "  i = 0\n",
        "  for pic in txtfiles:\n",
        "    #print(i)\n",
        "    with rasterio.open(pic, \"r\") as img:\n",
        "      tmp = np.moveaxis(img.read(), 0, 2)\n",
        "      arr[i] = normalizeBand(tmp)\n",
        "      i += 1\n",
        "      \n",
        "  data[index] = arr'''"
      ],
      "metadata": {
        "id": "yYQNn_5JN_4b",
        "outputId": "c62c5bf9-b91b-459b-e3d5-37ea07f8e6c4",
        "colab": {
          "base_uri": "https://localhost:8080/",
          "height": 124
        }
      },
      "execution_count": null,
      "outputs": [
        {
          "output_type": "execute_result",
          "data": {
            "text/plain": [
              "'import os\\n\\ndef normalizeBand(band):\\n  band_norm = np.interp(band, (band.min(), band.max()), (0, 1))\\n  return band_norm\\n\\ndata = {}\\n\\nfor i in range(len(subfolders)):\\n\\n  txtfiles = []\\n\\n  # traverse whole directory\\n  for root, dirs, files in os.walk(subfolders[i]):\\n    # select file name\\n    for file in files:\\n        # check the extension of files\\n        if file.endswith(\\'.tif\\'):\\n            txtfiles.append(os.path.join(root, file))\\n\\n  code = subfolders[i].split(\\'/\\')[8]\\n  index = encode_label(code)\\n  arr = np.zeros([len(txtfiles), 64, 64, 13], dtype=\"float32\")\\n\\n  print(code)\\n  print(index)\\n\\n  i = 0\\n  for pic in txtfiles:\\n    #print(i)\\n    with rasterio.open(pic, \"r\") as img:\\n      tmp = np.moveaxis(img.read(), 0, 2)\\n      arr[i] = normalizeBand(tmp)\\n      i += 1\\n      \\n  data[index] = arr'"
            ],
            "application/vnd.google.colaboratory.intrinsic+json": {
              "type": "string"
            }
          },
          "metadata": {},
          "execution_count": 8
        }
      ]
    },
    {
      "cell_type": "code",
      "source": [
        "'''for i in range(len(data)):\n",
        "  keys_list = list(data)\n",
        "  key = keys_list[i]\n",
        "  np.save('/content/drive/MyDrive/ML/data/dataset/trainset/'+f'data_class{key}.npy', data[i], allow_pickle=True, fix_imports=True)'''"
      ],
      "metadata": {
        "id": "4URBlEq4FxTb",
        "outputId": "23e2abd3-1953-44e6-d2e2-d4c0d8da1286",
        "colab": {
          "base_uri": "https://localhost:8080/",
          "height": 53
        }
      },
      "execution_count": null,
      "outputs": [
        {
          "output_type": "execute_result",
          "data": {
            "text/plain": [
              "\"for i in range(len(data)):\\n  keys_list = list(data)\\n  key = keys_list[i]\\n  np.save('/content/drive/MyDrive/ML/data/dataset/trainset/'+f'data_class{key}.npy', data[i], allow_pickle=True, fix_imports=True)\""
            ],
            "application/vnd.google.colaboratory.intrinsic+json": {
              "type": "string"
            }
          },
          "metadata": {},
          "execution_count": 9
        }
      ]
    },
    {
      "cell_type": "code",
      "source": [
        "import os\n",
        "path = '/content/drive/MyDrive/ML/data/dataset/trainset/'\n",
        "npyfiles = []\n",
        "data = {}\n",
        "\n",
        "for root, dirs, files in os.walk(path):\n",
        "    # check the extension of files\n",
        "    for file in files:\n",
        "        # check the extension of files\n",
        "        if file.endswith('.npy'):\n",
        "            npyfiles.append(os.path.join(root, file))\n",
        "\n",
        "for i in range(len(npyfiles)):\n",
        "  path = npyfiles[i]\n",
        "  arr = np.load(path)\n",
        "  index = path.split('/')[8].split('_')[1][5]\n",
        "  index = int(index)\n",
        "  data[index] = arr"
      ],
      "metadata": {
        "id": "00a4BPE2XASQ"
      },
      "execution_count": null,
      "outputs": []
    },
    {
      "cell_type": "code",
      "source": [
        "def normalize_for_display(band_data):\n",
        "    \"\"\"Normalize multi-spectral imagery across bands.\n",
        "    The input is expected to be in HxWxC format, e.g. 64x64x13.\n",
        "    To account for outliers (e.g. extremly high values due to\n",
        "    reflective surfaces), we normalize with the 2- and 98-percentiles\n",
        "    instead of minimum and maximum of each band.\n",
        "    \"\"\"\n",
        "    band_data = np.array(band_data)\n",
        "    lower_perc = np.percentile(band_data, 2, axis=(0, 1))\n",
        "    upper_perc = np.percentile(band_data, 98, axis=(0, 1))\n",
        "\n",
        "    return (band_data - lower_perc) / (upper_perc - lower_perc)"
      ],
      "metadata": {
        "id": "UEkk8BfwftJq"
      },
      "execution_count": null,
      "outputs": []
    },
    {
      "cell_type": "code",
      "source": [
        "#Before appling transform we have a different shape\n",
        "#Transform reshapes the image\n",
        "#Added normalize because it was taken out below (maybe other way works as well)\n",
        "\n",
        "from pathlib import Path\n",
        "class EuroSAT(Dataset):\n",
        "    def __init__(self, train_df, train_dir, transform=None):\n",
        "        self.train_dir = train_dir\n",
        "        self.train_df = train_df\n",
        "        self.transform = transform\n",
        "\n",
        "    def __len__(self):\n",
        "        return len(self.train_df)\n",
        "    \n",
        "    def __getitem__(self, idx):\n",
        "        row = self.train_df.loc[idx]\n",
        "        img_id, label = row['image_id'], row['label']\n",
        "        img_id = int(img_id.split('.')[0].split('_')[1])\n",
        "        label_encode = int(encode_label(label))\n",
        "        id = img_id - 1\n",
        "        img = data[label_encode][id]\n",
        "        #img_nor = normalize_for_display(img)\n",
        "        img_rgb = img[:, :, [3,2,1]]\n",
        "        if self.transform:\n",
        "            img_rgb = self.transform(img_rgb)\n",
        "        return img_rgb, encode_label(label)"
      ],
      "metadata": {
        "id": "4W80rR8ftkNT"
      },
      "execution_count": null,
      "outputs": []
    },
    {
      "cell_type": "code",
      "source": [
        "transf = torchvision.transforms.Compose([torchvision.transforms.ToTensor(),transforms.ConvertImageDtype(torch.float)])\n",
        "\n",
        "train_ds = EuroSAT(data_df_train, BASE_PATH, transf)\n",
        "print(len(train_ds))"
      ],
      "metadata": {
        "id": "IV4SNvidsIjC",
        "outputId": "54144079-0964-4a16-cacb-cc0ef605f9b7",
        "colab": {
          "base_uri": "https://localhost:8080/"
        }
      },
      "execution_count": null,
      "outputs": [
        {
          "output_type": "stream",
          "name": "stdout",
          "text": [
            "27000\n"
          ]
        }
      ]
    },
    {
      "cell_type": "code",
      "source": [
        "#print(train_ds[0][0])\n",
        "np.shape(train_ds[0][0])\n",
        "print(train_ds[0][0])"
      ],
      "metadata": {
        "id": "ZlOYujcF89-Q",
        "outputId": "97a03d6f-37c5-4f1b-b9a2-882ff590cf81",
        "colab": {
          "base_uri": "https://localhost:8080/"
        }
      },
      "execution_count": null,
      "outputs": [
        {
          "output_type": "stream",
          "name": "stdout",
          "text": [
            "tensor([[[0.1108, 0.1108, 0.1235,  ..., 0.2990, 0.3151, 0.3162],\n",
            "         [0.1108, 0.1108, 0.1235,  ..., 0.2990, 0.3151, 0.3162],\n",
            "         [0.1180, 0.1180, 0.1385,  ..., 0.3039, 0.3151, 0.3183],\n",
            "         ...,\n",
            "         [0.3001, 0.3001, 0.3020,  ..., 0.2421, 0.2442, 0.2517],\n",
            "         [0.3053, 0.3053, 0.3006,  ..., 0.2364, 0.2373, 0.2401],\n",
            "         [0.3056, 0.3056, 0.2990,  ..., 0.2339, 0.2304, 0.2295]],\n",
            "\n",
            "        [[0.1757, 0.1757, 0.1823,  ..., 0.2092, 0.2282, 0.2278],\n",
            "         [0.1757, 0.1757, 0.1823,  ..., 0.2092, 0.2282, 0.2278],\n",
            "         [0.1771, 0.1771, 0.1904,  ..., 0.2160, 0.2276, 0.2270],\n",
            "         ...,\n",
            "         [0.2093, 0.2093, 0.2178,  ..., 0.1802, 0.1818, 0.1856],\n",
            "         [0.2212, 0.2212, 0.2193,  ..., 0.1793, 0.1790, 0.1795],\n",
            "         [0.2234, 0.2234, 0.2162,  ..., 0.1799, 0.1768, 0.1754]],\n",
            "\n",
            "        [[0.1546, 0.1546, 0.1609,  ..., 0.1990, 0.2160, 0.2160],\n",
            "         [0.1546, 0.1546, 0.1609,  ..., 0.1990, 0.2160, 0.2160],\n",
            "         [0.1576, 0.1576, 0.1671,  ..., 0.2068, 0.2118, 0.2137],\n",
            "         ...,\n",
            "         [0.1976, 0.1976, 0.2079,  ..., 0.1732, 0.1759, 0.1826],\n",
            "         [0.2121, 0.2121, 0.2101,  ..., 0.1716, 0.1727, 0.1738],\n",
            "         [0.2124, 0.2124, 0.2056,  ..., 0.1756, 0.1734, 0.1713]]])\n"
          ]
        }
      ]
    },
    {
      "cell_type": "code",
      "source": [
        "from matplotlib import pyplot as plt\n",
        "from cProfile import label\n",
        "\n",
        "#img = data[label_encode][id]\n",
        "img = data[4][1]\n",
        "#img = reshape_as_image(img)\n",
        "normalized_img = normalize_for_display(img)\n",
        "\n",
        "print(img.shape)\n",
        "\n",
        "rgb_img = normalized_img[:, :, [3,2,1]]\n",
        "\n",
        "fig, ax = plt.subplots(1, figsize=(5,5))\n",
        "ax.imshow(rgb_img)\n",
        "ax.set_title(f\"{label}\")\n",
        "ax.axis(False)\n",
        "plt.tight_layout()\n",
        "\n",
        "plt.show()"
      ],
      "metadata": {
        "id": "0KLKyUVo35Y_",
        "outputId": "4323c41e-7568-4cba-95c9-74658e001fcd",
        "colab": {
          "base_uri": "https://localhost:8080/",
          "height": 404
        }
      },
      "execution_count": null,
      "outputs": [
        {
          "output_type": "stream",
          "name": "stderr",
          "text": [
            "Clipping input data to the valid range for imshow with RGB data ([0..1] for floats or [0..255] for integers).\n"
          ]
        },
        {
          "output_type": "stream",
          "name": "stdout",
          "text": [
            "(64, 64, 13)\n"
          ]
        },
        {
          "output_type": "display_data",
          "data": {
            "text/plain": [
              "<Figure size 360x360 with 1 Axes>"
            ],
            "image/png": "[encoded data removed]"
          },
          "metadata": {
            "needs_background": "light"
          }
        }
      ]
    },
    {
      "cell_type": "markdown",
      "source": [
        "DONT CHANGE THE SHAPE OF THE IMAGE FROM TRAINING - ONLY FOR VISUALIZING BECAUSE LIBRARY LIKE rasterio use different dimensions\n"
      ],
      "metadata": {
        "id": "BQnP-qnk-fj1"
      }
    },
    {
      "cell_type": "markdown",
      "source": [
        "Model"
      ],
      "metadata": {
        "id": "gAyeRny_03IA"
      }
    },
    {
      "cell_type": "code",
      "source": [
        "data[0][0].shape"
      ],
      "metadata": {
        "id": "2NPRnMEyqdD6",
        "outputId": "67c9eeba-1b57-435b-f64e-7e782d4952a7",
        "colab": {
          "base_uri": "https://localhost:8080/"
        }
      },
      "execution_count": null,
      "outputs": [
        {
          "output_type": "execute_result",
          "data": {
            "text/plain": [
              "(64, 64, 13)"
            ]
          },
          "metadata": {},
          "execution_count": 16
        }
      ]
    },
    {
      "cell_type": "code",
      "source": [
        "pretrainedBool = True\n",
        "model = models.resnet50(pretrained=pretrainedBool)\n",
        "if pretrainedBool:\n",
        "    for param in model.parameters():\n",
        "        param.requires_grad = False\n",
        "model.fc = nn.Linear(model.fc.in_features, 10)"
      ],
      "metadata": {
        "id": "WhJfZoyTVpl9",
        "outputId": "0044c6d9-30ec-435c-fb67-c7fb258bcfb5",
        "colab": {
          "base_uri": "https://localhost:8080/",
          "height": 67,
          "referenced_widgets": [
            "cefc04a75bc640708af98f32cf8cc8d2",
            "fa3f7565ff7b403fbd92eae360d4b36b",
            "4befa09c15304721a36148902adc9307",
            "5e1ca787dde047ceaa6db91ffdd91fa5",
            "763e56d0d23a45dd8ca83885ae44b9fc",
            "282b41665f8f419dacb2c28cad13742d",
            "cacb627568fc43a1afdb78a42d214cee",
            "5a5867ffbffe47d58bd3c19c43c862ef",
            "139775be824e49a6af3eaf7ad501d285",
            "976535f15ebd4d8db8abd4930892a704",
            "53af129e31bb46f4b2f13c3828ee03cf"
          ]
        }
      },
      "execution_count": 65,
      "outputs": [
        {
          "output_type": "stream",
          "name": "stderr",
          "text": [
            "Downloading: \"https://download.pytorch.org/models/resnet50-0676ba61.pth\" to /root/.cache/torch/hub/checkpoints/resnet50-0676ba61.pth\n"
          ]
        },
        {
          "output_type": "display_data",
          "data": {
            "text/plain": [
              "  0%|          | 0.00/97.8M [00:00<?, ?B/s]"
            ],
            "application/vnd.jupyter.widget-view+json": {
              "version_major": 2,
              "version_minor": 0,
              "model_id": "cefc04a75bc640708af98f32cf8cc8d2"
            }
          },
          "metadata": {}
        }
      ]
    },
    {
      "cell_type": "code",
      "source": [
        "# set cpu or gpu enabled device\n",
        "device = torch.device('cuda' if torch.cuda.is_available() else 'cpu').type\n",
        "\n",
        "# init deterministic GPU seed\n",
        "torch.cuda.manual_seed(seed_value)\n",
        "\n",
        "# log type of device enabled\n",
        "print('[LOG] notebook with {} computation enabled'.format(str(device)))"
      ],
      "metadata": {
        "colab": {
          "base_uri": "https://localhost:8080/"
        },
        "id": "WquDuPH24v5m",
        "outputId": "b2a7213c-4ca6-4cc6-9798-40dd519201f3"
      },
      "execution_count": 66,
      "outputs": [
        {
          "output_type": "stream",
          "name": "stdout",
          "text": [
            "[LOG] notebook with cuda computation enabled\n"
          ]
        }
      ]
    },
    {
      "cell_type": "code",
      "source": [
        "model = model.to(device)"
      ],
      "metadata": {
        "id": "WX5qPa-V4b2p"
      },
      "execution_count": 67,
      "outputs": []
    },
    {
      "cell_type": "code",
      "source": [
        "# define the optimization criterion / loss function\n",
        "ce_loss = nn.CrossEntropyLoss()"
      ],
      "metadata": {
        "id": "JGudJ__B4fIk"
      },
      "execution_count": 68,
      "outputs": []
    },
    {
      "cell_type": "code",
      "source": [
        "ce_loss = ce_loss.to(device)"
      ],
      "metadata": {
        "id": "ft3U8mHQ5LtQ"
      },
      "execution_count": 69,
      "outputs": []
    },
    {
      "cell_type": "code",
      "source": [
        "# define learning rate and optimization strategy\n",
        "learning_rate = 0.001\n",
        "params = model.fc.parameters() if pretrainedBool else model.parameters()\n",
        "optimizer = torch.optim.Adam(params, lr=learning_rate, weight_decay=0)"
      ],
      "metadata": {
        "id": "3gA6pIk45O88"
      },
      "execution_count": 70,
      "outputs": []
    },
    {
      "cell_type": "code",
      "source": [
        "# specify the training parameters\n",
        "num_epochs = 500 # number of training epochs\n",
        "mini_batch_size = 2560 # size of the mini-batches"
      ],
      "metadata": {
        "id": "_ebJQH2A5RUP"
      },
      "execution_count": 71,
      "outputs": []
    },
    {
      "cell_type": "code",
      "source": [
        "train_dl = DataLoader(train_ds, batch_size=mini_batch_size, shuffle=True)"
      ],
      "metadata": {
        "id": "TqkavzzM5Snd"
      },
      "execution_count": 72,
      "outputs": []
    },
    {
      "cell_type": "code",
      "source": [
        "#transf = torchvision.transforms.Compose([torchvision.transforms.ToTensor(), torchvision.transforms.Normalize((0.5, 0.5, 0.5), (0.5, 0.5, 0.5))])\n",
        "#cifar10_train_data = torchvision.datasets.CIFAR10(root=BASE_PATH, train=True, transform=transf, download=True)\n",
        "#cifar10_train_dataloader = torch.utils.data.DataLoader(cifar10_train_data, batch_size=mini_batch_size, shuffle=True)"
      ],
      "metadata": {
        "id": "O-oRNDz_Ierk"
      },
      "execution_count": null,
      "outputs": []
    },
    {
      "cell_type": "code",
      "source": [
        "# init collection of training epoch losses\n",
        "train_epoch_losses = []\n",
        "\n",
        "# set the model in training mode\n",
        "model.train()\n",
        "\n",
        "# train the CIFAR10 model\n",
        "for epoch in range(num_epochs):\n",
        "    \n",
        "    # init collection of mini-batch losses\n",
        "    train_mini_batch_losses = []\n",
        "\n",
        "    # iterate over all-mini batches\n",
        "    for i, (images, labels) in enumerate(train_dl):\n",
        "\n",
        "        #print(images)\n",
        "\n",
        "        # push mini-batch data to computation device\n",
        "        images = images.to(device)\n",
        "        labels = labels.to(device)\n",
        "\n",
        "        # run forward pass through the network\n",
        "        output = model(images)\n",
        "        \n",
        "        # reset graph gradients\n",
        "        model.zero_grad()\n",
        "        \n",
        "        # determine classification loss\n",
        "        loss = ce_loss(output, labels)\n",
        "        \n",
        "        # run backward pass\n",
        "        loss.backward()\n",
        "        \n",
        "        # update network paramaters\n",
        "        optimizer.step()\n",
        "        \n",
        "        # collect mini-batch reconstruction loss\n",
        "        train_mini_batch_losses.append(loss.data.item())\n",
        "\n",
        "    # determine mean min-batch loss of epoch\n",
        "    train_epoch_loss = np.mean(train_mini_batch_losses)\n",
        "    \n",
        "    # print epoch loss\n",
        "    now = datetime.utcnow().strftime(\"%Y%m%d-%H:%M:%S\")\n",
        "    print('[LOG {}] epoch: {} train-loss: {}'.format(str(now), str(epoch), str(train_epoch_loss)))\n",
        "    \n",
        "    # set filename of actual model\n",
        "    model_name = 'challenge_model_epoch_{}.pth'.format(str(epoch))\n",
        "\n",
        "    # save current model to GDrive models directory\n",
        "    torch.save(model.state_dict(), os.path.join(MODEL_PATH, model_name))\n",
        "    \n",
        "    # determine mean min-batch loss of epoch\n",
        "    train_epoch_losses.append(train_epoch_loss)"
      ],
      "metadata": {
        "id": "7DSzKx0W7IR8",
        "outputId": "4b54680f-ccae-421e-b50c-1d3ebbbeb516",
        "colab": {
          "base_uri": "https://localhost:8080/",
          "height": 492
        }
      },
      "execution_count": 73,
      "outputs": [
        {
          "output_type": "stream",
          "name": "stdout",
          "text": [
            "[LOG 20220501-06:56:46] epoch: 0 train-loss: 1.5947714177044956\n",
            "[LOG 20220501-06:56:58] epoch: 1 train-loss: 0.8157967112281106\n",
            "[LOG 20220501-06:57:10] epoch: 2 train-loss: 0.6112690459598195\n",
            "[LOG 20220501-06:57:23] epoch: 3 train-loss: 0.5284468694166704\n",
            "[LOG 20220501-06:57:35] epoch: 4 train-loss: 0.48385483026504517\n",
            "[LOG 20220501-06:57:48] epoch: 5 train-loss: 0.4549984742294658\n",
            "[LOG 20220501-06:58:00] epoch: 6 train-loss: 0.4347710636529056\n",
            "[LOG 20220501-06:58:13] epoch: 7 train-loss: 0.41557402502406726\n",
            "[LOG 20220501-06:58:25] epoch: 8 train-loss: 0.39986089955676685\n",
            "[LOG 20220501-06:58:37] epoch: 9 train-loss: 0.3843591131947257\n",
            "[LOG 20220501-06:58:50] epoch: 10 train-loss: 0.372502172535116\n",
            "[LOG 20220501-06:59:02] epoch: 11 train-loss: 0.36245983839035034\n",
            "[LOG 20220501-06:59:14] epoch: 12 train-loss: 0.3561765822497281\n",
            "[LOG 20220501-06:59:26] epoch: 13 train-loss: 0.34568873860619287\n"
          ]
        },
        {
          "output_type": "error",
          "ename": "KeyboardInterrupt",
          "evalue": "ignored",
          "traceback": [
            "\u001b[0;31m---------------------------------------------------------------------------\u001b[0m",
            "\u001b[0;31mKeyboardInterrupt\u001b[0m                         Traceback (most recent call last)",
            "\u001b[0;32m<ipython-input-73-b9ac6fcfa56f>\u001b[0m in \u001b[0;36m<module>\u001b[0;34m()\u001b[0m\n\u001b[1;32m     36\u001b[0m \u001b[0;34m\u001b[0m\u001b[0m\n\u001b[1;32m     37\u001b[0m         \u001b[0;31m# collect mini-batch reconstruction loss\u001b[0m\u001b[0;34m\u001b[0m\u001b[0;34m\u001b[0m\u001b[0;34m\u001b[0m\u001b[0m\n\u001b[0;32m---> 38\u001b[0;31m         \u001b[0mtrain_mini_batch_losses\u001b[0m\u001b[0;34m.\u001b[0m\u001b[0mappend\u001b[0m\u001b[0;34m(\u001b[0m\u001b[0mloss\u001b[0m\u001b[0;34m.\u001b[0m\u001b[0mdata\u001b[0m\u001b[0;34m.\u001b[0m\u001b[0mitem\u001b[0m\u001b[0;34m(\u001b[0m\u001b[0;34m)\u001b[0m\u001b[0;34m)\u001b[0m\u001b[0;34m\u001b[0m\u001b[0;34m\u001b[0m\u001b[0m\n\u001b[0m\u001b[1;32m     39\u001b[0m \u001b[0;34m\u001b[0m\u001b[0m\n\u001b[1;32m     40\u001b[0m     \u001b[0;31m# determine mean min-batch loss of epoch\u001b[0m\u001b[0;34m\u001b[0m\u001b[0;34m\u001b[0m\u001b[0;34m\u001b[0m\u001b[0m\n",
            "\u001b[0;31mKeyboardInterrupt\u001b[0m: "
          ]
        }
      ]
    },
    {
      "cell_type": "code",
      "source": [
        "import os\n",
        "path = '/content/drive/MyDrive/ML/data/dataset/testset/'\n",
        "npyfiles = []\n",
        "datatest = {}\n",
        "\n",
        "for root, dirs, files in os.walk(path):\n",
        "    # check the extension of files\n",
        "    for file in files:\n",
        "        # check the extension of files\n",
        "        if file.endswith('.npy'):\n",
        "            npyfiles.append(os.path.join(root, file))\n",
        "\n",
        "for i in range(len(npyfiles)):\n",
        "  #print(i)\n",
        "  #print(path)\n",
        "  path = npyfiles[i]\n",
        "  arr = np.load(path)\n",
        "  index = int(path.split('_')[1].split('.')[0])\n",
        "  datatest[index] = arr"
      ],
      "metadata": {
        "id": "YtwPdGg3jR9S"
      },
      "execution_count": null,
      "outputs": []
    },
    {
      "cell_type": "code",
      "source": [
        "#Before appling transform we have a different shape\n",
        "#Transform reshapes the image\n",
        "#Added normalize because it was taken out below (maybe other way works as well)\n",
        "\n",
        "from pathlib import Path\n",
        "class EuroSATTest(Dataset):\n",
        "    def __init__(self, train_df, train_dir, transform=None):\n",
        "        self.train_dir = train_dir\n",
        "        self.train_df = train_df\n",
        "        self.transform = transform\n",
        "\n",
        "    def __len__(self):\n",
        "        return len(self.train_df)\n",
        "    \n",
        "    def __getitem__(self, idx):\n",
        "        img = datatest[idx]\n",
        "        #img = reshape_as_image(img)\n",
        "        img = img[:, :, [3,2,1]]\n",
        "        img = np.float32(img)\n",
        "        if self.transform:\n",
        "            img = self.transform(img)\n",
        "        return img"
      ],
      "metadata": {
        "id": "dPFCns8YgPyh"
      },
      "execution_count": null,
      "outputs": []
    },
    {
      "cell_type": "code",
      "source": [
        "transf = torchvision.transforms.Compose([torchvision.transforms.ToTensor(),transforms.ConvertImageDtype(torch.float)])\n",
        "test_ds = EuroSATTest(data_df_test, BASE_PATH, transf)\n",
        "print(len(test_ds))"
      ],
      "metadata": {
        "id": "nfSKsieSgYqj",
        "outputId": "a383dc76-c0b0-4548-c9e7-f35335f42f2f",
        "colab": {
          "base_uri": "https://localhost:8080/"
        }
      },
      "execution_count": null,
      "outputs": [
        {
          "output_type": "stream",
          "name": "stdout",
          "text": [
            "4232\n"
          ]
        }
      ]
    },
    {
      "cell_type": "code",
      "source": [
        "np.shape(test_ds[0])"
      ],
      "metadata": {
        "id": "_EqtYNd9ogBp",
        "outputId": "2fcc4bd8-9a4c-4878-9dc3-54d61e264a8e",
        "colab": {
          "base_uri": "https://localhost:8080/"
        }
      },
      "execution_count": null,
      "outputs": [
        {
          "output_type": "execute_result",
          "data": {
            "text/plain": [
              "torch.Size([3, 64, 64])"
            ]
          },
          "metadata": {},
          "execution_count": 39
        }
      ]
    },
    {
      "cell_type": "code",
      "source": [
        "cifar10_eval_dataloader = DataLoader(test_ds, batch_size=10_000, num_workers=2, pin_memory=True)"
      ],
      "metadata": {
        "id": "gFf5-0wPwkqG"
      },
      "execution_count": null,
      "outputs": []
    },
    {
      "cell_type": "code",
      "source": [
        "# restore pre-trained model snapshot\n",
        "best_model_name = os.path.join(MODEL_PATH, 'challenge_model_epoch_184.pth')\n",
        "\n",
        "# load state_dict from path\n",
        "state_dict_best = torch.load(best_model_name, map_location=torch.device('cpu'))\n",
        "\n",
        "# init pre-trained model class\n",
        "best_model = CIFAR10Net()\n",
        "\n",
        "# load pre-trained models\n",
        "best_model.load_state_dict(state_dict_best)"
      ],
      "metadata": {
        "id": "rFCqL_uS7caL",
        "colab": {
          "base_uri": "https://localhost:8080/"
        },
        "outputId": "f2a474c6-12da-4bef-8578-1cb7ee88d20d"
      },
      "execution_count": 57,
      "outputs": [
        {
          "output_type": "execute_result",
          "data": {
            "text/plain": [
              "<All keys matched successfully>"
            ]
          },
          "metadata": {},
          "execution_count": 57
        }
      ]
    },
    {
      "cell_type": "code",
      "source": [
        "# set model in evaluation mode\n",
        "best_model.eval()"
      ],
      "metadata": {
        "id": "wLLthpA87j6Y",
        "colab": {
          "base_uri": "https://localhost:8080/"
        },
        "outputId": "ee696d45-7097-410a-8335-37d58823381c"
      },
      "execution_count": null,
      "outputs": [
        {
          "output_type": "execute_result",
          "data": {
            "text/plain": [
              "CIFAR10Net(\n",
              "  (conv1): Conv2d(3, 6, kernel_size=(5, 5), stride=(1, 1))\n",
              "  (pool1): MaxPool2d(kernel_size=2, stride=2, padding=0, dilation=1, ceil_mode=False)\n",
              "  (conv2): Conv2d(6, 16, kernel_size=(5, 5), stride=(1, 1))\n",
              "  (pool2): MaxPool2d(kernel_size=2, stride=2, padding=0, dilation=1, ceil_mode=False)\n",
              "  (linear1): Linear(in_features=2704, out_features=240, bias=True)\n",
              "  (relu1): ReLU(inplace=True)\n",
              "  (linear2): Linear(in_features=240, out_features=120, bias=True)\n",
              "  (relu2): ReLU(inplace=True)\n",
              "  (linear3): Linear(in_features=120, out_features=84, bias=True)\n",
              "  (relu3): ReLU(inplace=True)\n",
              "  (linear4): Linear(in_features=84, out_features=10, bias=True)\n",
              "  (logsoftmax): LogSoftmax(dim=1)\n",
              ")"
            ]
          },
          "metadata": {},
          "execution_count": 48
        }
      ]
    },
    {
      "cell_type": "code",
      "source": [
        "train_features, train_labels = next(iter(train_dl))\n",
        "print(f\"Feature batch shape: {train_features.size()}\")\n",
        "print(f\"Labels batch shape: {train_labels.size()}\")\n",
        "img = train_features[0].squeeze()\n",
        "label = train_labels[0]\n",
        "#plt.imshow(img, cmap=\"gray\")\n",
        "#plt.show()\n",
        "print(f\"Label: {label}\")"
      ],
      "metadata": {
        "id": "X_a1XChRzUpo",
        "outputId": "9ddeaccc-543b-4388-cb44-e8f35e4af0c0",
        "colab": {
          "base_uri": "https://localhost:8080/"
        }
      },
      "execution_count": null,
      "outputs": [
        {
          "output_type": "stream",
          "name": "stderr",
          "text": [
            "Exception ignored in: <function _MultiProcessingDataLoaderIter.__del__ at 0x7feff314a3b0>\n",
            "Traceback (most recent call last):\n",
            "  File \"/usr/local/lib/python3.7/dist-packages/torch/utils/data/dataloader.py\", line 1358, in __del__\n",
            "    self._shutdown_workers()\n",
            "Exception ignored in: <function _MultiProcessingDataLoaderIter.__del__ at 0x7feff314a3b0>\n",
            "  File \"/usr/local/lib/python3.7/dist-packages/torch/utils/data/dataloader.py\", line 1341, in _shutdown_workers\n",
            "Traceback (most recent call last):\n",
            "    if w.is_alive():\n",
            "  File \"/usr/lib/python3.7/multiprocessing/process.py\", line 151, in is_alive\n",
            "  File \"/usr/local/lib/python3.7/dist-packages/torch/utils/data/dataloader.py\", line 1358, in __del__\n",
            "    assert self._parent_pid == os.getpid(), 'can only test a child process'\n",
            "AssertionError: can only test a child process\n",
            "    self._shutdown_workers()\n",
            "  File \"/usr/local/lib/python3.7/dist-packages/torch/utils/data/dataloader.py\", line 1341, in _shutdown_workers\n",
            "    if w.is_alive():\n",
            "  File \"/usr/lib/python3.7/multiprocessing/process.py\", line 151, in is_alive\n",
            "    assert self._parent_pid == os.getpid(), 'can only test a child process'\n",
            "AssertionError: can only test a child process\n"
          ]
        },
        {
          "output_type": "stream",
          "name": "stdout",
          "text": [
            "Feature batch shape: torch.Size([2560, 3, 64, 64])\n",
            "Labels batch shape: torch.Size([2560])\n",
            "Label: 6\n"
          ]
        }
      ]
    },
    {
      "cell_type": "code",
      "source": [
        "train_features = next(iter(cifar10_eval_dataloader))\n",
        "print(f\"Feature batch shape: {train_features.size()}\")\n",
        "img = train_features[0].squeeze()"
      ],
      "metadata": {
        "id": "a9SVdqeS0qAK",
        "outputId": "eba8bf1b-514a-4e50-a23e-641275709334",
        "colab": {
          "base_uri": "https://localhost:8080/"
        }
      },
      "execution_count": null,
      "outputs": [
        {
          "output_type": "stream",
          "name": "stderr",
          "text": [
            "Exception ignored in: <function _MultiProcessingDataLoaderIter.__del__ at 0x7feff314a3b0>\n",
            "Traceback (most recent call last):\n",
            "  File \"/usr/local/lib/python3.7/dist-packages/torch/utils/data/dataloader.py\", line 1358, in __del__\n",
            "    self._shutdown_workers()\n",
            "  File \"/usr/local/lib/python3.7/dist-packages/torch/utils/data/dataloader.py\", line 1341, in _shutdown_workers\n",
            "    if w.is_alive():\n",
            "  File \"/usr/lib/python3.7/multiprocessing/process.py\", line 151, in is_alive\n",
            "    assert self._parent_pid == os.getpid(), 'can only test a child process'\n",
            "AssertionError: can only test a child process\n"
          ]
        },
        {
          "output_type": "stream",
          "name": "stdout",
          "text": [
            "Feature batch shape: torch.Size([4232, 3, 64, 64])\n"
          ]
        }
      ]
    },
    {
      "cell_type": "code",
      "source": [
        "predictions = torch.argmax(best_model(iter(cifar10_eval_dataloader).next()), dim=1)"
      ],
      "metadata": {
        "id": "D_qc7UOYvi80",
        "outputId": "7a15d271-f024-478d-f077-3afc09705e56",
        "colab": {
          "base_uri": "https://localhost:8080/"
        }
      },
      "execution_count": null,
      "outputs": [
        {
          "output_type": "stream",
          "name": "stderr",
          "text": [
            "Exception ignored in: <function _MultiProcessingDataLoaderIter.__del__ at 0x7feff314a3b0>\n",
            "Traceback (most recent call last):\n",
            "  File \"/usr/local/lib/python3.7/dist-packages/torch/utils/data/dataloader.py\", line 1358, in __del__\n",
            "    self._shutdown_workers()\n",
            "  File \"/usr/local/lib/python3.7/dist-packages/torch/utils/data/dataloader.py\", line 1341, in _shutdown_workers\n",
            "    if w.is_alive():\n",
            "  File \"/usr/lib/python3.7/multiprocessing/process.py\", line 151, in is_alive\n",
            "    assert self._parent_pid == os.getpid(), 'can only test a child process'\n",
            "AssertionError: can only test a child process\n"
          ]
        }
      ]
    },
    {
      "cell_type": "code",
      "source": [
        "print(predictions[1000:1900])"
      ],
      "metadata": {
        "id": "fwTZ7sx11H4v",
        "outputId": "3b51373f-7e0b-4fee-eb32-8becd402d8f5",
        "colab": {
          "base_uri": "https://localhost:8080/"
        }
      },
      "execution_count": null,
      "outputs": [
        {
          "output_type": "stream",
          "name": "stdout",
          "text": [
            "tensor([5, 9, 5, 5, 9, 9, 9, 5, 5, 9, 5, 9, 5, 9, 9, 9, 5, 5, 5, 5, 5, 9, 5, 9,\n",
            "        9, 9, 9, 5, 9, 5, 5, 9, 9, 9, 9, 9, 5, 4, 5, 0, 5, 9, 5, 9, 9, 5, 9, 5,\n",
            "        5, 5, 9, 0, 5, 4, 9, 5, 9, 9, 9, 9, 4, 5, 9, 5, 5, 5, 5, 5, 9, 9, 5, 9,\n",
            "        9, 9, 5, 5, 9, 9, 5, 5, 5, 9, 9, 5, 5, 5, 5, 5, 9, 5, 5, 5, 5, 5, 5, 5,\n",
            "        9, 9, 5, 5, 9, 9, 9, 0, 5, 9, 5, 5, 9, 5, 7, 5, 5, 0, 5, 5, 5, 9, 5, 5,\n",
            "        5, 9, 9, 9, 5, 9, 5, 4, 5, 5, 9, 9, 5, 9, 5, 5, 5, 5, 5, 9, 5, 9, 9, 9,\n",
            "        5, 5, 9, 9, 5, 0, 9, 5, 0, 9, 5, 5, 4, 9, 9, 9, 5, 4, 0, 5, 4, 5, 5, 4,\n",
            "        5, 5, 5, 5, 5, 4, 5, 9, 5, 5, 5, 5, 5, 5, 5, 9, 9, 9, 5, 5, 5, 9, 5, 9,\n",
            "        5, 5, 0, 9, 9, 9, 4, 5, 9, 9, 9, 5, 9, 9, 0, 0, 5, 5, 9, 5, 5, 3, 0, 5,\n",
            "        9, 9, 5, 5, 5, 9, 0, 9, 5, 9, 5, 5, 9, 5, 9, 5, 9, 5, 5, 5, 9, 9, 5, 5,\n",
            "        9, 9, 9, 5, 5, 9, 9, 5, 5, 5, 9, 5, 5, 9, 5, 0, 9, 5, 0, 9, 9, 9, 5, 5,\n",
            "        7, 5, 5, 5, 5, 5, 5, 5, 9, 5, 5, 9, 5, 9, 9, 9, 4, 9, 9, 5, 5, 9, 5, 9,\n",
            "        5, 9, 5, 5, 9, 9, 9, 5, 5, 5, 5, 5, 5, 9, 5, 5, 9, 9, 9, 5, 4, 9, 4, 9,\n",
            "        9, 5, 5, 5, 9, 9, 4, 9, 5, 9, 9, 9, 5, 5, 5, 9, 5, 5, 9, 9, 9, 9, 5, 9,\n",
            "        5, 9, 5, 9, 9, 9, 9, 9, 5, 9, 5, 9, 9, 5, 5, 9, 4, 9, 5, 5, 9, 5, 9, 5,\n",
            "        4, 5, 5, 5, 5, 9, 5, 0, 9, 9, 9, 5, 9, 5, 9, 9, 0, 5, 9, 5, 9, 5, 5, 5,\n",
            "        5, 9, 5, 9, 9, 5, 5, 9, 9, 9, 5, 4, 5, 5, 5, 9, 5, 0, 5, 5, 7, 5, 5, 9,\n",
            "        9, 9, 5, 9, 9, 9, 5, 5, 9, 5, 9, 0, 9, 9, 5, 9, 5, 9, 9, 9, 9, 9, 5, 9,\n",
            "        5, 9, 5, 9, 9, 5, 9, 5, 5, 5, 9, 5, 9, 9, 5, 5, 4, 5, 5, 9, 5, 5, 9, 4,\n",
            "        5, 5, 9, 5, 5, 9, 9, 0, 5, 5, 0, 9, 5, 9, 9, 9, 5, 9, 5, 5, 5, 9, 5, 9,\n",
            "        5, 9, 5, 9, 5, 4, 9, 9, 5, 9, 9, 5, 5, 5, 9, 9, 5, 5, 5, 9, 9, 5, 5, 5,\n",
            "        9, 5, 9, 4, 5, 5, 9, 5, 5, 0, 5, 9, 5, 9, 9, 5, 9, 5, 9, 9, 3, 5, 0, 9,\n",
            "        5, 9, 0, 5, 9, 9, 9, 9, 0, 5, 9, 9, 5, 5, 5, 5, 5, 9, 9, 5, 5, 4, 9, 5,\n",
            "        5, 5, 5, 5, 9, 9, 9, 5, 5, 5, 9, 5, 9, 5, 5, 5, 5, 5, 9, 5, 9, 9, 5, 9,\n",
            "        0, 5, 9, 5, 5, 5, 0, 9, 9, 5, 9, 4, 9, 8, 5, 0, 5, 9, 5, 5, 4, 5, 5, 9,\n",
            "        5, 9, 5, 5, 9, 9, 5, 9, 9, 5, 9, 5, 9, 5, 9, 9, 5, 5, 9, 5, 5, 5, 5, 9,\n",
            "        5, 5, 9, 9, 9, 9, 5, 9, 9, 5, 5, 5, 5, 5, 9, 9, 5, 9, 9, 5, 0, 5, 9, 9,\n",
            "        4, 9, 0, 5, 9, 5, 5, 5, 9, 5, 0, 5, 9, 5, 9, 5, 9, 5, 5, 9, 0, 5, 9, 5,\n",
            "        5, 5, 5, 9, 5, 9, 4, 9, 9, 5, 9, 5, 5, 5, 5, 0, 5, 5, 5, 9, 9, 9, 9, 5,\n",
            "        5, 5, 4, 5, 5, 5, 9, 5, 9, 9, 9, 5, 9, 9, 5, 9, 9, 9, 9, 4, 9, 4, 9, 5,\n",
            "        5, 9, 0, 5, 5, 9, 5, 9, 5, 5, 9, 5, 5, 5, 9, 5, 0, 5, 5, 5, 5, 9, 5, 5,\n",
            "        9, 5, 5, 5, 5, 5, 5, 5, 0, 9, 5, 5, 5, 9, 5, 5, 5, 5, 5, 5, 4, 5, 5, 9,\n",
            "        9, 5, 5, 5, 9, 9, 5, 9, 5, 5, 5, 5, 9, 5, 5, 9, 0, 9, 5, 9, 5, 5, 5, 4,\n",
            "        5, 5, 0, 9, 9, 5, 5, 9, 9, 9, 5, 5, 9, 5, 9, 5, 5, 5, 9, 9, 9, 5, 9, 9,\n",
            "        5, 5, 5, 4, 5, 5, 9, 9, 9, 9, 9, 9, 9, 9, 9, 9, 5, 9, 5, 5, 5, 5, 5, 9,\n",
            "        9, 5, 9, 9, 5, 9, 5, 9, 9, 5, 5, 5, 4, 9, 9, 9, 9, 5, 9, 5, 5, 9, 9, 9,\n",
            "        5, 5, 9, 5, 5, 5, 9, 5, 4, 5, 9, 5, 5, 5, 9, 5, 9, 9, 5, 9, 9, 5, 5, 5,\n",
            "        5, 9, 9, 9, 5, 9, 9, 5, 5, 0, 5, 5])\n"
          ]
        }
      ]
    },
    {
      "cell_type": "code",
      "source": [
        "test_indices_path = '/content/drive/MyDrive/ML/data/dataset/test.csv'\n",
        "\n",
        "final_submission_file = pd.read_csv(test_indices_path)\n",
        "prediction_list = []\n",
        "\n",
        "# turning numeric predictions to strings (as in kaggle example submission)\n",
        "for p in predictions:\n",
        "  prediction_list.append(decode_target(p.item()))\n",
        "\n",
        "final_submission_file[\"label\"] = prediction_list\n",
        "### source with alternatives methods for appending to csv should this fail: https://stackoverflow.com/questions/26666919/add-column-in-dataframe-from-list\n",
        "final_submission_file.to_csv('/content/drive/MyDrive/ML/data/dataset/final_submission.csv', index=None)"
      ],
      "metadata": {
        "id": "8uyGFJ1D43xf"
      },
      "execution_count": null,
      "outputs": []
    },
    {
      "cell_type": "markdown",
      "source": [
        "Visualize training loss per epoch"
      ],
      "metadata": {
        "id": "IymTQaPb7YAO"
      }
    },
    {
      "cell_type": "code",
      "source": [
        "# prepare plot\n",
        "fig = plt.figure()\n",
        "ax = fig.add_subplot(111)\n",
        "\n",
        "# add grid\n",
        "ax.grid(linestyle='dotted')\n",
        "\n",
        "# plot the training epochs vs. the epochs' classification error\n",
        "ax.plot(np.array(range(1, len(train_epoch_losses)+1)), train_epoch_losses, label='epoch loss (blue)')\n",
        "\n",
        "# add axis legends\n",
        "ax.set_xlabel(\"[training epoch $e_i$]\", fontsize=10)\n",
        "ax.set_ylabel(\"[Classification Error $\\mathcal{L}^{NLL}$]\", fontsize=10)\n",
        "\n",
        "# set plot legend\n",
        "plt.legend(loc=\"upper right\", numpoints=1, fancybox=True)\n",
        "\n",
        "# add plot title\n",
        "plt.title('Training Epochs $e_i$ vs. Classification Error $L^{NLL}$', fontsize=10);"
      ],
      "metadata": {
        "id": "BLUaURtK7W-S"
      },
      "execution_count": null,
      "outputs": []
    },
    {
      "cell_type": "markdown",
      "source": [
        "Evaluation"
      ],
      "metadata": {
        "id": "uCCp4rav7eeG"
      }
    },
    {
      "cell_type": "code",
      "source": [
        "# init collection of mini-batch losses\n",
        "eval_mini_batch_losses = []\n",
        "\n",
        "# iterate over all-mini batches\n",
        "for i, (images, labels) in enumerate(cifar10_eval_dataloader):\n",
        "\n",
        "    # run forward pass through the network\n",
        "    output = best_model(images)\n",
        "\n",
        "    # determine classification loss\n",
        "    loss = nll_loss(output, labels)\n",
        "\n",
        "    # collect mini-batch reconstruction loss\n",
        "    eval_mini_batch_losses.append(loss.data.item())\n",
        "\n",
        "# determine mean min-batch loss of epoch\n",
        "eval_loss = np.mean(eval_mini_batch_losses)\n",
        "\n",
        "# print epoch loss\n",
        "now = datetime.utcnow().strftime(\"%Y%m%d-%H:%M:%S\")\n",
        "print('[LOG {}] eval-loss: {}'.format(str(now), str(eval_loss)))"
      ],
      "metadata": {
        "id": "pin9-16-7m8t"
      },
      "execution_count": null,
      "outputs": []
    },
    {
      "cell_type": "markdown",
      "source": [
        "Sample prediction"
      ],
      "metadata": {
        "id": "g4DTlDah7uP7"
      }
    },
    {
      "cell_type": "code",
      "source": [
        "# set (random) image id\n",
        "image_id = 777\n",
        "\n",
        "# retrieve image exhibiting the image id\n",
        "cifar10_eval_image, cifar10_eval_label = cifar10_eval_data[image_id]"
      ],
      "metadata": {
        "id": "T5tAfE-t7xqf"
      },
      "execution_count": null,
      "outputs": []
    },
    {
      "cell_type": "markdown",
      "source": [
        "True class of image"
      ],
      "metadata": {
        "id": "qicWvl6DAICx"
      }
    },
    {
      "cell_type": "code",
      "source": [
        "cifar10_classes[cifar10_eval_label]"
      ],
      "metadata": {
        "id": "PBGv_3JTAG-T"
      },
      "execution_count": null,
      "outputs": []
    },
    {
      "cell_type": "markdown",
      "source": [
        "Inspect the image"
      ],
      "metadata": {
        "id": "twZgn2VLARFh"
      }
    },
    {
      "cell_type": "code",
      "source": [
        "# define tensor to image transformation\n",
        "trans = torchvision.transforms.ToPILImage()\n",
        "\n",
        "# set image plot title \n",
        "plt.title('Example: {}, Label: {}'.format(str(image_id), str(cifar10_classes[cifar10_eval_label])))\n",
        "\n",
        "# un-normalize cifar 10 image sample\n",
        "cifar10_eval_image_plot = cifar10_eval_image / 2.0 + 0.5\n",
        "\n",
        "# plot cifar 10 image sample\n",
        "plt.imshow(trans(cifar10_eval_image_plot))"
      ],
      "metadata": {
        "id": "RJpCNlwxATVc"
      },
      "execution_count": null,
      "outputs": []
    },
    {
      "cell_type": "markdown",
      "source": [
        "Compare true label with prediction"
      ],
      "metadata": {
        "id": "pCLRU0cbAsxY"
      }
    },
    {
      "cell_type": "code",
      "source": [
        "cifar10_eval_image.unsqueeze(0).shape\n",
        "best_model(cifar10_eval_image.unsqueeze(0))"
      ],
      "metadata": {
        "id": "82rDezYxAUAs"
      },
      "execution_count": null,
      "outputs": []
    },
    {
      "cell_type": "markdown",
      "source": [
        "Obtain all the predictions"
      ],
      "metadata": {
        "id": "F_fnvxn5A3V0"
      }
    },
    {
      "cell_type": "code",
      "source": [
        "predictions = torch.argmax(best_model(iter(cifar10_eval_dataloader).next()[0]), dim=1)"
      ],
      "metadata": {
        "id": "umVcddsaA5D8"
      },
      "execution_count": null,
      "outputs": []
    },
    {
      "cell_type": "markdown",
      "source": [
        "Overall classification accuracy"
      ],
      "metadata": {
        "id": "nzKBXsX1A8nN"
      }
    },
    {
      "cell_type": "code",
      "source": [
        "metrics.accuracy_score(cifar10_eval_data.targets, predictions.detach())"
      ],
      "metadata": {
        "id": "9j7zr-hcA-mE"
      },
      "execution_count": null,
      "outputs": []
    },
    {
      "cell_type": "markdown",
      "source": [
        "Heatmap"
      ],
      "metadata": {
        "id": "s2drFiD7BB6O"
      }
    },
    {
      "cell_type": "code",
      "source": [
        "# determine classification matrix of the predicted and target classes\n",
        "mat = confusion_matrix(cifar10_eval_data.targets, predictions.detach())\n",
        "\n",
        "# initialize the plot and define size\n",
        "plt.figure(figsize=(8, 8))\n",
        "\n",
        "# plot corresponding confusion matrix\n",
        "sns.heatmap(mat.T, square=True, annot=True, fmt='d', cbar=False, cmap='YlOrRd_r', xticklabels=cifar10_classes, yticklabels=cifar10_classes)\n",
        "plt.tick_params(axis='both', which='major', labelsize=8, labelbottom = False, bottom=False, top = False, left = False, labeltop=True)\n",
        "\n",
        "# set plot title\n",
        "plt.title('CIFAR-10 classification matrix')\n",
        "\n",
        "# set plot axis lables\n",
        "plt.xlabel('[true label]')\n",
        "plt.ylabel('[predicted label]');"
      ],
      "metadata": {
        "id": "WhlovjREBC6o"
      },
      "execution_count": null,
      "outputs": []
    }
  ]
}
