{
  "nbformat": 4,
  "nbformat_minor": 0,
  "metadata": {
    "colab": {
      "name": "Untitled0.ipynb",
      "provenance": [],
      "include_colab_link": true
    },
    "kernelspec": {
      "name": "python3",
      "display_name": "Python 3"
    },
    "language_info": {
      "name": "python"
    }
  },
  "cells": [
    {
      "cell_type": "markdown",
      "metadata": {
        "id": "view-in-github",
        "colab_type": "text"
      },
      "source": [
        "<a href=\"https://colab.research.google.com/github/nicikess/hsg-ml-course/blob/main/notebooks/ml_challenge.ipynb\" target=\"_parent\"><img src=\"https://colab.research.google.com/assets/colab-badge.svg\" alt=\"Open In Colab\"/></a>"
      ]
    },
    {
      "cell_type": "code",
      "execution_count": 1,
      "metadata": {
        "id": "G1WG87A7bIYf",
        "outputId": "039a12bd-d985-4e86-c87c-df06d3a65b7e",
        "colab": {
          "base_uri": "https://localhost:8080/"
        }
      },
      "outputs": [
        {
          "output_type": "stream",
          "name": "stdout",
          "text": [
            "Mounted at /content/drive\n"
          ]
        }
      ],
      "source": [
        "from google.colab import drive\n",
        "drive.mount('/content/drive')"
      ]
    },
    {
      "cell_type": "code",
      "source": [
        "import os\n",
        "import glob\n",
        "#import matplotlib.pyplot as plt\n",
        "import pandas as pd\n",
        "import numpy as np\n",
        "#from PIL import Image\n",
        "#from tqdm import tqdm\n",
        "#from tqdm.notebook import tqdm\n",
        "#import seaborn as sns\n",
        "\n",
        "\n",
        "from sklearn.metrics import confusion_matrix\n",
        "from sklearn import model_selection\n",
        "\n",
        "import torch\n",
        "import torchvision.models as models\n",
        "import torch.nn as nn\n",
        "from torch.utils.data import DataLoader, Dataset, random_split\n",
        "from torchvision.transforms import transforms\n",
        "#rom torchvision.utils import make_grid\n",
        "#import torch.nn.functional as F"
      ],
      "metadata": {
        "id": "AaecwyF3cYX6"
      },
      "execution_count": 6,
      "outputs": []
    },
    {
      "cell_type": "code",
      "source": [
        "file_path = '/content/drive/MyDrive/ML/data/train.csv'\n",
        "BASE_PATH = os.path.join(file_path, 'Image_Dataset')\n",
        "\n",
        "data_df = pd.read_csv(file_path)\n",
        "\n",
        "data_df.head()"
      ],
      "metadata": {
        "id": "fpaSbKiPcl8S",
        "outputId": "1d13c422-0e34-4fed-b6e4-c27d61d910cd",
        "colab": {
          "base_uri": "https://localhost:8080/",
          "height": 206
        }
      },
      "execution_count": 35,
      "outputs": [
        {
          "output_type": "execute_result",
          "data": {
            "text/plain": [
              "   Unnamed: 0                                           Filename  Label  \\\n",
              "0       16257                      AnnualCrop/AnnualCrop_142.jpg      0   \n",
              "1        3297  HerbaceousVegetation/HerbaceousVegetation_2835...      2   \n",
              "2       17881               PermanentCrop/PermanentCrop_1073.jpg      6   \n",
              "3        2223                      Industrial/Industrial_453.jpg      4   \n",
              "4        4887  HerbaceousVegetation/HerbaceousVegetation_1810...      2   \n",
              "\n",
              "              ClassName  \n",
              "0            AnnualCrop  \n",
              "1  HerbaceousVegetation  \n",
              "2         PermanentCrop  \n",
              "3            Industrial  \n",
              "4  HerbaceousVegetation  "
            ],
            "text/html": [
              "\n",
              "  <div id=\"df-b4746b0d-facb-4b9c-85b8-4782d541b3f9\">\n",
              "    <div class=\"colab-df-container\">\n",
              "      <div>\n",
              "<style scoped>\n",
              "    .dataframe tbody tr th:only-of-type {\n",
              "        vertical-align: middle;\n",
              "    }\n",
              "\n",
              "    .dataframe tbody tr th {\n",
              "        vertical-align: top;\n",
              "    }\n",
              "\n",
              "    .dataframe thead th {\n",
              "        text-align: right;\n",
              "    }\n",
              "</style>\n",
              "<table border=\"1\" class=\"dataframe\">\n",
              "  <thead>\n",
              "    <tr style=\"text-align: right;\">\n",
              "      <th></th>\n",
              "      <th>Unnamed: 0</th>\n",
              "      <th>Filename</th>\n",
              "      <th>Label</th>\n",
              "      <th>ClassName</th>\n",
              "    </tr>\n",
              "  </thead>\n",
              "  <tbody>\n",
              "    <tr>\n",
              "      <th>0</th>\n",
              "      <td>16257</td>\n",
              "      <td>AnnualCrop/AnnualCrop_142.jpg</td>\n",
              "      <td>0</td>\n",
              "      <td>AnnualCrop</td>\n",
              "    </tr>\n",
              "    <tr>\n",
              "      <th>1</th>\n",
              "      <td>3297</td>\n",
              "      <td>HerbaceousVegetation/HerbaceousVegetation_2835...</td>\n",
              "      <td>2</td>\n",
              "      <td>HerbaceousVegetation</td>\n",
              "    </tr>\n",
              "    <tr>\n",
              "      <th>2</th>\n",
              "      <td>17881</td>\n",
              "      <td>PermanentCrop/PermanentCrop_1073.jpg</td>\n",
              "      <td>6</td>\n",
              "      <td>PermanentCrop</td>\n",
              "    </tr>\n",
              "    <tr>\n",
              "      <th>3</th>\n",
              "      <td>2223</td>\n",
              "      <td>Industrial/Industrial_453.jpg</td>\n",
              "      <td>4</td>\n",
              "      <td>Industrial</td>\n",
              "    </tr>\n",
              "    <tr>\n",
              "      <th>4</th>\n",
              "      <td>4887</td>\n",
              "      <td>HerbaceousVegetation/HerbaceousVegetation_1810...</td>\n",
              "      <td>2</td>\n",
              "      <td>HerbaceousVegetation</td>\n",
              "    </tr>\n",
              "  </tbody>\n",
              "</table>\n",
              "</div>\n",
              "      <button class=\"colab-df-convert\" onclick=\"convertToInteractive('df-b4746b0d-facb-4b9c-85b8-4782d541b3f9')\"\n",
              "              title=\"Convert this dataframe to an interactive table.\"\n",
              "              style=\"display:none;\">\n",
              "        \n",
              "  <svg xmlns=\"http://www.w3.org/2000/svg\" height=\"24px\"viewBox=\"0 0 24 24\"\n",
              "       width=\"24px\">\n",
              "    <path d=\"M0 0h24v24H0V0z\" fill=\"none\"/>\n",
              "    <path d=\"M18.56 5.44l.94 2.06.94-2.06 2.06-.94-2.06-.94-.94-2.06-.94 2.06-2.06.94zm-11 1L8.5 8.5l.94-2.06 2.06-.94-2.06-.94L8.5 2.5l-.94 2.06-2.06.94zm10 10l.94 2.06.94-2.06 2.06-.94-2.06-.94-.94-2.06-.94 2.06-2.06.94z\"/><path d=\"M17.41 7.96l-1.37-1.37c-.4-.4-.92-.59-1.43-.59-.52 0-1.04.2-1.43.59L10.3 9.45l-7.72 7.72c-.78.78-.78 2.05 0 2.83L4 21.41c.39.39.9.59 1.41.59.51 0 1.02-.2 1.41-.59l7.78-7.78 2.81-2.81c.8-.78.8-2.07 0-2.86zM5.41 20L4 18.59l7.72-7.72 1.47 1.35L5.41 20z\"/>\n",
              "  </svg>\n",
              "      </button>\n",
              "      \n",
              "  <style>\n",
              "    .colab-df-container {\n",
              "      display:flex;\n",
              "      flex-wrap:wrap;\n",
              "      gap: 12px;\n",
              "    }\n",
              "\n",
              "    .colab-df-convert {\n",
              "      background-color: #E8F0FE;\n",
              "      border: none;\n",
              "      border-radius: 50%;\n",
              "      cursor: pointer;\n",
              "      display: none;\n",
              "      fill: #1967D2;\n",
              "      height: 32px;\n",
              "      padding: 0 0 0 0;\n",
              "      width: 32px;\n",
              "    }\n",
              "\n",
              "    .colab-df-convert:hover {\n",
              "      background-color: #E2EBFA;\n",
              "      box-shadow: 0px 1px 2px rgba(60, 64, 67, 0.3), 0px 1px 3px 1px rgba(60, 64, 67, 0.15);\n",
              "      fill: #174EA6;\n",
              "    }\n",
              "\n",
              "    [theme=dark] .colab-df-convert {\n",
              "      background-color: #3B4455;\n",
              "      fill: #D2E3FC;\n",
              "    }\n",
              "\n",
              "    [theme=dark] .colab-df-convert:hover {\n",
              "      background-color: #434B5C;\n",
              "      box-shadow: 0px 1px 3px 1px rgba(0, 0, 0, 0.15);\n",
              "      filter: drop-shadow(0px 1px 2px rgba(0, 0, 0, 0.3));\n",
              "      fill: #FFFFFF;\n",
              "    }\n",
              "  </style>\n",
              "\n",
              "      <script>\n",
              "        const buttonEl =\n",
              "          document.querySelector('#df-b4746b0d-facb-4b9c-85b8-4782d541b3f9 button.colab-df-convert');\n",
              "        buttonEl.style.display =\n",
              "          google.colab.kernel.accessAllowed ? 'block' : 'none';\n",
              "\n",
              "        async function convertToInteractive(key) {\n",
              "          const element = document.querySelector('#df-b4746b0d-facb-4b9c-85b8-4782d541b3f9');\n",
              "          const dataTable =\n",
              "            await google.colab.kernel.invokeFunction('convertToInteractive',\n",
              "                                                     [key], {});\n",
              "          if (!dataTable) return;\n",
              "\n",
              "          const docLinkHtml = 'Like what you see? Visit the ' +\n",
              "            '<a target=\"_blank\" href=https://colab.research.google.com/notebooks/data_table.ipynb>data table notebook</a>'\n",
              "            + ' to learn more about interactive tables.';\n",
              "          element.innerHTML = '';\n",
              "          dataTable['output_type'] = 'display_data';\n",
              "          await google.colab.output.renderOutput(dataTable, element);\n",
              "          const docLink = document.createElement('div');\n",
              "          docLink.innerHTML = docLinkHtml;\n",
              "          element.appendChild(docLink);\n",
              "        }\n",
              "      </script>\n",
              "    </div>\n",
              "  </div>\n",
              "  "
            ]
          },
          "metadata": {},
          "execution_count": 35
        }
      ]
    },
    {
      "cell_type": "code",
      "source": [
        "IDX_CLASS_LABELS = {\n",
        "    0: 'AnnualCrop',\n",
        "    1: 'Forest', \n",
        "    2: 'HerbaceousVegetation',\n",
        "    3: 'Highway',\n",
        "    4: 'Industrial',\n",
        "    5: 'Pasture',\n",
        "    6: 'PermanentCrop',\n",
        "    7: 'Residential',\n",
        "    8: 'River',\n",
        "    9: 'SeaLake'\n",
        "}\n",
        "\n",
        "CLASSES = ['AnnualCrop', 'Forest', 'HerbaceousVegetation', 'Highway', 'Industrial', 'Pasture','PermanentCrop','Residential','River', 'SeaLake']\n",
        "CLASS_IDX_LABELS = dict()\n",
        "for key, val in IDX_CLASS_LABELS.items():\n",
        "  CLASS_IDX_LABELS[val] = key\n",
        "\n",
        "NUM_CLASSES = len(IDX_CLASS_LABELS.items())\n",
        "torch.manual_seed(10)\n",
        "VALID_SIZE = 0.1"
      ],
      "metadata": {
        "id": "DaeA0JLat19y"
      },
      "execution_count": 31,
      "outputs": []
    },
    {
      "cell_type": "code",
      "source": [
        "## Give idx of each class name\n",
        "def encode_label(label):\n",
        "    idx = CLASS_IDX_LABELS[label] \n",
        "    return idx\n",
        "\n",
        "## Take in idx and return the class name\n",
        "def decode_target(target, text_labels=True):\n",
        "    result = []\n",
        "    if text_labels:\n",
        "        return IDX_CLASS_LABELS[target]\n",
        "    else:\n",
        "        return target\n",
        "\n",
        "## Show batches of images\n",
        "def show_batch(dl):\n",
        "    for images, labels in dl:\n",
        "        fig, ax = plt.subplots(figsize=(16, 8))\n",
        "        ax.set_xticks([]); ax.set_yticks([])\n",
        "        ax.imshow(make_grid(images, nrow=16).permute(1, 2, 0))\n",
        "        break"
      ],
      "metadata": {
        "id": "mVknVp6zt97o"
      },
      "execution_count": 32,
      "outputs": []
    },
    {
      "cell_type": "code",
      "source": [
        "class EuroSAT(Dataset):\n",
        "    def __init__(self, train_df, train_dir, transform=None):\n",
        "        self.train_dir = train_dir\n",
        "        self.train_df = train_df\n",
        "        self.transform = transform\n",
        "        \n",
        "    def __len__(self):\n",
        "        return len(self.train_df)\n",
        "    \n",
        "    def __getitem__(self, idx):\n",
        "        row = self.train_df.loc[idx]\n",
        "        img_id, label = row['image_id'], row['label']\n",
        "        img = Image.open(os.path.join(self.train_dir, img_id.split('.')[0].split('_')[0], img_id))\n",
        "        if self.transform:\n",
        "            img = self.transform(img)\n",
        "        return img, encode_label(label)"
      ],
      "metadata": {
        "id": "4W80rR8ftkNT"
      },
      "execution_count": 37,
      "outputs": []
    },
    {
      "cell_type": "code",
      "source": [
        "data_transform = transforms.Compose([\n",
        "                                transforms.Resize(size=(224, 224)),\n",
        "#                                 transforms.CenterCrop(224),\n",
        "                                transforms.ToTensor(),\n",
        "                                # transforms.Normalize([0.485, 0.456, 0.406], [0.229, 0.224, 0.225])\n",
        "                                ])\n",
        "\n",
        "train_ds = EuroSAT(data_df, BASE_PATH, data_transform)\n",
        "print(len(train_ds))"
      ],
      "metadata": {
        "id": "IV4SNvidsIjC",
        "outputId": "8ea7957a-725a-40d1-e745-3616183b98b0",
        "colab": {
          "base_uri": "https://localhost:8080/"
        }
      },
      "execution_count": 39,
      "outputs": [
        {
          "output_type": "stream",
          "name": "stdout",
          "text": [
            "18900\n"
          ]
        }
      ]
    },
    {
      "cell_type": "code",
      "source": [
        ""
      ],
      "metadata": {
        "id": "T3I3LR18u6ij"
      },
      "execution_count": null,
      "outputs": []
    }
  ]
}