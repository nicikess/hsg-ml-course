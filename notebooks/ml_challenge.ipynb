{
  "nbformat": 4,
  "nbformat_minor": 0,
  "metadata": {
    "colab": {
      "name": "Untitled0.ipynb",
      "provenance": [],
      "machine_shape": "hm",
      "include_colab_link": true
    },
    "kernelspec": {
      "name": "python3",
      "display_name": "Python 3"
    },
    "language_info": {
      "name": "python"
    },
    "accelerator": "GPU"
  },
  "cells": [
    {
      "cell_type": "markdown",
      "metadata": {
        "id": "view-in-github",
        "colab_type": "text"
      },
      "source": [
        "<a href=\"https://colab.research.google.com/github/nicikess/hsg-ml-course/blob/main/notebooks/ml_challenge.ipynb\" target=\"_parent\"><img src=\"https://colab.research.google.com/assets/colab-badge.svg\" alt=\"Open In Colab\"/></a>"
      ]
    },
    {
      "cell_type": "code",
      "execution_count": 3,
      "metadata": {
        "id": "G1WG87A7bIYf",
        "outputId": "582f9aea-0a7c-4bc8-ee15-920abb82541a",
        "colab": {
          "base_uri": "https://localhost:8080/"
        }
      },
      "outputs": [
        {
          "output_type": "stream",
          "name": "stdout",
          "text": [
            "Mounted at /content/drive\n"
          ]
        }
      ],
      "source": [
        "from google.colab import drive\n",
        "drive.mount('/content/drive')"
      ]
    },
    {
      "cell_type": "code",
      "source": [
        "import os\n",
        "import glob\n",
        "import pandas as pd\n",
        "import numpy as np\n",
        "from PIL import Image\n",
        "\n",
        "!pip install rasterio\n",
        "import rasterio\n",
        "from rasterio.plot import reshape_as_image\n",
        "\n",
        "from datetime import datetime\n",
        "\n",
        "from tifffile import imread\n",
        "\n",
        "from sklearn.metrics import confusion_matrix\n",
        "from sklearn import model_selection\n",
        "\n",
        "import torch, torchvision\n",
        "import torchvision.models as models\n",
        "import torch.nn as nn\n",
        "from torch.utils.data import DataLoader, Dataset, random_split\n",
        "from torchvision.transforms import transforms\n",
        "from torchvision.transforms import ToTensor"
      ],
      "metadata": {
        "id": "AaecwyF3cYX6",
        "outputId": "c71123d6-ed6c-4287-b200-080c14182d64",
        "colab": {
          "base_uri": "https://localhost:8080/"
        }
      },
      "execution_count": 4,
      "outputs": [
        {
          "output_type": "stream",
          "name": "stdout",
          "text": [
            "Collecting rasterio\n",
            "  Downloading rasterio-1.2.10-cp37-cp37m-manylinux1_x86_64.whl (19.3 MB)\n",
            "\u001b[K     |████████████████████████████████| 19.3 MB 345 kB/s \n",
            "\u001b[?25hRequirement already satisfied: click>=4.0 in /usr/local/lib/python3.7/dist-packages (from rasterio) (7.1.2)\n",
            "Requirement already satisfied: certifi in /usr/local/lib/python3.7/dist-packages (from rasterio) (2021.10.8)\n",
            "Collecting cligj>=0.5\n",
            "  Downloading cligj-0.7.2-py3-none-any.whl (7.1 kB)\n",
            "Collecting snuggs>=1.4.1\n",
            "  Downloading snuggs-1.4.7-py3-none-any.whl (5.4 kB)\n",
            "Requirement already satisfied: numpy in /usr/local/lib/python3.7/dist-packages (from rasterio) (1.21.6)\n",
            "Collecting click-plugins\n",
            "  Downloading click_plugins-1.1.1-py2.py3-none-any.whl (7.5 kB)\n",
            "Collecting affine\n",
            "  Downloading affine-2.3.1-py2.py3-none-any.whl (16 kB)\n",
            "Requirement already satisfied: setuptools in /usr/local/lib/python3.7/dist-packages (from rasterio) (57.4.0)\n",
            "Requirement already satisfied: attrs in /usr/local/lib/python3.7/dist-packages (from rasterio) (21.4.0)\n",
            "Requirement already satisfied: pyparsing>=2.1.6 in /usr/local/lib/python3.7/dist-packages (from snuggs>=1.4.1->rasterio) (3.0.8)\n",
            "Installing collected packages: snuggs, cligj, click-plugins, affine, rasterio\n",
            "Successfully installed affine-2.3.1 click-plugins-1.1.1 cligj-0.7.2 rasterio-1.2.10 snuggs-1.4.7\n"
          ]
        }
      ]
    },
    {
      "cell_type": "code",
      "source": [
        "#Loads tiff folders\n",
        "\n",
        "import os\n",
        "folder = '/content/drive/MyDrive/ML/data/dataset/trainset/'\n",
        "subfolders = []\n",
        "for dirs in os.walk(folder):\n",
        "  subfolders.append(dirs[0])\n",
        "\n",
        "#remove directory\n",
        "subfolders.pop(0)\n",
        "for i in range(0, len(subfolders)):\n",
        "     print(subfolders[i])"
      ],
      "metadata": {
        "id": "vCZ_ro41C82S",
        "colab": {
          "base_uri": "https://localhost:8080/"
        },
        "outputId": "078f86b8-58c7-4bc5-effd-248297829409"
      },
      "execution_count": 5,
      "outputs": [
        {
          "output_type": "stream",
          "name": "stdout",
          "text": [
            "/content/drive/MyDrive/ML/data/dataset/trainset/AnnualCrop\n",
            "/content/drive/MyDrive/ML/data/dataset/trainset/Forest\n",
            "/content/drive/MyDrive/ML/data/dataset/trainset/HerbaceousVegetation\n",
            "/content/drive/MyDrive/ML/data/dataset/trainset/Highway\n",
            "/content/drive/MyDrive/ML/data/dataset/trainset/Industrial\n",
            "/content/drive/MyDrive/ML/data/dataset/trainset/Pasture\n",
            "/content/drive/MyDrive/ML/data/dataset/trainset/PermanentCrop\n",
            "/content/drive/MyDrive/ML/data/dataset/trainset/Residential\n",
            "/content/drive/MyDrive/ML/data/dataset/trainset/River\n",
            "/content/drive/MyDrive/ML/data/dataset/trainset/SeaLake\n"
          ]
        }
      ]
    },
    {
      "cell_type": "code",
      "source": [
        "#Define paths\n",
        "\n",
        "ROOT_PATH = '/content/drive/MyDrive/ML/'\n",
        "BASE_PATH = os.path.join(ROOT_PATH, 'data')\n",
        "MODEL_PATH = os.path.join(ROOT_PATH, 'model')\n",
        "\n",
        "file_path_train = '/content/drive/MyDrive/ML/data/dataset/train.csv'\n",
        "file_path_test = '/content/drive/MyDrive/ML/data/dataset/test.csv'\n",
        "data_df_train = pd.read_csv(file_path_train)\n",
        "data_df_test = pd.read_csv(file_path_test)\n",
        "\n",
        "data_df_train.columns = data_df_train.columns.str.replace('path', 'image_id')\n",
        "data_df_train.columns = data_df_train.columns.str.replace('Label', 'label')"
      ],
      "metadata": {
        "id": "fpaSbKiPcl8S"
      },
      "execution_count": 6,
      "outputs": []
    },
    {
      "cell_type": "code",
      "source": [
        "#Init deterministic seed\n",
        "seed_value = 1234\n",
        "np.random.seed(seed_value) # set numpy seed\n",
        "torch.manual_seed(seed_value) # set pytorch seed CPU"
      ],
      "metadata": {
        "colab": {
          "base_uri": "https://localhost:8080/"
        },
        "id": "0X0M4kJD4s8c",
        "outputId": "c3a0b160-7f7a-41e9-e8c8-ec909a7893bb"
      },
      "execution_count": 7,
      "outputs": [
        {
          "output_type": "execute_result",
          "data": {
            "text/plain": [
              "<torch._C.Generator at 0x7f84a541ca50>"
            ]
          },
          "metadata": {},
          "execution_count": 7
        }
      ]
    },
    {
      "cell_type": "code",
      "source": [
        "#Classes and labels\n",
        "\n",
        "IDX_CLASS_LABELS = {\n",
        "    0: 'AnnualCrop',\n",
        "    1: 'Forest', \n",
        "    2: 'HerbaceousVegetation',\n",
        "    3: 'Highway',\n",
        "    4: 'Industrial',\n",
        "    5: 'Pasture',\n",
        "    6: 'PermanentCrop',\n",
        "    7: 'Residential',\n",
        "    8: 'River',\n",
        "    9: 'SeaLake'\n",
        "}\n",
        "\n",
        "CLASSES = ['AnnualCrop', 'Forest', 'HerbaceousVegetation', 'Highway', 'Industrial', 'Pasture','PermanentCrop','Residential','River', 'SeaLake']\n",
        "CLASS_IDX_LABELS = dict()\n",
        "for key, val in IDX_CLASS_LABELS.items():\n",
        "  CLASS_IDX_LABELS[val] = key\n",
        "\n",
        "NUM_CLASSES = len(IDX_CLASS_LABELS.items())\n",
        "torch.manual_seed(10)\n",
        "VALID_SIZE = 0.1"
      ],
      "metadata": {
        "id": "DaeA0JLat19y"
      },
      "execution_count": 8,
      "outputs": []
    },
    {
      "cell_type": "code",
      "source": [
        "#Encoder and decoder\n",
        "\n",
        "## Give idx of each class name\n",
        "def encode_label(label):\n",
        "    idx = CLASS_IDX_LABELS[label] \n",
        "    return idx\n",
        "\n",
        "## Take in idx and return the class name\n",
        "def decode_target(target, text_labels=True):\n",
        "    result = []\n",
        "    if text_labels:\n",
        "        return IDX_CLASS_LABELS[target]\n",
        "    else:\n",
        "        return target"
      ],
      "metadata": {
        "id": "mVknVp6zt97o"
      },
      "execution_count": 9,
      "outputs": []
    },
    {
      "cell_type": "code",
      "source": [
        "#Open tiff files with rasterio and safe to dictionary\n",
        "\n",
        "'''import os\n",
        "\n",
        "data = {}\n",
        "\n",
        "for i in range(len(subfolders)):\n",
        "\n",
        "  txtfiles = []\n",
        "\n",
        "  # traverse whole directory\n",
        "  for root, dirs, files in os.walk(subfolders[i]):\n",
        "    # select file name\n",
        "    for file in files:\n",
        "        # check the extension of files\n",
        "        if file.endswith('.tif'):\n",
        "            txtfiles.append(os.path.join(root, file))\n",
        "\n",
        "  code = subfolders[i].split('/')[8]\n",
        "  index = encode_label(code)\n",
        "  arr = np.zeros([len(txtfiles), 64, 64, 13], dtype=\"float32\")\n",
        "\n",
        "  print(code)\n",
        "  print(index)\n",
        "\n",
        "  i = 0\n",
        "  for pic in txtfiles:\n",
        "    with rasterio.open(pic, \"r\") as img:\n",
        "      arr[i] = np.moveaxis(img.read(), 0, 2)\n",
        "      i += 1\n",
        "      \n",
        "  data[index] = arr'''"
      ],
      "metadata": {
        "id": "yYQNn_5JN_4b",
        "outputId": "7ae2065c-1bec-4c0d-dd2c-911e4f87ce1f",
        "colab": {
          "base_uri": "https://localhost:8080/",
          "height": 72
        }
      },
      "execution_count": 10,
      "outputs": [
        {
          "output_type": "execute_result",
          "data": {
            "text/plain": [
              "'import os\\n\\ndata = {}\\n\\nfor i in range(len(subfolders)):\\n\\n  txtfiles = []\\n\\n  # traverse whole directory\\n  for root, dirs, files in os.walk(subfolders[i]):\\n    # select file name\\n    for file in files:\\n        # check the extension of files\\n        if file.endswith(\\'.tif\\'):\\n            txtfiles.append(os.path.join(root, file))\\n\\n  code = subfolders[i].split(\\'/\\')[8]\\n  index = encode_label(code)\\n  arr = np.zeros([len(txtfiles), 64, 64, 13], dtype=\"float32\")\\n\\n  print(code)\\n  print(index)\\n\\n  i = 0\\n  for pic in txtfiles:\\n    with rasterio.open(pic, \"r\") as img:\\n      arr[i] = np.moveaxis(img.read(), 0, 2)\\n      i += 1\\n      \\n  data[index] = arr'"
            ],
            "application/vnd.google.colaboratory.intrinsic+json": {
              "type": "string"
            }
          },
          "metadata": {},
          "execution_count": 10
        }
      ]
    },
    {
      "cell_type": "code",
      "source": [
        "#Save the files as .npy\n",
        "\n",
        "'''for i in range(len(data)):\n",
        "  keys_list = list(data)\n",
        "  key = keys_list[i]\n",
        "  np.save('/content/drive/MyDrive/ML/data/dataset/trainset/'+f'data_class{key}.npy', data[i], allow_pickle=True, fix_imports=True)'''"
      ],
      "metadata": {
        "id": "4URBlEq4FxTb",
        "outputId": "cea587f6-4168-4fe9-9a8f-8f640b758ead",
        "colab": {
          "base_uri": "https://localhost:8080/",
          "height": 35
        }
      },
      "execution_count": 11,
      "outputs": [
        {
          "output_type": "execute_result",
          "data": {
            "text/plain": [
              "\"for i in range(len(data)):\\n  keys_list = list(data)\\n  key = keys_list[i]\\n  np.save('/content/drive/MyDrive/ML/data/dataset/trainset/'+f'data_class{key}.npy', data[i], allow_pickle=True, fix_imports=True)\""
            ],
            "application/vnd.google.colaboratory.intrinsic+json": {
              "type": "string"
            }
          },
          "metadata": {},
          "execution_count": 11
        }
      ]
    },
    {
      "cell_type": "code",
      "source": [
        "#Reload the .npy files\n",
        "\n",
        "import os\n",
        "path = '/content/drive/MyDrive/ML/data/dataset/trainset/'\n",
        "npyfiles = []\n",
        "data = {}\n",
        "\n",
        "for root, dirs, files in os.walk(path):\n",
        "    # check the extension of files\n",
        "    for file in files:\n",
        "        # check the extension of files\n",
        "        if file.endswith('.npy'):\n",
        "            npyfiles.append(os.path.join(root, file))\n",
        "\n",
        "for i in range(len(npyfiles)):\n",
        "  path = npyfiles[i]\n",
        "  arr = np.load(path)\n",
        "  index = path.split('/')[8].split('_')[1][5]\n",
        "  index = int(index)\n",
        "  data[index] = arr"
      ],
      "metadata": {
        "id": "00a4BPE2XASQ"
      },
      "execution_count": 12,
      "outputs": []
    },
    {
      "cell_type": "code",
      "source": [
        "from pathlib import Path\n",
        "class EuroSAT(Dataset):\n",
        "    def __init__(self, train_df, train_dir, transform=None):\n",
        "        self.train_dir = train_dir\n",
        "        self.train_df = train_df\n",
        "        self.transform = transform\n",
        "\n",
        "    def __len__(self):\n",
        "        return len(self.train_df)\n",
        "    \n",
        "    def __getitem__(self, idx):\n",
        "        row = self.train_df.loc[idx]\n",
        "        img_id, label = row['image_id'], row['label']\n",
        "        img_id = int(img_id.split('.')[0].split('_')[1])\n",
        "        label_encode = int(encode_label(label))\n",
        "        id = img_id - 1\n",
        "        img = data[label_encode][id]\n",
        "        img_rgb = img[:, :, [12,11,10,9,8,7,6,5,4,3,2,1]]\n",
        "        if self.transform:\n",
        "            img_rgb = self.transform(img_rgb)\n",
        "        return img_rgb, encode_label(label)"
      ],
      "metadata": {
        "id": "4W80rR8ftkNT"
      },
      "execution_count": 147,
      "outputs": []
    },
    {
      "cell_type": "code",
      "source": [
        "transf = torchvision.transforms.Compose([torchvision.transforms.ToTensor(),transforms.ConvertImageDtype(torch.float)])\n",
        "\n",
        "train_ds = EuroSAT(data_df_train, BASE_PATH, transf)\n",
        "print(len(train_ds))"
      ],
      "metadata": {
        "id": "IV4SNvidsIjC",
        "outputId": "f7a94ea0-6204-4a27-ec67-72bc7b9f5c45",
        "colab": {
          "base_uri": "https://localhost:8080/"
        }
      },
      "execution_count": 148,
      "outputs": [
        {
          "output_type": "stream",
          "name": "stdout",
          "text": [
            "27000\n"
          ]
        }
      ]
    },
    {
      "cell_type": "code",
      "source": [
        "np.shape(train_ds[0][0])\n",
        "print(train_ds[0][0])"
      ],
      "metadata": {
        "id": "ZlOYujcF89-Q",
        "outputId": "1607248e-2229-4156-bcb1-9ae87f97a9ce",
        "colab": {
          "base_uri": "https://localhost:8080/"
        }
      },
      "execution_count": 149,
      "outputs": [
        {
          "output_type": "stream",
          "name": "stdout",
          "text": [
            "tensor([[[3432., 3432., 3630.,  ..., 2997., 3011., 3007.],\n",
            "         [3432., 3432., 3630.,  ..., 2997., 3011., 3007.],\n",
            "         [3401., 3401., 3585.,  ..., 3035., 3059., 3079.],\n",
            "         ...,\n",
            "         [3693., 3693., 3395.,  ..., 3381., 3329., 3323.],\n",
            "         [3662., 3662., 3455.,  ..., 3405., 3344., 3330.],\n",
            "         [3614., 3614., 3502.,  ..., 3429., 3358., 3335.]],\n",
            "\n",
            "        [[ 654.,  654.,  627.,  ..., 2206., 2164., 2066.],\n",
            "         [ 654.,  654.,  627.,  ..., 2206., 2164., 2066.],\n",
            "         [ 659.,  659.,  633.,  ..., 2037., 1975., 1869.],\n",
            "         ...,\n",
            "         [1088., 1088., 1330.,  ..., 1381., 1798., 2156.],\n",
            "         [ 977.,  977., 1128.,  ..., 1301., 1705., 2078.],\n",
            "         [ 867.,  867.,  940.,  ..., 1230., 1614., 1998.]],\n",
            "\n",
            "        [[1501., 1501., 1492.,  ..., 3544., 3469., 3292.],\n",
            "         [1501., 1501., 1492.,  ..., 3544., 3469., 3292.],\n",
            "         [1498., 1498., 1490.,  ..., 3299., 3208., 3041.],\n",
            "         ...,\n",
            "         [2039., 2039., 2241.,  ..., 2502., 3053., 3555.],\n",
            "         [1915., 1915., 2041.,  ..., 2386., 2927., 3450.],\n",
            "         [1782., 1782., 1843.,  ..., 2286., 2811., 3346.]],\n",
            "\n",
            "        ...,\n",
            "\n",
            "        [[ 748.,  748.,  745.,  ..., 1623., 1660., 1764.],\n",
            "         [ 748.,  748.,  745.,  ..., 1623., 1660., 1764.],\n",
            "         [ 756.,  756.,  758.,  ..., 1749., 1731., 1691.],\n",
            "         ...,\n",
            "         [ 752.,  752., 1033.,  ..., 1021., 1549., 1939.],\n",
            "         [ 807.,  807.,  948.,  ...,  939., 1432., 1871.],\n",
            "         [ 839.,  839.,  845.,  ...,  908., 1295., 1793.]],\n",
            "\n",
            "        [[1071., 1071., 1091.,  ..., 1338., 1361., 1387.],\n",
            "         [1071., 1071., 1091.,  ..., 1338., 1361., 1387.],\n",
            "         [1090., 1090., 1099.,  ..., 1381., 1403., 1372.],\n",
            "         ...,\n",
            "         [1125., 1125., 1174.,  ..., 1233., 1377., 1504.],\n",
            "         [1079., 1079., 1109.,  ..., 1212., 1328., 1466.],\n",
            "         [1140., 1140., 1136.,  ..., 1188., 1300., 1452.]],\n",
            "\n",
            "        [[1053., 1053., 1058.,  ..., 1293., 1323., 1366.],\n",
            "         [1053., 1053., 1058.,  ..., 1293., 1323., 1366.],\n",
            "         [1043., 1043., 1045.,  ..., 1333., 1364., 1338.],\n",
            "         ...,\n",
            "         [1071., 1071., 1127.,  ..., 1130., 1334., 1417.],\n",
            "         [1070., 1070., 1113.,  ..., 1116., 1248., 1393.],\n",
            "         [1090., 1090., 1095.,  ..., 1100., 1210., 1394.]]])\n"
          ]
        }
      ]
    },
    {
      "cell_type": "markdown",
      "source": [
        "Model"
      ],
      "metadata": {
        "id": "gAyeRny_03IA"
      }
    },
    {
      "cell_type": "code",
      "source": [
        "pretrainedBool = True\n",
        "model = models.resnet50(pretrained=pretrainedBool)\n",
        "if pretrainedBool:\n",
        "    for param in model.parameters():\n",
        "        param.requires_grad = False\n",
        "model.fc = nn.Linear(model.fc.in_features, 10)\n",
        "model.conv1 = nn.Conv2d(12, 64, kernel_size=7, stride=2, padding=3,bias=False)"
      ],
      "metadata": {
        "id": "WhJfZoyTVpl9"
      },
      "execution_count": 151,
      "outputs": []
    },
    {
      "cell_type": "code",
      "source": [
        "# set cpu or gpu enabled device\n",
        "device = torch.device('cuda' if torch.cuda.is_available() else 'cpu').type\n",
        "\n",
        "# init deterministic GPU seed\n",
        "torch.cuda.manual_seed(seed_value)\n",
        "\n",
        "# log type of device enabled\n",
        "print('[LOG] notebook with {} computation enabled'.format(str(device)))"
      ],
      "metadata": {
        "colab": {
          "base_uri": "https://localhost:8080/"
        },
        "id": "WquDuPH24v5m",
        "outputId": "3d465562-f905-40c2-ce44-ecd5ad131db8"
      },
      "execution_count": 152,
      "outputs": [
        {
          "output_type": "stream",
          "name": "stdout",
          "text": [
            "[LOG] notebook with cuda computation enabled\n"
          ]
        }
      ]
    },
    {
      "cell_type": "code",
      "source": [
        "model = model.to(device)"
      ],
      "metadata": {
        "id": "WX5qPa-V4b2p"
      },
      "execution_count": 153,
      "outputs": []
    },
    {
      "cell_type": "code",
      "source": [
        "# define the optimization criterion / loss function\n",
        "ce_loss = nn.CrossEntropyLoss()"
      ],
      "metadata": {
        "id": "JGudJ__B4fIk"
      },
      "execution_count": 154,
      "outputs": []
    },
    {
      "cell_type": "code",
      "source": [
        "ce_loss = ce_loss.to(device)"
      ],
      "metadata": {
        "id": "ft3U8mHQ5LtQ"
      },
      "execution_count": 155,
      "outputs": []
    },
    {
      "cell_type": "code",
      "source": [
        "# define learning rate and optimization strategy\n",
        "learning_rate = 0.001\n",
        "params = model.fc.parameters() if pretrainedBool else model.parameters()\n",
        "optimizer = torch.optim.Adam(params, lr=learning_rate, weight_decay=0)"
      ],
      "metadata": {
        "id": "3gA6pIk45O88"
      },
      "execution_count": 156,
      "outputs": []
    },
    {
      "cell_type": "code",
      "source": [
        "# specify the training parameters\n",
        "num_epochs = 20 # number of training epochs\n",
        "mini_batch_size = 256 # size of the mini-batches"
      ],
      "metadata": {
        "id": "_ebJQH2A5RUP"
      },
      "execution_count": 160,
      "outputs": []
    },
    {
      "cell_type": "code",
      "source": [
        "train_dl = DataLoader(train_ds, batch_size=mini_batch_size, shuffle=True)"
      ],
      "metadata": {
        "id": "TqkavzzM5Snd"
      },
      "execution_count": 161,
      "outputs": []
    },
    {
      "cell_type": "code",
      "source": [
        "import torch\n",
        "torch.cuda.empty_cache()"
      ],
      "metadata": {
        "id": "XJy3cjN_Cc2x"
      },
      "execution_count": 177,
      "outputs": []
    },
    {
      "cell_type": "code",
      "source": [
        "# init collection of training epoch losses\n",
        "train_epoch_losses = []\n",
        "\n",
        "# set the model in training mode\n",
        "model.train()\n",
        "\n",
        "# train the CIFAR10 model\n",
        "for epoch in range(num_epochs):\n",
        "    \n",
        "    # init collection of mini-batch losses\n",
        "    train_mini_batch_losses = []\n",
        "\n",
        "    # iterate over all-mini batches\n",
        "    for i, (images, labels) in enumerate(train_dl):\n",
        "\n",
        "        #print(images)\n",
        "\n",
        "        # push mini-batch data to computation device\n",
        "        images = images.to(device)\n",
        "        labels = labels.to(device)\n",
        "\n",
        "        # run forward pass through the network\n",
        "        output = model(images)\n",
        "        \n",
        "        # reset graph gradients\n",
        "        model.zero_grad()\n",
        "        \n",
        "        # determine classification loss\n",
        "        loss = ce_loss(output, labels)\n",
        "        \n",
        "        # run backward pass\n",
        "        loss.backward()\n",
        "        \n",
        "        # update network paramaters\n",
        "        optimizer.step()\n",
        "        \n",
        "        # collect mini-batch reconstruction loss\n",
        "        train_mini_batch_losses.append(loss.data.item())\n",
        "\n",
        "    # determine mean min-batch loss of epoch\n",
        "    train_epoch_loss = np.mean(train_mini_batch_losses)\n",
        "    \n",
        "    # print epoch loss\n",
        "    now = datetime.utcnow().strftime(\"%Y%m%d-%H:%M:%S\")\n",
        "    print('[LOG {}] epoch: {} train-loss: {}'.format(str(now), str(epoch), str(train_epoch_loss)))\n",
        "    \n",
        "    # set filename of actual model\n",
        "    model_name = 'challenge_model_epoch_{}.pth'.format(str(epoch))\n",
        "\n",
        "    # save current model to GDrive models directory\n",
        "    torch.save(model.state_dict(), os.path.join(MODEL_PATH, model_name))\n",
        "    \n",
        "    # determine mean min-batch loss of epoch\n",
        "    train_epoch_losses.append(train_epoch_loss)"
      ],
      "metadata": {
        "id": "7DSzKx0W7IR8",
        "outputId": "50bd8bdf-ed4c-4057-ad8f-36869c4d1bfc",
        "colab": {
          "base_uri": "https://localhost:8080/"
        }
      },
      "execution_count": 163,
      "outputs": [
        {
          "output_type": "stream",
          "name": "stdout",
          "text": [
            "[LOG 20220501-19:45:29] epoch: 0 train-loss: 0.9811363439514952\n",
            "[LOG 20220501-19:45:52] epoch: 1 train-loss: 0.7141922076918045\n",
            "[LOG 20220501-19:46:16] epoch: 2 train-loss: 0.6510201613858061\n",
            "[LOG 20220501-19:46:39] epoch: 3 train-loss: 0.6177061593757486\n",
            "[LOG 20220501-19:47:02] epoch: 4 train-loss: 0.5919699851634368\n",
            "[LOG 20220501-19:47:25] epoch: 5 train-loss: 0.5785083557074925\n",
            "[LOG 20220501-19:47:49] epoch: 6 train-loss: 0.5514891217902022\n",
            "[LOG 20220501-19:48:12] epoch: 7 train-loss: 0.536738488471733\n",
            "[LOG 20220501-19:48:35] epoch: 8 train-loss: 0.5307503584420906\n",
            "[LOG 20220501-19:48:58] epoch: 9 train-loss: 0.5144846158207588\n",
            "[LOG 20220501-19:49:22] epoch: 10 train-loss: 0.5080168019488173\n",
            "[LOG 20220501-19:49:45] epoch: 11 train-loss: 0.5053917228613259\n",
            "[LOG 20220501-19:50:08] epoch: 12 train-loss: 0.49444218148600383\n",
            "[LOG 20220501-19:50:31] epoch: 13 train-loss: 0.4824814034520455\n",
            "[LOG 20220501-19:50:55] epoch: 14 train-loss: 0.4839829271132091\n",
            "[LOG 20220501-19:51:18] epoch: 15 train-loss: 0.4708906951940285\n",
            "[LOG 20220501-19:51:41] epoch: 16 train-loss: 0.4653360478158267\n",
            "[LOG 20220501-19:52:04] epoch: 17 train-loss: 0.4604257603861251\n",
            "[LOG 20220501-19:52:28] epoch: 18 train-loss: 0.4510723650455475\n",
            "[LOG 20220501-19:52:51] epoch: 19 train-loss: 0.4492499828338623\n"
          ]
        }
      ]
    },
    {
      "cell_type": "code",
      "source": [
        "import os\n",
        "path = '/content/drive/MyDrive/ML/data/dataset/testset/'\n",
        "npyfiles = []\n",
        "datatest = {}\n",
        "\n",
        "for root, dirs, files in os.walk(path):\n",
        "    # check the extension of files\n",
        "    for file in files:\n",
        "        # check the extension of files\n",
        "        if file.endswith('.npy'):\n",
        "            npyfiles.append(os.path.join(root, file))\n",
        "\n",
        "for i in range(len(npyfiles)):\n",
        "  path = npyfiles[i]\n",
        "  arr = np.load(path)\n",
        "  index = int(path.split('_')[1].split('.')[0])\n",
        "  datatest[index] = arr"
      ],
      "metadata": {
        "id": "YtwPdGg3jR9S"
      },
      "execution_count": 164,
      "outputs": []
    },
    {
      "cell_type": "code",
      "source": [
        "from pathlib import Path\n",
        "class EuroSATTest(Dataset):\n",
        "    def __init__(self, train_df, train_dir, transform=None):\n",
        "        self.train_dir = train_dir\n",
        "        self.train_df = train_df\n",
        "        self.transform = transform\n",
        "\n",
        "    def __len__(self):\n",
        "        return len(self.train_df)\n",
        "    \n",
        "    def __getitem__(self, idx):\n",
        "        img = datatest[idx]\n",
        "        img = img[:, :, ]\n",
        "        img = np.float32(img)\n",
        "        if self.transform:\n",
        "            img = self.transform(img)\n",
        "        return img"
      ],
      "metadata": {
        "id": "dPFCns8YgPyh"
      },
      "execution_count": 165,
      "outputs": []
    },
    {
      "cell_type": "code",
      "source": [
        "transf = torchvision.transforms.Compose([torchvision.transforms.ToTensor(),transforms.ConvertImageDtype(torch.float)])\n",
        "test_ds = EuroSATTest(data_df_test, BASE_PATH, transf)\n",
        "print(len(test_ds))"
      ],
      "metadata": {
        "id": "nfSKsieSgYqj",
        "outputId": "69a24dec-b9b0-4bce-bcea-a4646f2a82fe",
        "colab": {
          "base_uri": "https://localhost:8080/"
        }
      },
      "execution_count": 166,
      "outputs": [
        {
          "output_type": "stream",
          "name": "stdout",
          "text": [
            "4232\n"
          ]
        }
      ]
    },
    {
      "cell_type": "code",
      "source": [
        "test_ds[1]"
      ],
      "metadata": {
        "colab": {
          "base_uri": "https://localhost:8080/"
        },
        "id": "gcazQeYv9qcl",
        "outputId": "cbc48b23-9bf3-4a72-af8b-9b095af67df7"
      },
      "execution_count": 167,
      "outputs": [
        {
          "output_type": "execute_result",
          "data": {
            "text/plain": [
              "tensor([[[ 597.,  581.,  564.,  ...,  610.,  585.,  560.],\n",
              "         [ 600.,  583.,  566.,  ...,  616.,  592.,  568.],\n",
              "         [ 603.,  585.,  567.,  ...,  623.,  599.,  575.],\n",
              "         ...,\n",
              "         [ 371.,  373.,  375.,  ...,  413.,  423.,  434.],\n",
              "         [ 383.,  386.,  390.,  ...,  406.,  416.,  426.],\n",
              "         [ 395.,  400.,  404.,  ...,  398.,  409.,  419.]],\n",
              "\n",
              "        [[ 449.,  616.,  518.,  ...,  840.,  554.,  574.],\n",
              "         [ 416.,  515.,  541.,  ...,  752.,  947.,  546.],\n",
              "         [ 486.,  582.,  505.,  ...,  496.,  786.,  411.],\n",
              "         ...,\n",
              "         [ 328.,  315.,  386.,  ...,  439.,  410.,  398.],\n",
              "         [ 328.,  349.,  383.,  ...,  405.,  449.,  416.],\n",
              "         [ 387.,  598.,  512.,  ...,  414.,  475.,  470.]],\n",
              "\n",
              "        [[ 731.,  909.,  808.,  ..., 1156.,  929.,  818.],\n",
              "         [ 636.,  745.,  782.,  ..., 1115., 1115.,  794.],\n",
              "         [ 754.,  769.,  756.,  ...,  763., 1034.,  818.],\n",
              "         ...,\n",
              "         [ 635.,  561.,  743.,  ...,  843.,  756.,  651.],\n",
              "         [ 625.,  699.,  689.,  ...,  828.,  832.,  686.],\n",
              "         [ 618.,  853.,  780.,  ...,  833.,  883.,  916.]],\n",
              "\n",
              "        ...,\n",
              "\n",
              "        [[2570., 2598., 2626.,  ..., 2676., 2699., 2721.],\n",
              "         [2545., 2576., 2608.,  ..., 2698., 2715., 2732.],\n",
              "         [2520., 2555., 2590.,  ..., 2719., 2730., 2742.],\n",
              "         ...,\n",
              "         [3341., 3304., 3267.,  ..., 2955., 3002., 3049.],\n",
              "         [3298., 3261., 3224.,  ..., 2802., 2871., 2940.],\n",
              "         [3254., 3217., 3180.,  ..., 2650., 2740., 2830.]],\n",
              "\n",
              "        [[2692., 2640., 2523.,  ..., 2840., 2708., 2595.],\n",
              "         [2632., 2562., 2417.,  ..., 2758., 2666., 2574.],\n",
              "         [2623., 2544., 2371.,  ..., 2553., 2522., 2486.],\n",
              "         ...,\n",
              "         [2308., 2336., 2404.,  ..., 1823., 1819., 1833.],\n",
              "         [2204., 2263., 2322.,  ..., 1787., 1797., 1795.],\n",
              "         [2212., 2304., 2374.,  ..., 1664., 1716., 1731.]],\n",
              "\n",
              "        [[2050., 1972., 1910.,  ..., 2408., 2140., 1967.],\n",
              "         [1975., 1872., 1737.,  ..., 2302., 2082., 1940.],\n",
              "         [2016., 1890., 1648.,  ..., 1923., 1854., 1830.],\n",
              "         ...,\n",
              "         [1352., 1358., 1376.,  ...,  918.,  925.,  945.],\n",
              "         [1294., 1345., 1375.,  ...,  907.,  921.,  932.],\n",
              "         [1351., 1462., 1543.,  ...,  874.,  907.,  924.]]])"
            ]
          },
          "metadata": {},
          "execution_count": 167
        }
      ]
    },
    {
      "cell_type": "code",
      "source": [
        "np.shape(test_ds[0])"
      ],
      "metadata": {
        "id": "_EqtYNd9ogBp",
        "outputId": "4e112844-6474-4007-bb42-7a88b6799498",
        "colab": {
          "base_uri": "https://localhost:8080/"
        }
      },
      "execution_count": 168,
      "outputs": [
        {
          "output_type": "execute_result",
          "data": {
            "text/plain": [
              "torch.Size([12, 64, 64])"
            ]
          },
          "metadata": {},
          "execution_count": 168
        }
      ]
    },
    {
      "cell_type": "code",
      "source": [
        "cifar10_eval_dataloader = DataLoader(test_ds, batch_size=10_000, num_workers=2, pin_memory=True)"
      ],
      "metadata": {
        "id": "gFf5-0wPwkqG"
      },
      "execution_count": 169,
      "outputs": []
    },
    {
      "cell_type": "code",
      "source": [
        "# restore pre-trained model snapshot\n",
        "best_model_name = os.path.join(MODEL_PATH, 'challenge_model_epoch_19.pth')\n",
        "\n",
        "# load state_dict from path\n",
        "state_dict_best = torch.load(best_model_name, map_location=torch.device('cpu'))\n",
        "\n",
        "# init pre-trained model class\n",
        "best_model = model\n",
        "\n",
        "# load pre-trained models\n",
        "best_model.load_state_dict(state_dict_best)"
      ],
      "metadata": {
        "id": "rFCqL_uS7caL",
        "colab": {
          "base_uri": "https://localhost:8080/"
        },
        "outputId": "111d954e-f8ab-4b97-929c-b4bac7069a64"
      },
      "execution_count": 171,
      "outputs": [
        {
          "output_type": "execute_result",
          "data": {
            "text/plain": [
              "<All keys matched successfully>"
            ]
          },
          "metadata": {},
          "execution_count": 171
        }
      ]
    },
    {
      "cell_type": "code",
      "source": [
        "# set model in evaluation mode\n",
        "best_model.eval()"
      ],
      "metadata": {
        "id": "wLLthpA87j6Y"
      },
      "execution_count": null,
      "outputs": []
    },
    {
      "cell_type": "code",
      "source": [
        "predictions = torch.argmax(best_model(iter(cifar10_eval_dataloader).next().to(device)), dim=1)"
      ],
      "metadata": {
        "id": "D_qc7UOYvi80",
        "outputId": "daf6376f-9bc9-4fc0-eeac-446241ab3c4f",
        "colab": {
          "base_uri": "https://localhost:8080/",
          "height": 193
        }
      },
      "execution_count": 179,
      "outputs": [
        {
          "output_type": "error",
          "ename": "RuntimeError",
          "evalue": "ignored",
          "traceback": [
            "\u001b[0;31m---------------------------------------------------------------------------\u001b[0m",
            "\u001b[0;31mRuntimeError\u001b[0m                              Traceback (most recent call last)",
            "\u001b[0;32m<ipython-input-179-40d16d02cb71>\u001b[0m in \u001b[0;36m<module>\u001b[0;34m()\u001b[0m\n\u001b[0;32m----> 1\u001b[0;31m \u001b[0mpredictions\u001b[0m \u001b[0;34m=\u001b[0m \u001b[0mtorch\u001b[0m\u001b[0;34m.\u001b[0m\u001b[0margmax\u001b[0m\u001b[0;34m(\u001b[0m\u001b[0mbest_model\u001b[0m\u001b[0;34m(\u001b[0m\u001b[0miter\u001b[0m\u001b[0;34m(\u001b[0m\u001b[0mcifar10_eval_dataloader\u001b[0m\u001b[0;34m)\u001b[0m\u001b[0;34m.\u001b[0m\u001b[0mnext\u001b[0m\u001b[0;34m(\u001b[0m\u001b[0;34m)\u001b[0m\u001b[0;34m.\u001b[0m\u001b[0mto\u001b[0m\u001b[0;34m(\u001b[0m\u001b[0mdevice\u001b[0m\u001b[0;34m)\u001b[0m\u001b[0;34m)\u001b[0m\u001b[0;34m,\u001b[0m \u001b[0mdim\u001b[0m\u001b[0;34m=\u001b[0m\u001b[0;36m1\u001b[0m\u001b[0;34m)\u001b[0m\u001b[0;34m\u001b[0m\u001b[0;34m\u001b[0m\u001b[0m\n\u001b[0m",
            "\u001b[0;31mRuntimeError\u001b[0m: CUDA out of memory. Tried to allocate 794.00 MiB (GPU 0; 15.90 GiB total capacity; 12.94 GiB already allocated; 245.75 MiB free; 14.72 GiB reserved in total by PyTorch) If reserved memory is >> allocated memory try setting max_split_size_mb to avoid fragmentation.  See documentation for Memory Management and PYTORCH_CUDA_ALLOC_CONF"
          ]
        }
      ]
    },
    {
      "cell_type": "code",
      "source": [
        "list_tens = predictions.tolist()\n",
        "\n",
        "for i in range(len(list_tens)):\n",
        "  list_tens[i] = decode_target(list_tens[i])"
      ],
      "metadata": {
        "id": "fwTZ7sx11H4v"
      },
      "execution_count": 63,
      "outputs": []
    },
    {
      "cell_type": "code",
      "source": [
        "print(list_tens)"
      ],
      "metadata": {
        "colab": {
          "base_uri": "https://localhost:8080/"
        },
        "id": "iJqAViM_Ro_x",
        "outputId": "beadc77f-0ba8-44b6-c4f6-831b4cb2f4c4"
      },
      "execution_count": 64,
      "outputs": [
        {
          "output_type": "stream",
          "name": "stdout",
          "text": [
            "['Forest', 'HerbaceousVegetation', 'Forest', 'SeaLake', 'HerbaceousVegetation', 'SeaLake', 'SeaLake', 'SeaLake', 'Forest', 'SeaLake', 'SeaLake', 'SeaLake', 'Forest', 'PermanentCrop', 'SeaLake', 'Forest', 'SeaLake', 'River', 'Forest', 'SeaLake', 'SeaLake', 'HerbaceousVegetation', 'SeaLake', 'SeaLake', 'SeaLake', 'Industrial', 'Forest', 'Forest', 'SeaLake', 'Highway', 'SeaLake', 'Forest', 'Forest', 'SeaLake', 'Forest', 'SeaLake', 'SeaLake', 'SeaLake', 'SeaLake', 'SeaLake', 'Forest', 'Forest', 'Highway', 'SeaLake', 'Forest', 'HerbaceousVegetation', 'SeaLake', 'SeaLake', 'Forest', 'Forest', 'HerbaceousVegetation', 'SeaLake', 'SeaLake', 'Forest', 'Industrial', 'Forest', 'HerbaceousVegetation', 'Forest', 'SeaLake', 'Forest', 'Forest', 'Forest', 'Forest', 'HerbaceousVegetation', 'SeaLake', 'SeaLake', 'SeaLake', 'SeaLake', 'AnnualCrop', 'SeaLake', 'SeaLake', 'Forest', 'SeaLake', 'SeaLake', 'Forest', 'Forest', 'SeaLake', 'SeaLake', 'SeaLake', 'SeaLake', 'Forest', 'Forest', 'Forest', 'Forest', 'SeaLake', 'SeaLake', 'SeaLake', 'SeaLake', 'SeaLake', 'SeaLake', 'Forest', 'HerbaceousVegetation', 'SeaLake', 'SeaLake', 'Forest', 'SeaLake', 'Forest', 'Forest', 'Forest', 'Forest', 'SeaLake', 'Residential', 'SeaLake', 'HerbaceousVegetation', 'Forest', 'Forest', 'Forest', 'Forest', 'SeaLake', 'HerbaceousVegetation', 'Industrial', 'Forest', 'SeaLake', 'Forest', 'Forest', 'SeaLake', 'SeaLake', 'Forest', 'SeaLake', 'Industrial', 'SeaLake', 'SeaLake', 'Forest', 'SeaLake', 'Forest', 'SeaLake', 'SeaLake', 'HerbaceousVegetation', 'Forest', 'Forest', 'Forest', 'Forest', 'SeaLake', 'Forest', 'SeaLake', 'Forest', 'Forest', 'Forest', 'HerbaceousVegetation', 'SeaLake', 'SeaLake', 'SeaLake', 'PermanentCrop', 'SeaLake', 'Forest', 'AnnualCrop', 'SeaLake', 'Forest', 'Forest', 'Forest', 'Forest', 'Forest', 'Forest', 'Forest', 'Forest', 'SeaLake', 'SeaLake', 'Forest', 'HerbaceousVegetation', 'Forest', 'Industrial', 'Industrial', 'Forest', 'Forest', 'Industrial', 'Residential', 'Forest', 'HerbaceousVegetation', 'Forest', 'Forest', 'Forest', 'SeaLake', 'HerbaceousVegetation', 'SeaLake', 'Forest', 'SeaLake', 'PermanentCrop', 'SeaLake', 'Forest', 'SeaLake', 'SeaLake', 'SeaLake', 'SeaLake', 'Forest', 'SeaLake', 'Forest', 'Forest', 'SeaLake', 'Forest', 'SeaLake', 'Forest', 'HerbaceousVegetation', 'Forest', 'HerbaceousVegetation', 'SeaLake', 'Forest', 'Forest', 'HerbaceousVegetation', 'Forest', 'Forest', 'Forest', 'SeaLake', 'Forest', 'SeaLake', 'Forest', 'SeaLake', 'Forest', 'Forest', 'Forest', 'SeaLake', 'SeaLake', 'SeaLake', 'HerbaceousVegetation', 'Forest', 'SeaLake', 'Forest', 'SeaLake', 'SeaLake', 'Forest', 'SeaLake', 'SeaLake', 'SeaLake', 'Forest', 'Forest', 'SeaLake', 'SeaLake', 'SeaLake', 'Forest', 'Forest', 'Forest', 'SeaLake', 'Forest', 'SeaLake', 'HerbaceousVegetation', 'SeaLake', 'Industrial', 'Forest', 'SeaLake', 'Forest', 'Industrial', 'SeaLake', 'Forest', 'Forest', 'Forest', 'Forest', 'Industrial', 'Forest', 'Pasture', 'SeaLake', 'Forest', 'SeaLake', 'SeaLake', 'Industrial', 'SeaLake', 'Forest', 'Forest', 'SeaLake', 'Forest', 'Forest', 'Forest', 'HerbaceousVegetation', 'Forest', 'SeaLake', 'SeaLake', 'Forest', 'Forest', 'Forest', 'HerbaceousVegetation', 'Forest', 'Forest', 'SeaLake', 'SeaLake', 'Forest', 'Industrial', 'SeaLake', 'SeaLake', 'SeaLake', 'Forest', 'Forest', 'SeaLake', 'SeaLake', 'SeaLake', 'SeaLake', 'HerbaceousVegetation', 'River', 'Forest', 'SeaLake', 'Forest', 'Forest', 'Industrial', 'Forest', 'SeaLake', 'SeaLake', 'SeaLake', 'Forest', 'Forest', 'HerbaceousVegetation', 'SeaLake', 'SeaLake', 'HerbaceousVegetation', 'SeaLake', 'Forest', 'HerbaceousVegetation', 'SeaLake', 'SeaLake', 'SeaLake', 'SeaLake', 'HerbaceousVegetation', 'Forest', 'SeaLake', 'SeaLake', 'HerbaceousVegetation', 'Forest', 'SeaLake', 'HerbaceousVegetation', 'Forest', 'Forest', 'Forest', 'SeaLake', 'Forest', 'Forest', 'Forest', 'SeaLake', 'Forest', 'Forest', 'SeaLake', 'Forest', 'SeaLake', 'Forest', 'SeaLake', 'SeaLake', 'Forest', 'Industrial', 'SeaLake', 'Forest', 'Forest', 'SeaLake', 'Forest', 'SeaLake', 'Forest', 'Forest', 'SeaLake', 'SeaLake', 'SeaLake', 'Forest', 'SeaLake', 'SeaLake', 'Forest', 'Residential', 'SeaLake', 'Forest', 'Forest', 'Forest', 'SeaLake', 'Forest', 'PermanentCrop', 'SeaLake', 'SeaLake', 'SeaLake', 'Forest', 'SeaLake', 'Forest', 'Forest', 'AnnualCrop', 'Forest', 'Forest', 'HerbaceousVegetation', 'Industrial', 'Industrial', 'SeaLake', 'Highway', 'SeaLake', 'AnnualCrop', 'Forest', 'SeaLake', 'Forest', 'SeaLake', 'Forest', 'Forest', 'SeaLake', 'SeaLake', 'SeaLake', 'SeaLake', 'HerbaceousVegetation', 'Industrial', 'HerbaceousVegetation', 'Forest', 'HerbaceousVegetation', 'Industrial', 'Forest', 'SeaLake', 'SeaLake', 'HerbaceousVegetation', 'Forest', 'HerbaceousVegetation', 'Forest', 'SeaLake', 'HerbaceousVegetation', 'SeaLake', 'Forest', 'AnnualCrop', 'Forest', 'Forest', 'SeaLake', 'SeaLake', 'Forest', 'Forest', 'AnnualCrop', 'Forest', 'Forest', 'Industrial', 'HerbaceousVegetation', 'Forest', 'Forest', 'Forest', 'Forest', 'Industrial', 'Industrial', 'SeaLake', 'Forest', 'SeaLake', 'Forest', 'Industrial', 'HerbaceousVegetation', 'Forest', 'SeaLake', 'AnnualCrop', 'Industrial', 'Forest', 'Industrial', 'Forest', 'Forest', 'Industrial', 'Highway', 'HerbaceousVegetation', 'SeaLake', 'Forest', 'Forest', 'SeaLake', 'Forest', 'Forest', 'SeaLake', 'SeaLake', 'SeaLake', 'Highway', 'Forest', 'Pasture', 'SeaLake', 'Forest', 'Forest', 'Forest', 'SeaLake', 'SeaLake', 'HerbaceousVegetation', 'SeaLake', 'SeaLake', 'SeaLake', 'PermanentCrop', 'HerbaceousVegetation', 'Forest', 'HerbaceousVegetation', 'HerbaceousVegetation', 'HerbaceousVegetation', 'SeaLake', 'Forest', 'SeaLake', 'SeaLake', 'Forest', 'SeaLake', 'Forest', 'Forest', 'SeaLake', 'Forest', 'SeaLake', 'Forest', 'HerbaceousVegetation', 'Forest', 'Forest', 'SeaLake', 'HerbaceousVegetation', 'Highway', 'SeaLake', 'River', 'SeaLake', 'Forest', 'HerbaceousVegetation', 'Forest', 'PermanentCrop', 'SeaLake', 'HerbaceousVegetation', 'Forest', 'Forest', 'Forest', 'Forest', 'SeaLake', 'SeaLake', 'SeaLake', 'Forest', 'SeaLake', 'SeaLake', 'SeaLake', 'Forest', 'SeaLake', 'SeaLake', 'SeaLake', 'HerbaceousVegetation', 'SeaLake', 'Residential', 'Forest', 'Forest', 'HerbaceousVegetation', 'SeaLake', 'Forest', 'Forest', 'SeaLake', 'Forest', 'Forest', 'HerbaceousVegetation', 'SeaLake', 'SeaLake', 'Forest', 'HerbaceousVegetation', 'SeaLake', 'Forest', 'HerbaceousVegetation', 'Forest', 'Forest', 'Forest', 'SeaLake', 'Forest', 'PermanentCrop', 'SeaLake', 'HerbaceousVegetation', 'Forest', 'Forest', 'HerbaceousVegetation', 'SeaLake', 'SeaLake', 'HerbaceousVegetation', 'Forest', 'SeaLake', 'Forest', 'HerbaceousVegetation', 'Forest', 'Industrial', 'SeaLake', 'SeaLake', 'Forest', 'Forest', 'Forest', 'HerbaceousVegetation', 'Forest', 'Forest', 'Forest', 'SeaLake', 'HerbaceousVegetation', 'SeaLake', 'SeaLake', 'Industrial', 'Forest', 'SeaLake', 'Industrial', 'Forest', 'Industrial', 'Industrial', 'Industrial', 'Forest', 'SeaLake', 'PermanentCrop', 'SeaLake', 'SeaLake', 'SeaLake', 'Forest', 'HerbaceousVegetation', 'Forest', 'HerbaceousVegetation', 'Industrial', 'Forest', 'Forest', 'Forest', 'Residential', 'Forest', 'HerbaceousVegetation', 'SeaLake', 'Forest', 'Forest', 'Pasture', 'Forest', 'SeaLake', 'Forest', 'Forest', 'Industrial', 'Forest', 'HerbaceousVegetation', 'SeaLake', 'HerbaceousVegetation', 'SeaLake', 'SeaLake', 'SeaLake', 'SeaLake', 'SeaLake', 'SeaLake', 'Forest', 'Forest', 'AnnualCrop', 'Highway', 'Forest', 'Highway', 'SeaLake', 'SeaLake', 'Forest', 'Industrial', 'Industrial', 'Residential', 'Residential', 'SeaLake', 'HerbaceousVegetation', 'Forest', 'HerbaceousVegetation', 'Forest', 'SeaLake', 'Forest', 'Forest', 'Forest', 'SeaLake', 'SeaLake', 'AnnualCrop', 'Forest', 'Industrial', 'SeaLake', 'SeaLake', 'Forest', 'SeaLake', 'SeaLake', 'SeaLake', 'SeaLake', 'SeaLake', 'Forest', 'SeaLake', 'HerbaceousVegetation', 'Forest', 'HerbaceousVegetation', 'HerbaceousVegetation', 'Highway', 'SeaLake', 'HerbaceousVegetation', 'HerbaceousVegetation', 'HerbaceousVegetation', 'Forest', 'Forest', 'SeaLake', 'Highway', 'HerbaceousVegetation', 'Forest', 'Industrial', 'HerbaceousVegetation', 'SeaLake', 'SeaLake', 'SeaLake', 'Forest', 'SeaLake', 'SeaLake', 'HerbaceousVegetation', 'Forest', 'Forest', 'Industrial', 'SeaLake', 'SeaLake', 'HerbaceousVegetation', 'Forest', 'HerbaceousVegetation', 'Forest', 'Forest', 'SeaLake', 'AnnualCrop', 'SeaLake', 'HerbaceousVegetation', 'Industrial', 'Forest', 'Forest', 'Forest', 'SeaLake', 'SeaLake', 'SeaLake', 'HerbaceousVegetation', 'SeaLake', 'Forest', 'Industrial', 'HerbaceousVegetation', 'Forest', 'SeaLake', 'Forest', 'SeaLake', 'SeaLake', 'SeaLake', 'SeaLake', 'Industrial', 'Forest', 'HerbaceousVegetation', 'Forest', 'Forest', 'Forest', 'SeaLake', 'Forest', 'Forest', 'Forest', 'Forest', 'AnnualCrop', 'Forest', 'SeaLake', 'SeaLake', 'AnnualCrop', 'Industrial', 'SeaLake', 'SeaLake', 'SeaLake', 'Forest', 'Forest', 'Forest', 'Forest', 'Forest', 'HerbaceousVegetation', 'Forest', 'HerbaceousVegetation', 'SeaLake', 'Forest', 'SeaLake', 'PermanentCrop', 'SeaLake', 'SeaLake', 'SeaLake', 'Forest', 'SeaLake', 'Forest', 'HerbaceousVegetation', 'PermanentCrop', 'Pasture', 'SeaLake', 'HerbaceousVegetation', 'Forest', 'Forest', 'Industrial', 'SeaLake', 'SeaLake', 'HerbaceousVegetation', 'Forest', 'SeaLake', 'Forest', 'Industrial', 'Forest', 'SeaLake', 'SeaLake', 'Forest', 'Forest', 'Highway', 'SeaLake', 'SeaLake', 'SeaLake', 'SeaLake', 'Forest', 'HerbaceousVegetation', 'PermanentCrop', 'Forest', 'Forest', 'Forest', 'Forest', 'SeaLake', 'SeaLake', 'Forest', 'SeaLake', 'SeaLake', 'Forest', 'SeaLake', 'SeaLake', 'SeaLake', 'PermanentCrop', 'Forest', 'SeaLake', 'Forest', 'Industrial', 'Forest', 'Forest', 'SeaLake', 'Forest', 'Forest', 'SeaLake', 'Forest', 'Forest', 'Forest', 'River', 'SeaLake', 'SeaLake', 'HerbaceousVegetation', 'Forest', 'Industrial', 'Forest', 'Forest', 'SeaLake', 'SeaLake', 'Forest', 'Forest', 'Forest', 'Forest', 'HerbaceousVegetation', 'Forest', 'Forest', 'Forest', 'Forest', 'Forest', 'Forest', 'Industrial', 'Forest', 'Forest', 'Industrial', 'SeaLake', 'SeaLake', 'SeaLake', 'HerbaceousVegetation', 'HerbaceousVegetation', 'Residential', 'Forest', 'Industrial', 'SeaLake', 'HerbaceousVegetation', 'SeaLake', 'HerbaceousVegetation', 'Forest', 'Forest', 'SeaLake', 'Forest', 'Forest', 'Industrial', 'Forest', 'HerbaceousVegetation', 'Forest', 'SeaLake', 'HerbaceousVegetation', 'HerbaceousVegetation', 'Forest', 'Forest', 'SeaLake', 'Forest', 'SeaLake', 'Highway', 'SeaLake', 'SeaLake', 'SeaLake', 'Forest', 'Forest', 'Forest', 'Forest', 'Industrial', 'Forest', 'SeaLake', 'Forest', 'Forest', 'Forest', 'SeaLake', 'Industrial', 'SeaLake', 'SeaLake', 'Forest', 'Forest', 'Industrial', 'Forest', 'SeaLake', 'Forest', 'SeaLake', 'Forest', 'SeaLake', 'AnnualCrop', 'Forest', 'Industrial', 'HerbaceousVegetation', 'HerbaceousVegetation', 'SeaLake', 'PermanentCrop', 'SeaLake', 'Forest', 'Forest', 'SeaLake', 'SeaLake', 'HerbaceousVegetation', 'Forest', 'SeaLake', 'Forest', 'Forest', 'SeaLake', 'AnnualCrop', 'SeaLake', 'Forest', 'SeaLake', 'SeaLake', 'SeaLake', 'Industrial', 'Forest', 'HerbaceousVegetation', 'Highway', 'HerbaceousVegetation', 'SeaLake', 'Industrial', 'Forest', 'Forest', 'SeaLake', 'Forest', 'SeaLake', 'Forest', 'SeaLake', 'Forest', 'Forest', 'SeaLake', 'Industrial', 'SeaLake', 'Industrial', 'Forest', 'Forest', 'Forest', 'SeaLake', 'Forest', 'SeaLake', 'SeaLake', 'SeaLake', 'Forest', 'SeaLake', 'PermanentCrop', 'PermanentCrop', 'SeaLake', 'Forest', 'SeaLake', 'Forest', 'Forest', 'SeaLake', 'Forest', 'Industrial', 'Forest', 'SeaLake', 'HerbaceousVegetation', 'Forest', 'SeaLake', 'SeaLake', 'Forest', 'SeaLake', 'Forest', 'PermanentCrop', 'Forest', 'HerbaceousVegetation', 'Forest', 'Forest', 'SeaLake', 'Forest', 'HerbaceousVegetation', 'SeaLake', 'SeaLake', 'Forest', 'River', 'SeaLake', 'SeaLake', 'Forest', 'Forest', 'Forest', 'SeaLake', 'Forest', 'Forest', 'Forest', 'SeaLake', 'SeaLake', 'SeaLake', 'SeaLake', 'HerbaceousVegetation', 'SeaLake', 'HerbaceousVegetation', 'SeaLake', 'Industrial', 'Forest', 'Industrial', 'SeaLake', 'SeaLake', 'Forest', 'SeaLake', 'SeaLake', 'SeaLake', 'Forest', 'Forest', 'Forest', 'HerbaceousVegetation', 'Forest', 'Forest', 'Highway', 'Forest', 'HerbaceousVegetation', 'SeaLake', 'SeaLake', 'SeaLake', 'Industrial', 'Forest', 'HerbaceousVegetation', 'SeaLake', 'AnnualCrop', 'Forest', 'SeaLake', 'HerbaceousVegetation', 'SeaLake', 'HerbaceousVegetation', 'Forest', 'SeaLake', 'SeaLake', 'SeaLake', 'Forest', 'HerbaceousVegetation', 'Forest', 'SeaLake', 'AnnualCrop', 'AnnualCrop', 'SeaLake', 'HerbaceousVegetation', 'SeaLake', 'SeaLake', 'Forest', 'SeaLake', 'Forest', 'SeaLake', 'SeaLake', 'SeaLake', 'HerbaceousVegetation', 'Forest', 'Forest', 'SeaLake', 'SeaLake', 'SeaLake', 'HerbaceousVegetation', 'HerbaceousVegetation', 'AnnualCrop', 'SeaLake', 'SeaLake', 'SeaLake', 'SeaLake', 'SeaLake', 'Forest', 'Forest', 'HerbaceousVegetation', 'Forest', 'SeaLake', 'HerbaceousVegetation', 'AnnualCrop', 'Forest', 'PermanentCrop', 'SeaLake', 'SeaLake', 'SeaLake', 'Forest', 'SeaLake', 'River', 'Forest', 'Forest', 'SeaLake', 'Forest', 'AnnualCrop', 'SeaLake', 'SeaLake', 'Forest', 'HerbaceousVegetation', 'Forest', 'SeaLake', 'Forest', 'Highway', 'Forest', 'Forest', 'Forest', 'Forest', 'SeaLake', 'Forest', 'Forest', 'AnnualCrop', 'Industrial', 'SeaLake', 'Forest', 'SeaLake', 'SeaLake', 'Forest', 'Forest', 'SeaLake', 'HerbaceousVegetation', 'Forest', 'Forest', 'Forest', 'Forest', 'Industrial', 'Forest', 'Forest', 'Highway', 'HerbaceousVegetation', 'Forest', 'Forest', 'Forest', 'SeaLake', 'Forest', 'SeaLake', 'SeaLake', 'Forest', 'Forest', 'SeaLake', 'SeaLake', 'Forest', 'Forest', 'Forest', 'SeaLake', 'Forest', 'HerbaceousVegetation', 'SeaLake', 'Forest', 'Forest', 'Forest', 'Forest', 'SeaLake', 'Forest', 'SeaLake', 'PermanentCrop', 'Forest', 'Forest', 'Forest', 'Forest', 'Forest', 'Forest', 'Forest', 'HerbaceousVegetation', 'Industrial', 'HerbaceousVegetation', 'Forest', 'Industrial', 'AnnualCrop', 'SeaLake', 'SeaLake', 'Forest', 'Forest', 'SeaLake', 'AnnualCrop', 'HerbaceousVegetation', 'Forest', 'SeaLake', 'Forest', 'Forest', 'SeaLake', 'HerbaceousVegetation', 'SeaLake', 'SeaLake', 'Forest', 'River', 'Forest', 'HerbaceousVegetation', 'Forest', 'PermanentCrop', 'Highway', 'Forest', 'SeaLake', 'Forest', 'HerbaceousVegetation', 'Forest', 'SeaLake', 'SeaLake', 'Forest', 'AnnualCrop', 'Industrial', 'Highway', 'SeaLake', 'Forest', 'Forest', 'Forest', 'Forest', 'Forest', 'Forest', 'Forest', 'Industrial', 'Forest', 'Forest', 'SeaLake', 'Forest', 'Forest', 'SeaLake', 'SeaLake', 'Forest', 'Forest', 'Forest', 'Highway', 'SeaLake', 'HerbaceousVegetation', 'Industrial', 'Forest', 'Forest', 'SeaLake', 'Forest', 'Forest', 'SeaLake', 'Forest', 'Forest', 'SeaLake', 'SeaLake', 'SeaLake', 'SeaLake', 'Forest', 'Forest', 'SeaLake', 'Forest', 'SeaLake', 'Forest', 'SeaLake', 'Forest', 'River', 'Forest', 'Forest', 'Forest', 'Residential', 'HerbaceousVegetation', 'Forest', 'Residential', 'SeaLake', 'Forest', 'SeaLake', 'SeaLake', 'Forest', 'SeaLake', 'Industrial', 'SeaLake', 'Forest', 'SeaLake', 'HerbaceousVegetation', 'SeaLake', 'Forest', 'Forest', 'AnnualCrop', 'HerbaceousVegetation', 'SeaLake', 'HerbaceousVegetation', 'SeaLake', 'Forest', 'SeaLake', 'SeaLake', 'Forest', 'Highway', 'SeaLake', 'SeaLake', 'AnnualCrop', 'SeaLake', 'Forest', 'SeaLake', 'SeaLake', 'SeaLake', 'SeaLake', 'Forest', 'Forest', 'SeaLake', 'Forest', 'HerbaceousVegetation', 'Forest', 'SeaLake', 'PermanentCrop', 'Forest', 'SeaLake', 'Forest', 'AnnualCrop', 'SeaLake', 'SeaLake', 'HerbaceousVegetation', 'Forest', 'Industrial', 'Forest', 'AnnualCrop', 'Forest', 'Forest', 'Forest', 'HerbaceousVegetation', 'SeaLake', 'Forest', 'SeaLake', 'SeaLake', 'SeaLake', 'SeaLake', 'AnnualCrop', 'Forest', 'HerbaceousVegetation', 'SeaLake', 'Forest', 'SeaLake', 'SeaLake', 'Forest', 'Forest', 'SeaLake', 'PermanentCrop', 'SeaLake', 'SeaLake', 'Forest', 'Forest', 'HerbaceousVegetation', 'SeaLake', 'SeaLake', 'SeaLake', 'Forest', 'Forest', 'Forest', 'Forest', 'SeaLake', 'SeaLake', 'SeaLake', 'Forest', 'PermanentCrop', 'SeaLake', 'Forest', 'Forest', 'SeaLake', 'Forest', 'HerbaceousVegetation', 'Forest', 'SeaLake', 'Forest', 'Forest', 'SeaLake', 'HerbaceousVegetation', 'SeaLake', 'Forest', 'Forest', 'Forest', 'Forest', 'SeaLake', 'SeaLake', 'SeaLake', 'Forest', 'Industrial', 'AnnualCrop', 'PermanentCrop', 'PermanentCrop', 'Forest', 'SeaLake', 'SeaLake', 'SeaLake', 'SeaLake', 'Industrial', 'Forest', 'HerbaceousVegetation', 'SeaLake', 'Forest', 'Forest', 'Forest', 'SeaLake', 'SeaLake', 'HerbaceousVegetation', 'Forest', 'SeaLake', 'HerbaceousVegetation', 'Forest', 'Forest', 'Forest', 'Forest', 'SeaLake', 'AnnualCrop', 'PermanentCrop', 'SeaLake', 'Forest', 'SeaLake', 'Forest', 'Forest', 'Forest', 'Forest', 'HerbaceousVegetation', 'Forest', 'SeaLake', 'HerbaceousVegetation', 'SeaLake', 'Forest', 'Forest', 'Residential', 'SeaLake', 'AnnualCrop', 'Industrial', 'Forest', 'Forest', 'SeaLake', 'Forest', 'Forest', 'SeaLake', 'SeaLake', 'Forest', 'SeaLake', 'PermanentCrop', 'Forest', 'Forest', 'PermanentCrop', 'Forest', 'Highway', 'SeaLake', 'HerbaceousVegetation', 'Forest', 'Forest', 'SeaLake', 'SeaLake', 'SeaLake', 'Forest', 'Forest', 'SeaLake', 'HerbaceousVegetation', 'HerbaceousVegetation', 'Forest', 'Residential', 'Forest', 'Industrial', 'SeaLake', 'HerbaceousVegetation', 'Forest', 'SeaLake', 'SeaLake', 'SeaLake', 'Forest', 'Forest', 'SeaLake', 'Forest', 'Forest', 'Forest', 'PermanentCrop', 'Forest', 'Forest', 'SeaLake', 'Forest', 'Forest', 'Forest', 'Highway', 'SeaLake', 'HerbaceousVegetation', 'SeaLake', 'Forest', 'Forest', 'SeaLake', 'SeaLake', 'SeaLake', 'Forest', 'Forest', 'SeaLake', 'PermanentCrop', 'Forest', 'Forest', 'Forest', 'SeaLake', 'HerbaceousVegetation', 'Forest', 'Forest', 'Forest', 'Forest', 'Forest', 'Forest', 'Forest', 'HerbaceousVegetation', 'PermanentCrop', 'Forest', 'PermanentCrop', 'Forest', 'Industrial', 'Forest', 'SeaLake', 'HerbaceousVegetation', 'Industrial', 'Forest', 'SeaLake', 'Forest', 'Highway', 'HerbaceousVegetation', 'SeaLake', 'Highway', 'Forest', 'SeaLake', 'HerbaceousVegetation', 'SeaLake', 'Forest', 'SeaLake', 'SeaLake', 'SeaLake', 'Forest', 'Forest', 'SeaLake', 'Forest', 'Industrial', 'HerbaceousVegetation', 'Forest', 'Forest', 'SeaLake', 'SeaLake', 'SeaLake', 'SeaLake', 'Forest', 'Forest', 'Industrial', 'SeaLake', 'HerbaceousVegetation', 'SeaLake', 'Highway', 'SeaLake', 'PermanentCrop', 'Residential', 'Forest', 'SeaLake', 'Industrial', 'SeaLake', 'SeaLake', 'SeaLake', 'HerbaceousVegetation', 'Forest', 'Forest', 'AnnualCrop', 'SeaLake', 'Highway', 'SeaLake', 'PermanentCrop', 'Forest', 'SeaLake', 'Forest', 'PermanentCrop', 'SeaLake', 'Industrial', 'Forest', 'Forest', 'SeaLake', 'SeaLake', 'Forest', 'SeaLake', 'SeaLake', 'HerbaceousVegetation', 'HerbaceousVegetation', 'Forest', 'Forest', 'Forest', 'Forest', 'Forest', 'Forest', 'Forest', 'Forest', 'Industrial', 'SeaLake', 'SeaLake', 'HerbaceousVegetation', 'SeaLake', 'Forest', 'Residential', 'SeaLake', 'SeaLake', 'Forest', 'River', 'Forest', 'Forest', 'SeaLake', 'SeaLake', 'SeaLake', 'SeaLake', 'Industrial', 'SeaLake', 'SeaLake', 'Forest', 'HerbaceousVegetation', 'Forest', 'Forest', 'Forest', 'Forest', 'SeaLake', 'SeaLake', 'HerbaceousVegetation', 'River', 'Forest', 'SeaLake', 'Industrial', 'SeaLake', 'SeaLake', 'Forest', 'Forest', 'HerbaceousVegetation', 'HerbaceousVegetation', 'SeaLake', 'HerbaceousVegetation', 'Forest', 'Forest', 'Forest', 'SeaLake', 'Forest', 'Forest', 'SeaLake', 'SeaLake', 'Forest', 'HerbaceousVegetation', 'Forest', 'Forest', 'SeaLake', 'HerbaceousVegetation', 'HerbaceousVegetation', 'HerbaceousVegetation', 'SeaLake', 'Industrial', 'HerbaceousVegetation', 'Forest', 'SeaLake', 'Forest', 'SeaLake', 'Forest', 'Forest', 'Forest', 'Forest', 'HerbaceousVegetation', 'Forest', 'Forest', 'SeaLake', 'Forest', 'SeaLake', 'SeaLake', 'Forest', 'SeaLake', 'Highway', 'PermanentCrop', 'SeaLake', 'Forest', 'Industrial', 'Industrial', 'Industrial', 'SeaLake', 'Forest', 'Highway', 'SeaLake', 'SeaLake', 'Forest', 'HerbaceousVegetation', 'Industrial', 'SeaLake', 'Forest', 'Forest', 'SeaLake', 'Forest', 'Forest', 'SeaLake', 'Forest', 'SeaLake', 'Forest', 'Forest', 'Industrial', 'Forest', 'Industrial', 'SeaLake', 'SeaLake', 'Forest', 'SeaLake', 'SeaLake', 'SeaLake', 'Forest', 'HerbaceousVegetation', 'SeaLake', 'HerbaceousVegetation', 'Forest', 'Forest', 'HerbaceousVegetation', 'Forest', 'Forest', 'SeaLake', 'HerbaceousVegetation', 'Forest', 'Forest', 'SeaLake', 'SeaLake', 'SeaLake', 'SeaLake', 'Highway', 'Industrial', 'Forest', 'Forest', 'SeaLake', 'Industrial', 'Forest', 'SeaLake', 'SeaLake', 'Forest', 'SeaLake', 'Forest', 'Forest', 'Forest', 'AnnualCrop', 'SeaLake', 'Forest', 'SeaLake', 'AnnualCrop', 'Forest', 'SeaLake', 'HerbaceousVegetation', 'SeaLake', 'HerbaceousVegetation', 'Forest', 'Forest', 'Forest', 'Highway', 'Forest', 'SeaLake', 'PermanentCrop', 'SeaLake', 'HerbaceousVegetation', 'SeaLake', 'SeaLake', 'HerbaceousVegetation', 'Forest', 'Forest', 'SeaLake', 'Forest', 'HerbaceousVegetation', 'Forest', 'SeaLake', 'Forest', 'SeaLake', 'SeaLake', 'Forest', 'Industrial', 'SeaLake', 'Forest', 'Highway', 'Forest', 'SeaLake', 'SeaLake', 'SeaLake', 'HerbaceousVegetation', 'Forest', 'Forest', 'Forest', 'Forest', 'SeaLake', 'SeaLake', 'PermanentCrop', 'Forest', 'Forest', 'Forest', 'SeaLake', 'SeaLake', 'Forest', 'Forest', 'SeaLake', 'PermanentCrop', 'Forest', 'Forest', 'Forest', 'Forest', 'Industrial', 'Forest', 'SeaLake', 'Forest', 'Pasture', 'SeaLake', 'SeaLake', 'Forest', 'SeaLake', 'Forest', 'Forest', 'Forest', 'HerbaceousVegetation', 'Forest', 'River', 'Forest', 'Residential', 'Forest', 'SeaLake', 'AnnualCrop', 'Forest', 'SeaLake', 'Forest', 'SeaLake', 'Forest', 'Forest', 'SeaLake', 'HerbaceousVegetation', 'Forest', 'HerbaceousVegetation', 'Forest', 'Forest', 'AnnualCrop', 'HerbaceousVegetation', 'Forest', 'Forest', 'SeaLake', 'SeaLake', 'HerbaceousVegetation', 'SeaLake', 'Forest', 'SeaLake', 'SeaLake', 'HerbaceousVegetation', 'SeaLake', 'SeaLake', 'Forest', 'Industrial', 'SeaLake', 'Forest', 'SeaLake', 'SeaLake', 'Industrial', 'Forest', 'Industrial', 'Forest', 'Forest', 'Highway', 'Forest', 'HerbaceousVegetation', 'SeaLake', 'Forest', 'Forest', 'Forest', 'Forest', 'Forest', 'HerbaceousVegetation', 'Forest', 'SeaLake', 'HerbaceousVegetation', 'Forest', 'Forest', 'Forest', 'Forest', 'SeaLake', 'Industrial', 'SeaLake', 'Forest', 'Forest', 'Forest', 'Forest', 'HerbaceousVegetation', 'SeaLake', 'PermanentCrop', 'Forest', 'Forest', 'SeaLake', 'SeaLake', 'Forest', 'HerbaceousVegetation', 'Forest', 'Highway', 'Forest', 'SeaLake', 'Forest', 'Forest', 'SeaLake', 'SeaLake', 'Forest', 'Forest', 'SeaLake', 'Forest', 'Forest', 'Industrial', 'SeaLake', 'Industrial', 'Forest', 'SeaLake', 'Forest', 'SeaLake', 'Highway', 'Forest', 'AnnualCrop', 'Forest', 'Forest', 'Forest', 'HerbaceousVegetation', 'Forest', 'Forest', 'SeaLake', 'SeaLake', 'SeaLake', 'River', 'Residential', 'SeaLake', 'SeaLake', 'Forest', 'SeaLake', 'Highway', 'Forest', 'Forest', 'SeaLake', 'Forest', 'Forest', 'Forest', 'Forest', 'Forest', 'Industrial', 'HerbaceousVegetation', 'AnnualCrop', 'Forest', 'Forest', 'SeaLake', 'SeaLake', 'Forest', 'Forest', 'Industrial', 'Highway', 'SeaLake', 'SeaLake', 'Forest', 'Forest', 'Forest', 'SeaLake', 'Forest', 'Forest', 'SeaLake', 'SeaLake', 'SeaLake', 'SeaLake', 'SeaLake', 'Forest', 'SeaLake', 'Forest', 'SeaLake', 'Forest', 'SeaLake', 'SeaLake', 'AnnualCrop', 'Forest', 'SeaLake', 'SeaLake', 'HerbaceousVegetation', 'SeaLake', 'Forest', 'Forest', 'Forest', 'SeaLake', 'Forest', 'Forest', 'SeaLake', 'Forest', 'Forest', 'HerbaceousVegetation', 'Industrial', 'SeaLake', 'Forest', 'SeaLake', 'Industrial', 'SeaLake', 'HerbaceousVegetation', 'Forest', 'Forest', 'SeaLake', 'Forest', 'Forest', 'SeaLake', 'SeaLake', 'HerbaceousVegetation', 'Industrial', 'AnnualCrop', 'SeaLake', 'SeaLake', 'Forest', 'HerbaceousVegetation', 'SeaLake', 'HerbaceousVegetation', 'SeaLake', 'Forest', 'Forest', 'Forest', 'Forest', 'SeaLake', 'HerbaceousVegetation', 'SeaLake', 'Industrial', 'Forest', 'SeaLake', 'HerbaceousVegetation', 'SeaLake', 'SeaLake', 'Forest', 'SeaLake', 'Forest', 'SeaLake', 'Industrial', 'Industrial', 'SeaLake', 'Forest', 'Forest', 'Forest', 'Forest', 'SeaLake', 'HerbaceousVegetation', 'HerbaceousVegetation', 'Forest', 'PermanentCrop', 'Forest', 'HerbaceousVegetation', 'Forest', 'Forest', 'SeaLake', 'Forest', 'Forest', 'River', 'Forest', 'SeaLake', 'SeaLake', 'Forest', 'SeaLake', 'Forest', 'Forest', 'SeaLake', 'Forest', 'Forest', 'HerbaceousVegetation', 'SeaLake', 'Forest', 'Forest', 'PermanentCrop', 'HerbaceousVegetation', 'Industrial', 'SeaLake', 'Forest', 'SeaLake', 'Forest', 'HerbaceousVegetation', 'AnnualCrop', 'Industrial', 'Forest', 'Forest', 'Forest', 'Forest', 'SeaLake', 'SeaLake', 'Forest', 'Forest', 'PermanentCrop', 'SeaLake', 'Forest', 'SeaLake', 'Forest', 'SeaLake', 'Forest', 'Forest', 'SeaLake', 'SeaLake', 'SeaLake', 'Forest', 'Forest', 'SeaLake', 'SeaLake', 'Industrial', 'Industrial', 'Forest', 'Highway', 'SeaLake', 'SeaLake', 'Forest', 'River', 'Forest', 'SeaLake', 'SeaLake', 'Forest', 'SeaLake', 'Forest', 'Forest', 'Forest', 'SeaLake', 'Forest', 'SeaLake', 'Forest', 'Forest', 'Forest', 'HerbaceousVegetation', 'Forest', 'Forest', 'Industrial', 'SeaLake', 'Forest', 'Forest', 'SeaLake', 'Industrial', 'AnnualCrop', 'Forest', 'SeaLake', 'SeaLake', 'Forest', 'SeaLake', 'SeaLake', 'SeaLake', 'SeaLake', 'SeaLake', 'Forest', 'Forest', 'HerbaceousVegetation', 'Forest', 'Forest', 'Forest', 'Residential', 'Forest', 'Forest', 'SeaLake', 'SeaLake', 'Forest', 'Industrial', 'Forest', 'HerbaceousVegetation', 'Industrial', 'Highway', 'SeaLake', 'HerbaceousVegetation', 'SeaLake', 'Forest', 'Forest', 'SeaLake', 'HerbaceousVegetation', 'Forest', 'Forest', 'HerbaceousVegetation', 'Forest', 'PermanentCrop', 'HerbaceousVegetation', 'SeaLake', 'SeaLake', 'Forest', 'Forest', 'HerbaceousVegetation', 'SeaLake', 'AnnualCrop', 'SeaLake', 'SeaLake', 'Forest', 'SeaLake', 'SeaLake', 'HerbaceousVegetation', 'SeaLake', 'Forest', 'Forest', 'HerbaceousVegetation', 'SeaLake', 'SeaLake', 'Forest', 'SeaLake', 'Forest', 'Forest', 'Forest', 'Forest', 'SeaLake', 'Forest', 'SeaLake', 'Industrial', 'SeaLake', 'HerbaceousVegetation', 'SeaLake', 'HerbaceousVegetation', 'SeaLake', 'SeaLake', 'Industrial', 'Forest', 'Forest', 'Forest', 'HerbaceousVegetation', 'SeaLake', 'SeaLake', 'SeaLake', 'SeaLake', 'Forest', 'Residential', 'SeaLake', 'Forest', 'HerbaceousVegetation', 'HerbaceousVegetation', 'HerbaceousVegetation', 'Forest', 'SeaLake', 'SeaLake', 'Forest', 'PermanentCrop', 'Forest', 'Forest', 'SeaLake', 'Forest', 'SeaLake', 'SeaLake', 'SeaLake', 'Forest', 'Industrial', 'SeaLake', 'Forest', 'SeaLake', 'Forest', 'Forest', 'Forest', 'Forest', 'SeaLake', 'Industrial', 'Industrial', 'SeaLake', 'SeaLake', 'Forest', 'Forest', 'SeaLake', 'Forest', 'Forest', 'Residential', 'SeaLake', 'Forest', 'SeaLake', 'Forest', 'Industrial', 'SeaLake', 'Industrial', 'SeaLake', 'SeaLake', 'Forest', 'River', 'Highway', 'HerbaceousVegetation', 'HerbaceousVegetation', 'SeaLake', 'Forest', 'Forest', 'Forest', 'Residential', 'Forest', 'HerbaceousVegetation', 'SeaLake', 'SeaLake', 'Forest', 'Forest', 'HerbaceousVegetation', 'Forest', 'SeaLake', 'SeaLake', 'SeaLake', 'Forest', 'SeaLake', 'Forest', 'Forest', 'Forest', 'Forest', 'PermanentCrop', 'Forest', 'Forest', 'SeaLake', 'Industrial', 'SeaLake', 'Forest', 'Forest', 'HerbaceousVegetation', 'SeaLake', 'Forest', 'PermanentCrop', 'Forest', 'SeaLake', 'Forest', 'Forest', 'Forest', 'Forest', 'Highway', 'Forest', 'SeaLake', 'SeaLake', 'Forest', 'HerbaceousVegetation', 'Forest', 'SeaLake', 'Forest', 'SeaLake', 'SeaLake', 'Highway', 'SeaLake', 'SeaLake', 'Forest', 'Forest', 'SeaLake', 'River', 'SeaLake', 'Forest', 'SeaLake', 'SeaLake', 'Forest', 'HerbaceousVegetation', 'SeaLake', 'SeaLake', 'Forest', 'Forest', 'SeaLake', 'PermanentCrop', 'SeaLake', 'Forest', 'SeaLake', 'SeaLake', 'SeaLake', 'SeaLake', 'SeaLake', 'Forest', 'HerbaceousVegetation', 'HerbaceousVegetation', 'Forest', 'Forest', 'Forest', 'Forest', 'Forest', 'SeaLake', 'HerbaceousVegetation', 'Forest', 'SeaLake', 'Forest', 'Industrial', 'Forest', 'Forest', 'SeaLake', 'SeaLake', 'Industrial', 'Forest', 'Forest', 'AnnualCrop', 'Forest', 'Highway', 'Forest', 'Forest', 'Highway', 'SeaLake', 'Forest', 'SeaLake', 'Forest', 'Forest', 'SeaLake', 'AnnualCrop', 'Forest', 'Forest', 'SeaLake', 'Forest', 'Forest', 'SeaLake', 'Forest', 'HerbaceousVegetation', 'Forest', 'SeaLake', 'Forest', 'SeaLake', 'HerbaceousVegetation', 'Industrial', 'AnnualCrop', 'SeaLake', 'Forest', 'Forest', 'Forest', 'SeaLake', 'Forest', 'Residential', 'Forest', 'SeaLake', 'Forest', 'Forest', 'HerbaceousVegetation', 'Forest', 'HerbaceousVegetation', 'HerbaceousVegetation', 'HerbaceousVegetation', 'HerbaceousVegetation', 'Forest', 'Industrial', 'Forest', 'SeaLake', 'Forest', 'SeaLake', 'Forest', 'SeaLake', 'SeaLake', 'Forest', 'Forest', 'SeaLake', 'Industrial', 'Forest', 'Forest', 'HerbaceousVegetation', 'Forest', 'Forest', 'SeaLake', 'SeaLake', 'Forest', 'Forest', 'Forest', 'Forest', 'Forest', 'SeaLake', 'Forest', 'Forest', 'SeaLake', 'HerbaceousVegetation', 'River', 'Forest', 'SeaLake', 'SeaLake', 'SeaLake', 'SeaLake', 'SeaLake', 'Forest', 'SeaLake', 'Forest', 'SeaLake', 'HerbaceousVegetation', 'Forest', 'SeaLake', 'Forest', 'Forest', 'SeaLake', 'Forest', 'Forest', 'SeaLake', 'HerbaceousVegetation', 'Forest', 'Forest', 'Forest', 'SeaLake', 'Forest', 'Forest', 'Forest', 'SeaLake', 'HerbaceousVegetation', 'SeaLake', 'Forest', 'SeaLake', 'SeaLake', 'SeaLake', 'HerbaceousVegetation', 'Forest', 'Forest', 'SeaLake', 'HerbaceousVegetation', 'Forest', 'Forest', 'Forest', 'Forest', 'Forest', 'SeaLake', 'Forest', 'Forest', 'Industrial', 'Forest', 'HerbaceousVegetation', 'Forest', 'Forest', 'Forest', 'Forest', 'Pasture', 'Highway', 'SeaLake', 'SeaLake', 'Forest', 'SeaLake', 'HerbaceousVegetation', 'Forest', 'Forest', 'Forest', 'HerbaceousVegetation', 'SeaLake', 'Forest', 'HerbaceousVegetation', 'SeaLake', 'Forest', 'SeaLake', 'Forest', 'Highway', 'SeaLake', 'AnnualCrop', 'Forest', 'HerbaceousVegetation', 'Forest', 'SeaLake', 'Forest', 'Forest', 'HerbaceousVegetation', 'SeaLake', 'SeaLake', 'Forest', 'Forest', 'SeaLake', 'SeaLake', 'Forest', 'SeaLake', 'SeaLake', 'SeaLake', 'PermanentCrop', 'Forest', 'HerbaceousVegetation', 'HerbaceousVegetation', 'SeaLake', 'Forest', 'SeaLake', 'Highway', 'HerbaceousVegetation', 'Forest', 'SeaLake', 'Forest', 'SeaLake', 'SeaLake', 'Forest', 'HerbaceousVegetation', 'Forest', 'SeaLake', 'SeaLake', 'HerbaceousVegetation', 'SeaLake', 'Forest', 'SeaLake', 'Forest', 'Forest', 'SeaLake', 'SeaLake', 'SeaLake', 'Forest', 'Forest', 'Forest', 'Forest', 'Forest', 'SeaLake', 'Forest', 'Industrial', 'Forest', 'SeaLake', 'HerbaceousVegetation', 'SeaLake', 'Forest', 'Forest', 'Forest', 'SeaLake', 'Forest', 'Forest', 'Forest', 'SeaLake', 'Forest', 'SeaLake', 'SeaLake', 'SeaLake', 'Forest', 'Forest', 'HerbaceousVegetation', 'Forest', 'Forest', 'SeaLake', 'HerbaceousVegetation', 'SeaLake', 'Forest', 'Forest', 'SeaLake', 'SeaLake', 'Forest', 'SeaLake', 'Forest', 'SeaLake', 'SeaLake', 'Forest', 'HerbaceousVegetation', 'SeaLake', 'SeaLake', 'SeaLake', 'Residential', 'SeaLake', 'Forest', 'Forest', 'Forest', 'SeaLake', 'HerbaceousVegetation', 'SeaLake', 'Forest', 'Forest', 'Forest', 'Forest', 'SeaLake', 'Forest', 'Highway', 'Forest', 'SeaLake', 'SeaLake', 'Forest', 'Industrial', 'SeaLake', 'Forest', 'SeaLake', 'Forest', 'Forest', 'SeaLake', 'Industrial', 'Forest', 'SeaLake', 'Forest', 'SeaLake', 'Forest', 'SeaLake', 'Forest', 'Forest', 'Forest', 'Industrial', 'Forest', 'Forest', 'Forest', 'Forest', 'Highway', 'Pasture', 'AnnualCrop', 'AnnualCrop', 'Forest', 'Forest', 'SeaLake', 'Forest', 'HerbaceousVegetation', 'Forest', 'SeaLake', 'Forest', 'SeaLake', 'HerbaceousVegetation', 'HerbaceousVegetation', 'SeaLake', 'Forest', 'Highway', 'SeaLake', 'Forest', 'Forest', 'Forest', 'SeaLake', 'Forest', 'Forest', 'SeaLake', 'Forest', 'SeaLake', 'SeaLake', 'SeaLake', 'Forest', 'SeaLake', 'Forest', 'Industrial', 'Forest', 'SeaLake', 'SeaLake', 'SeaLake', 'Forest', 'Forest', 'Forest', 'Forest', 'Forest', 'Forest', 'HerbaceousVegetation', 'Forest', 'Industrial', 'Forest', 'Forest', 'SeaLake', 'PermanentCrop', 'SeaLake', 'Forest', 'Forest', 'SeaLake', 'Forest', 'Forest', 'SeaLake', 'Forest', 'Forest', 'Industrial', 'SeaLake', 'SeaLake', 'HerbaceousVegetation', 'Forest', 'SeaLake', 'HerbaceousVegetation', 'SeaLake', 'SeaLake', 'Forest', 'Forest', 'Forest', 'PermanentCrop', 'Forest', 'SeaLake', 'SeaLake', 'Forest', 'SeaLake', 'Forest', 'River', 'Forest', 'Forest', 'Forest', 'HerbaceousVegetation', 'SeaLake', 'Industrial', 'Forest', 'Industrial', 'SeaLake', 'Forest', 'Forest', 'SeaLake', 'SeaLake', 'HerbaceousVegetation', 'HerbaceousVegetation', 'Forest', 'Industrial', 'SeaLake', 'SeaLake', 'PermanentCrop', 'Forest', 'Forest', 'Forest', 'AnnualCrop', 'SeaLake', 'Forest', 'Forest', 'SeaLake', 'SeaLake', 'Industrial', 'PermanentCrop', 'Industrial', 'Forest', 'Forest', 'HerbaceousVegetation', 'Forest', 'SeaLake', 'Forest', 'Forest', 'Forest', 'Forest', 'Forest', 'SeaLake', 'HerbaceousVegetation', 'AnnualCrop', 'Highway', 'SeaLake', 'SeaLake', 'HerbaceousVegetation', 'SeaLake', 'Forest', 'Forest', 'SeaLake', 'Forest', 'Forest', 'Forest', 'Forest', 'Forest', 'HerbaceousVegetation', 'SeaLake', 'SeaLake', 'PermanentCrop', 'Industrial', 'Industrial', 'Forest', 'SeaLake', 'Forest', 'Residential', 'Forest', 'SeaLake', 'SeaLake', 'SeaLake', 'Forest', 'Forest', 'Forest', 'Industrial', 'Forest', 'SeaLake', 'SeaLake', 'SeaLake', 'Forest', 'Forest', 'SeaLake', 'Forest', 'Forest', 'HerbaceousVegetation', 'SeaLake', 'SeaLake', 'Industrial', 'AnnualCrop', 'Forest', 'Forest', 'Forest', 'Forest', 'HerbaceousVegetation', 'HerbaceousVegetation', 'SeaLake', 'SeaLake', 'Forest', 'SeaLake', 'Forest', 'Residential', 'SeaLake', 'Forest', 'SeaLake', 'SeaLake', 'Forest', 'Forest', 'HerbaceousVegetation', 'Industrial', 'SeaLake', 'SeaLake', 'SeaLake', 'SeaLake', 'SeaLake', 'Forest', 'Forest', 'SeaLake', 'Forest', 'Residential', 'Forest', 'SeaLake', 'SeaLake', 'SeaLake', 'Forest', 'Industrial', 'Forest', 'Residential', 'SeaLake', 'Industrial', 'Forest', 'Forest', 'Forest', 'Forest', 'Forest', 'PermanentCrop', 'Forest', 'Forest', 'Forest', 'PermanentCrop', 'Forest', 'SeaLake', 'Forest', 'Highway', 'SeaLake', 'Highway', 'SeaLake', 'SeaLake', 'SeaLake', 'Forest', 'HerbaceousVegetation', 'Forest', 'SeaLake', 'SeaLake', 'SeaLake', 'SeaLake', 'Forest', 'Forest', 'SeaLake', 'HerbaceousVegetation', 'Forest', 'Forest', 'Forest', 'Forest', 'Forest', 'Forest', 'Forest', 'Residential', 'Forest', 'SeaLake', 'Industrial', 'SeaLake', 'SeaLake', 'Forest', 'HerbaceousVegetation', 'Forest', 'SeaLake', 'Forest', 'SeaLake', 'Forest', 'Forest', 'Forest', 'SeaLake', 'Forest', 'SeaLake', 'River', 'SeaLake', 'SeaLake', 'SeaLake', 'Forest', 'SeaLake', 'SeaLake', 'Forest', 'SeaLake', 'SeaLake', 'SeaLake', 'Industrial', 'Forest', 'HerbaceousVegetation', 'Forest', 'SeaLake', 'Forest', 'Forest', 'Forest', 'Forest', 'SeaLake', 'SeaLake', 'SeaLake', 'Forest', 'Forest', 'SeaLake', 'SeaLake', 'HerbaceousVegetation', 'Forest', 'Industrial', 'AnnualCrop', 'Forest', 'Industrial', 'AnnualCrop', 'SeaLake', 'Industrial', 'SeaLake', 'River', 'Forest', 'SeaLake', 'SeaLake', 'PermanentCrop', 'HerbaceousVegetation', 'Forest', 'Forest', 'Forest', 'SeaLake', 'PermanentCrop', 'Forest', 'SeaLake', 'SeaLake', 'Forest', 'Forest', 'SeaLake', 'SeaLake', 'Industrial', 'Forest', 'Forest', 'SeaLake', 'SeaLake', 'HerbaceousVegetation', 'AnnualCrop', 'Forest', 'SeaLake', 'HerbaceousVegetation', 'Forest', 'SeaLake', 'SeaLake', 'Forest', 'SeaLake', 'SeaLake', 'HerbaceousVegetation', 'SeaLake', 'Forest', 'Forest', 'HerbaceousVegetation', 'Forest', 'SeaLake', 'SeaLake', 'HerbaceousVegetation', 'Forest', 'SeaLake', 'SeaLake', 'HerbaceousVegetation', 'Forest', 'Forest', 'Industrial', 'AnnualCrop', 'Forest', 'SeaLake', 'SeaLake', 'Forest', 'SeaLake', 'Forest', 'Forest', 'Industrial', 'Residential', 'AnnualCrop', 'SeaLake', 'Forest', 'SeaLake', 'Pasture', 'SeaLake', 'HerbaceousVegetation', 'SeaLake', 'Forest', 'SeaLake', 'SeaLake', 'HerbaceousVegetation', 'Forest', 'AnnualCrop', 'Highway', 'Forest', 'PermanentCrop', 'Forest', 'HerbaceousVegetation', 'SeaLake', 'SeaLake', 'Forest', 'Forest', 'Highway', 'Forest', 'SeaLake', 'HerbaceousVegetation', 'Forest', 'SeaLake', 'SeaLake', 'Forest', 'PermanentCrop', 'SeaLake', 'SeaLake', 'Forest', 'SeaLake', 'Forest', 'Forest', 'HerbaceousVegetation', 'Forest', 'Forest', 'Forest', 'Industrial', 'SeaLake', 'Highway', 'SeaLake', 'Forest', 'Forest', 'SeaLake', 'Forest', 'Industrial', 'SeaLake', 'HerbaceousVegetation', 'HerbaceousVegetation', 'PermanentCrop', 'Forest', 'Forest', 'SeaLake', 'HerbaceousVegetation', 'Pasture', 'SeaLake', 'Forest', 'SeaLake', 'AnnualCrop', 'Forest', 'Industrial', 'Forest', 'Forest', 'Industrial', 'SeaLake', 'Forest', 'Forest', 'Forest', 'SeaLake', 'Forest', 'SeaLake', 'AnnualCrop', 'HerbaceousVegetation', 'Forest', 'HerbaceousVegetation', 'Forest', 'Forest', 'Forest', 'SeaLake', 'SeaLake', 'SeaLake', 'SeaLake', 'SeaLake', 'SeaLake', 'SeaLake', 'Forest', 'SeaLake', 'Forest', 'Forest', 'Highway', 'Forest', 'Forest', 'AnnualCrop', 'SeaLake', 'Forest', 'HerbaceousVegetation', 'Forest', 'Forest', 'SeaLake', 'Industrial', 'SeaLake', 'SeaLake', 'Forest', 'River', 'Industrial', 'Forest', 'SeaLake', 'SeaLake', 'SeaLake', 'SeaLake', 'SeaLake', 'Forest', 'SeaLake', 'Forest', 'Forest', 'Residential', 'HerbaceousVegetation', 'SeaLake', 'SeaLake', 'SeaLake', 'Forest', 'Forest', 'HerbaceousVegetation', 'Residential', 'Forest', 'PermanentCrop', 'SeaLake', 'SeaLake', 'Forest', 'Highway', 'HerbaceousVegetation', 'Forest', 'SeaLake', 'Forest', 'Forest', 'Forest', 'Forest', 'Industrial', 'SeaLake', 'SeaLake', 'Forest', 'Forest', 'Industrial', 'Industrial', 'Forest', 'HerbaceousVegetation', 'Forest', 'Pasture', 'SeaLake', 'SeaLake', 'HerbaceousVegetation', 'SeaLake', 'Forest', 'Industrial', 'SeaLake', 'SeaLake', 'SeaLake', 'Forest', 'Residential', 'SeaLake', 'Forest', 'Forest', 'SeaLake', 'Forest', 'Forest', 'Industrial', 'SeaLake', 'Forest', 'SeaLake', 'Forest', 'HerbaceousVegetation', 'SeaLake', 'Forest', 'SeaLake', 'Forest', 'Industrial', 'SeaLake', 'SeaLake', 'Industrial', 'Forest', 'SeaLake', 'Forest', 'SeaLake', 'Forest', 'Forest', 'SeaLake', 'Forest', 'Forest', 'Forest', 'HerbaceousVegetation', 'AnnualCrop', 'Forest', 'Forest', 'SeaLake', 'Forest', 'Forest', 'AnnualCrop', 'SeaLake', 'SeaLake', 'HerbaceousVegetation', 'Forest', 'Forest', 'Forest', 'SeaLake', 'SeaLake', 'SeaLake', 'Forest', 'AnnualCrop', 'SeaLake', 'HerbaceousVegetation', 'HerbaceousVegetation', 'Industrial', 'Forest', 'Forest', 'Forest', 'Forest', 'Forest', 'Industrial', 'Forest', 'SeaLake', 'Forest', 'Forest', 'Forest', 'HerbaceousVegetation', 'Forest', 'Forest', 'Industrial', 'Forest', 'Forest', 'SeaLake', 'Forest', 'Forest', 'HerbaceousVegetation', 'Forest', 'Forest', 'Forest', 'SeaLake', 'HerbaceousVegetation', 'HerbaceousVegetation', 'SeaLake', 'Forest', 'Forest', 'PermanentCrop', 'HerbaceousVegetation', 'SeaLake', 'Forest', 'SeaLake', 'Forest', 'SeaLake', 'Forest', 'Industrial', 'SeaLake', 'SeaLake', 'Forest', 'SeaLake', 'SeaLake', 'SeaLake', 'SeaLake', 'Forest', 'SeaLake', 'Highway', 'HerbaceousVegetation', 'Forest', 'Forest', 'Forest', 'HerbaceousVegetation', 'SeaLake', 'Forest', 'Forest', 'SeaLake', 'SeaLake', 'Industrial', 'Forest', 'Forest', 'SeaLake', 'Industrial', 'HerbaceousVegetation', 'SeaLake', 'SeaLake', 'Forest', 'Forest', 'SeaLake', 'Forest', 'Forest', 'SeaLake', 'Industrial', 'Forest', 'Industrial', 'Forest', 'HerbaceousVegetation', 'AnnualCrop', 'SeaLake', 'HerbaceousVegetation', 'SeaLake', 'Forest', 'SeaLake', 'AnnualCrop', 'Residential', 'Forest', 'SeaLake', 'SeaLake', 'SeaLake', 'HerbaceousVegetation', 'Forest', 'Industrial', 'HerbaceousVegetation', 'Forest', 'HerbaceousVegetation', 'Forest', 'Forest', 'SeaLake', 'SeaLake', 'SeaLake', 'Industrial', 'SeaLake', 'Forest', 'Forest', 'AnnualCrop', 'SeaLake', 'SeaLake', 'HerbaceousVegetation', 'Forest', 'Forest', 'Forest', 'HerbaceousVegetation', 'Forest', 'Forest', 'SeaLake', 'HerbaceousVegetation', 'HerbaceousVegetation', 'SeaLake', 'SeaLake', 'SeaLake', 'Forest', 'Forest', 'SeaLake', 'Forest', 'SeaLake', 'Forest', 'Forest', 'SeaLake', 'Highway', 'SeaLake', 'Forest', 'Forest', 'Forest', 'HerbaceousVegetation', 'HerbaceousVegetation', 'SeaLake', 'SeaLake', 'SeaLake', 'Forest', 'SeaLake', 'SeaLake', 'Forest', 'PermanentCrop', 'SeaLake', 'Forest', 'Forest', 'HerbaceousVegetation', 'SeaLake', 'PermanentCrop', 'SeaLake', 'SeaLake', 'PermanentCrop', 'Forest', 'SeaLake', 'AnnualCrop', 'SeaLake', 'Forest', 'Forest', 'SeaLake', 'SeaLake', 'Industrial', 'SeaLake', 'SeaLake', 'PermanentCrop', 'PermanentCrop', 'SeaLake', 'Forest', 'HerbaceousVegetation', 'SeaLake', 'Forest', 'Forest', 'Forest', 'SeaLake', 'Forest', 'Forest', 'Forest', 'Forest', 'SeaLake', 'Forest', 'Forest', 'SeaLake', 'SeaLake', 'SeaLake', 'Forest', 'Forest', 'SeaLake', 'Forest', 'Forest', 'Forest', 'SeaLake', 'Forest', 'Forest', 'Forest', 'Forest', 'Forest', 'AnnualCrop', 'SeaLake', 'SeaLake', 'Forest', 'SeaLake', 'Forest', 'SeaLake', 'Forest', 'SeaLake', 'AnnualCrop', 'SeaLake', 'SeaLake', 'Forest', 'Forest', 'AnnualCrop', 'HerbaceousVegetation', 'SeaLake', 'SeaLake', 'AnnualCrop', 'Forest', 'Forest', 'SeaLake', 'Residential', 'SeaLake', 'HerbaceousVegetation', 'SeaLake', 'Forest', 'Forest', 'SeaLake', 'SeaLake', 'HerbaceousVegetation', 'Residential', 'SeaLake', 'Forest', 'HerbaceousVegetation', 'SeaLake', 'Forest', 'Residential', 'Forest', 'Industrial', 'Industrial', 'Forest', 'Forest', 'Forest', 'Forest', 'Forest', 'SeaLake', 'Forest', 'Forest', 'SeaLake', 'Forest', 'Forest', 'Forest', 'SeaLake', 'Forest', 'PermanentCrop', 'Residential', 'SeaLake', 'SeaLake', 'Forest', 'Forest', 'Forest', 'Forest', 'PermanentCrop', 'River', 'Forest', 'SeaLake', 'Forest', 'AnnualCrop', 'Forest', 'SeaLake', 'Industrial', 'SeaLake', 'Forest', 'Forest', 'SeaLake', 'Forest', 'SeaLake', 'AnnualCrop', 'Forest', 'Forest', 'Forest', 'HerbaceousVegetation', 'SeaLake', 'Forest', 'SeaLake', 'Forest', 'SeaLake', 'Forest', 'SeaLake', 'Highway', 'Forest', 'Forest', 'AnnualCrop', 'Forest', 'Forest', 'SeaLake', 'SeaLake', 'Forest', 'Forest', 'SeaLake', 'SeaLake', 'SeaLake', 'Forest', 'Forest', 'SeaLake', 'Forest', 'Forest', 'Forest', 'SeaLake', 'Forest', 'SeaLake', 'Forest', 'Forest', 'HerbaceousVegetation', 'River', 'SeaLake', 'SeaLake', 'Forest', 'Highway', 'HerbaceousVegetation', 'Forest', 'SeaLake', 'Highway', 'SeaLake', 'Forest', 'Forest', 'Forest', 'Forest', 'Forest', 'Forest', 'Forest', 'Forest', 'HerbaceousVegetation', 'PermanentCrop', 'Forest', 'SeaLake', 'Industrial', 'HerbaceousVegetation', 'HerbaceousVegetation', 'Forest', 'SeaLake', 'SeaLake', 'SeaLake', 'Forest', 'SeaLake', 'Forest', 'Forest', 'HerbaceousVegetation', 'Forest', 'Forest', 'SeaLake', 'SeaLake', 'Forest', 'Industrial', 'HerbaceousVegetation', 'HerbaceousVegetation', 'Forest', 'SeaLake', 'SeaLake', 'SeaLake', 'AnnualCrop', 'Forest', 'SeaLake', 'HerbaceousVegetation', 'SeaLake', 'SeaLake', 'SeaLake', 'Forest', 'SeaLake', 'Forest', 'SeaLake', 'Forest', 'SeaLake', 'AnnualCrop', 'SeaLake', 'Forest', 'Forest', 'SeaLake', 'Industrial', 'Forest', 'SeaLake', 'Industrial', 'Forest', 'SeaLake', 'Forest', 'SeaLake', 'HerbaceousVegetation', 'HerbaceousVegetation', 'SeaLake', 'Forest', 'Forest', 'Forest', 'Forest', 'SeaLake', 'SeaLake', 'Forest', 'Forest', 'SeaLake', 'SeaLake', 'Forest', 'SeaLake', 'HerbaceousVegetation', 'SeaLake', 'SeaLake', 'Forest', 'SeaLake', 'Forest', 'Forest', 'Industrial', 'SeaLake', 'Forest', 'SeaLake', 'HerbaceousVegetation', 'Forest', 'SeaLake', 'SeaLake', 'Forest', 'SeaLake', 'SeaLake', 'SeaLake', 'SeaLake', 'Forest', 'HerbaceousVegetation', 'HerbaceousVegetation', 'Industrial', 'Forest', 'SeaLake', 'Forest', 'SeaLake', 'Forest', 'HerbaceousVegetation', 'Industrial', 'SeaLake', 'Forest', 'SeaLake', 'Forest', 'SeaLake', 'Forest', 'Industrial', 'Forest', 'Forest', 'SeaLake', 'SeaLake', 'SeaLake', 'Forest', 'Forest', 'SeaLake', 'Forest', 'PermanentCrop', 'SeaLake', 'River', 'SeaLake', 'Forest', 'AnnualCrop', 'Industrial', 'SeaLake', 'SeaLake', 'SeaLake', 'SeaLake', 'SeaLake', 'SeaLake', 'SeaLake', 'Forest', 'SeaLake', 'SeaLake', 'Forest', 'HerbaceousVegetation', 'SeaLake', 'Forest', 'Forest', 'HerbaceousVegetation', 'Industrial', 'Forest', 'SeaLake', 'PermanentCrop', 'Forest', 'SeaLake', 'SeaLake', 'Forest', 'Forest', 'Forest', 'Highway', 'Forest', 'SeaLake', 'SeaLake', 'Forest', 'SeaLake', 'Industrial', 'Forest', 'Highway', 'SeaLake', 'Forest', 'Forest', 'Forest', 'SeaLake', 'PermanentCrop', 'Forest', 'Forest', 'Forest', 'Forest', 'Forest', 'SeaLake', 'AnnualCrop', 'SeaLake', 'Forest', 'SeaLake', 'Industrial', 'AnnualCrop', 'Forest', 'Forest', 'HerbaceousVegetation', 'SeaLake', 'SeaLake', 'PermanentCrop', 'Forest', 'Forest', 'SeaLake', 'HerbaceousVegetation', 'SeaLake', 'Forest', 'SeaLake', 'SeaLake', 'SeaLake', 'HerbaceousVegetation', 'SeaLake', 'SeaLake', 'Industrial', 'Forest', 'Forest', 'SeaLake', 'SeaLake', 'SeaLake', 'Forest', 'HerbaceousVegetation', 'SeaLake', 'Industrial', 'SeaLake', 'SeaLake', 'SeaLake', 'SeaLake', 'SeaLake', 'Forest', 'Forest', 'SeaLake', 'Forest', 'HerbaceousVegetation', 'Forest', 'Forest', 'HerbaceousVegetation', 'SeaLake', 'SeaLake', 'SeaLake', 'SeaLake', 'SeaLake', 'HerbaceousVegetation', 'Industrial', 'HerbaceousVegetation', 'Forest', 'Forest', 'HerbaceousVegetation', 'Forest', 'SeaLake', 'Forest', 'SeaLake', 'Residential', 'SeaLake', 'SeaLake', 'SeaLake', 'Residential', 'SeaLake', 'Forest', 'SeaLake', 'Forest', 'SeaLake', 'HerbaceousVegetation', 'Forest', 'Forest', 'HerbaceousVegetation', 'Forest', 'SeaLake', 'SeaLake', 'SeaLake', 'Forest', 'Industrial', 'Forest', 'Forest', 'SeaLake', 'Forest', 'Forest', 'HerbaceousVegetation', 'HerbaceousVegetation', 'Industrial', 'HerbaceousVegetation', 'SeaLake', 'SeaLake', 'SeaLake', 'Residential', 'SeaLake', 'SeaLake', 'HerbaceousVegetation', 'Forest', 'Forest', 'Industrial', 'Forest', 'SeaLake', 'HerbaceousVegetation', 'Forest', 'Forest', 'HerbaceousVegetation', 'Forest', 'SeaLake', 'Forest', 'Residential', 'SeaLake', 'Forest', 'Forest', 'HerbaceousVegetation', 'HerbaceousVegetation', 'SeaLake', 'Forest', 'PermanentCrop', 'SeaLake', 'Forest', 'Industrial', 'Forest', 'Forest', 'SeaLake', 'SeaLake', 'SeaLake', 'Forest', 'PermanentCrop', 'HerbaceousVegetation', 'SeaLake', 'SeaLake', 'SeaLake', 'SeaLake', 'SeaLake', 'Forest', 'Forest', 'Highway', 'Forest', 'Forest', 'SeaLake', 'SeaLake', 'Forest', 'SeaLake', 'Forest', 'Forest', 'Forest', 'SeaLake', 'SeaLake', 'HerbaceousVegetation', 'SeaLake', 'Forest', 'Forest', 'SeaLake', 'SeaLake', 'Forest', 'Industrial', 'SeaLake', 'HerbaceousVegetation', 'Forest', 'Forest', 'Forest', 'SeaLake', 'Forest', 'Forest', 'HerbaceousVegetation', 'SeaLake', 'Forest', 'Forest', 'SeaLake', 'HerbaceousVegetation', 'Forest', 'Forest', 'SeaLake', 'SeaLake', 'HerbaceousVegetation', 'Pasture', 'SeaLake', 'Industrial', 'Forest', 'SeaLake', 'SeaLake', 'SeaLake', 'HerbaceousVegetation', 'SeaLake', 'SeaLake', 'HerbaceousVegetation', 'Forest', 'Forest', 'Forest', 'SeaLake', 'SeaLake', 'PermanentCrop', 'Industrial', 'SeaLake', 'PermanentCrop', 'SeaLake', 'SeaLake', 'SeaLake', 'SeaLake', 'HerbaceousVegetation', 'HerbaceousVegetation', 'SeaLake', 'SeaLake', 'Forest', 'SeaLake', 'Forest', 'SeaLake', 'HerbaceousVegetation', 'HerbaceousVegetation', 'SeaLake', 'Forest', 'Residential', 'Forest', 'Highway', 'SeaLake', 'Residential', 'AnnualCrop', 'PermanentCrop', 'SeaLake', 'Forest', 'Forest', 'Forest', 'SeaLake', 'Forest', 'Forest', 'SeaLake', 'Residential', 'SeaLake', 'HerbaceousVegetation', 'HerbaceousVegetation', 'AnnualCrop', 'SeaLake', 'HerbaceousVegetation', 'Forest', 'Forest', 'Forest', 'Forest', 'SeaLake', 'Forest', 'Forest', 'SeaLake', 'HerbaceousVegetation', 'Forest', 'AnnualCrop', 'SeaLake', 'Forest', 'SeaLake', 'Forest', 'Residential', 'SeaLake', 'AnnualCrop', 'SeaLake', 'SeaLake', 'HerbaceousVegetation', 'SeaLake', 'HerbaceousVegetation', 'Forest', 'AnnualCrop', 'SeaLake', 'Forest', 'SeaLake', 'SeaLake', 'Residential', 'Forest', 'Forest', 'SeaLake', 'HerbaceousVegetation', 'SeaLake', 'SeaLake', 'Industrial', 'SeaLake', 'SeaLake', 'Forest', 'Forest', 'HerbaceousVegetation', 'HerbaceousVegetation', 'Forest', 'HerbaceousVegetation', 'SeaLake', 'SeaLake', 'SeaLake', 'Industrial', 'PermanentCrop', 'SeaLake', 'Highway', 'SeaLake', 'HerbaceousVegetation', 'HerbaceousVegetation', 'HerbaceousVegetation', 'SeaLake', 'HerbaceousVegetation', 'Forest', 'SeaLake', 'Forest', 'SeaLake', 'Forest', 'Forest', 'Forest', 'Forest', 'SeaLake', 'Forest', 'SeaLake', 'Forest', 'PermanentCrop', 'SeaLake', 'Industrial', 'HerbaceousVegetation', 'SeaLake', 'Forest', 'SeaLake', 'Forest', 'Highway', 'Forest', 'SeaLake', 'Forest', 'SeaLake', 'Forest', 'SeaLake', 'Forest', 'HerbaceousVegetation', 'SeaLake', 'HerbaceousVegetation', 'Forest', 'Forest', 'SeaLake', 'Forest', 'SeaLake', 'River', 'SeaLake', 'HerbaceousVegetation', 'Forest', 'Industrial', 'SeaLake', 'SeaLake', 'Forest', 'HerbaceousVegetation', 'Forest', 'Forest', 'SeaLake', 'Forest', 'SeaLake', 'Forest', 'Industrial', 'Forest', 'SeaLake', 'Industrial', 'SeaLake', 'HerbaceousVegetation', 'Forest', 'River', 'SeaLake', 'SeaLake', 'Industrial', 'SeaLake', 'Forest', 'Forest', 'Forest', 'SeaLake', 'SeaLake', 'Industrial', 'SeaLake', 'SeaLake', 'Forest', 'Forest', 'SeaLake', 'SeaLake', 'HerbaceousVegetation', 'Industrial', 'Industrial', 'Forest', 'SeaLake', 'Residential', 'Forest', 'Industrial', 'Forest', 'Forest', 'SeaLake', 'SeaLake', 'SeaLake', 'SeaLake', 'Forest', 'Residential', 'Forest', 'SeaLake', 'SeaLake', 'SeaLake', 'PermanentCrop', 'SeaLake', 'SeaLake', 'HerbaceousVegetation', 'Forest', 'SeaLake', 'AnnualCrop', 'Forest', 'Forest', 'Forest', 'Highway', 'River', 'Forest', 'SeaLake', 'Forest', 'SeaLake', 'SeaLake', 'SeaLake', 'Forest', 'Forest', 'SeaLake', 'Forest', 'SeaLake', 'SeaLake', 'Forest', 'SeaLake', 'Forest', 'SeaLake', 'SeaLake', 'Forest', 'HerbaceousVegetation', 'HerbaceousVegetation', 'Industrial', 'SeaLake', 'SeaLake', 'SeaLake', 'HerbaceousVegetation', 'SeaLake', 'Forest', 'HerbaceousVegetation', 'Forest', 'SeaLake', 'Industrial', 'SeaLake', 'Industrial', 'PermanentCrop', 'SeaLake', 'SeaLake', 'Forest', 'SeaLake', 'SeaLake', 'SeaLake', 'SeaLake', 'Forest', 'Industrial', 'Forest', 'AnnualCrop', 'SeaLake', 'Forest', 'SeaLake', 'Forest', 'Forest', 'SeaLake', 'SeaLake', 'Forest', 'SeaLake', 'Residential', 'SeaLake', 'SeaLake', 'Forest', 'Forest', 'Forest', 'SeaLake', 'Industrial', 'SeaLake', 'Forest', 'Highway', 'SeaLake', 'Forest', 'Forest', 'Forest', 'HerbaceousVegetation', 'SeaLake', 'SeaLake', 'Highway', 'Forest', 'Forest', 'SeaLake', 'SeaLake', 'SeaLake', 'Forest', 'Forest', 'PermanentCrop', 'SeaLake', 'PermanentCrop', 'HerbaceousVegetation', 'Forest', 'Forest', 'Forest', 'Forest', 'SeaLake', 'Forest', 'Highway', 'SeaLake', 'Forest', 'HerbaceousVegetation', 'Forest', 'Forest', 'Forest', 'HerbaceousVegetation', 'SeaLake', 'Forest', 'SeaLake', 'Forest', 'SeaLake', 'Forest', 'Forest', 'Forest', 'Forest', 'PermanentCrop', 'HerbaceousVegetation', 'SeaLake', 'Forest', 'Forest', 'Forest', 'Forest', 'SeaLake', 'HerbaceousVegetation', 'SeaLake', 'River', 'SeaLake', 'HerbaceousVegetation', 'SeaLake', 'SeaLake', 'Residential', 'HerbaceousVegetation', 'Forest', 'Forest', 'Forest', 'Forest', 'Forest', 'Forest', 'SeaLake', 'Forest', 'Forest', 'Forest', 'Pasture', 'SeaLake', 'Forest', 'Forest', 'Highway', 'SeaLake', 'Forest', 'Forest', 'HerbaceousVegetation', 'SeaLake', 'SeaLake', 'Forest', 'SeaLake', 'Forest', 'HerbaceousVegetation', 'SeaLake', 'SeaLake', 'Forest', 'SeaLake', 'Forest', 'HerbaceousVegetation', 'Forest', 'HerbaceousVegetation', 'Residential', 'HerbaceousVegetation', 'PermanentCrop', 'SeaLake', 'Highway', 'PermanentCrop', 'Industrial', 'SeaLake', 'Forest', 'Highway', 'Forest', 'Forest', 'HerbaceousVegetation', 'SeaLake', 'SeaLake', 'Forest', 'Forest', 'HerbaceousVegetation', 'Forest', 'Industrial', 'SeaLake']\n"
          ]
        }
      ]
    },
    {
      "cell_type": "code",
      "source": [
        "from collections import Counter\n",
        "print(Counter(list_tens).keys()) # equals to list(set(words))\n",
        "print(Counter(list_tens).values()) # counts the elements' frequency"
      ],
      "metadata": {
        "colab": {
          "base_uri": "https://localhost:8080/"
        },
        "id": "ZMZusvMJRz8F",
        "outputId": "b97768c5-e7ed-4556-f49a-9806f439fd38"
      },
      "execution_count": 65,
      "outputs": [
        {
          "output_type": "stream",
          "name": "stdout",
          "text": [
            "dict_keys(['Forest', 'HerbaceousVegetation', 'SeaLake', 'PermanentCrop', 'River', 'Industrial', 'Highway', 'AnnualCrop', 'Residential', 'Pasture'])\n",
            "dict_values([1737, 432, 1497, 88, 28, 225, 75, 88, 50, 12])\n"
          ]
        }
      ]
    },
    {
      "cell_type": "code",
      "source": [
        "test_indices_path = '/content/drive/MyDrive/ML/data/dataset/test.csv'\n",
        "\n",
        "final_submission_file = pd.read_csv(test_indices_path)\n",
        "prediction_list = []\n",
        "\n",
        "# turning numeric predictions to strings (as in kaggle example submission)\n",
        "for p in predictions:\n",
        "  prediction_list.append(decode_target(p.item()))\n",
        "\n",
        "final_submission_file[\"label\"] = prediction_list\n",
        "### source with alternatives methods for appending to csv should this fail: https://stackoverflow.com/questions/26666919/add-column-in-dataframe-from-list\n",
        "final_submission_file.to_csv('/content/drive/MyDrive/ML/data/dataset/final_submission.csv', index=None)"
      ],
      "metadata": {
        "id": "8uyGFJ1D43xf"
      },
      "execution_count": 67,
      "outputs": []
    }
  ]
}