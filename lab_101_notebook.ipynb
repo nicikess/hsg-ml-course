{
  "cells": [
    {
      "cell_type": "markdown",
      "metadata": {
        "id": "Iz2EeVUbPlYz"
      },
      "source": [
        "<img align=\"center\" style=\"max-width: 900px; height: auto\" src=\"https://github.com/HSG-AIML-Teaching/ML2022-Lab/blob/main/lab_101/banner.png?raw=1\">"
      ]
    },
    {
      "cell_type": "markdown",
      "metadata": {
        "id": "2GMp1peLPlY3"
      },
      "source": [
        "<img align=\"right\" style=\"max-width: 200px; height: auto\" src=\"https://github.com/HSG-AIML-Teaching/ML2022-Lab/blob/main/lab_101/hsg_logo.png?raw=1\">\n",
        "\n",
        "###  Lab 101 - Introduction to Python and Jupyter\n",
        "\n",
        "8,860,1.00 Machine Learning, Spring Term 2021, University of St.Gallen (HSG)"
      ]
    },
    {
      "cell_type": "markdown",
      "metadata": {
        "id": "gUllcaWAPlY3"
      },
      "source": [
        "The lab environment of the **8,860,1.00 Machine Learning** course is powered by Jupyter Notebooks (https://jupyter.org), which allows one to perform a great deal of data analysis and statistical validation. In this first lab, we want to touch on the basic concepts and techniques of such notebooks. Furthermore, its capabilities will be demonstrated based on a few simple and introductory examples."
      ]
    },
    {
      "cell_type": "markdown",
      "metadata": {
        "id": "VwBcczcaPlY4"
      },
      "source": [
        "### Lab Objectives:"
      ]
    },
    {
      "cell_type": "markdown",
      "metadata": {
        "id": "p087Xn7XPlY4"
      },
      "source": [
        "After today's lab, you should be able to:\n",
        "    \n",
        "> 1. Understand the general workflow, structure, and functionality of **Jupyter** notebooks.\n",
        "> 2. Import and apply python data science libraries such as `NumPy` and `Pandas`. \n",
        "> 3. Understand how the **Python** programming language can be utilized to manipulate and analyze financial data.\n",
        "> 4. Download arbitrary stock market and financial data using the `Pandas` `DataReader` API.\n",
        "> 5. Use the `Matplotlib` library to visualize data as well as analytical results."
      ]
    },
    {
      "cell_type": "markdown",
      "metadata": {
        "id": "e_q4TowgPlY5"
      },
      "source": [
        "Note: The content of this first lab is inspired by the Quantopian lecture series ( https://www.quantopian.com ). If you are interested to learn more about financial data science and/or algorithmic trading their lectures are a great resource to get you started."
      ]
    },
    {
      "cell_type": "markdown",
      "metadata": {
        "id": "DO0jSoX0PlY5"
      },
      "source": [
        "### 1. Jupyter Notebook Introduction"
      ]
    },
    {
      "cell_type": "markdown",
      "metadata": {
        "id": "rTYr45eOPlY5"
      },
      "source": [
        "#### Code Cells vs. Text Cells"
      ]
    },
    {
      "cell_type": "markdown",
      "metadata": {
        "id": "4SUWDWWNPlY6"
      },
      "source": [
        "As you can see, each cell can be either code or text. To select between them, choose from the `Cell Type` dropdown menu on the top left."
      ]
    },
    {
      "cell_type": "markdown",
      "metadata": {
        "id": "f4cO-EHmPlY6"
      },
      "source": [
        "Hello World!"
      ]
    },
    {
      "cell_type": "code",
      "execution_count": 5,
      "metadata": {
        "id": "mkXBfizCPlY7",
        "outputId": "ced72d4c-3edf-45ec-b232-16d8f9e41a3c",
        "colab": {
          "base_uri": "https://localhost:8080/"
        }
      },
      "outputs": [
        {
          "output_type": "execute_result",
          "data": {
            "text/plain": [
              "6"
            ]
          },
          "metadata": {},
          "execution_count": 5
        }
      ],
      "source": [
        "1 + 5"
      ]
    },
    {
      "cell_type": "markdown",
      "metadata": {
        "id": "YHJ3E1AkPlY8"
      },
      "source": [
        "#### Executing a Command"
      ]
    },
    {
      "cell_type": "markdown",
      "metadata": {
        "id": "4mgXYnlPPlY8"
      },
      "source": [
        "A code cell will be evaluated when you press **'Run'**, or when you press the shortcut, shift-enter. Evaluating a cell evaluates each line of code in sequence, and prints the results of the last line below the cell."
      ]
    },
    {
      "cell_type": "code",
      "execution_count": 6,
      "metadata": {
        "id": "qRDwVtWOPlY9",
        "outputId": "1158efd1-5a25-4109-9dc7-9c50202ad76b",
        "colab": {
          "base_uri": "https://localhost:8080/"
        }
      },
      "outputs": [
        {
          "output_type": "execute_result",
          "data": {
            "text/plain": [
              "42"
            ]
          },
          "metadata": {},
          "execution_count": 6
        }
      ],
      "source": [
        "40 + 2"
      ]
    },
    {
      "cell_type": "markdown",
      "metadata": {
        "id": "DjF2G7t5PlY9"
      },
      "source": [
        "Sometimes there is no result to be printed, as is the case with the following assignment:"
      ]
    },
    {
      "cell_type": "code",
      "execution_count": 7,
      "metadata": {
        "id": "0xS_dgxaPlY9"
      },
      "outputs": [],
      "source": [
        "X = 2"
      ]
    },
    {
      "cell_type": "code",
      "execution_count": 8,
      "metadata": {
        "id": "iYC_4PLhPlY-",
        "outputId": "fad6ad36-8e6c-4710-d380-6df299a4e621",
        "colab": {
          "base_uri": "https://localhost:8080/"
        }
      },
      "outputs": [
        {
          "output_type": "execute_result",
          "data": {
            "text/plain": [
              "2"
            ]
          },
          "metadata": {},
          "execution_count": 8
        }
      ],
      "source": [
        "X"
      ]
    },
    {
      "cell_type": "markdown",
      "metadata": {
        "id": "ld_oOoB3PlY-"
      },
      "source": [
        "Remember that only the result from the last line is printed."
      ]
    },
    {
      "cell_type": "code",
      "execution_count": 9,
      "metadata": {
        "id": "6-GaOL37PlY-",
        "outputId": "3b097763-5c37-4687-9999-b6ebac3e1783",
        "colab": {
          "base_uri": "https://localhost:8080/"
        }
      },
      "outputs": [
        {
          "output_type": "execute_result",
          "data": {
            "text/plain": [
              "6"
            ]
          },
          "metadata": {},
          "execution_count": 9
        }
      ],
      "source": [
        "2 + 2\n",
        "3 + 3"
      ]
    },
    {
      "cell_type": "markdown",
      "metadata": {
        "id": "8eTjVRMEPlY_"
      },
      "source": [
        "However, you can print whichever lines you want using the print statement."
      ]
    },
    {
      "cell_type": "code",
      "execution_count": 10,
      "metadata": {
        "id": "SlNHnx7qPlY_",
        "outputId": "a657e9ab-6e50-4998-99d6-2a87ba931888",
        "colab": {
          "base_uri": "https://localhost:8080/"
        }
      },
      "outputs": [
        {
          "output_type": "stream",
          "name": "stdout",
          "text": [
            "4\n"
          ]
        },
        {
          "output_type": "execute_result",
          "data": {
            "text/plain": [
              "6"
            ]
          },
          "metadata": {},
          "execution_count": 10
        }
      ],
      "source": [
        "print(2 + 2)\n",
        "3 + 3"
      ]
    },
    {
      "cell_type": "markdown",
      "metadata": {
        "id": "pYyZUH9SPlY_"
      },
      "source": [
        "#### Comments\n",
        "\n",
        "The `#` character has a special meaning in Python. Whenever it appears, all following characters on the same line are considered as comments and are ignored. You can use comments to explain what certain parts of your code do."
      ]
    },
    {
      "cell_type": "code",
      "execution_count": 11,
      "metadata": {
        "id": "FoHYnSqKPlY_"
      },
      "outputs": [],
      "source": [
        "# this is a comment"
      ]
    },
    {
      "cell_type": "code",
      "execution_count": 12,
      "metadata": {
        "id": "hDOHfULRPlY_",
        "outputId": "e6736fd8-210e-4d90-9e24-5a6d91132eae",
        "colab": {
          "base_uri": "https://localhost:8080/"
        }
      },
      "outputs": [
        {
          "output_type": "stream",
          "name": "stdout",
          "text": [
            "1\n"
          ]
        }
      ],
      "source": [
        "print(1) # comments can be on the same line as code"
      ]
    },
    {
      "cell_type": "markdown",
      "metadata": {
        "id": "slYk3RIaPlZA"
      },
      "source": [
        "#### Knowing When a Cell is Running"
      ]
    },
    {
      "cell_type": "markdown",
      "metadata": {
        "id": "vbF-P_HpPlZA"
      },
      "source": [
        "While a cell is running, a **[*]** will be displayed on the left of the respective cell. When a cell has yet to be executed, **[ ]** will be displayed. When it has been run, a number will display indicating the order in which it was run during the execution of the notebook **[5]**. Try on this cell and note what is happening:"
      ]
    },
    {
      "cell_type": "code",
      "execution_count": 13,
      "metadata": {
        "id": "HV7vxBdrPlZA",
        "outputId": "dd281387-03b9-45b1-aa1c-4cff784b9de0",
        "colab": {
          "base_uri": "https://localhost:8080/"
        }
      },
      "outputs": [
        {
          "output_type": "execute_result",
          "data": {
            "text/plain": [
              "49999995000000"
            ]
          },
          "metadata": {},
          "execution_count": 13
        }
      ],
      "source": [
        "# take some time to run something\n",
        "c = 0\n",
        "for i in range(10000000):\n",
        "    c = c + i\n",
        "c"
      ]
    },
    {
      "cell_type": "markdown",
      "metadata": {
        "id": "IDnNv9csPlZA"
      },
      "source": [
        "### 2. Importing Python Libraries"
      ]
    },
    {
      "cell_type": "markdown",
      "metadata": {
        "id": "IFP35UuKPlZA"
      },
      "source": [
        "The vast majority of the time, we will use functions from pre-built libraries, such as:"
      ]
    },
    {
      "cell_type": "code",
      "execution_count": 14,
      "metadata": {
        "id": "0-awHQdAPlZA"
      },
      "outputs": [],
      "source": [
        "# importing the python sys library\n",
        "import sys"
      ]
    },
    {
      "cell_type": "markdown",
      "metadata": {
        "id": "IYunJbn3PlZB"
      },
      "source": [
        "You can check your Python version at the command line by running:"
      ]
    },
    {
      "cell_type": "code",
      "execution_count": 15,
      "metadata": {
        "id": "YUJEmVANPlZB",
        "outputId": "140aa1b7-659e-4b64-b558-306d24b325f3",
        "colab": {
          "base_uri": "https://localhost:8080/",
          "height": 0
        }
      },
      "outputs": [
        {
          "output_type": "execute_result",
          "data": {
            "application/vnd.google.colaboratory.intrinsic+json": {
              "type": "string"
            },
            "text/plain": [
              "'3.7.12 (default, Jan 15 2022, 18:48:18) \\n[GCC 7.5.0]'"
            ]
          },
          "metadata": {},
          "execution_count": 15
        }
      ],
      "source": [
        "# determine the python system version\n",
        "sys.version"
      ]
    },
    {
      "cell_type": "markdown",
      "metadata": {
        "id": "URIdB-CKPlZB"
      },
      "source": [
        "You can't import every library into the lab environment due to security issues. However, you can import most of the common scientific ones. Here we import the libraries `NumPy` (https://www.numpy.org) and `Pandas` (https://pandas.pydata.org), two of the most common and useful libraries in data science. We recommend copying this import statement for every new notebook that you will create."
      ]
    },
    {
      "cell_type": "code",
      "execution_count": 16,
      "metadata": {
        "id": "CiLLdbWpPlZB"
      },
      "outputs": [],
      "source": [
        "# import the number and Pandas data science libraries\n",
        "import numpy\n",
        "import pandas"
      ]
    },
    {
      "cell_type": "markdown",
      "metadata": {
        "id": "e1y5jVPEPlZB"
      },
      "source": [
        "Let's now use the `NumPy` library to calculate the mean of a list of numbers:"
      ]
    },
    {
      "cell_type": "code",
      "execution_count": 17,
      "metadata": {
        "id": "2qcQRdm5PlZB",
        "outputId": "43803b2f-07f2-43f4-c848-97145f9d08a1",
        "colab": {
          "base_uri": "https://localhost:8080/"
        }
      },
      "outputs": [
        {
          "output_type": "execute_result",
          "data": {
            "text/plain": [
              "2.5"
            ]
          },
          "metadata": {},
          "execution_count": 17
        }
      ],
      "source": [
        "numpy.mean([1, 2, 3, 4])"
      ]
    },
    {
      "cell_type": "markdown",
      "metadata": {
        "id": "w477cv6ZPlZC"
      },
      "source": [
        "Notice that you can rename libraries to whatever you want after importing. The `as` statement allows this. Here we use `np` and `pd` as aliases for both the pre-built `NumPy` and `Pandas` libraries. This is very common aliasing and will be found in most code snippets around the web. The idea behind this is to allow you to type fewer characters when you are frequently accessing these libraries."
      ]
    },
    {
      "cell_type": "code",
      "execution_count": 18,
      "metadata": {
        "id": "Rc11gMEKPlZC"
      },
      "outputs": [],
      "source": [
        "# importing the NumPy and Pandas data science libraries using aliases\n",
        "import numpy as np\n",
        "import pandas as pd"
      ]
    },
    {
      "cell_type": "markdown",
      "metadata": {
        "id": "u-1qOEshPlZC"
      },
      "source": [
        "Let's now use the `NumPy` library to calculate the mean of a list of numbers:"
      ]
    },
    {
      "cell_type": "code",
      "execution_count": 19,
      "metadata": {
        "id": "kBGe0El0PlZC",
        "outputId": "0f54b5f3-e1d7-4148-a719-514de330eb8e",
        "colab": {
          "base_uri": "https://localhost:8080/"
        }
      },
      "outputs": [
        {
          "output_type": "execute_result",
          "data": {
            "text/plain": [
              "2.5"
            ]
          },
          "metadata": {},
          "execution_count": 19
        }
      ],
      "source": [
        "np.mean([1, 2, 3, 4])"
      ]
    },
    {
      "cell_type": "markdown",
      "metadata": {
        "id": "EeTxEVHUPlZC"
      },
      "source": [
        "### 3. Code Completion and Documentation"
      ]
    },
    {
      "cell_type": "markdown",
      "metadata": {
        "id": "2MpUuz3-PlZC"
      },
      "source": [
        "#### Autocomplete Code"
      ]
    },
    {
      "cell_type": "markdown",
      "metadata": {
        "id": "PIphNKg-PlZC"
      },
      "source": [
        "Pressing tab will give you a list of Jupyter's best guesses for what you might want to type next. This is incredibly valuable and will save you a lot of time. If there is only one possible option for what you could type next, Jupyter will fill that in for you. Try pressing tab very frequently; it will seldom fill in anything you don't want as if there is ambiguity a list will be shown. This is a great way to see what functions are available in a library.\n",
        "\n",
        "Try placing your cursor after the `.` and press the `tab` key on your keyboard."
      ]
    },
    {
      "cell_type": "code",
      "execution_count": 20,
      "metadata": {
        "id": "4WCH_V5rPlZD",
        "outputId": "a90a6626-3659-4073-a879-a56e7079e769",
        "colab": {
          "base_uri": "https://localhost:8080/"
        }
      },
      "outputs": [
        {
          "output_type": "execute_result",
          "data": {
            "text/plain": [
              "<function RandomState.gamma>"
            ]
          },
          "metadata": {},
          "execution_count": 20
        }
      ],
      "source": [
        "np.random.gamma"
      ]
    },
    {
      "cell_type": "markdown",
      "metadata": {
        "id": "Nos2S81PPlZD"
      },
      "source": [
        "#### Documentation Help"
      ]
    },
    {
      "cell_type": "markdown",
      "metadata": {
        "id": "s2n-3rcePlZD"
      },
      "source": [
        "Placing a question mark after a function and executing that line of code will give you the documentation Jupyter has for that function. It's often best to do this in a new cell, as you avoid re-executing other code and running into bugs."
      ]
    },
    {
      "cell_type": "code",
      "execution_count": 21,
      "metadata": {
        "id": "tbQYLO8wPlZD"
      },
      "outputs": [],
      "source": [
        "np.random.normal?"
      ]
    },
    {
      "cell_type": "markdown",
      "metadata": {
        "id": "dYVJmxJRPlZD"
      },
      "source": [
        "### 4. Plotting Data "
      ]
    },
    {
      "cell_type": "markdown",
      "metadata": {
        "id": "v81V57-sPlZD"
      },
      "source": [
        "#### Random Data Sampling"
      ]
    },
    {
      "cell_type": "markdown",
      "metadata": {
        "id": "SCEJwAL6PlZD"
      },
      "source": [
        "Let's' sample some random data using a function from `NumPy`."
      ]
    },
    {
      "cell_type": "code",
      "execution_count": 22,
      "metadata": {
        "id": "N2N1XbZXPlZE"
      },
      "outputs": [],
      "source": [
        "# sample 100 points with a mean of 0 and an std of 1. This is a standard normal distribution.\n",
        "x = np.random.normal(0, 1, 100)"
      ]
    },
    {
      "cell_type": "code",
      "execution_count": 23,
      "metadata": {
        "id": "hF-m_Dw5PlZE",
        "outputId": "74a44f7f-fe7b-43ce-97ec-ce5fd8eb1d8e",
        "colab": {
          "base_uri": "https://localhost:8080/"
        }
      },
      "outputs": [
        {
          "output_type": "execute_result",
          "data": {
            "text/plain": [
              "array([ 0.28336866, -0.06666075,  1.16925882,  0.29578334,  0.52054771,\n",
              "        0.03824305,  1.55921186,  0.84794386, -0.0979464 , -0.47594223,\n",
              "        0.89198301, -0.04796194,  0.16201941, -1.19908679,  0.08343536,\n",
              "       -2.80859699,  1.01440162,  0.03467175, -1.30748839,  0.05753314,\n",
              "        0.19282628,  0.54506584,  0.36165826,  1.31669482,  0.24242627,\n",
              "        1.59857578,  1.31614717, -1.39109005, -0.15274478, -0.61667142,\n",
              "       -0.72048907, -2.81415732,  0.3053173 , -0.91831272, -0.12951885,\n",
              "        0.47004387,  1.29321889, -2.16505939, -2.54510919,  0.36190074,\n",
              "       -1.09347312,  0.21722244,  0.28882059, -1.01722412,  0.87026232,\n",
              "        0.12859411,  1.96858938, -1.78768803,  0.47365537, -0.52522776,\n",
              "       -1.14637073, -0.36345423,  0.95681364,  0.01270074, -1.23350349,\n",
              "       -0.96761383,  1.21822465, -0.06353267, -0.48734333, -1.65809543,\n",
              "       -1.54653184, -1.20410889,  0.33756587,  0.39101876,  1.27062505,\n",
              "       -0.76486353,  0.50727606, -0.7182904 , -0.52510575, -0.4540467 ,\n",
              "       -0.13318817, -0.65326784, -1.11620785, -0.90320118, -1.21218397,\n",
              "       -0.94537522,  0.12220717, -0.59694144, -0.88746297,  1.35292662,\n",
              "       -0.0966851 , -0.03624432, -1.0642328 ,  0.89250041,  0.71971089,\n",
              "       -0.39584142, -1.17028143, -0.62394428, -0.35923273,  0.97517629,\n",
              "        0.48681697,  0.44248626,  2.82304239, -1.4221236 , -1.19615293,\n",
              "        0.81335216, -1.01692111, -0.63684694,  0.11541095, -1.45762713])"
            ]
          },
          "metadata": {},
          "execution_count": 23
        }
      ],
      "source": [
        "x"
      ]
    },
    {
      "cell_type": "markdown",
      "metadata": {
        "id": "G6sRq5avPlZE"
      },
      "source": [
        "#### Data Plotting"
      ]
    },
    {
      "cell_type": "markdown",
      "metadata": {
        "id": "9ZmmnJcGPlZF"
      },
      "source": [
        "Python's `Matplotlib` library (https://matplotlib.org) is a very flexible library and has a lot of handy, built-in defaults that will help you out tremendously. \n",
        "\n",
        "As such, you don’t need much to get started: you need to make the necessary imports, prepare some data, and you can start plotting with the help of the `plot()` function. Let's have a look."
      ]
    },
    {
      "cell_type": "markdown",
      "metadata": {
        "id": "Snj8H9iMPlZF"
      },
      "source": [
        "Let's import Matplotlib by running the following statements:"
      ]
    },
    {
      "cell_type": "code",
      "execution_count": 24,
      "metadata": {
        "id": "iuY1YC65PlZF"
      },
      "outputs": [],
      "source": [
        "# importing the matplotlib plotting library\n",
        "import matplotlib.pyplot as plt"
      ]
    },
    {
      "cell_type": "markdown",
      "metadata": {
        "id": "Y5bk96nmPlZG"
      },
      "source": [
        "Note that we imported the `pyplot` module of the `Matplotlib` library under the alias `plt`."
      ]
    },
    {
      "cell_type": "code",
      "execution_count": 25,
      "metadata": {
        "id": "6lPAY4iAPlZG"
      },
      "outputs": [],
      "source": [
        "%matplotlib inline"
      ]
    },
    {
      "cell_type": "markdown",
      "metadata": {
        "id": "Fi_dQqpaPlZG"
      },
      "source": [
        "We can now use the plotting functionality provided by Matplotlib as follows:"
      ]
    },
    {
      "cell_type": "code",
      "execution_count": 26,
      "metadata": {
        "id": "eCKS_ZOiPlZG",
        "outputId": "21d289de-7503-4e8c-ae1f-f0d13e40900c",
        "colab": {
          "base_uri": "https://localhost:8080/",
          "height": 284
        }
      },
      "outputs": [
        {
          "output_type": "execute_result",
          "data": {
            "text/plain": [
              "[<matplotlib.lines.Line2D at 0x7ffbc23b5910>]"
            ]
          },
          "metadata": {},
          "execution_count": 26
        },
        {
          "output_type": "display_data",
          "data": {
            "image/png": "[encoded data removed]",
            "text/plain": [
              "<Figure size 432x288 with 1 Axes>"
            ]
          },
          "metadata": {
            "needs_background": "light"
          }
        }
      ],
      "source": [
        "plt.plot(x)"
      ]
    },
    {
      "cell_type": "markdown",
      "metadata": {
        "id": "RgcS8AWXPlZG"
      },
      "source": [
        "Let's apply some variations as well as the axis legends to our plot:"
      ]
    },
    {
      "cell_type": "code",
      "execution_count": 27,
      "metadata": {
        "scrolled": true,
        "id": "MXPGs1HTPlZG",
        "outputId": "0ce51c96-0307-4d10-de72-f9d0bddb5343",
        "colab": {
          "base_uri": "https://localhost:8080/",
          "height": 297
        }
      },
      "outputs": [
        {
          "output_type": "execute_result",
          "data": {
            "text/plain": [
              "Text(0, 0.5, 'value')"
            ]
          },
          "metadata": {},
          "execution_count": 27
        },
        {
          "output_type": "display_data",
          "data": {
            "image/png": "[encoded data removed]",
            "text/plain": [
              "<Figure size 432x288 with 1 Axes>"
            ]
          },
          "metadata": {
            "needs_background": "light"
          }
        }
      ],
      "source": [
        "plt.plot(x, linewidth=3, linestyle=\"--\")\n",
        "\n",
        "# set label and title details\n",
        "plt.xlabel('sample', weight='normal', fontsize=8)\n",
        "plt.ylabel('value', weight='normal', fontsize=8)"
      ]
    },
    {
      "cell_type": "markdown",
      "metadata": {
        "id": "azXIiAbYPlZG"
      },
      "source": [
        "#### Remove Line Output"
      ]
    },
    {
      "cell_type": "markdown",
      "metadata": {
        "id": "llEe4nsjPlZH"
      },
      "source": [
        "You might have noticed a similar annoying line of the form: `[<matplotlib.lines.Line2D at 0x10a4cce90>]` before the created plot. If you wish to get rid of this output, end the plot statement using a semicolon `;`:"
      ]
    },
    {
      "cell_type": "code",
      "execution_count": 28,
      "metadata": {
        "id": "BkYJbt63PlZH",
        "outputId": "ceaa9723-45cd-4e94-8973-abfdaec701b1",
        "colab": {
          "base_uri": "https://localhost:8080/",
          "height": 266
        }
      },
      "outputs": [
        {
          "output_type": "display_data",
          "data": {
            "image/png": "[encoded data removed]",
            "text/plain": [
              "<Figure size 432x288 with 1 Axes>"
            ]
          },
          "metadata": {
            "needs_background": "light"
          }
        }
      ],
      "source": [
        "plt.plot(x);"
      ]
    },
    {
      "cell_type": "markdown",
      "metadata": {
        "id": "TaFGGN8kPlZH"
      },
      "source": [
        "#### Adding Axis Labels"
      ]
    },
    {
      "cell_type": "markdown",
      "metadata": {
        "id": "VpWaOI7RPlZH"
      },
      "source": [
        "No self-respecting quantitative analyst leaves a graph without labeled axes. Here are some commands to help with that."
      ]
    },
    {
      "cell_type": "code",
      "execution_count": 29,
      "metadata": {
        "id": "ZtlzuP4aPlZH"
      },
      "outputs": [],
      "source": [
        "# sample 100 points twice with a mean of 0 and an std of 1 from a standard normal distribution.\n",
        "x1 = np.random.normal(0, 1, 100)\n",
        "x2 = np.random.normal(0, 1, 100)"
      ]
    },
    {
      "cell_type": "code",
      "execution_count": 30,
      "metadata": {
        "id": "wesXEBEoPlZH",
        "outputId": "00df59ce-7321-48e6-90d6-c07667b0b863",
        "colab": {
          "base_uri": "https://localhost:8080/",
          "height": 295
        }
      },
      "outputs": [
        {
          "output_type": "display_data",
          "data": {
            "image/png": "[encoded data removed]",
            "text/plain": [
              "<Figure size 432x288 with 1 Axes>"
            ]
          },
          "metadata": {
            "needs_background": "light"
          }
        }
      ],
      "source": [
        "# plot both sample results\n",
        "plt.plot(x1);\n",
        "plt.plot(x2);\n",
        "\n",
        "# add x-axis and y-axis label \n",
        "plt.xlabel('Time')\n",
        "plt.ylabel('Returns')\n",
        "\n",
        "# add plot legend\n",
        "plt.legend(['X1', 'X2'])\n",
        "\n",
        "# add plot title\n",
        "plt.title('Sample Returns X1 and X2');"
      ]
    },
    {
      "cell_type": "markdown",
      "metadata": {
        "id": "I4lvJB-TPlZI"
      },
      "source": [
        "### 5. Generating Statistics"
      ]
    },
    {
      "cell_type": "markdown",
      "metadata": {
        "id": "TQoXd5i-PlZI"
      },
      "source": [
        "Let's use `NumPy` to take some simple statistics like the mean of the generated samples:"
      ]
    },
    {
      "cell_type": "code",
      "execution_count": 31,
      "metadata": {
        "id": "6JjNBYVoPlZI",
        "outputId": "34fce6c5-6519-4715-9e05-210c90594bac",
        "colab": {
          "base_uri": "https://localhost:8080/"
        }
      },
      "outputs": [
        {
          "output_type": "execute_result",
          "data": {
            "text/plain": [
              "0.002704242717962242"
            ]
          },
          "metadata": {},
          "execution_count": 31
        }
      ],
      "source": [
        "np.mean(x1)"
      ]
    },
    {
      "cell_type": "markdown",
      "metadata": {
        "id": "Ulx5htQXPlZI"
      },
      "source": [
        "As well as the corresponding standard deviation of the generated samples:"
      ]
    },
    {
      "cell_type": "code",
      "execution_count": 32,
      "metadata": {
        "id": "wa7rUD_BPlZI",
        "outputId": "fde8883e-d3f3-457c-fe33-474a190c4ac9",
        "colab": {
          "base_uri": "https://localhost:8080/"
        }
      },
      "outputs": [
        {
          "output_type": "execute_result",
          "data": {
            "text/plain": [
              "0.9927163609615199"
            ]
          },
          "metadata": {},
          "execution_count": 32
        }
      ],
      "source": [
        "np.std(x1)"
      ]
    },
    {
      "cell_type": "markdown",
      "metadata": {
        "id": "i3sM66QIPlZI"
      },
      "source": [
        "### 6. Collect and Plot Real Pricing Data"
      ]
    },
    {
      "cell_type": "markdown",
      "metadata": {
        "id": "5orhXwP4PlZI"
      },
      "source": [
        "One of the first steps to any data science project is usually to import your data. Randomly sampled data can be great for testing ideas, but let's now import some real financial market data. \n",
        "\n",
        "As part of the `Labs` section of the **Machine Learning** Git repository, you will find a \"Comma Separated Value (CSV)\" file named `sample_google_data_daily.csv`. The file contains the daily stock market data of the **Alphabet (Google) Inc.** stock within the time frame `31-12-2015` till `31-12-2017`. In a next step, we define a variable that stores the URL under which the file is located:"
      ]
    },
    {
      "cell_type": "code",
      "execution_count": 33,
      "metadata": {
        "id": "MmwnVTJjPlZI"
      },
      "outputs": [],
      "source": [
        "file_url = 'https://raw.githubusercontent.com/HSG-AIML-Teaching/ML2022-Lab/main/lab_101/sample_google_data_daily.csv'"
      ]
    },
    {
      "cell_type": "markdown",
      "metadata": {
        "id": "V83aKjtMPlZI"
      },
      "source": [
        "Once we have specified the file URL we are able to import the file into Python using the `read_csv()` function of the `Pandas` library by running the following statement:"
      ]
    },
    {
      "cell_type": "code",
      "execution_count": 34,
      "metadata": {
        "id": "gMeQ-qWLPlZJ"
      },
      "outputs": [],
      "source": [
        "alphabet_data = pd.read_csv(file_url, sep=';')"
      ]
    },
    {
      "cell_type": "markdown",
      "metadata": {
        "id": "Cz5rn5upPlZJ"
      },
      "source": [
        "The retrieved data is a so-called `Pandas` `DataFrame`. You can see the datetime index and the columns with different pricing data. Let's inspect the top 5 rows of the imported data using the `head()` function of the `Pandas` library:"
      ]
    },
    {
      "cell_type": "code",
      "execution_count": 35,
      "metadata": {
        "id": "8CJ4ytfhPlZJ",
        "outputId": "6b78964c-1228-401f-fb72-b2a9be43da94",
        "colab": {
          "base_uri": "https://localhost:8080/",
          "height": 0
        }
      },
      "outputs": [
        {
          "output_type": "execute_result",
          "data": {
            "text/html": [
              "\n",
              "  <div id=\"df-8d1d895a-af20-428a-a8ae-0c18506113d8\">\n",
              "    <div class=\"colab-df-container\">\n",
              "      <div>\n",
              "<style scoped>\n",
              "    .dataframe tbody tr th:only-of-type {\n",
              "        vertical-align: middle;\n",
              "    }\n",
              "\n",
              "    .dataframe tbody tr th {\n",
              "        vertical-align: top;\n",
              "    }\n",
              "\n",
              "    .dataframe thead th {\n",
              "        text-align: right;\n",
              "    }\n",
              "</style>\n",
              "<table border=\"1\" class=\"dataframe\">\n",
              "  <thead>\n",
              "    <tr style=\"text-align: right;\">\n",
              "      <th></th>\n",
              "      <th>Date</th>\n",
              "      <th>Open</th>\n",
              "      <th>High</th>\n",
              "      <th>Low</th>\n",
              "      <th>Close</th>\n",
              "      <th>Volume</th>\n",
              "      <th>Ex-Dividend</th>\n",
              "      <th>Split Ratio</th>\n",
              "      <th>Adj. Open</th>\n",
              "      <th>Adj. High</th>\n",
              "      <th>Adj. Low</th>\n",
              "      <th>Adj. Close</th>\n",
              "      <th>Adj. Volume</th>\n",
              "    </tr>\n",
              "  </thead>\n",
              "  <tbody>\n",
              "    <tr>\n",
              "      <th>0</th>\n",
              "      <td>2015-12-31</td>\n",
              "      <td>787.82</td>\n",
              "      <td>788.33</td>\n",
              "      <td>777.32</td>\n",
              "      <td>778.01</td>\n",
              "      <td>1637561.0</td>\n",
              "      <td>0.0</td>\n",
              "      <td>1.0</td>\n",
              "      <td>787.82</td>\n",
              "      <td>788.33</td>\n",
              "      <td>777.32</td>\n",
              "      <td>778.01</td>\n",
              "      <td>1637561.0</td>\n",
              "    </tr>\n",
              "    <tr>\n",
              "      <th>1</th>\n",
              "      <td>2016-01-04</td>\n",
              "      <td>762.20</td>\n",
              "      <td>762.20</td>\n",
              "      <td>747.54</td>\n",
              "      <td>759.44</td>\n",
              "      <td>3369068.0</td>\n",
              "      <td>0.0</td>\n",
              "      <td>1.0</td>\n",
              "      <td>762.20</td>\n",
              "      <td>762.20</td>\n",
              "      <td>747.54</td>\n",
              "      <td>759.44</td>\n",
              "      <td>3369068.0</td>\n",
              "    </tr>\n",
              "    <tr>\n",
              "      <th>2</th>\n",
              "      <td>2016-01-05</td>\n",
              "      <td>764.10</td>\n",
              "      <td>769.20</td>\n",
              "      <td>755.65</td>\n",
              "      <td>761.53</td>\n",
              "      <td>2260795.0</td>\n",
              "      <td>0.0</td>\n",
              "      <td>1.0</td>\n",
              "      <td>764.10</td>\n",
              "      <td>769.20</td>\n",
              "      <td>755.65</td>\n",
              "      <td>761.53</td>\n",
              "      <td>2260795.0</td>\n",
              "    </tr>\n",
              "    <tr>\n",
              "      <th>3</th>\n",
              "      <td>2016-01-06</td>\n",
              "      <td>750.37</td>\n",
              "      <td>765.73</td>\n",
              "      <td>748.00</td>\n",
              "      <td>759.33</td>\n",
              "      <td>2410301.0</td>\n",
              "      <td>0.0</td>\n",
              "      <td>1.0</td>\n",
              "      <td>750.37</td>\n",
              "      <td>765.73</td>\n",
              "      <td>748.00</td>\n",
              "      <td>759.33</td>\n",
              "      <td>2410301.0</td>\n",
              "    </tr>\n",
              "    <tr>\n",
              "      <th>4</th>\n",
              "      <td>2016-01-07</td>\n",
              "      <td>746.49</td>\n",
              "      <td>755.31</td>\n",
              "      <td>735.28</td>\n",
              "      <td>741.00</td>\n",
              "      <td>3156563.0</td>\n",
              "      <td>0.0</td>\n",
              "      <td>1.0</td>\n",
              "      <td>746.49</td>\n",
              "      <td>755.31</td>\n",
              "      <td>735.28</td>\n",
              "      <td>741.00</td>\n",
              "      <td>3156563.0</td>\n",
              "    </tr>\n",
              "  </tbody>\n",
              "</table>\n",
              "</div>\n",
              "      <button class=\"colab-df-convert\" onclick=\"convertToInteractive('df-8d1d895a-af20-428a-a8ae-0c18506113d8')\"\n",
              "              title=\"Convert this dataframe to an interactive table.\"\n",
              "              style=\"display:none;\">\n",
              "        \n",
              "  <svg xmlns=\"http://www.w3.org/2000/svg\" height=\"24px\"viewBox=\"0 0 24 24\"\n",
              "       width=\"24px\">\n",
              "    <path d=\"M0 0h24v24H0V0z\" fill=\"none\"/>\n",
              "    <path d=\"M18.56 5.44l.94 2.06.94-2.06 2.06-.94-2.06-.94-.94-2.06-.94 2.06-2.06.94zm-11 1L8.5 8.5l.94-2.06 2.06-.94-2.06-.94L8.5 2.5l-.94 2.06-2.06.94zm10 10l.94 2.06.94-2.06 2.06-.94-2.06-.94-.94-2.06-.94 2.06-2.06.94z\"/><path d=\"M17.41 7.96l-1.37-1.37c-.4-.4-.92-.59-1.43-.59-.52 0-1.04.2-1.43.59L10.3 9.45l-7.72 7.72c-.78.78-.78 2.05 0 2.83L4 21.41c.39.39.9.59 1.41.59.51 0 1.02-.2 1.41-.59l7.78-7.78 2.81-2.81c.8-.78.8-2.07 0-2.86zM5.41 20L4 18.59l7.72-7.72 1.47 1.35L5.41 20z\"/>\n",
              "  </svg>\n",
              "      </button>\n",
              "      \n",
              "  <style>\n",
              "    .colab-df-container {\n",
              "      display:flex;\n",
              "      flex-wrap:wrap;\n",
              "      gap: 12px;\n",
              "    }\n",
              "\n",
              "    .colab-df-convert {\n",
              "      background-color: #E8F0FE;\n",
              "      border: none;\n",
              "      border-radius: 50%;\n",
              "      cursor: pointer;\n",
              "      display: none;\n",
              "      fill: #1967D2;\n",
              "      height: 32px;\n",
              "      padding: 0 0 0 0;\n",
              "      width: 32px;\n",
              "    }\n",
              "\n",
              "    .colab-df-convert:hover {\n",
              "      background-color: #E2EBFA;\n",
              "      box-shadow: 0px 1px 2px rgba(60, 64, 67, 0.3), 0px 1px 3px 1px rgba(60, 64, 67, 0.15);\n",
              "      fill: #174EA6;\n",
              "    }\n",
              "\n",
              "    [theme=dark] .colab-df-convert {\n",
              "      background-color: #3B4455;\n",
              "      fill: #D2E3FC;\n",
              "    }\n",
              "\n",
              "    [theme=dark] .colab-df-convert:hover {\n",
              "      background-color: #434B5C;\n",
              "      box-shadow: 0px 1px 3px 1px rgba(0, 0, 0, 0.15);\n",
              "      filter: drop-shadow(0px 1px 2px rgba(0, 0, 0, 0.3));\n",
              "      fill: #FFFFFF;\n",
              "    }\n",
              "  </style>\n",
              "\n",
              "      <script>\n",
              "        const buttonEl =\n",
              "          document.querySelector('#df-8d1d895a-af20-428a-a8ae-0c18506113d8 button.colab-df-convert');\n",
              "        buttonEl.style.display =\n",
              "          google.colab.kernel.accessAllowed ? 'block' : 'none';\n",
              "\n",
              "        async function convertToInteractive(key) {\n",
              "          const element = document.querySelector('#df-8d1d895a-af20-428a-a8ae-0c18506113d8');\n",
              "          const dataTable =\n",
              "            await google.colab.kernel.invokeFunction('convertToInteractive',\n",
              "                                                     [key], {});\n",
              "          if (!dataTable) return;\n",
              "\n",
              "          const docLinkHtml = 'Like what you see? Visit the ' +\n",
              "            '<a target=\"_blank\" href=https://colab.research.google.com/notebooks/data_table.ipynb>data table notebook</a>'\n",
              "            + ' to learn more about interactive tables.';\n",
              "          element.innerHTML = '';\n",
              "          dataTable['output_type'] = 'display_data';\n",
              "          await google.colab.output.renderOutput(dataTable, element);\n",
              "          const docLink = document.createElement('div');\n",
              "          docLink.innerHTML = docLinkHtml;\n",
              "          element.appendChild(docLink);\n",
              "        }\n",
              "      </script>\n",
              "    </div>\n",
              "  </div>\n",
              "  "
            ],
            "text/plain": [
              "         Date    Open    High     Low   Close     Volume  Ex-Dividend  \\\n",
              "0  2015-12-31  787.82  788.33  777.32  778.01  1637561.0          0.0   \n",
              "1  2016-01-04  762.20  762.20  747.54  759.44  3369068.0          0.0   \n",
              "2  2016-01-05  764.10  769.20  755.65  761.53  2260795.0          0.0   \n",
              "3  2016-01-06  750.37  765.73  748.00  759.33  2410301.0          0.0   \n",
              "4  2016-01-07  746.49  755.31  735.28  741.00  3156563.0          0.0   \n",
              "\n",
              "   Split Ratio  Adj. Open  Adj. High  Adj. Low  Adj. Close  Adj. Volume  \n",
              "0          1.0     787.82     788.33    777.32      778.01    1637561.0  \n",
              "1          1.0     762.20     762.20    747.54      759.44    3369068.0  \n",
              "2          1.0     764.10     769.20    755.65      761.53    2260795.0  \n",
              "3          1.0     750.37     765.73    748.00      759.33    2410301.0  \n",
              "4          1.0     746.49     755.31    735.28      741.00    3156563.0  "
            ]
          },
          "metadata": {},
          "execution_count": 35
        }
      ],
      "source": [
        "alphabet_data.head(5)"
      ]
    },
    {
      "cell_type": "markdown",
      "metadata": {
        "id": "KCrSw-nYPlZJ"
      },
      "source": [
        "Looks good, right?"
      ]
    },
    {
      "cell_type": "markdown",
      "metadata": {
        "id": "n5zpdP6rPlZJ"
      },
      "source": [
        "It's great to import data that was already collected and stored accordingly. Unfortunately, in real data science projects, we are often challenged to retrieve the data from a variety of sources, e.g., the web. But where to get financial data of good quality? A great source for retrieving such data can be found in the `Pandas` `Datareader`package.\n",
        "\n",
        "Although the **Google Colab** environment comes with a lot of pre-installed libraries, sometimes a needed library might not be available. Therefore, you may want to install libraries directly within an individual notebook. Please note, libraries installed from the notebook apply only to the current server session. Library installations aren't persistend once the server is shut down."
      ]
    },
    {
      "cell_type": "markdown",
      "metadata": {
        "id": "DFNts8FjPlZJ"
      },
      "source": [
        "In general, libraries in Python can be installed using the shell **pip** command within code cells. Any command that works at the command-line can be used in Jupyter Notebbos by prefixing it with the `!` character. Let's give it a try and install the `pandas_datareader` python library."
      ]
    },
    {
      "cell_type": "code",
      "execution_count": 36,
      "metadata": {
        "id": "0aHcsfijPlZJ",
        "outputId": "3406e343-9233-4025-e57b-2b7e2755ceb6",
        "colab": {
          "base_uri": "https://localhost:8080/",
          "height": 0
        }
      },
      "outputs": [
        {
          "output_type": "stream",
          "name": "stdout",
          "text": [
            "Collecting pandas_datareader\n",
            "  Downloading pandas_datareader-0.10.0-py3-none-any.whl (109 kB)\n",
            "\u001b[K     |████████████████████████████████| 109 kB 4.2 MB/s \n",
            "\u001b[?25hCollecting lxml\n",
            "  Downloading lxml-4.8.0-cp37-cp37m-manylinux_2_17_x86_64.manylinux2014_x86_64.manylinux_2_24_x86_64.whl (6.4 MB)\n",
            "\u001b[K     |████████████████████████████████| 6.4 MB 13.8 MB/s \n",
            "\u001b[?25hCollecting pandas>=0.23\n",
            "  Downloading pandas-1.3.5-cp37-cp37m-manylinux_2_17_x86_64.manylinux2014_x86_64.whl (11.3 MB)\n",
            "\u001b[K     |████████████████████████████████| 11.3 MB 34.2 MB/s \n",
            "\u001b[?25hCollecting requests>=2.19.0\n",
            "  Downloading requests-2.27.1-py2.py3-none-any.whl (63 kB)\n",
            "\u001b[K     |████████████████████████████████| 63 kB 1.7 MB/s \n",
            "\u001b[?25hCollecting python-dateutil>=2.7.3\n",
            "  Downloading python_dateutil-2.8.2-py2.py3-none-any.whl (247 kB)\n",
            "\u001b[K     |████████████████████████████████| 247 kB 45.1 MB/s \n",
            "\u001b[?25hCollecting numpy>=1.17.3\n",
            "  Downloading numpy-1.21.5-cp37-cp37m-manylinux_2_12_x86_64.manylinux2010_x86_64.whl (15.7 MB)\n",
            "\u001b[K     |████████████████████████████████| 15.7 MB 29.6 MB/s \n",
            "\u001b[?25hCollecting pytz>=2017.3\n",
            "  Downloading pytz-2021.3-py2.py3-none-any.whl (503 kB)\n",
            "\u001b[K     |████████████████████████████████| 503 kB 55.0 MB/s \n",
            "\u001b[?25hCollecting six>=1.5\n",
            "  Downloading six-1.16.0-py2.py3-none-any.whl (11 kB)\n",
            "Collecting charset-normalizer~=2.0.0\n",
            "  Downloading charset_normalizer-2.0.12-py3-none-any.whl (39 kB)\n",
            "Collecting idna<4,>=2.5\n",
            "  Downloading idna-3.3-py3-none-any.whl (61 kB)\n",
            "\u001b[K     |████████████████████████████████| 61 kB 7.4 MB/s \n",
            "\u001b[?25hCollecting urllib3<1.27,>=1.21.1\n",
            "  Downloading urllib3-1.26.8-py2.py3-none-any.whl (138 kB)\n",
            "\u001b[K     |████████████████████████████████| 138 kB 39.8 MB/s \n",
            "\u001b[?25hCollecting certifi>=2017.4.17\n",
            "  Downloading certifi-2021.10.8-py2.py3-none-any.whl (149 kB)\n",
            "\u001b[K     |████████████████████████████████| 149 kB 47.7 MB/s \n",
            "\u001b[?25hInstalling collected packages: six, urllib3, pytz, python-dateutil, numpy, idna, charset-normalizer, certifi, requests, pandas, lxml, pandas-datareader\n",
            "\u001b[31mERROR: pip's dependency resolver does not currently take into account all the packages that are installed. This behaviour is the source of the following dependency conflicts.\n",
            "tensorflow 2.8.0 requires tf-estimator-nightly==2.8.0.dev2021122109, which is not installed.\n",
            "google-colab 1.0.0 requires requests~=2.23.0, but you have requests 2.27.1 which is incompatible.\n",
            "google-colab 1.0.0 requires six~=1.15.0, but you have six 1.16.0 which is incompatible.\n",
            "datascience 0.10.6 requires folium==0.2.1, but you have folium 0.8.3 which is incompatible.\n",
            "albumentations 0.1.12 requires imgaug<0.2.7,>=0.2.5, but you have imgaug 0.2.9 which is incompatible.\u001b[0m\n",
            "Successfully installed certifi-2021.10.8 charset-normalizer-2.0.12 idna-3.3 lxml-4.8.0 numpy-1.21.5 pandas-1.3.5 pandas-datareader-0.10.0 python-dateutil-2.8.2 pytz-2021.3 requests-2.27.1 six-1.16.0 urllib3-1.26.8\n"
          ]
        },
        {
          "output_type": "display_data",
          "data": {
            "application/vnd.colab-display-data+json": {
              "pip_warning": {
                "packages": [
                  "dateutil",
                  "numpy",
                  "pandas",
                  "pytz",
                  "six"
                ]
              }
            }
          },
          "metadata": {}
        }
      ],
      "source": [
        "!pip3 install pandas_datareader --ignore-installed"
      ]
    },
    {
      "cell_type": "markdown",
      "metadata": {
        "id": "p062zBrYPlZJ"
      },
      "source": [
        "Let's import the `DataReader` as well as the `DateTime`library to retreive some financial data:"
      ]
    },
    {
      "cell_type": "code",
      "execution_count": 37,
      "metadata": {
        "id": "dXLOGeNXPlZJ"
      },
      "outputs": [],
      "source": [
        "import datetime as dt\n",
        "import pandas_datareader as dr"
      ]
    },
    {
      "cell_type": "markdown",
      "metadata": {
        "id": "L4rpMRYoPlZK"
      },
      "source": [
        "Specify both the `start` and `end` date of the data download:"
      ]
    },
    {
      "cell_type": "code",
      "execution_count": 38,
      "metadata": {
        "id": "UbC6a2B0PlZK"
      },
      "outputs": [],
      "source": [
        "start_date = dt.datetime(2021, 1, 1)\n",
        "end_date = dt.datetime(2021, 12, 31)"
      ]
    },
    {
      "cell_type": "markdown",
      "metadata": {
        "id": "tGX9ODiIPlZK"
      },
      "source": [
        "Download the daily **Tesla Inc.** (ticker symbol: TSLA) stock data using the `DataReader` object of the `Pandas` data science library: "
      ]
    },
    {
      "cell_type": "code",
      "execution_count": 39,
      "metadata": {
        "id": "Jj3WQTADPlZK"
      },
      "outputs": [],
      "source": [
        "# download tesla market data\n",
        "tesla_data = dr.data.DataReader('TSLA', data_source='yahoo', start=start_date, end=end_date)"
      ]
    },
    {
      "cell_type": "markdown",
      "metadata": {
        "id": "Y2l5KxL8PlZK"
      },
      "source": [
        "We again retrieved the data as a `Pandas` `dataframe` but this time using the `DataReader` object that comes with `Pandas`\n",
        ". Let's inspect the top 5 rows of the imported data using the `head()` function of the `Pandas` library:"
      ]
    },
    {
      "cell_type": "code",
      "execution_count": 40,
      "metadata": {
        "id": "2PT3Y3mzPlZK",
        "outputId": "2fbd7163-142b-4d59-e40a-28cb7ba36240",
        "colab": {
          "base_uri": "https://localhost:8080/",
          "height": 0
        }
      },
      "outputs": [
        {
          "output_type": "execute_result",
          "data": {
            "text/html": [
              "\n",
              "  <div id=\"df-e2ee4204-0c27-491c-95ea-5795d317dd89\">\n",
              "    <div class=\"colab-df-container\">\n",
              "      <div>\n",
              "<style scoped>\n",
              "    .dataframe tbody tr th:only-of-type {\n",
              "        vertical-align: middle;\n",
              "    }\n",
              "\n",
              "    .dataframe tbody tr th {\n",
              "        vertical-align: top;\n",
              "    }\n",
              "\n",
              "    .dataframe thead th {\n",
              "        text-align: right;\n",
              "    }\n",
              "</style>\n",
              "<table border=\"1\" class=\"dataframe\">\n",
              "  <thead>\n",
              "    <tr style=\"text-align: right;\">\n",
              "      <th></th>\n",
              "      <th>High</th>\n",
              "      <th>Low</th>\n",
              "      <th>Open</th>\n",
              "      <th>Close</th>\n",
              "      <th>Volume</th>\n",
              "      <th>Adj Close</th>\n",
              "    </tr>\n",
              "    <tr>\n",
              "      <th>Date</th>\n",
              "      <th></th>\n",
              "      <th></th>\n",
              "      <th></th>\n",
              "      <th></th>\n",
              "      <th></th>\n",
              "      <th></th>\n",
              "    </tr>\n",
              "  </thead>\n",
              "  <tbody>\n",
              "    <tr>\n",
              "      <th>2021-01-04</th>\n",
              "      <td>744.489990</td>\n",
              "      <td>717.190002</td>\n",
              "      <td>719.460022</td>\n",
              "      <td>729.770020</td>\n",
              "      <td>48638200</td>\n",
              "      <td>729.770020</td>\n",
              "    </tr>\n",
              "    <tr>\n",
              "      <th>2021-01-05</th>\n",
              "      <td>740.840027</td>\n",
              "      <td>719.200012</td>\n",
              "      <td>723.659973</td>\n",
              "      <td>735.109985</td>\n",
              "      <td>32245200</td>\n",
              "      <td>735.109985</td>\n",
              "    </tr>\n",
              "    <tr>\n",
              "      <th>2021-01-06</th>\n",
              "      <td>774.000000</td>\n",
              "      <td>749.099976</td>\n",
              "      <td>758.489990</td>\n",
              "      <td>755.979980</td>\n",
              "      <td>44700000</td>\n",
              "      <td>755.979980</td>\n",
              "    </tr>\n",
              "    <tr>\n",
              "      <th>2021-01-07</th>\n",
              "      <td>816.989990</td>\n",
              "      <td>775.200012</td>\n",
              "      <td>777.630005</td>\n",
              "      <td>816.039978</td>\n",
              "      <td>51498900</td>\n",
              "      <td>816.039978</td>\n",
              "    </tr>\n",
              "    <tr>\n",
              "      <th>2021-01-08</th>\n",
              "      <td>884.489990</td>\n",
              "      <td>838.390015</td>\n",
              "      <td>856.000000</td>\n",
              "      <td>880.020020</td>\n",
              "      <td>75055500</td>\n",
              "      <td>880.020020</td>\n",
              "    </tr>\n",
              "    <tr>\n",
              "      <th>2021-01-11</th>\n",
              "      <td>854.429993</td>\n",
              "      <td>803.619995</td>\n",
              "      <td>849.400024</td>\n",
              "      <td>811.190002</td>\n",
              "      <td>59301600</td>\n",
              "      <td>811.190002</td>\n",
              "    </tr>\n",
              "    <tr>\n",
              "      <th>2021-01-12</th>\n",
              "      <td>868.000000</td>\n",
              "      <td>827.340027</td>\n",
              "      <td>831.000000</td>\n",
              "      <td>849.440002</td>\n",
              "      <td>46270700</td>\n",
              "      <td>849.440002</td>\n",
              "    </tr>\n",
              "    <tr>\n",
              "      <th>2021-01-13</th>\n",
              "      <td>860.469971</td>\n",
              "      <td>832.000000</td>\n",
              "      <td>852.760010</td>\n",
              "      <td>854.409973</td>\n",
              "      <td>33312500</td>\n",
              "      <td>854.409973</td>\n",
              "    </tr>\n",
              "    <tr>\n",
              "      <th>2021-01-14</th>\n",
              "      <td>863.000000</td>\n",
              "      <td>838.750000</td>\n",
              "      <td>843.390015</td>\n",
              "      <td>845.000000</td>\n",
              "      <td>31266300</td>\n",
              "      <td>845.000000</td>\n",
              "    </tr>\n",
              "    <tr>\n",
              "      <th>2021-01-15</th>\n",
              "      <td>859.900024</td>\n",
              "      <td>819.099976</td>\n",
              "      <td>852.000000</td>\n",
              "      <td>826.159973</td>\n",
              "      <td>38777600</td>\n",
              "      <td>826.159973</td>\n",
              "    </tr>\n",
              "    <tr>\n",
              "      <th>2021-01-19</th>\n",
              "      <td>850.000000</td>\n",
              "      <td>833.000000</td>\n",
              "      <td>837.799988</td>\n",
              "      <td>844.549988</td>\n",
              "      <td>25367000</td>\n",
              "      <td>844.549988</td>\n",
              "    </tr>\n",
              "    <tr>\n",
              "      <th>2021-01-20</th>\n",
              "      <td>859.500000</td>\n",
              "      <td>837.280029</td>\n",
              "      <td>858.739990</td>\n",
              "      <td>850.450012</td>\n",
              "      <td>25665900</td>\n",
              "      <td>850.450012</td>\n",
              "    </tr>\n",
              "    <tr>\n",
              "      <th>2021-01-21</th>\n",
              "      <td>855.719971</td>\n",
              "      <td>841.419983</td>\n",
              "      <td>855.000000</td>\n",
              "      <td>844.989990</td>\n",
              "      <td>20521100</td>\n",
              "      <td>844.989990</td>\n",
              "    </tr>\n",
              "    <tr>\n",
              "      <th>2021-01-22</th>\n",
              "      <td>848.000000</td>\n",
              "      <td>828.619995</td>\n",
              "      <td>834.309998</td>\n",
              "      <td>846.640015</td>\n",
              "      <td>20066500</td>\n",
              "      <td>846.640015</td>\n",
              "    </tr>\n",
              "    <tr>\n",
              "      <th>2021-01-25</th>\n",
              "      <td>900.400024</td>\n",
              "      <td>838.820007</td>\n",
              "      <td>855.000000</td>\n",
              "      <td>880.799988</td>\n",
              "      <td>41173400</td>\n",
              "      <td>880.799988</td>\n",
              "    </tr>\n",
              "    <tr>\n",
              "      <th>2021-01-26</th>\n",
              "      <td>895.900024</td>\n",
              "      <td>871.599976</td>\n",
              "      <td>891.380005</td>\n",
              "      <td>883.090027</td>\n",
              "      <td>23131600</td>\n",
              "      <td>883.090027</td>\n",
              "    </tr>\n",
              "    <tr>\n",
              "      <th>2021-01-27</th>\n",
              "      <td>891.500000</td>\n",
              "      <td>858.659973</td>\n",
              "      <td>870.349976</td>\n",
              "      <td>864.159973</td>\n",
              "      <td>27334000</td>\n",
              "      <td>864.159973</td>\n",
              "    </tr>\n",
              "    <tr>\n",
              "      <th>2021-01-28</th>\n",
              "      <td>848.000000</td>\n",
              "      <td>801.000000</td>\n",
              "      <td>820.000000</td>\n",
              "      <td>835.429993</td>\n",
              "      <td>26378000</td>\n",
              "      <td>835.429993</td>\n",
              "    </tr>\n",
              "    <tr>\n",
              "      <th>2021-01-29</th>\n",
              "      <td>842.409973</td>\n",
              "      <td>780.099976</td>\n",
              "      <td>830.000000</td>\n",
              "      <td>793.530029</td>\n",
              "      <td>34990800</td>\n",
              "      <td>793.530029</td>\n",
              "    </tr>\n",
              "    <tr>\n",
              "      <th>2021-02-01</th>\n",
              "      <td>842.000000</td>\n",
              "      <td>795.559998</td>\n",
              "      <td>814.289978</td>\n",
              "      <td>839.809998</td>\n",
              "      <td>25391400</td>\n",
              "      <td>839.809998</td>\n",
              "    </tr>\n",
              "  </tbody>\n",
              "</table>\n",
              "</div>\n",
              "      <button class=\"colab-df-convert\" onclick=\"convertToInteractive('df-e2ee4204-0c27-491c-95ea-5795d317dd89')\"\n",
              "              title=\"Convert this dataframe to an interactive table.\"\n",
              "              style=\"display:none;\">\n",
              "        \n",
              "  <svg xmlns=\"http://www.w3.org/2000/svg\" height=\"24px\"viewBox=\"0 0 24 24\"\n",
              "       width=\"24px\">\n",
              "    <path d=\"M0 0h24v24H0V0z\" fill=\"none\"/>\n",
              "    <path d=\"M18.56 5.44l.94 2.06.94-2.06 2.06-.94-2.06-.94-.94-2.06-.94 2.06-2.06.94zm-11 1L8.5 8.5l.94-2.06 2.06-.94-2.06-.94L8.5 2.5l-.94 2.06-2.06.94zm10 10l.94 2.06.94-2.06 2.06-.94-2.06-.94-.94-2.06-.94 2.06-2.06.94z\"/><path d=\"M17.41 7.96l-1.37-1.37c-.4-.4-.92-.59-1.43-.59-.52 0-1.04.2-1.43.59L10.3 9.45l-7.72 7.72c-.78.78-.78 2.05 0 2.83L4 21.41c.39.39.9.59 1.41.59.51 0 1.02-.2 1.41-.59l7.78-7.78 2.81-2.81c.8-.78.8-2.07 0-2.86zM5.41 20L4 18.59l7.72-7.72 1.47 1.35L5.41 20z\"/>\n",
              "  </svg>\n",
              "      </button>\n",
              "      \n",
              "  <style>\n",
              "    .colab-df-container {\n",
              "      display:flex;\n",
              "      flex-wrap:wrap;\n",
              "      gap: 12px;\n",
              "    }\n",
              "\n",
              "    .colab-df-convert {\n",
              "      background-color: #E8F0FE;\n",
              "      border: none;\n",
              "      border-radius: 50%;\n",
              "      cursor: pointer;\n",
              "      display: none;\n",
              "      fill: #1967D2;\n",
              "      height: 32px;\n",
              "      padding: 0 0 0 0;\n",
              "      width: 32px;\n",
              "    }\n",
              "\n",
              "    .colab-df-convert:hover {\n",
              "      background-color: #E2EBFA;\n",
              "      box-shadow: 0px 1px 2px rgba(60, 64, 67, 0.3), 0px 1px 3px 1px rgba(60, 64, 67, 0.15);\n",
              "      fill: #174EA6;\n",
              "    }\n",
              "\n",
              "    [theme=dark] .colab-df-convert {\n",
              "      background-color: #3B4455;\n",
              "      fill: #D2E3FC;\n",
              "    }\n",
              "\n",
              "    [theme=dark] .colab-df-convert:hover {\n",
              "      background-color: #434B5C;\n",
              "      box-shadow: 0px 1px 3px 1px rgba(0, 0, 0, 0.15);\n",
              "      filter: drop-shadow(0px 1px 2px rgba(0, 0, 0, 0.3));\n",
              "      fill: #FFFFFF;\n",
              "    }\n",
              "  </style>\n",
              "\n",
              "      <script>\n",
              "        const buttonEl =\n",
              "          document.querySelector('#df-e2ee4204-0c27-491c-95ea-5795d317dd89 button.colab-df-convert');\n",
              "        buttonEl.style.display =\n",
              "          google.colab.kernel.accessAllowed ? 'block' : 'none';\n",
              "\n",
              "        async function convertToInteractive(key) {\n",
              "          const element = document.querySelector('#df-e2ee4204-0c27-491c-95ea-5795d317dd89');\n",
              "          const dataTable =\n",
              "            await google.colab.kernel.invokeFunction('convertToInteractive',\n",
              "                                                     [key], {});\n",
              "          if (!dataTable) return;\n",
              "\n",
              "          const docLinkHtml = 'Like what you see? Visit the ' +\n",
              "            '<a target=\"_blank\" href=https://colab.research.google.com/notebooks/data_table.ipynb>data table notebook</a>'\n",
              "            + ' to learn more about interactive tables.';\n",
              "          element.innerHTML = '';\n",
              "          dataTable['output_type'] = 'display_data';\n",
              "          await google.colab.output.renderOutput(dataTable, element);\n",
              "          const docLink = document.createElement('div');\n",
              "          docLink.innerHTML = docLinkHtml;\n",
              "          element.appendChild(docLink);\n",
              "        }\n",
              "      </script>\n",
              "    </div>\n",
              "  </div>\n",
              "  "
            ],
            "text/plain": [
              "                  High         Low        Open       Close    Volume  \\\n",
              "Date                                                                   \n",
              "2021-01-04  744.489990  717.190002  719.460022  729.770020  48638200   \n",
              "2021-01-05  740.840027  719.200012  723.659973  735.109985  32245200   \n",
              "2021-01-06  774.000000  749.099976  758.489990  755.979980  44700000   \n",
              "2021-01-07  816.989990  775.200012  777.630005  816.039978  51498900   \n",
              "2021-01-08  884.489990  838.390015  856.000000  880.020020  75055500   \n",
              "2021-01-11  854.429993  803.619995  849.400024  811.190002  59301600   \n",
              "2021-01-12  868.000000  827.340027  831.000000  849.440002  46270700   \n",
              "2021-01-13  860.469971  832.000000  852.760010  854.409973  33312500   \n",
              "2021-01-14  863.000000  838.750000  843.390015  845.000000  31266300   \n",
              "2021-01-15  859.900024  819.099976  852.000000  826.159973  38777600   \n",
              "2021-01-19  850.000000  833.000000  837.799988  844.549988  25367000   \n",
              "2021-01-20  859.500000  837.280029  858.739990  850.450012  25665900   \n",
              "2021-01-21  855.719971  841.419983  855.000000  844.989990  20521100   \n",
              "2021-01-22  848.000000  828.619995  834.309998  846.640015  20066500   \n",
              "2021-01-25  900.400024  838.820007  855.000000  880.799988  41173400   \n",
              "2021-01-26  895.900024  871.599976  891.380005  883.090027  23131600   \n",
              "2021-01-27  891.500000  858.659973  870.349976  864.159973  27334000   \n",
              "2021-01-28  848.000000  801.000000  820.000000  835.429993  26378000   \n",
              "2021-01-29  842.409973  780.099976  830.000000  793.530029  34990800   \n",
              "2021-02-01  842.000000  795.559998  814.289978  839.809998  25391400   \n",
              "\n",
              "             Adj Close  \n",
              "Date                    \n",
              "2021-01-04  729.770020  \n",
              "2021-01-05  735.109985  \n",
              "2021-01-06  755.979980  \n",
              "2021-01-07  816.039978  \n",
              "2021-01-08  880.020020  \n",
              "2021-01-11  811.190002  \n",
              "2021-01-12  849.440002  \n",
              "2021-01-13  854.409973  \n",
              "2021-01-14  845.000000  \n",
              "2021-01-15  826.159973  \n",
              "2021-01-19  844.549988  \n",
              "2021-01-20  850.450012  \n",
              "2021-01-21  844.989990  \n",
              "2021-01-22  846.640015  \n",
              "2021-01-25  880.799988  \n",
              "2021-01-26  883.090027  \n",
              "2021-01-27  864.159973  \n",
              "2021-01-28  835.429993  \n",
              "2021-01-29  793.530029  \n",
              "2021-02-01  839.809998  "
            ]
          },
          "metadata": {},
          "execution_count": 40
        }
      ],
      "source": [
        "tesla_data.head(20)"
      ]
    },
    {
      "cell_type": "markdown",
      "metadata": {
        "id": "AKJq9ZEcPlZK"
      },
      "source": [
        "To obtain an initial understanding of the date retrieved, let us have a look at some basic data statistics:"
      ]
    },
    {
      "cell_type": "code",
      "execution_count": 41,
      "metadata": {
        "id": "XCDlCGuNPlZK",
        "outputId": "c2a9caa0-b05d-410b-a29c-c9a86721d63e",
        "colab": {
          "base_uri": "https://localhost:8080/",
          "height": 0
        }
      },
      "outputs": [
        {
          "output_type": "execute_result",
          "data": {
            "text/html": [
              "\n",
              "  <div id=\"df-965eca06-9df1-4d96-8187-8a6d37d1a1f7\">\n",
              "    <div class=\"colab-df-container\">\n",
              "      <div>\n",
              "<style scoped>\n",
              "    .dataframe tbody tr th:only-of-type {\n",
              "        vertical-align: middle;\n",
              "    }\n",
              "\n",
              "    .dataframe tbody tr th {\n",
              "        vertical-align: top;\n",
              "    }\n",
              "\n",
              "    .dataframe thead th {\n",
              "        text-align: right;\n",
              "    }\n",
              "</style>\n",
              "<table border=\"1\" class=\"dataframe\">\n",
              "  <thead>\n",
              "    <tr style=\"text-align: right;\">\n",
              "      <th></th>\n",
              "      <th>High</th>\n",
              "      <th>Low</th>\n",
              "      <th>Open</th>\n",
              "      <th>Close</th>\n",
              "      <th>Volume</th>\n",
              "      <th>Adj Close</th>\n",
              "    </tr>\n",
              "  </thead>\n",
              "  <tbody>\n",
              "    <tr>\n",
              "      <th>count</th>\n",
              "      <td>252.000000</td>\n",
              "      <td>252.000000</td>\n",
              "      <td>252.000000</td>\n",
              "      <td>252.000000</td>\n",
              "      <td>2.520000e+02</td>\n",
              "      <td>252.000000</td>\n",
              "    </tr>\n",
              "    <tr>\n",
              "      <th>mean</th>\n",
              "      <td>795.731823</td>\n",
              "      <td>762.708136</td>\n",
              "      <td>779.839286</td>\n",
              "      <td>779.994482</td>\n",
              "      <td>2.738758e+07</td>\n",
              "      <td>779.994482</td>\n",
              "    </tr>\n",
              "    <tr>\n",
              "      <th>std</th>\n",
              "      <td>165.655414</td>\n",
              "      <td>155.474503</td>\n",
              "      <td>160.598181</td>\n",
              "      <td>161.217866</td>\n",
              "      <td>1.211822e+07</td>\n",
              "      <td>161.217866</td>\n",
              "    </tr>\n",
              "    <tr>\n",
              "      <th>min</th>\n",
              "      <td>566.210022</td>\n",
              "      <td>539.489990</td>\n",
              "      <td>552.549988</td>\n",
              "      <td>563.000000</td>\n",
              "      <td>9.800600e+06</td>\n",
              "      <td>563.000000</td>\n",
              "    </tr>\n",
              "    <tr>\n",
              "      <th>25%</th>\n",
              "      <td>683.922501</td>\n",
              "      <td>651.927505</td>\n",
              "      <td>669.937500</td>\n",
              "      <td>668.027496</td>\n",
              "      <td>1.882452e+07</td>\n",
              "      <td>668.027496</td>\n",
              "    </tr>\n",
              "    <tr>\n",
              "      <th>50%</th>\n",
              "      <td>740.615021</td>\n",
              "      <td>712.069977</td>\n",
              "      <td>721.729980</td>\n",
              "      <td>729.970001</td>\n",
              "      <td>2.478520e+07</td>\n",
              "      <td>729.970001</td>\n",
              "    </tr>\n",
              "    <tr>\n",
              "      <th>75%</th>\n",
              "      <td>861.102478</td>\n",
              "      <td>838.480011</td>\n",
              "      <td>852.190002</td>\n",
              "      <td>850.104996</td>\n",
              "      <td>3.257585e+07</td>\n",
              "      <td>850.104996</td>\n",
              "    </tr>\n",
              "    <tr>\n",
              "      <th>max</th>\n",
              "      <td>1243.489990</td>\n",
              "      <td>1217.000000</td>\n",
              "      <td>1234.410034</td>\n",
              "      <td>1229.910034</td>\n",
              "      <td>8.939650e+07</td>\n",
              "      <td>1229.910034</td>\n",
              "    </tr>\n",
              "  </tbody>\n",
              "</table>\n",
              "</div>\n",
              "      <button class=\"colab-df-convert\" onclick=\"convertToInteractive('df-965eca06-9df1-4d96-8187-8a6d37d1a1f7')\"\n",
              "              title=\"Convert this dataframe to an interactive table.\"\n",
              "              style=\"display:none;\">\n",
              "        \n",
              "  <svg xmlns=\"http://www.w3.org/2000/svg\" height=\"24px\"viewBox=\"0 0 24 24\"\n",
              "       width=\"24px\">\n",
              "    <path d=\"M0 0h24v24H0V0z\" fill=\"none\"/>\n",
              "    <path d=\"M18.56 5.44l.94 2.06.94-2.06 2.06-.94-2.06-.94-.94-2.06-.94 2.06-2.06.94zm-11 1L8.5 8.5l.94-2.06 2.06-.94-2.06-.94L8.5 2.5l-.94 2.06-2.06.94zm10 10l.94 2.06.94-2.06 2.06-.94-2.06-.94-.94-2.06-.94 2.06-2.06.94z\"/><path d=\"M17.41 7.96l-1.37-1.37c-.4-.4-.92-.59-1.43-.59-.52 0-1.04.2-1.43.59L10.3 9.45l-7.72 7.72c-.78.78-.78 2.05 0 2.83L4 21.41c.39.39.9.59 1.41.59.51 0 1.02-.2 1.41-.59l7.78-7.78 2.81-2.81c.8-.78.8-2.07 0-2.86zM5.41 20L4 18.59l7.72-7.72 1.47 1.35L5.41 20z\"/>\n",
              "  </svg>\n",
              "      </button>\n",
              "      \n",
              "  <style>\n",
              "    .colab-df-container {\n",
              "      display:flex;\n",
              "      flex-wrap:wrap;\n",
              "      gap: 12px;\n",
              "    }\n",
              "\n",
              "    .colab-df-convert {\n",
              "      background-color: #E8F0FE;\n",
              "      border: none;\n",
              "      border-radius: 50%;\n",
              "      cursor: pointer;\n",
              "      display: none;\n",
              "      fill: #1967D2;\n",
              "      height: 32px;\n",
              "      padding: 0 0 0 0;\n",
              "      width: 32px;\n",
              "    }\n",
              "\n",
              "    .colab-df-convert:hover {\n",
              "      background-color: #E2EBFA;\n",
              "      box-shadow: 0px 1px 2px rgba(60, 64, 67, 0.3), 0px 1px 3px 1px rgba(60, 64, 67, 0.15);\n",
              "      fill: #174EA6;\n",
              "    }\n",
              "\n",
              "    [theme=dark] .colab-df-convert {\n",
              "      background-color: #3B4455;\n",
              "      fill: #D2E3FC;\n",
              "    }\n",
              "\n",
              "    [theme=dark] .colab-df-convert:hover {\n",
              "      background-color: #434B5C;\n",
              "      box-shadow: 0px 1px 3px 1px rgba(0, 0, 0, 0.15);\n",
              "      filter: drop-shadow(0px 1px 2px rgba(0, 0, 0, 0.3));\n",
              "      fill: #FFFFFF;\n",
              "    }\n",
              "  </style>\n",
              "\n",
              "      <script>\n",
              "        const buttonEl =\n",
              "          document.querySelector('#df-965eca06-9df1-4d96-8187-8a6d37d1a1f7 button.colab-df-convert');\n",
              "        buttonEl.style.display =\n",
              "          google.colab.kernel.accessAllowed ? 'block' : 'none';\n",
              "\n",
              "        async function convertToInteractive(key) {\n",
              "          const element = document.querySelector('#df-965eca06-9df1-4d96-8187-8a6d37d1a1f7');\n",
              "          const dataTable =\n",
              "            await google.colab.kernel.invokeFunction('convertToInteractive',\n",
              "                                                     [key], {});\n",
              "          if (!dataTable) return;\n",
              "\n",
              "          const docLinkHtml = 'Like what you see? Visit the ' +\n",
              "            '<a target=\"_blank\" href=https://colab.research.google.com/notebooks/data_table.ipynb>data table notebook</a>'\n",
              "            + ' to learn more about interactive tables.';\n",
              "          element.innerHTML = '';\n",
              "          dataTable['output_type'] = 'display_data';\n",
              "          await google.colab.output.renderOutput(dataTable, element);\n",
              "          const docLink = document.createElement('div');\n",
              "          docLink.innerHTML = docLinkHtml;\n",
              "          element.appendChild(docLink);\n",
              "        }\n",
              "      </script>\n",
              "    </div>\n",
              "  </div>\n",
              "  "
            ],
            "text/plain": [
              "              High          Low         Open        Close        Volume  \\\n",
              "count   252.000000   252.000000   252.000000   252.000000  2.520000e+02   \n",
              "mean    795.731823   762.708136   779.839286   779.994482  2.738758e+07   \n",
              "std     165.655414   155.474503   160.598181   161.217866  1.211822e+07   \n",
              "min     566.210022   539.489990   552.549988   563.000000  9.800600e+06   \n",
              "25%     683.922501   651.927505   669.937500   668.027496  1.882452e+07   \n",
              "50%     740.615021   712.069977   721.729980   729.970001  2.478520e+07   \n",
              "75%     861.102478   838.480011   852.190002   850.104996  3.257585e+07   \n",
              "max    1243.489990  1217.000000  1234.410034  1229.910034  8.939650e+07   \n",
              "\n",
              "         Adj Close  \n",
              "count   252.000000  \n",
              "mean    779.994482  \n",
              "std     161.217866  \n",
              "min     563.000000  \n",
              "25%     668.027496  \n",
              "50%     729.970001  \n",
              "75%     850.104996  \n",
              "max    1229.910034  "
            ]
          },
          "metadata": {},
          "execution_count": 41
        }
      ],
      "source": [
        "tesla_data.describe()"
      ]
    },
    {
      "cell_type": "markdown",
      "metadata": {
        "id": "n0ttwSFuPlZL"
      },
      "source": [
        "Ok, at first glance, the data looks fine. Let's, therefore, save it to your local directory using the `to_excel()` function of the `Pandas` library:"
      ]
    },
    {
      "cell_type": "code",
      "execution_count": 42,
      "metadata": {
        "id": "IHhJKQzjPlZL"
      },
      "outputs": [],
      "source": [
        "tesla_data.to_excel('sample_tesla_data_daily.xlsx', sheet_name='TSLA_data', encoding='utf-8')"
      ]
    },
    {
      "cell_type": "markdown",
      "metadata": {
        "id": "hRkT35-lPlZL"
      },
      "source": [
        "Let's continue with the **Alphabet Inc.** data prepared. To get a specific column of a `Pandas` dataframe, we can column-slice it to get the daily adjusted closing price data like this:"
      ]
    },
    {
      "cell_type": "code",
      "execution_count": 43,
      "metadata": {
        "id": "6LwJzt6ePlZL"
      },
      "outputs": [],
      "source": [
        "tesla_closing = tesla_data['Adj Close']"
      ]
    },
    {
      "cell_type": "markdown",
      "metadata": {
        "id": "5H__yz28PlZL"
      },
      "source": [
        "Let's inspect the **top 5** rows of the sliced data:"
      ]
    },
    {
      "cell_type": "code",
      "execution_count": 44,
      "metadata": {
        "id": "hXxa10YMPlZL",
        "outputId": "70c091ac-d2f6-45e8-f156-a0aa3902d475",
        "colab": {
          "base_uri": "https://localhost:8080/"
        }
      },
      "outputs": [
        {
          "output_type": "execute_result",
          "data": {
            "text/plain": [
              "Date\n",
              "2021-01-04    729.770020\n",
              "2021-01-05    735.109985\n",
              "2021-01-06    755.979980\n",
              "2021-01-07    816.039978\n",
              "2021-01-08    880.020020\n",
              "Name: Adj Close, dtype: float64"
            ]
          },
          "metadata": {},
          "execution_count": 44
        }
      ],
      "source": [
        "tesla_closing.head(5)"
      ]
    },
    {
      "cell_type": "markdown",
      "metadata": {
        "id": "LMBrYHcIPlZL"
      },
      "source": [
        "Ok great, we got two columns (1) the index 'Date' of the DataFrame as well as (2) the data column 'Adj. Close' price that we asked for. "
      ]
    },
    {
      "cell_type": "markdown",
      "metadata": {
        "id": "Y0VIoYvOPlZL"
      },
      "source": [
        "Let's now plot the date vs. the adjusted closing prices. But before doing so, we need to be able to disentangle the index from the data. This can be accomplished by the `.index` function that will return the index of a given DataFrame as well as the `.values` function that will return the actual data (excl. the index) of a given DataFrame. We will use both commands to specify the X and Y coordinates of the plot:"
      ]
    },
    {
      "cell_type": "code",
      "execution_count": 45,
      "metadata": {
        "id": "-k4RQlVwPlZL",
        "outputId": "76e5406c-b0ec-4941-8213-fe58c6fcdf1d",
        "colab": {
          "base_uri": "https://localhost:8080/",
          "height": 0
        }
      },
      "outputs": [
        {
          "output_type": "display_data",
          "data": {
            "image/png": "[encoded data removed]",
            "text/plain": [
              "<Figure size 432x288 with 1 Axes>"
            ]
          },
          "metadata": {
            "needs_background": "light"
          }
        }
      ],
      "source": [
        "# plot both sample results\n",
        "plt.plot(tesla_closing.index, tesla_closing.values)\n",
        "\n",
        "# tesla_closing.plot()\n",
        "\n",
        "# add x-axis and y-axis label \n",
        "plt.xlabel('Time')\n",
        "plt.ylabel('Closing Price')\n",
        "\n",
        "# add plot title\n",
        "plt.title('Tesla Inc. Daily Adjusted Closing Price');"
      ]
    },
    {
      "cell_type": "code",
      "execution_count": 46,
      "metadata": {
        "id": "KJ6PIL_8PlZM",
        "outputId": "37706951-6c41-4a49-aba1-fffe304bde60",
        "colab": {
          "base_uri": "https://localhost:8080/"
        }
      },
      "outputs": [
        {
          "output_type": "execute_result",
          "data": {
            "text/plain": [
              "779.9944821312314"
            ]
          },
          "metadata": {},
          "execution_count": 46
        }
      ],
      "source": [
        "np.mean(tesla_closing.values)"
      ]
    },
    {
      "cell_type": "code",
      "execution_count": 47,
      "metadata": {
        "id": "l4FOAW8YPlZM",
        "outputId": "63b9a872-187a-4252-d3ea-ee3da7f670cc",
        "colab": {
          "base_uri": "https://localhost:8080/"
        }
      },
      "outputs": [
        {
          "output_type": "execute_result",
          "data": {
            "text/plain": [
              "160.89767145789995"
            ]
          },
          "metadata": {},
          "execution_count": 47
        }
      ],
      "source": [
        "np.std(tesla_closing.values)"
      ]
    },
    {
      "cell_type": "markdown",
      "metadata": {
        "id": "YsGVMuQsPlZM"
      },
      "source": [
        "### 7. Obtaining Returns from Prices"
      ]
    },
    {
      "cell_type": "markdown",
      "metadata": {
        "id": "uDZojF4APlZP"
      },
      "source": [
        "When analyzing stock market data, we are often also interested in the return $R_t$ of a financial instrument over a certain time frame:"
      ]
    },
    {
      "cell_type": "markdown",
      "metadata": {
        "id": "Or8bUHG2PlZP"
      },
      "source": [
        "$$R_t=\\frac{V_{f}-V_{i}}{V_{i}}$$"
      ]
    },
    {
      "cell_type": "markdown",
      "metadata": {
        "id": "GsV-Nb7NPlZP"
      },
      "source": [
        "where:\n",
        "\n",
        "- $V_{f}$ denotes the financial instruments final value, including dividends and interest\n",
        "- $V_{i}$ denotes the financial instruments initial value\n",
        "\n",
        "The `Pandas` data science library provides us with a variety of functions that come quite \"handy\" when analyzing such data. To determine the daily return $r_t$ we may, for example, utilize Pandas `pct_change` function:"
      ]
    },
    {
      "cell_type": "code",
      "execution_count": 48,
      "metadata": {
        "id": "KpSgTIOkPlZP"
      },
      "outputs": [],
      "source": [
        "tesla_returns = tesla_closing.pct_change()"
      ]
    },
    {
      "cell_type": "markdown",
      "metadata": {
        "id": "8jvvDvQjPlZP"
      },
      "source": [
        "Let's inspect the calculated returns: "
      ]
    },
    {
      "cell_type": "code",
      "execution_count": 49,
      "metadata": {
        "id": "ZRRAO4ykPlZQ",
        "outputId": "10a9642f-40a8-40b8-eb6b-9d6724936d3c",
        "colab": {
          "base_uri": "https://localhost:8080/"
        }
      },
      "outputs": [
        {
          "output_type": "execute_result",
          "data": {
            "text/plain": [
              "Date\n",
              "2021-01-04         NaN\n",
              "2021-01-05    0.007317\n",
              "2021-01-06    0.028390\n",
              "2021-01-07    0.079447\n",
              "2021-01-08    0.078403\n",
              "Name: Adj Close, dtype: float64"
            ]
          },
          "metadata": {},
          "execution_count": 49
        }
      ],
      "source": [
        "tesla_returns.head(5)"
      ]
    },
    {
      "cell_type": "markdown",
      "metadata": {
        "id": "mKS8-xUlPlZQ"
      },
      "source": [
        "Notice, how we drop the first element after doing this, as it will be `NaN`."
      ]
    },
    {
      "cell_type": "code",
      "execution_count": 50,
      "metadata": {
        "id": "_kWgYHkzPlZQ"
      },
      "outputs": [],
      "source": [
        "tesla_returns = tesla_returns[1:]"
      ]
    },
    {
      "cell_type": "markdown",
      "metadata": {
        "id": "wIZYjXncPlZQ"
      },
      "source": [
        "And inspect the returns data again:"
      ]
    },
    {
      "cell_type": "code",
      "execution_count": 51,
      "metadata": {
        "id": "kRZwR6WRPlZQ",
        "outputId": "9696223f-903b-4585-a576-66d924cbbab1",
        "colab": {
          "base_uri": "https://localhost:8080/"
        }
      },
      "outputs": [
        {
          "output_type": "execute_result",
          "data": {
            "text/plain": [
              "Date\n",
              "2021-01-05    0.007317\n",
              "2021-01-06    0.028390\n",
              "2021-01-07    0.079447\n",
              "2021-01-08    0.078403\n",
              "2021-01-11   -0.078214\n",
              "Name: Adj Close, dtype: float64"
            ]
          },
          "metadata": {},
          "execution_count": 51
        }
      ],
      "source": [
        "tesla_returns.head(5)"
      ]
    },
    {
      "cell_type": "markdown",
      "metadata": {
        "id": "5jSgoE28PlZQ"
      },
      "source": [
        "Let's now plot the distribution of daily returns as a histogram:"
      ]
    },
    {
      "cell_type": "code",
      "execution_count": 52,
      "metadata": {
        "id": "ewVR-WDTPlZQ",
        "outputId": "34d58f3b-a688-401b-df9b-6b6a034cca40",
        "colab": {
          "base_uri": "https://localhost:8080/",
          "height": 0
        }
      },
      "outputs": [
        {
          "output_type": "display_data",
          "data": {
            "image/png": "[encoded data removed]",
            "text/plain": [
              "<Figure size 432x288 with 1 Axes>"
            ]
          },
          "metadata": {
            "needs_background": "light"
          }
        }
      ],
      "source": [
        "# plot histogram of returns\n",
        "plt.hist(tesla_returns, bins=20)\n",
        "\n",
        "# add x-axis and y-axis label \n",
        "plt.xlabel('Return')\n",
        "plt.ylabel('Frequency')\n",
        "\n",
        "# add plot title\n",
        "plt.title('Alphabet Inc. Adjusted Daily Returns');"
      ]
    },
    {
      "cell_type": "markdown",
      "metadata": {
        "id": "mRNxR1_YPlZQ"
      },
      "source": [
        "Let's again get statistics on the real daily return data:"
      ]
    },
    {
      "cell_type": "code",
      "execution_count": 53,
      "metadata": {
        "id": "kMdA3ny5PlZR",
        "outputId": "b0dd2726-a8e2-4199-ced2-a4f0748380c7",
        "colab": {
          "base_uri": "https://localhost:8080/"
        }
      },
      "outputs": [
        {
          "output_type": "execute_result",
          "data": {
            "text/plain": [
              "0.002061082672094034"
            ]
          },
          "metadata": {},
          "execution_count": 53
        }
      ],
      "source": [
        "np.mean(tesla_returns)"
      ]
    },
    {
      "cell_type": "code",
      "execution_count": 54,
      "metadata": {
        "id": "6-VFtzj0PlZR",
        "outputId": "b2c99802-2b46-4336-e644-5d66eaea12ac",
        "colab": {
          "base_uri": "https://localhost:8080/"
        }
      },
      "outputs": [
        {
          "output_type": "execute_result",
          "data": {
            "text/plain": [
              "0.03443489688620108"
            ]
          },
          "metadata": {},
          "execution_count": 54
        }
      ],
      "source": [
        "np.std(tesla_returns)"
      ]
    },
    {
      "cell_type": "markdown",
      "metadata": {
        "id": "7IWpxOG-PlZR"
      },
      "source": [
        "Let's generate data out of a normal distribution using the statistics we estimated from the daily returns of the Tesla stock. We'll see that we have good reason to suspect the Tesla returns may not be normally distributed, as the resulting normal distribution looks far different."
      ]
    },
    {
      "cell_type": "code",
      "execution_count": 55,
      "metadata": {
        "id": "n2GS8KOpPlZR",
        "outputId": "fc4dbcdd-abf8-4dcf-808c-e00d883285a0",
        "colab": {
          "base_uri": "https://localhost:8080/",
          "height": 0
        }
      },
      "outputs": [
        {
          "output_type": "display_data",
          "data": {
            "image/png": "[encoded data removed]",
            "text/plain": [
              "<Figure size 432x288 with 1 Axes>"
            ]
          },
          "metadata": {
            "needs_background": "light"
          }
        }
      ],
      "source": [
        "# plot histogram of randomly sampled returns\n",
        "plt.hist(np.random.normal(np.mean(tesla_returns), np.std(tesla_returns), 10000), bins=20)\n",
        "\n",
        "# add x-axis and y-axis label \n",
        "plt.xlabel('Return')\n",
        "plt.ylabel('Frequency')\n",
        "\n",
        "# add plot title\n",
        "plt.title('Tesla Inc. Adjusted Daily Returns (Normal)');"
      ]
    },
    {
      "cell_type": "markdown",
      "metadata": {
        "id": "oDPxDF2XPlZR"
      },
      "source": [
        "### 8. Generating a Moving Average "
      ]
    },
    {
      "cell_type": "markdown",
      "metadata": {
        "id": "YGqCST-hPlZR"
      },
      "source": [
        "When analyzing stock market data, we are often also interested in calculating so-called \"rolling statistics\", e.g., a 90- or 200-day moving average. Again the `Pandas` library is offering some great functions that allow us to generate such rolling statistics. Here's an example. Notice how there's no moving average for the first 30 days, as we don't have 90 days before we can determine the first value:"
      ]
    },
    {
      "cell_type": "code",
      "execution_count": 56,
      "metadata": {
        "id": "rc2dlWYbPlZR"
      },
      "outputs": [],
      "source": [
        "# determine the rolling average of the last 90 days\n",
        "tesla_moving_average = tesla_closing.rolling(window=90, center=False).mean()"
      ]
    },
    {
      "cell_type": "markdown",
      "metadata": {
        "id": "7z7geJtNPlZR"
      },
      "source": [
        "Let's plot the obtained moving averages."
      ]
    },
    {
      "cell_type": "code",
      "execution_count": 57,
      "metadata": {
        "id": "FU2l02bKPlZS",
        "outputId": "2d431a41-c63d-4ea6-a128-1d2524bf6ae3",
        "colab": {
          "base_uri": "https://localhost:8080/",
          "height": 295
        }
      },
      "outputs": [
        {
          "output_type": "display_data",
          "data": {
            "image/png": "[encoded data removed]",
            "text/plain": [
              "<Figure size 432x288 with 1 Axes>"
            ]
          },
          "metadata": {
            "needs_background": "light"
          }
        }
      ],
      "source": [
        "# plot quarterly returns\n",
        "plt.plot(tesla_closing.index, tesla_closing.values)\n",
        "\n",
        "# plot moving averages quarterly returns\n",
        "plt.plot(tesla_moving_average.index, tesla_moving_average.values)\n",
        "\n",
        "# add x-axis and y-axis label \n",
        "plt.xlabel('Return')\n",
        "plt.ylabel('Price')\n",
        "\n",
        "# add plot legend\n",
        "plt.legend(['Return', '90-day MAVG']);\n",
        "\n",
        "# add plot title\n",
        "plt.title('Tesla Inc. Returns vs. Moving Average Returns');"
      ]
    },
    {
      "cell_type": "markdown",
      "metadata": {
        "id": "TN0rehoyPlZS"
      },
      "source": [
        "### Lab Assignments:"
      ]
    },
    {
      "cell_type": "markdown",
      "metadata": {
        "id": "WRuBohUTPlZS"
      },
      "source": [
        "You may want to try the following exercises after the lab:"
      ]
    },
    {
      "cell_type": "markdown",
      "metadata": {
        "id": "QYT24DUnPlZS"
      },
      "source": [
        "**1. Download data using the `Pandas` `DataReader` API, `dr.data.DataReader('TSLA', data_source='yahoo', ...)`.**\n",
        "\n",
        "> Research the `Pandas` `DataReader` API and download the daily closing prices (instead of the quarterly) of the three following stocks: Netflix, Facebook, and Microsoft. Download the daily stock closing prices starting from 2014-01-01 until today as a `Pandas` DataFrame."
      ]
    },
    {
      "cell_type": "code",
      "source": [
        "start = dt.datetime(2014,1,1)\n",
        "end = dt.datetime.now().date()"
      ],
      "metadata": {
        "id": "FxL8v2MFhxQR",
        "outputId": "5a2bc04c-d449-4a2b-dd31-3c5e6fb3e34c",
        "colab": {
          "base_uri": "https://localhost:8080/"
        }
      },
      "execution_count": 61,
      "outputs": [
        {
          "output_type": "stream",
          "name": "stdout",
          "text": [
            "2022-03-06\n"
          ]
        }
      ]
    },
    {
      "cell_type": "code",
      "execution_count": 69,
      "metadata": {
        "id": "Ji3Ee_PYPlZS",
        "outputId": "953740e9-537f-4cd9-8763-9a1174408b43",
        "colab": {
          "base_uri": "https://localhost:8080/",
          "height": 300
        }
      },
      "outputs": [
        {
          "output_type": "execute_result",
          "data": {
            "text/html": [
              "\n",
              "  <div id=\"df-bc50adda-edf3-4333-bb8a-f3cb8a4c2261\">\n",
              "    <div class=\"colab-df-container\">\n",
              "      <div>\n",
              "<style scoped>\n",
              "    .dataframe tbody tr th:only-of-type {\n",
              "        vertical-align: middle;\n",
              "    }\n",
              "\n",
              "    .dataframe tbody tr th {\n",
              "        vertical-align: top;\n",
              "    }\n",
              "\n",
              "    .dataframe thead th {\n",
              "        text-align: right;\n",
              "    }\n",
              "</style>\n",
              "<table border=\"1\" class=\"dataframe\">\n",
              "  <thead>\n",
              "    <tr style=\"text-align: right;\">\n",
              "      <th></th>\n",
              "      <th>High</th>\n",
              "      <th>Low</th>\n",
              "      <th>Open</th>\n",
              "      <th>Close</th>\n",
              "      <th>Volume</th>\n",
              "      <th>Adj Close</th>\n",
              "    </tr>\n",
              "  </thead>\n",
              "  <tbody>\n",
              "    <tr>\n",
              "      <th>count</th>\n",
              "      <td>2058.000000</td>\n",
              "      <td>2058.000000</td>\n",
              "      <td>2058.000000</td>\n",
              "      <td>2058.000000</td>\n",
              "      <td>2.058000e+03</td>\n",
              "      <td>2058.000000</td>\n",
              "    </tr>\n",
              "    <tr>\n",
              "      <th>mean</th>\n",
              "      <td>266.504726</td>\n",
              "      <td>258.510026</td>\n",
              "      <td>262.635515</td>\n",
              "      <td>262.621385</td>\n",
              "      <td>1.092354e+07</td>\n",
              "      <td>262.621385</td>\n",
              "    </tr>\n",
              "    <tr>\n",
              "      <th>std</th>\n",
              "      <td>178.863591</td>\n",
              "      <td>173.788267</td>\n",
              "      <td>176.451468</td>\n",
              "      <td>176.328726</td>\n",
              "      <td>9.278537e+06</td>\n",
              "      <td>176.328726</td>\n",
              "    </tr>\n",
              "    <tr>\n",
              "      <th>min</th>\n",
              "      <td>45.842857</td>\n",
              "      <td>42.785713</td>\n",
              "      <td>44.605713</td>\n",
              "      <td>44.887142</td>\n",
              "      <td>1.144000e+06</td>\n",
              "      <td>44.887142</td>\n",
              "    </tr>\n",
              "    <tr>\n",
              "      <th>25%</th>\n",
              "      <td>99.670002</td>\n",
              "      <td>96.782499</td>\n",
              "      <td>97.877502</td>\n",
              "      <td>97.937500</td>\n",
              "      <td>5.094575e+06</td>\n",
              "      <td>97.937500</td>\n",
              "    </tr>\n",
              "    <tr>\n",
              "      <th>50%</th>\n",
              "      <td>261.809998</td>\n",
              "      <td>249.154999</td>\n",
              "      <td>254.840004</td>\n",
              "      <td>255.080002</td>\n",
              "      <td>8.262000e+06</td>\n",
              "      <td>255.080002</td>\n",
              "    </tr>\n",
              "    <tr>\n",
              "      <th>75%</th>\n",
              "      <td>384.705009</td>\n",
              "      <td>372.962494</td>\n",
              "      <td>378.642494</td>\n",
              "      <td>379.495003</td>\n",
              "      <td>1.369900e+07</td>\n",
              "      <td>379.495003</td>\n",
              "    </tr>\n",
              "    <tr>\n",
              "      <th>max</th>\n",
              "      <td>700.989990</td>\n",
              "      <td>686.090027</td>\n",
              "      <td>692.349976</td>\n",
              "      <td>691.690002</td>\n",
              "      <td>1.045009e+08</td>\n",
              "      <td>691.690002</td>\n",
              "    </tr>\n",
              "  </tbody>\n",
              "</table>\n",
              "</div>\n",
              "      <button class=\"colab-df-convert\" onclick=\"convertToInteractive('df-bc50adda-edf3-4333-bb8a-f3cb8a4c2261')\"\n",
              "              title=\"Convert this dataframe to an interactive table.\"\n",
              "              style=\"display:none;\">\n",
              "        \n",
              "  <svg xmlns=\"http://www.w3.org/2000/svg\" height=\"24px\"viewBox=\"0 0 24 24\"\n",
              "       width=\"24px\">\n",
              "    <path d=\"M0 0h24v24H0V0z\" fill=\"none\"/>\n",
              "    <path d=\"M18.56 5.44l.94 2.06.94-2.06 2.06-.94-2.06-.94-.94-2.06-.94 2.06-2.06.94zm-11 1L8.5 8.5l.94-2.06 2.06-.94-2.06-.94L8.5 2.5l-.94 2.06-2.06.94zm10 10l.94 2.06.94-2.06 2.06-.94-2.06-.94-.94-2.06-.94 2.06-2.06.94z\"/><path d=\"M17.41 7.96l-1.37-1.37c-.4-.4-.92-.59-1.43-.59-.52 0-1.04.2-1.43.59L10.3 9.45l-7.72 7.72c-.78.78-.78 2.05 0 2.83L4 21.41c.39.39.9.59 1.41.59.51 0 1.02-.2 1.41-.59l7.78-7.78 2.81-2.81c.8-.78.8-2.07 0-2.86zM5.41 20L4 18.59l7.72-7.72 1.47 1.35L5.41 20z\"/>\n",
              "  </svg>\n",
              "      </button>\n",
              "      \n",
              "  <style>\n",
              "    .colab-df-container {\n",
              "      display:flex;\n",
              "      flex-wrap:wrap;\n",
              "      gap: 12px;\n",
              "    }\n",
              "\n",
              "    .colab-df-convert {\n",
              "      background-color: #E8F0FE;\n",
              "      border: none;\n",
              "      border-radius: 50%;\n",
              "      cursor: pointer;\n",
              "      display: none;\n",
              "      fill: #1967D2;\n",
              "      height: 32px;\n",
              "      padding: 0 0 0 0;\n",
              "      width: 32px;\n",
              "    }\n",
              "\n",
              "    .colab-df-convert:hover {\n",
              "      background-color: #E2EBFA;\n",
              "      box-shadow: 0px 1px 2px rgba(60, 64, 67, 0.3), 0px 1px 3px 1px rgba(60, 64, 67, 0.15);\n",
              "      fill: #174EA6;\n",
              "    }\n",
              "\n",
              "    [theme=dark] .colab-df-convert {\n",
              "      background-color: #3B4455;\n",
              "      fill: #D2E3FC;\n",
              "    }\n",
              "\n",
              "    [theme=dark] .colab-df-convert:hover {\n",
              "      background-color: #434B5C;\n",
              "      box-shadow: 0px 1px 3px 1px rgba(0, 0, 0, 0.15);\n",
              "      filter: drop-shadow(0px 1px 2px rgba(0, 0, 0, 0.3));\n",
              "      fill: #FFFFFF;\n",
              "    }\n",
              "  </style>\n",
              "\n",
              "      <script>\n",
              "        const buttonEl =\n",
              "          document.querySelector('#df-bc50adda-edf3-4333-bb8a-f3cb8a4c2261 button.colab-df-convert');\n",
              "        buttonEl.style.display =\n",
              "          google.colab.kernel.accessAllowed ? 'block' : 'none';\n",
              "\n",
              "        async function convertToInteractive(key) {\n",
              "          const element = document.querySelector('#df-bc50adda-edf3-4333-bb8a-f3cb8a4c2261');\n",
              "          const dataTable =\n",
              "            await google.colab.kernel.invokeFunction('convertToInteractive',\n",
              "                                                     [key], {});\n",
              "          if (!dataTable) return;\n",
              "\n",
              "          const docLinkHtml = 'Like what you see? Visit the ' +\n",
              "            '<a target=\"_blank\" href=https://colab.research.google.com/notebooks/data_table.ipynb>data table notebook</a>'\n",
              "            + ' to learn more about interactive tables.';\n",
              "          element.innerHTML = '';\n",
              "          dataTable['output_type'] = 'display_data';\n",
              "          await google.colab.output.renderOutput(dataTable, element);\n",
              "          const docLink = document.createElement('div');\n",
              "          docLink.innerHTML = docLinkHtml;\n",
              "          element.appendChild(docLink);\n",
              "        }\n",
              "      </script>\n",
              "    </div>\n",
              "  </div>\n",
              "  "
            ],
            "text/plain": [
              "              High          Low         Open        Close        Volume  \\\n",
              "count  2058.000000  2058.000000  2058.000000  2058.000000  2.058000e+03   \n",
              "mean    266.504726   258.510026   262.635515   262.621385  1.092354e+07   \n",
              "std     178.863591   173.788267   176.451468   176.328726  9.278537e+06   \n",
              "min      45.842857    42.785713    44.605713    44.887142  1.144000e+06   \n",
              "25%      99.670002    96.782499    97.877502    97.937500  5.094575e+06   \n",
              "50%     261.809998   249.154999   254.840004   255.080002  8.262000e+06   \n",
              "75%     384.705009   372.962494   378.642494   379.495003  1.369900e+07   \n",
              "max     700.989990   686.090027   692.349976   691.690002  1.045009e+08   \n",
              "\n",
              "         Adj Close  \n",
              "count  2058.000000  \n",
              "mean    262.621385  \n",
              "std     176.328726  \n",
              "min      44.887142  \n",
              "25%      97.937500  \n",
              "50%     255.080002  \n",
              "75%     379.495003  \n",
              "max     691.690002  "
            ]
          },
          "metadata": {},
          "execution_count": 69
        }
      ],
      "source": [
        "nflx_data = dr.data.DataReader(name='NFLX',data_source='yahoo',start=start,end=end)\n",
        "fb_data = dr.data.DataReader(name='FB',data_source='yahoo',start=start,end=end)\n",
        "msft_data = dr.data.DataReader(name='MSFT',data_source='yahoo',start=start,end=end)\n"
      ]
    },
    {
      "cell_type": "markdown",
      "metadata": {
        "id": "Dr8qiEnAPlZS"
      },
      "source": [
        "Throughout the course, we will visualize and analyze plenty of data. The following exercises should provide you a first intuition on how this can be achieved using Python's `Pandas` and `Matplotlib` library: \n",
        "\n",
        "**2. Visualise data using the `Matplotlib` library, `plt.plot(...)` and `plt.hist(...)`.**\n",
        "\n",
        "> Visualize the downloaded data by plotting the daily adjusted closing prices of the three stocks over time (1) into a single plot for each stock as well as (2) into a single plot containing the closing prices of all three stocks combined."
      ]
    },
    {
      "cell_type": "code",
      "source": [
        "plt.plot(nflx_closing.index,nflx_closing.values)"
      ],
      "metadata": {
        "id": "KdzIu22sk9EO",
        "outputId": "3c9e8808-bdc2-474b-f670-f7ccf4723882",
        "colab": {
          "base_uri": "https://localhost:8080/",
          "height": 283
        }
      },
      "execution_count": 73,
      "outputs": [
        {
          "output_type": "execute_result",
          "data": {
            "text/plain": [
              "[<matplotlib.lines.Line2D at 0x7ffbbf536ed0>]"
            ]
          },
          "metadata": {},
          "execution_count": 73
        },
        {
          "output_type": "display_data",
          "data": {
            "image/png": "[encoded data removed]",
            "text/plain": [
              "<Figure size 432x288 with 1 Axes>"
            ]
          },
          "metadata": {
            "needs_background": "light"
          }
        }
      ]
    },
    {
      "cell_type": "code",
      "source": [
        "plt.plot(fb_closing.index,fb_closing.values)"
      ],
      "metadata": {
        "id": "4Hc8uYLBlJVl",
        "outputId": "ef601c91-452a-4ad4-a4de-3d7aa781cd1b",
        "colab": {
          "base_uri": "https://localhost:8080/",
          "height": 283
        }
      },
      "execution_count": 74,
      "outputs": [
        {
          "output_type": "execute_result",
          "data": {
            "text/plain": [
              "[<matplotlib.lines.Line2D at 0x7ffbbf4a12d0>]"
            ]
          },
          "metadata": {},
          "execution_count": 74
        },
        {
          "output_type": "display_data",
          "data": {
            "image/png": "[encoded data removed]",
            "text/plain": [
              "<Figure size 432x288 with 1 Axes>"
            ]
          },
          "metadata": {
            "needs_background": "light"
          }
        }
      ]
    },
    {
      "cell_type": "code",
      "source": [
        "plt.plot(msft_closing.index,msft_closing.values)"
      ],
      "metadata": {
        "id": "qkxLO8pAlEQf",
        "outputId": "40cf59fd-bd26-4725-e1a0-2eca968fb4a2",
        "colab": {
          "base_uri": "https://localhost:8080/",
          "height": 283
        }
      },
      "execution_count": 75,
      "outputs": [
        {
          "output_type": "execute_result",
          "data": {
            "text/plain": [
              "[<matplotlib.lines.Line2D at 0x7ffbbf48e810>]"
            ]
          },
          "metadata": {},
          "execution_count": 75
        },
        {
          "output_type": "display_data",
          "data": {
            "image/png": "[encoded data removed]",
            "text/plain": [
              "<Figure size 432x288 with 1 Axes>"
            ]
          },
          "metadata": {
            "needs_background": "light"
          }
        }
      ]
    },
    {
      "cell_type": "code",
      "execution_count": 72,
      "metadata": {
        "id": "O7AZzfqYPlZS",
        "outputId": "8385f47c-0617-485a-d2f6-5b53254a0e1a",
        "colab": {
          "base_uri": "https://localhost:8080/",
          "height": 283
        }
      },
      "outputs": [
        {
          "output_type": "execute_result",
          "data": {
            "text/plain": [
              "[<matplotlib.lines.Line2D at 0x7ffbbf56a6d0>]"
            ]
          },
          "metadata": {},
          "execution_count": 72
        },
        {
          "output_type": "display_data",
          "data": {
            "image/png": "[encoded data removed]",
            "text/plain": [
              "<Figure size 432x288 with 1 Axes>"
            ]
          },
          "metadata": {
            "needs_background": "light"
          }
        }
      ],
      "source": [
        "plt.plot(nflx_closing.index,nflx_closing.values)\n",
        "plt.plot(fb_closing.index,fb_closing.values)\n",
        "plt.plot(msft_closing.index,msft_closing.values)"
      ]
    },
    {
      "cell_type": "code",
      "source": [
        "nflx_closing = nflx_data['Adj Close']\n",
        "fb_closing = fb_data['Adj Close']\n",
        "msft_closing = msft_data['Adj Close']"
      ],
      "metadata": {
        "id": "RbudkFe1kXSZ"
      },
      "execution_count": 70,
      "outputs": []
    },
    {
      "cell_type": "markdown",
      "metadata": {
        "id": "MDQX71h6PlZS"
      },
      "source": [
        "**3. Save data using the `Pandas` library.**\n",
        "\n",
        "> Research the `Panda's` data science library on how to save a `Pandas` `DataFrame` to a local directory. Save the raw daily closing prices and corresponding date of all three stocks in a comma-separated value (CSV) format to your local directory. Save the CSV file using the semicolon `';'` separator and encode it as `'utf-8'`."
      ]
    },
    {
      "cell_type": "markdown",
      "metadata": {
        "id": "o9o-4ygfPlZT"
      },
      "source": [
        "**4. Analyze data using the `Pandas` library, `data.rolling(..., window=...)`.**\n",
        "\n",
        "> For each stock, calculate the rolling moving averages of the daily closing prices using a time window of 30 and 90 days. For each stock, plot the daily closing price as well as the 30 and 90 days moving average into a single plot."
      ]
    },
    {
      "cell_type": "code",
      "execution_count": 77,
      "metadata": {
        "id": "5PYUUiBgPlZT"
      },
      "outputs": [],
      "source": [
        "nflx_moving_30 = nflx_closing.rolling(window=30).mean()\n",
        "nflx_moving_90 = nflx_closing.rolling(window=90).mean()"
      ]
    },
    {
      "cell_type": "code",
      "source": [
        "plt.plot(nflx_moving_30.index,nflx_moving_30.values)\n",
        "plt.plot(nflx_moving_90.index,nflx_moving_90.values)\n",
        "plt.plot(nflx_closing.index,nflx_closing.values)"
      ],
      "metadata": {
        "id": "_VTzqegqnpoc",
        "outputId": "564700eb-043d-4bc6-802a-42aacad4b51e",
        "colab": {
          "base_uri": "https://localhost:8080/",
          "height": 283
        }
      },
      "execution_count": 80,
      "outputs": [
        {
          "output_type": "execute_result",
          "data": {
            "text/plain": [
              "[<matplotlib.lines.Line2D at 0x7ffbbf2d9bd0>]"
            ]
          },
          "metadata": {},
          "execution_count": 80
        },
        {
          "output_type": "display_data",
          "data": {
            "image/png": "[encoded data removed]",
            "text/plain": [
              "<Figure size 432x288 with 1 Axes>"
            ]
          },
          "metadata": {
            "needs_background": "light"
          }
        }
      ]
    },
    {
      "cell_type": "markdown",
      "source": [
        "The same for the other two"
      ],
      "metadata": {
        "id": "bA_AQDGsn_fT"
      }
    },
    {
      "cell_type": "markdown",
      "metadata": {
        "id": "boetfpaDPlZT"
      },
      "source": [
        "### Lab Summary:"
      ]
    },
    {
      "cell_type": "markdown",
      "metadata": {
        "id": "kK3EYqR3PlZT"
      },
      "source": [
        "In this initial lab, a step by step introduction into some basic concepts of analyzing financial data using Jupyter notebooks are presented. The code and exercises presented in this lab may serve you as a starting point for more complex and tailored analytics. "
      ]
    },
    {
      "cell_type": "markdown",
      "metadata": {
        "id": "elAYgxUpPlZT"
      },
      "source": [
        "You may want to execute the content of your lab outside of the Jupyter notebook environment, e.g., on a compute node or a server. The cell below converts the lab notebook into a standalone and executable python script."
      ]
    },
    {
      "cell_type": "code",
      "execution_count": null,
      "metadata": {
        "id": "4n90_ER3PlZT"
      },
      "outputs": [],
      "source": [
        "!jupyter nbconvert --to script lab_101_notebook.ipynb"
      ]
    }
  ],
  "metadata": {
    "kernelspec": {
      "display_name": "Python 3",
      "language": "python",
      "name": "python3"
    },
    "language_info": {
      "codemirror_mode": {
        "name": "ipython",
        "version": 3
      },
      "file_extension": ".py",
      "mimetype": "text/x-python",
      "name": "python",
      "nbconvert_exporter": "python",
      "pygments_lexer": "ipython3",
      "version": "3.8.5"
    },
    "toc": {
      "base_numbering": 1,
      "nav_menu": {},
      "number_sections": false,
      "sideBar": true,
      "skip_h1_title": false,
      "title_cell": "Table of Contents",
      "title_sidebar": "Contents",
      "toc_cell": false,
      "toc_position": {},
      "toc_section_display": true,
      "toc_window_display": false
    },
    "colab": {
      "name": "lab_101_notebook.ipynb",
      "provenance": []
    }
  },
  "nbformat": 4,
  "nbformat_minor": 0
}